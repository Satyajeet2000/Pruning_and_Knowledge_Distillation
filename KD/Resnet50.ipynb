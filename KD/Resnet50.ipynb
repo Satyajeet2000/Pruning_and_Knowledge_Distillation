{
  "cells": [
    {
      "cell_type": "code",
      "execution_count": 1,
      "metadata": {
        "colab": {
          "base_uri": "https://localhost:8080/",
          "height": 1000
        },
        "id": "Mg8sz_Y3BWHd",
        "outputId": "5fc60a43-dbe4-4544-f7b5-691e87034889"
      },
      "outputs": [
        {
          "output_type": "stream",
          "name": "stdout",
          "text": [
            "Downloading https://www.cs.toronto.edu/~kriz/cifar-10-python.tar.gz to ./data/cifar-10-python.tar.gz\n"
          ]
        },
        {
          "output_type": "stream",
          "name": "stderr",
          "text": [
            "100%|██████████| 170M/170M [00:05<00:00, 31.0MB/s]\n"
          ]
        },
        {
          "output_type": "stream",
          "name": "stdout",
          "text": [
            "Extracting ./data/cifar-10-python.tar.gz to ./data\n",
            "Files already downloaded and verified\n"
          ]
        },
        {
          "output_type": "stream",
          "name": "stderr",
          "text": [
            "/usr/local/lib/python3.10/dist-packages/torchvision/models/_utils.py:208: UserWarning: The parameter 'pretrained' is deprecated since 0.13 and may be removed in the future, please use 'weights' instead.\n",
            "  warnings.warn(\n",
            "/usr/local/lib/python3.10/dist-packages/torchvision/models/_utils.py:223: UserWarning: Arguments other than a weight enum or `None` for 'weights' are deprecated since 0.13 and may be removed in the future. The current behavior is equivalent to passing `weights=ResNet50_Weights.IMAGENET1K_V1`. You can also use `weights=ResNet50_Weights.DEFAULT` to get the most up-to-date weights.\n",
            "  warnings.warn(msg)\n",
            "Downloading: \"https://download.pytorch.org/models/resnet50-0676ba61.pth\" to /root/.cache/torch/hub/checkpoints/resnet50-0676ba61.pth\n",
            "100%|██████████| 97.8M/97.8M [00:00<00:00, 173MB/s]\n",
            "/usr/local/lib/python3.10/dist-packages/torch/optim/lr_scheduler.py:62: UserWarning: The verbose parameter is deprecated. Please use get_last_lr() to access the learning rate.\n",
            "  warnings.warn(\n",
            "Teacher Model Training Epoch [1/80]: 100%|██████████| 313/313 [00:15<00:00, 20.59it/s]\n"
          ]
        },
        {
          "output_type": "stream",
          "name": "stdout",
          "text": [
            "Best model saved with accuracy: 53.10%\n",
            "Epoch [1/80], Train Loss: 1.5878, Train Accuracy: 45.89%, Val Loss: 1.4072, Val Accuracy: 53.10%\n"
          ]
        },
        {
          "output_type": "stream",
          "name": "stderr",
          "text": [
            "Teacher Model Training Epoch [2/80]: 100%|██████████| 313/313 [00:11<00:00, 26.98it/s]\n"
          ]
        },
        {
          "output_type": "stream",
          "name": "stdout",
          "text": [
            "Best model saved with accuracy: 64.30%\n",
            "Epoch [2/80], Train Loss: 1.2222, Train Accuracy: 58.46%, Val Loss: 1.0188, Val Accuracy: 64.30%\n"
          ]
        },
        {
          "output_type": "stream",
          "name": "stderr",
          "text": [
            "Teacher Model Training Epoch [3/80]: 100%|██████████| 313/313 [00:11<00:00, 27.67it/s]\n"
          ]
        },
        {
          "output_type": "stream",
          "name": "stdout",
          "text": [
            "Epoch [3/80], Train Loss: 1.1152, Train Accuracy: 61.90%, Val Loss: 1.5185, Val Accuracy: 51.44%\n"
          ]
        },
        {
          "output_type": "stream",
          "name": "stderr",
          "text": [
            "Teacher Model Training Epoch [4/80]: 100%|██████████| 313/313 [00:11<00:00, 28.05it/s]\n"
          ]
        },
        {
          "output_type": "stream",
          "name": "stdout",
          "text": [
            "Best model saved with accuracy: 67.41%\n",
            "Epoch [4/80], Train Loss: 1.0364, Train Accuracy: 64.62%, Val Loss: 0.9402, Val Accuracy: 67.41%\n"
          ]
        },
        {
          "output_type": "stream",
          "name": "stderr",
          "text": [
            "Teacher Model Training Epoch [5/80]: 100%|██████████| 313/313 [00:10<00:00, 28.67it/s]\n"
          ]
        },
        {
          "output_type": "stream",
          "name": "stdout",
          "text": [
            "Epoch [5/80], Train Loss: 1.1665, Train Accuracy: 60.44%, Val Loss: 1.0551, Val Accuracy: 63.53%\n"
          ]
        },
        {
          "output_type": "stream",
          "name": "stderr",
          "text": [
            "Teacher Model Training Epoch [6/80]: 100%|██████████| 313/313 [00:11<00:00, 27.55it/s]\n"
          ]
        },
        {
          "output_type": "stream",
          "name": "stdout",
          "text": [
            "Epoch [6/80], Train Loss: 1.0570, Train Accuracy: 64.12%, Val Loss: 1.0227, Val Accuracy: 63.70%\n"
          ]
        },
        {
          "output_type": "stream",
          "name": "stderr",
          "text": [
            "Teacher Model Training Epoch [7/80]: 100%|██████████| 313/313 [00:11<00:00, 27.51it/s]\n"
          ]
        },
        {
          "output_type": "stream",
          "name": "stdout",
          "text": [
            "Best model saved with accuracy: 68.80%\n",
            "Epoch [7/80], Train Loss: 0.9151, Train Accuracy: 68.23%, Val Loss: 0.8937, Val Accuracy: 68.80%\n"
          ]
        },
        {
          "output_type": "stream",
          "name": "stderr",
          "text": [
            "Teacher Model Training Epoch [8/80]: 100%|██████████| 313/313 [00:11<00:00, 27.78it/s]\n"
          ]
        },
        {
          "output_type": "stream",
          "name": "stdout",
          "text": [
            "Epoch [8/80], Train Loss: 0.9660, Train Accuracy: 67.15%, Val Loss: 0.9527, Val Accuracy: 66.55%\n"
          ]
        },
        {
          "output_type": "stream",
          "name": "stderr",
          "text": [
            "Teacher Model Training Epoch [9/80]: 100%|██████████| 313/313 [00:11<00:00, 28.08it/s]\n"
          ]
        },
        {
          "output_type": "stream",
          "name": "stdout",
          "text": [
            "Best model saved with accuracy: 71.28%\n",
            "Epoch [9/80], Train Loss: 0.8614, Train Accuracy: 70.22%, Val Loss: 0.8343, Val Accuracy: 71.28%\n"
          ]
        },
        {
          "output_type": "stream",
          "name": "stderr",
          "text": [
            "Teacher Model Training Epoch [10/80]: 100%|██████████| 313/313 [00:11<00:00, 28.16it/s]\n"
          ]
        },
        {
          "output_type": "stream",
          "name": "stdout",
          "text": [
            "Best model saved with accuracy: 72.01%\n",
            "Epoch [10/80], Train Loss: 0.7841, Train Accuracy: 72.83%, Val Loss: 0.8021, Val Accuracy: 72.01%\n"
          ]
        },
        {
          "output_type": "stream",
          "name": "stderr",
          "text": [
            "Teacher Model Training Epoch [11/80]: 100%|██████████| 313/313 [00:10<00:00, 28.46it/s]\n"
          ]
        },
        {
          "output_type": "stream",
          "name": "stdout",
          "text": [
            "Epoch [11/80], Train Loss: 0.7987, Train Accuracy: 72.52%, Val Loss: 0.9014, Val Accuracy: 68.41%\n"
          ]
        },
        {
          "output_type": "stream",
          "name": "stderr",
          "text": [
            "Teacher Model Training Epoch [12/80]: 100%|██████████| 313/313 [00:11<00:00, 27.85it/s]\n"
          ]
        },
        {
          "output_type": "stream",
          "name": "stdout",
          "text": [
            "Best model saved with accuracy: 73.39%\n",
            "Epoch [12/80], Train Loss: 0.7624, Train Accuracy: 73.92%, Val Loss: 0.7738, Val Accuracy: 73.39%\n"
          ]
        },
        {
          "output_type": "stream",
          "name": "stderr",
          "text": [
            "Teacher Model Training Epoch [13/80]: 100%|██████████| 313/313 [00:11<00:00, 28.05it/s]\n"
          ]
        },
        {
          "output_type": "stream",
          "name": "stdout",
          "text": [
            "Epoch [13/80], Train Loss: 0.7322, Train Accuracy: 74.73%, Val Loss: 0.8695, Val Accuracy: 70.24%\n"
          ]
        },
        {
          "output_type": "stream",
          "name": "stderr",
          "text": [
            "Teacher Model Training Epoch [14/80]: 100%|██████████| 313/313 [00:11<00:00, 27.83it/s]\n"
          ]
        },
        {
          "output_type": "stream",
          "name": "stdout",
          "text": [
            "Best model saved with accuracy: 73.86%\n",
            "Epoch [14/80], Train Loss: 0.7136, Train Accuracy: 75.44%, Val Loss: 0.7589, Val Accuracy: 73.86%\n"
          ]
        },
        {
          "output_type": "stream",
          "name": "stderr",
          "text": [
            "Teacher Model Training Epoch [15/80]: 100%|██████████| 313/313 [00:11<00:00, 27.58it/s]\n"
          ]
        },
        {
          "output_type": "stream",
          "name": "stdout",
          "text": [
            "Best model saved with accuracy: 75.19%\n",
            "Epoch [15/80], Train Loss: 0.7016, Train Accuracy: 76.04%, Val Loss: 0.7181, Val Accuracy: 75.19%\n"
          ]
        },
        {
          "output_type": "stream",
          "name": "stderr",
          "text": [
            "Teacher Model Training Epoch [16/80]: 100%|██████████| 313/313 [00:11<00:00, 27.57it/s]\n"
          ]
        },
        {
          "output_type": "stream",
          "name": "stdout",
          "text": [
            "Epoch [16/80], Train Loss: 0.7093, Train Accuracy: 75.72%, Val Loss: 0.7748, Val Accuracy: 73.80%\n"
          ]
        },
        {
          "output_type": "stream",
          "name": "stderr",
          "text": [
            "Teacher Model Training Epoch [17/80]: 100%|██████████| 313/313 [00:11<00:00, 27.09it/s]\n"
          ]
        },
        {
          "output_type": "stream",
          "name": "stdout",
          "text": [
            "Best model saved with accuracy: 75.73%\n",
            "Epoch [17/80], Train Loss: 0.7031, Train Accuracy: 75.96%, Val Loss: 0.7145, Val Accuracy: 75.73%\n"
          ]
        },
        {
          "output_type": "stream",
          "name": "stderr",
          "text": [
            "Teacher Model Training Epoch [18/80]: 100%|██████████| 313/313 [00:11<00:00, 28.19it/s]\n"
          ]
        },
        {
          "output_type": "stream",
          "name": "stdout",
          "text": [
            "Epoch [18/80], Train Loss: 0.6644, Train Accuracy: 77.51%, Val Loss: 0.7344, Val Accuracy: 74.57%\n"
          ]
        },
        {
          "output_type": "stream",
          "name": "stderr",
          "text": [
            "Teacher Model Training Epoch [19/80]: 100%|██████████| 313/313 [00:11<00:00, 28.05it/s]\n"
          ]
        },
        {
          "output_type": "stream",
          "name": "stdout",
          "text": [
            "Best model saved with accuracy: 76.89%\n",
            "Epoch [19/80], Train Loss: 0.6524, Train Accuracy: 77.67%, Val Loss: 0.6822, Val Accuracy: 76.89%\n"
          ]
        },
        {
          "output_type": "stream",
          "name": "stderr",
          "text": [
            "Teacher Model Training Epoch [20/80]: 100%|██████████| 313/313 [00:11<00:00, 27.04it/s]\n"
          ]
        },
        {
          "output_type": "stream",
          "name": "stdout",
          "text": [
            "Best model saved with accuracy: 76.90%\n",
            "Epoch [20/80], Train Loss: 0.6665, Train Accuracy: 77.38%, Val Loss: 0.6805, Val Accuracy: 76.90%\n"
          ]
        },
        {
          "output_type": "stream",
          "name": "stderr",
          "text": [
            "Teacher Model Training Epoch [21/80]: 100%|██████████| 313/313 [00:11<00:00, 27.93it/s]\n"
          ]
        },
        {
          "output_type": "stream",
          "name": "stdout",
          "text": [
            "Epoch [21/80], Train Loss: 0.6371, Train Accuracy: 77.97%, Val Loss: 0.6826, Val Accuracy: 76.48%\n"
          ]
        },
        {
          "output_type": "stream",
          "name": "stderr",
          "text": [
            "Teacher Model Training Epoch [22/80]: 100%|██████████| 313/313 [00:11<00:00, 27.49it/s]\n"
          ]
        },
        {
          "output_type": "stream",
          "name": "stdout",
          "text": [
            "Best model saved with accuracy: 77.61%\n",
            "Epoch [22/80], Train Loss: 0.6265, Train Accuracy: 78.52%, Val Loss: 0.6549, Val Accuracy: 77.61%\n"
          ]
        },
        {
          "output_type": "stream",
          "name": "stderr",
          "text": [
            "Teacher Model Training Epoch [23/80]: 100%|██████████| 313/313 [00:11<00:00, 28.23it/s]\n"
          ]
        },
        {
          "output_type": "stream",
          "name": "stdout",
          "text": [
            "Epoch [23/80], Train Loss: 0.6114, Train Accuracy: 79.11%, Val Loss: 0.6526, Val Accuracy: 77.57%\n"
          ]
        },
        {
          "output_type": "stream",
          "name": "stderr",
          "text": [
            "Teacher Model Training Epoch [24/80]: 100%|██████████| 313/313 [00:11<00:00, 28.12it/s]\n"
          ]
        },
        {
          "output_type": "stream",
          "name": "stdout",
          "text": [
            "Epoch [24/80], Train Loss: 0.6077, Train Accuracy: 78.94%, Val Loss: 0.6888, Val Accuracy: 77.01%\n"
          ]
        },
        {
          "output_type": "stream",
          "name": "stderr",
          "text": [
            "Teacher Model Training Epoch [25/80]: 100%|██████████| 313/313 [00:11<00:00, 28.03it/s]\n"
          ]
        },
        {
          "output_type": "stream",
          "name": "stdout",
          "text": [
            "Epoch [25/80], Train Loss: 0.6682, Train Accuracy: 77.27%, Val Loss: 0.6982, Val Accuracy: 75.20%\n"
          ]
        },
        {
          "output_type": "stream",
          "name": "stderr",
          "text": [
            "Teacher Model Training Epoch [26/80]: 100%|██████████| 313/313 [00:11<00:00, 27.68it/s]\n"
          ]
        },
        {
          "output_type": "stream",
          "name": "stdout",
          "text": [
            "Best model saved with accuracy: 77.81%\n",
            "Epoch [26/80], Train Loss: 0.5913, Train Accuracy: 79.76%, Val Loss: 0.6613, Val Accuracy: 77.81%\n"
          ]
        },
        {
          "output_type": "stream",
          "name": "stderr",
          "text": [
            "Teacher Model Training Epoch [27/80]: 100%|██████████| 313/313 [00:11<00:00, 28.05it/s]\n"
          ]
        },
        {
          "output_type": "stream",
          "name": "stdout",
          "text": [
            "Best model saved with accuracy: 78.07%\n",
            "Epoch [27/80], Train Loss: 0.5830, Train Accuracy: 79.86%, Val Loss: 0.6437, Val Accuracy: 78.07%\n"
          ]
        },
        {
          "output_type": "stream",
          "name": "stderr",
          "text": [
            "Teacher Model Training Epoch [28/80]: 100%|██████████| 313/313 [00:11<00:00, 27.61it/s]\n"
          ]
        },
        {
          "output_type": "stream",
          "name": "stdout",
          "text": [
            "Epoch [28/80], Train Loss: 0.5689, Train Accuracy: 80.48%, Val Loss: 0.7109, Val Accuracy: 75.85%\n"
          ]
        },
        {
          "output_type": "stream",
          "name": "stderr",
          "text": [
            "Teacher Model Training Epoch [29/80]: 100%|██████████| 313/313 [00:11<00:00, 27.59it/s]\n"
          ]
        },
        {
          "output_type": "stream",
          "name": "stdout",
          "text": [
            "Epoch [29/80], Train Loss: 0.5627, Train Accuracy: 80.84%, Val Loss: 0.7133, Val Accuracy: 76.00%\n"
          ]
        },
        {
          "output_type": "stream",
          "name": "stderr",
          "text": [
            "Teacher Model Training Epoch [30/80]: 100%|██████████| 313/313 [00:11<00:00, 27.81it/s]\n"
          ]
        },
        {
          "output_type": "stream",
          "name": "stdout",
          "text": [
            "Epoch [30/80], Train Loss: 0.5580, Train Accuracy: 81.12%, Val Loss: 0.6445, Val Accuracy: 77.59%\n"
          ]
        },
        {
          "output_type": "stream",
          "name": "stderr",
          "text": [
            "Teacher Model Training Epoch [31/80]: 100%|██████████| 313/313 [00:11<00:00, 27.44it/s]\n"
          ]
        },
        {
          "output_type": "stream",
          "name": "stdout",
          "text": [
            "Best model saved with accuracy: 78.19%\n",
            "Epoch [31/80], Train Loss: 0.5559, Train Accuracy: 80.95%, Val Loss: 0.6357, Val Accuracy: 78.19%\n"
          ]
        },
        {
          "output_type": "stream",
          "name": "stderr",
          "text": [
            "Teacher Model Training Epoch [32/80]: 100%|██████████| 313/313 [00:11<00:00, 27.43it/s]\n"
          ]
        },
        {
          "output_type": "stream",
          "name": "stdout",
          "text": [
            "Best model saved with accuracy: 78.86%\n",
            "Epoch [32/80], Train Loss: 0.5538, Train Accuracy: 80.83%, Val Loss: 0.6185, Val Accuracy: 78.86%\n"
          ]
        },
        {
          "output_type": "stream",
          "name": "stderr",
          "text": [
            "Teacher Model Training Epoch [33/80]: 100%|██████████| 313/313 [00:11<00:00, 28.12it/s]\n"
          ]
        },
        {
          "output_type": "stream",
          "name": "stdout",
          "text": [
            "Epoch [33/80], Train Loss: 0.5443, Train Accuracy: 81.18%, Val Loss: 0.6200, Val Accuracy: 78.73%\n"
          ]
        },
        {
          "output_type": "stream",
          "name": "stderr",
          "text": [
            "Teacher Model Training Epoch [34/80]: 100%|██████████| 313/313 [00:11<00:00, 27.57it/s]\n"
          ]
        },
        {
          "output_type": "stream",
          "name": "stdout",
          "text": [
            "Epoch [34/80], Train Loss: 0.5372, Train Accuracy: 81.65%, Val Loss: 0.6233, Val Accuracy: 78.67%\n"
          ]
        },
        {
          "output_type": "stream",
          "name": "stderr",
          "text": [
            "Teacher Model Training Epoch [35/80]: 100%|██████████| 313/313 [00:11<00:00, 27.87it/s]\n"
          ]
        },
        {
          "output_type": "stream",
          "name": "stdout",
          "text": [
            "Best model saved with accuracy: 79.67%\n",
            "Epoch [35/80], Train Loss: 0.5365, Train Accuracy: 81.57%, Val Loss: 0.6029, Val Accuracy: 79.67%\n"
          ]
        },
        {
          "output_type": "stream",
          "name": "stderr",
          "text": [
            "Teacher Model Training Epoch [36/80]: 100%|██████████| 313/313 [00:11<00:00, 27.95it/s]\n"
          ]
        },
        {
          "output_type": "stream",
          "name": "stdout",
          "text": [
            "Epoch [36/80], Train Loss: 0.5298, Train Accuracy: 81.78%, Val Loss: 0.6097, Val Accuracy: 79.23%\n"
          ]
        },
        {
          "output_type": "stream",
          "name": "stderr",
          "text": [
            "Teacher Model Training Epoch [37/80]: 100%|██████████| 313/313 [00:11<00:00, 27.40it/s]\n"
          ]
        },
        {
          "output_type": "stream",
          "name": "stdout",
          "text": [
            "Epoch [37/80], Train Loss: 0.5209, Train Accuracy: 82.09%, Val Loss: 0.6377, Val Accuracy: 78.51%\n"
          ]
        },
        {
          "output_type": "stream",
          "name": "stderr",
          "text": [
            "Teacher Model Training Epoch [38/80]: 100%|██████████| 313/313 [00:11<00:00, 27.47it/s]\n"
          ]
        },
        {
          "output_type": "stream",
          "name": "stdout",
          "text": [
            "Epoch [38/80], Train Loss: 0.5255, Train Accuracy: 81.98%, Val Loss: 0.6099, Val Accuracy: 78.97%\n"
          ]
        },
        {
          "output_type": "stream",
          "name": "stderr",
          "text": [
            "Teacher Model Training Epoch [39/80]: 100%|██████████| 313/313 [00:11<00:00, 27.58it/s]\n"
          ]
        },
        {
          "output_type": "stream",
          "name": "stdout",
          "text": [
            "Epoch [39/80], Train Loss: 0.5154, Train Accuracy: 82.41%, Val Loss: 0.6278, Val Accuracy: 79.14%\n"
          ]
        },
        {
          "output_type": "stream",
          "name": "stderr",
          "text": [
            "Teacher Model Training Epoch [40/80]: 100%|██████████| 313/313 [00:11<00:00, 27.81it/s]\n"
          ]
        },
        {
          "output_type": "stream",
          "name": "stdout",
          "text": [
            "Epoch [40/80], Train Loss: 0.5121, Train Accuracy: 82.50%, Val Loss: 0.6242, Val Accuracy: 78.78%\n"
          ]
        },
        {
          "output_type": "stream",
          "name": "stderr",
          "text": [
            "Teacher Model Training Epoch [41/80]: 100%|██████████| 313/313 [00:11<00:00, 27.65it/s]\n"
          ]
        },
        {
          "output_type": "stream",
          "name": "stdout",
          "text": [
            "Epoch [41/80], Train Loss: 0.5068, Train Accuracy: 82.67%, Val Loss: 0.6528, Val Accuracy: 78.07%\n"
          ]
        },
        {
          "output_type": "stream",
          "name": "stderr",
          "text": [
            "Teacher Model Training Epoch [42/80]: 100%|██████████| 313/313 [00:11<00:00, 27.34it/s]\n"
          ]
        },
        {
          "output_type": "stream",
          "name": "stdout",
          "text": [
            "Best model saved with accuracy: 82.82%\n",
            "Epoch [42/80], Train Loss: 0.4191, Train Accuracy: 85.76%, Val Loss: 0.4953, Val Accuracy: 82.82%\n"
          ]
        },
        {
          "output_type": "stream",
          "name": "stderr",
          "text": [
            "Teacher Model Training Epoch [43/80]: 100%|██████████| 313/313 [00:11<00:00, 27.39it/s]\n"
          ]
        },
        {
          "output_type": "stream",
          "name": "stdout",
          "text": [
            "Best model saved with accuracy: 83.08%\n",
            "Epoch [43/80], Train Loss: 0.3891, Train Accuracy: 86.54%, Val Loss: 0.4984, Val Accuracy: 83.08%\n"
          ]
        },
        {
          "output_type": "stream",
          "name": "stderr",
          "text": [
            "Teacher Model Training Epoch [44/80]: 100%|██████████| 313/313 [00:11<00:00, 27.46it/s]\n"
          ]
        },
        {
          "output_type": "stream",
          "name": "stdout",
          "text": [
            "Best model saved with accuracy: 83.77%\n",
            "Epoch [44/80], Train Loss: 0.3729, Train Accuracy: 87.16%, Val Loss: 0.4777, Val Accuracy: 83.77%\n"
          ]
        },
        {
          "output_type": "stream",
          "name": "stderr",
          "text": [
            "Teacher Model Training Epoch [45/80]: 100%|██████████| 313/313 [00:11<00:00, 27.83it/s]\n"
          ]
        },
        {
          "output_type": "stream",
          "name": "stdout",
          "text": [
            "Best model saved with accuracy: 83.90%\n",
            "Epoch [45/80], Train Loss: 0.3587, Train Accuracy: 87.49%, Val Loss: 0.4773, Val Accuracy: 83.90%\n"
          ]
        },
        {
          "output_type": "stream",
          "name": "stderr",
          "text": [
            "Teacher Model Training Epoch [46/80]: 100%|██████████| 313/313 [00:11<00:00, 27.97it/s]\n"
          ]
        },
        {
          "output_type": "stream",
          "name": "stdout",
          "text": [
            "Epoch [46/80], Train Loss: 0.3489, Train Accuracy: 87.94%, Val Loss: 0.4758, Val Accuracy: 83.85%\n"
          ]
        },
        {
          "output_type": "stream",
          "name": "stderr",
          "text": [
            "Teacher Model Training Epoch [47/80]: 100%|██████████| 313/313 [00:11<00:00, 27.78it/s]\n"
          ]
        },
        {
          "output_type": "stream",
          "name": "stdout",
          "text": [
            "Epoch [47/80], Train Loss: 0.3439, Train Accuracy: 88.01%, Val Loss: 0.4731, Val Accuracy: 83.68%\n"
          ]
        },
        {
          "output_type": "stream",
          "name": "stderr",
          "text": [
            "Teacher Model Training Epoch [48/80]: 100%|██████████| 313/313 [00:11<00:00, 28.14it/s]\n"
          ]
        },
        {
          "output_type": "stream",
          "name": "stdout",
          "text": [
            "Best model saved with accuracy: 84.20%\n",
            "Epoch [48/80], Train Loss: 0.3360, Train Accuracy: 88.32%, Val Loss: 0.4729, Val Accuracy: 84.20%\n"
          ]
        },
        {
          "output_type": "stream",
          "name": "stderr",
          "text": [
            "Teacher Model Training Epoch [49/80]: 100%|██████████| 313/313 [00:11<00:00, 27.52it/s]\n"
          ]
        },
        {
          "output_type": "stream",
          "name": "stdout",
          "text": [
            "Epoch [49/80], Train Loss: 0.3312, Train Accuracy: 88.69%, Val Loss: 0.4767, Val Accuracy: 84.08%\n"
          ]
        },
        {
          "output_type": "stream",
          "name": "stderr",
          "text": [
            "Teacher Model Training Epoch [50/80]: 100%|██████████| 313/313 [00:11<00:00, 28.12it/s]\n"
          ]
        },
        {
          "output_type": "stream",
          "name": "stdout",
          "text": [
            "Epoch [50/80], Train Loss: 0.3280, Train Accuracy: 88.58%, Val Loss: 0.4756, Val Accuracy: 84.16%\n"
          ]
        },
        {
          "output_type": "stream",
          "name": "stderr",
          "text": [
            "Teacher Model Training Epoch [51/80]: 100%|██████████| 313/313 [00:11<00:00, 28.26it/s]\n"
          ]
        },
        {
          "output_type": "stream",
          "name": "stdout",
          "text": [
            "Best model saved with accuracy: 84.40%\n",
            "Epoch [51/80], Train Loss: 0.3297, Train Accuracy: 88.54%, Val Loss: 0.4689, Val Accuracy: 84.40%\n"
          ]
        },
        {
          "output_type": "stream",
          "name": "stderr",
          "text": [
            "Teacher Model Training Epoch [52/80]: 100%|██████████| 313/313 [00:11<00:00, 27.55it/s]\n"
          ]
        },
        {
          "output_type": "stream",
          "name": "stdout",
          "text": [
            "Epoch [52/80], Train Loss: 0.3192, Train Accuracy: 88.89%, Val Loss: 0.4808, Val Accuracy: 84.06%\n"
          ]
        },
        {
          "output_type": "stream",
          "name": "stderr",
          "text": [
            "Teacher Model Training Epoch [53/80]: 100%|██████████| 313/313 [00:11<00:00, 27.61it/s]\n"
          ]
        },
        {
          "output_type": "stream",
          "name": "stdout",
          "text": [
            "Epoch [53/80], Train Loss: 0.3145, Train Accuracy: 89.16%, Val Loss: 0.4786, Val Accuracy: 84.03%\n"
          ]
        },
        {
          "output_type": "stream",
          "name": "stderr",
          "text": [
            "Teacher Model Training Epoch [54/80]: 100%|██████████| 313/313 [00:11<00:00, 26.80it/s]\n"
          ]
        },
        {
          "output_type": "stream",
          "name": "stdout",
          "text": [
            "Best model saved with accuracy: 84.42%\n",
            "Epoch [54/80], Train Loss: 0.3083, Train Accuracy: 89.44%, Val Loss: 0.4625, Val Accuracy: 84.42%\n"
          ]
        },
        {
          "output_type": "stream",
          "name": "stderr",
          "text": [
            "Teacher Model Training Epoch [55/80]: 100%|██████████| 313/313 [00:11<00:00, 27.71it/s]\n"
          ]
        },
        {
          "output_type": "stream",
          "name": "stdout",
          "text": [
            "Best model saved with accuracy: 84.57%\n",
            "Epoch [55/80], Train Loss: 0.3047, Train Accuracy: 89.56%, Val Loss: 0.4671, Val Accuracy: 84.57%\n"
          ]
        },
        {
          "output_type": "stream",
          "name": "stderr",
          "text": [
            "Teacher Model Training Epoch [56/80]: 100%|██████████| 313/313 [00:11<00:00, 27.31it/s]\n"
          ]
        },
        {
          "output_type": "stream",
          "name": "stdout",
          "text": [
            "Epoch [56/80], Train Loss: 0.3013, Train Accuracy: 89.64%, Val Loss: 0.4828, Val Accuracy: 84.38%\n"
          ]
        },
        {
          "output_type": "stream",
          "name": "stderr",
          "text": [
            "Teacher Model Training Epoch [57/80]: 100%|██████████| 313/313 [00:11<00:00, 27.80it/s]\n"
          ]
        },
        {
          "output_type": "stream",
          "name": "stdout",
          "text": [
            "Epoch [57/80], Train Loss: 0.3020, Train Accuracy: 89.53%, Val Loss: 0.4709, Val Accuracy: 84.35%\n"
          ]
        },
        {
          "output_type": "stream",
          "name": "stderr",
          "text": [
            "Teacher Model Training Epoch [58/80]: 100%|██████████| 313/313 [00:11<00:00, 27.53it/s]\n"
          ]
        },
        {
          "output_type": "stream",
          "name": "stdout",
          "text": [
            "Best model saved with accuracy: 84.58%\n",
            "Epoch [58/80], Train Loss: 0.2936, Train Accuracy: 89.91%, Val Loss: 0.4698, Val Accuracy: 84.58%\n"
          ]
        },
        {
          "output_type": "stream",
          "name": "stderr",
          "text": [
            "Teacher Model Training Epoch [59/80]: 100%|██████████| 313/313 [00:11<00:00, 27.50it/s]\n"
          ]
        },
        {
          "output_type": "stream",
          "name": "stdout",
          "text": [
            "Epoch [59/80], Train Loss: 0.2987, Train Accuracy: 89.76%, Val Loss: 0.4630, Val Accuracy: 84.55%\n"
          ]
        },
        {
          "output_type": "stream",
          "name": "stderr",
          "text": [
            "Teacher Model Training Epoch [60/80]: 100%|██████████| 313/313 [00:11<00:00, 27.43it/s]\n"
          ]
        },
        {
          "output_type": "stream",
          "name": "stdout",
          "text": [
            "Epoch [60/80], Train Loss: 0.2865, Train Accuracy: 90.09%, Val Loss: 0.4838, Val Accuracy: 84.19%\n"
          ]
        },
        {
          "output_type": "stream",
          "name": "stderr",
          "text": [
            "Teacher Model Training Epoch [61/80]: 100%|██████████| 313/313 [00:11<00:00, 27.96it/s]\n"
          ]
        },
        {
          "output_type": "stream",
          "name": "stdout",
          "text": [
            "Best model saved with accuracy: 84.79%\n",
            "Epoch [61/80], Train Loss: 0.2794, Train Accuracy: 90.13%, Val Loss: 0.4621, Val Accuracy: 84.79%\n"
          ]
        },
        {
          "output_type": "stream",
          "name": "stderr",
          "text": [
            "Teacher Model Training Epoch [62/80]: 100%|██████████| 313/313 [00:11<00:00, 27.48it/s]\n"
          ]
        },
        {
          "output_type": "stream",
          "name": "stdout",
          "text": [
            "Best model saved with accuracy: 84.87%\n",
            "Epoch [62/80], Train Loss: 0.2782, Train Accuracy: 90.27%, Val Loss: 0.4673, Val Accuracy: 84.87%\n"
          ]
        },
        {
          "output_type": "stream",
          "name": "stderr",
          "text": [
            "Teacher Model Training Epoch [63/80]: 100%|██████████| 313/313 [00:11<00:00, 28.09it/s]\n"
          ]
        },
        {
          "output_type": "stream",
          "name": "stdout",
          "text": [
            "Epoch [63/80], Train Loss: 0.2730, Train Accuracy: 90.53%, Val Loss: 0.4630, Val Accuracy: 84.76%\n"
          ]
        },
        {
          "output_type": "stream",
          "name": "stderr",
          "text": [
            "Teacher Model Training Epoch [64/80]: 100%|██████████| 313/313 [00:11<00:00, 27.66it/s]\n"
          ]
        },
        {
          "output_type": "stream",
          "name": "stdout",
          "text": [
            "Best model saved with accuracy: 84.93%\n",
            "Epoch [64/80], Train Loss: 0.2723, Train Accuracy: 90.47%, Val Loss: 0.4612, Val Accuracy: 84.93%\n"
          ]
        },
        {
          "output_type": "stream",
          "name": "stderr",
          "text": [
            "Teacher Model Training Epoch [65/80]: 100%|██████████| 313/313 [00:11<00:00, 27.69it/s]\n"
          ]
        },
        {
          "output_type": "stream",
          "name": "stdout",
          "text": [
            "Best model saved with accuracy: 85.05%\n",
            "Epoch [65/80], Train Loss: 0.2694, Train Accuracy: 90.62%, Val Loss: 0.4578, Val Accuracy: 85.05%\n"
          ]
        },
        {
          "output_type": "stream",
          "name": "stderr",
          "text": [
            "Teacher Model Training Epoch [66/80]: 100%|██████████| 313/313 [00:11<00:00, 27.88it/s]\n"
          ]
        },
        {
          "output_type": "stream",
          "name": "stdout",
          "text": [
            "Epoch [66/80], Train Loss: 0.2703, Train Accuracy: 90.67%, Val Loss: 0.4675, Val Accuracy: 84.92%\n"
          ]
        },
        {
          "output_type": "stream",
          "name": "stderr",
          "text": [
            "Teacher Model Training Epoch [67/80]: 100%|██████████| 313/313 [00:11<00:00, 27.91it/s]\n"
          ]
        },
        {
          "output_type": "stream",
          "name": "stdout",
          "text": [
            "Epoch [67/80], Train Loss: 0.2668, Train Accuracy: 90.77%, Val Loss: 0.4669, Val Accuracy: 85.01%\n"
          ]
        },
        {
          "output_type": "stream",
          "name": "stderr",
          "text": [
            "Teacher Model Training Epoch [68/80]: 100%|██████████| 313/313 [00:11<00:00, 27.71it/s]\n"
          ]
        },
        {
          "output_type": "stream",
          "name": "stdout",
          "text": [
            "Epoch [68/80], Train Loss: 0.2619, Train Accuracy: 90.69%, Val Loss: 0.4529, Val Accuracy: 84.91%\n"
          ]
        },
        {
          "output_type": "stream",
          "name": "stderr",
          "text": [
            "Teacher Model Training Epoch [69/80]: 100%|██████████| 313/313 [00:11<00:00, 28.34it/s]\n"
          ]
        },
        {
          "output_type": "stream",
          "name": "stdout",
          "text": [
            "Epoch [69/80], Train Loss: 0.2696, Train Accuracy: 90.76%, Val Loss: 0.4593, Val Accuracy: 84.73%\n"
          ]
        },
        {
          "output_type": "stream",
          "name": "stderr",
          "text": [
            "Teacher Model Training Epoch [70/80]: 100%|██████████| 313/313 [00:11<00:00, 27.60it/s]\n"
          ]
        },
        {
          "output_type": "stream",
          "name": "stdout",
          "text": [
            "Epoch [70/80], Train Loss: 0.2671, Train Accuracy: 90.77%, Val Loss: 0.4605, Val Accuracy: 84.82%\n"
          ]
        },
        {
          "output_type": "stream",
          "name": "stderr",
          "text": [
            "Teacher Model Training Epoch [71/80]: 100%|██████████| 313/313 [00:11<00:00, 27.88it/s]\n"
          ]
        },
        {
          "output_type": "stream",
          "name": "stdout",
          "text": [
            "Epoch [71/80], Train Loss: 0.2672, Train Accuracy: 90.68%, Val Loss: 0.4593, Val Accuracy: 84.94%\n"
          ]
        },
        {
          "output_type": "stream",
          "name": "stderr",
          "text": [
            "Teacher Model Training Epoch [72/80]: 100%|██████████| 313/313 [00:11<00:00, 27.85it/s]\n"
          ]
        },
        {
          "output_type": "stream",
          "name": "stdout",
          "text": [
            "Epoch [72/80], Train Loss: 0.2673, Train Accuracy: 90.77%, Val Loss: 0.4600, Val Accuracy: 85.01%\n"
          ]
        },
        {
          "output_type": "stream",
          "name": "stderr",
          "text": [
            "Teacher Model Training Epoch [73/80]: 100%|██████████| 313/313 [00:11<00:00, 27.49it/s]\n"
          ]
        },
        {
          "output_type": "stream",
          "name": "stdout",
          "text": [
            "Epoch [73/80], Train Loss: 0.2646, Train Accuracy: 90.79%, Val Loss: 0.4608, Val Accuracy: 84.98%\n"
          ]
        },
        {
          "output_type": "stream",
          "name": "stderr",
          "text": [
            "Teacher Model Training Epoch [74/80]: 100%|██████████| 313/313 [00:11<00:00, 27.91it/s]\n"
          ]
        },
        {
          "output_type": "stream",
          "name": "stdout",
          "text": [
            "Epoch [74/80], Train Loss: 0.2631, Train Accuracy: 90.67%, Val Loss: 0.4543, Val Accuracy: 84.79%\n"
          ]
        },
        {
          "output_type": "stream",
          "name": "stderr",
          "text": [
            "Teacher Model Training Epoch [75/80]: 100%|██████████| 313/313 [00:11<00:00, 27.59it/s]\n"
          ]
        },
        {
          "output_type": "stream",
          "name": "stdout",
          "text": [
            "Early stopping triggered.\n",
            "Teacher training completed in 17.87 minutes\n"
          ]
        },
        {
          "output_type": "stream",
          "name": "stderr",
          "text": [
            "<ipython-input-1-c0341b1ae37b>:153: FutureWarning: You are using `torch.load` with `weights_only=False` (the current default value), which uses the default pickle module implicitly. It is possible to construct malicious pickle data which will execute arbitrary code during unpickling (See https://github.com/pytorch/pytorch/blob/main/SECURITY.md#untrusted-models for more details). In a future release, the default value for `weights_only` will be flipped to `True`. This limits the functions that could be executed during unpickling. Arbitrary objects will no longer be allowed to be loaded via this mode unless they are explicitly allowlisted by the user via `torch.serialization.add_safe_globals`. We recommend you start setting `weights_only=True` for any use case where you don't have full control of the loaded file. Please open an issue on GitHub for any issues related to this experimental feature.\n",
            "  teacher_model.load_state_dict(torch.load('teacher_model_best.pth'))\n"
          ]
        },
        {
          "output_type": "stream",
          "name": "stdout",
          "text": [
            "Accuracy of the teacher model on the test set: 87.64%\n"
          ]
        },
        {
          "output_type": "display_data",
          "data": {
            "text/plain": [
              "<Figure size 1000x500 with 1 Axes>"
            ],
            "image/png": "[encoded data removed]"
          },
          "metadata": {}
        },
        {
          "output_type": "display_data",
          "data": {
            "text/plain": [
              "<Figure size 1000x500 with 1 Axes>"
            ],
            "image/png": "[encoded data removed]"
          },
          "metadata": {}
        }
      ],
      "source": [
        "import torch\n",
        "import torch.nn as nn\n",
        "import torch.optim as optim\n",
        "from torch.optim.lr_scheduler import ReduceLROnPlateau\n",
        "from torch.utils.data import DataLoader, random_split\n",
        "from torchvision import models, datasets, transforms\n",
        "import matplotlib.pyplot as plt\n",
        "import numpy as np\n",
        "from tqdm import tqdm\n",
        "import time\n",
        "\n",
        "# Define data augmentations for training\n",
        "transform_train = transforms.Compose([\n",
        "    transforms.RandomHorizontalFlip(),\n",
        "    transforms.RandomCrop(32, padding=4),\n",
        "    transforms.RandomRotation(15),\n",
        "    transforms.ColorJitter(brightness=0.2, contrast=0.2, saturation=0.2, hue=0.1),\n",
        "    transforms.ToTensor(),\n",
        "    transforms.Normalize((0.4914, 0.4822, 0.4465), (0.2023, 0.1994, 0.2010)),\n",
        "])\n",
        "\n",
        "transform_test = transforms.Compose([\n",
        "    transforms.ToTensor(),\n",
        "    transforms.Normalize((0.4914, 0.4822, 0.4465), (0.2023, 0.1994, 0.2010)),\n",
        "])\n",
        "\n",
        "# Load CIFAR-10 dataset with train/test splits\n",
        "train_dataset = datasets.CIFAR10(root='./data', train=True, download=True, transform=transform_train)\n",
        "test_dataset = datasets.CIFAR10(root='./data', train=False, download=True, transform=transform_test)\n",
        "\n",
        "# Split the training data into training and validation sets (80% train, 20% validation)\n",
        "train_size = int(0.8 * len(train_dataset))\n",
        "val_size = len(train_dataset) - train_size\n",
        "train_dataset, val_dataset = random_split(train_dataset, [train_size, val_size])\n",
        "\n",
        "# Create DataLoaders\n",
        "train_loader = DataLoader(train_dataset, batch_size=128, shuffle=True, num_workers=4, pin_memory=True)\n",
        "val_loader = DataLoader(val_dataset, batch_size=128, shuffle=False, num_workers=4, pin_memory=True)\n",
        "test_loader = DataLoader(test_dataset, batch_size=128, shuffle=False, num_workers=4, pin_memory=True)\n",
        "\n",
        "# Load the ResNet-50 model, modify the final layer, and add dropout\n",
        "class CustomResNet50(nn.Module):\n",
        "    def __init__(self, num_classes=10, dropout_rate=0.5):\n",
        "        super(CustomResNet50, self).__init__()\n",
        "        self.resnet = models.resnet50(pretrained=True)\n",
        "        self.resnet.fc = nn.Sequential(\n",
        "            nn.Dropout(dropout_rate),  # Dropout layer before the final layer\n",
        "            nn.Linear(2048, num_classes)\n",
        "        )\n",
        "\n",
        "    def forward(self, x):\n",
        "        return self.resnet(x)\n",
        "\n",
        "# Check if GPU is available and move model to GPU if possible\n",
        "device = torch.device(\"cuda\" if torch.cuda.is_available() else \"cpu\")\n",
        "teacher_model = CustomResNet50().to(device)\n",
        "\n",
        "# Define loss function, optimizer, and learning rate scheduler\n",
        "criterion_ce = nn.CrossEntropyLoss()\n",
        "optimizer_teacher = optim.Adam(teacher_model.parameters(), lr=0.001, weight_decay=1e-4)\n",
        "scheduler = ReduceLROnPlateau(optimizer_teacher, mode='min', factor=0.1, patience=5, verbose=True)\n",
        "\n",
        "# Early stopping parameters\n",
        "early_stop_patience = 7\n",
        "no_improvement_count = 0\n",
        "best_val_loss = float('inf')\n",
        "\n",
        "# Variables for tracking metrics\n",
        "train_losses, val_losses = [], []\n",
        "train_accuracies, val_accuracies = [], []\n",
        "\n",
        "# Training loop\n",
        "num_epochs_teacher = 80\n",
        "best_val_accuracy = 0.0\n",
        "start_time_teacher = time.time()\n",
        "\n",
        "for epoch in range(num_epochs_teacher):\n",
        "    # Training phase\n",
        "    teacher_model.train()\n",
        "    running_loss = 0.0\n",
        "    correct_train = 0\n",
        "    total_train = 0\n",
        "\n",
        "    for inputs, labels in tqdm(train_loader, desc=f'Teacher Model Training Epoch [{epoch + 1}/{num_epochs_teacher}]'):\n",
        "        inputs, labels = inputs.to(device), labels.to(device)\n",
        "\n",
        "        optimizer_teacher.zero_grad()\n",
        "        outputs = teacher_model(inputs)\n",
        "        loss = criterion_ce(outputs, labels)\n",
        "        loss.backward()\n",
        "        optimizer_teacher.step()\n",
        "\n",
        "        running_loss += loss.item()\n",
        "\n",
        "        # Calculate training accuracy\n",
        "        _, predicted = torch.max(outputs.data, 1)\n",
        "        total_train += labels.size(0)\n",
        "        correct_train += (predicted == labels).sum().item()\n",
        "\n",
        "    train_loss = running_loss / len(train_loader)\n",
        "    train_accuracy = 100 * correct_train / total_train\n",
        "    train_losses.append(train_loss)\n",
        "    train_accuracies.append(train_accuracy)\n",
        "\n",
        "    # Validation phase\n",
        "    teacher_model.eval()\n",
        "    running_val_loss = 0.0\n",
        "    correct_val = 0\n",
        "    total_val = 0\n",
        "    with torch.no_grad():\n",
        "        for inputs, labels in val_loader:\n",
        "            inputs, labels = inputs.to(device), labels.to(device)\n",
        "            outputs = teacher_model(inputs)\n",
        "            loss = criterion_ce(outputs, labels)\n",
        "            running_val_loss += loss.item()\n",
        "\n",
        "            # Calculate validation accuracy\n",
        "            _, predicted = torch.max(outputs.data, 1)\n",
        "            total_val += labels.size(0)\n",
        "            correct_val += (predicted == labels).sum().item()\n",
        "\n",
        "    val_loss = running_val_loss / len(val_loader)\n",
        "    val_accuracy = 100 * correct_val / total_val\n",
        "    val_losses.append(val_loss)\n",
        "    val_accuracies.append(val_accuracy)\n",
        "\n",
        "    # Save the model if validation accuracy improves\n",
        "    if val_accuracy > best_val_accuracy:\n",
        "        best_val_accuracy = val_accuracy\n",
        "        torch.save(teacher_model.state_dict(), 'teacher_model_best.pth')\n",
        "        print(f\"Best model saved with accuracy: {best_val_accuracy:.2f}%\")\n",
        "\n",
        "    # Early stopping and learning rate adjustment\n",
        "    if val_loss < best_val_loss:\n",
        "        best_val_loss = val_loss\n",
        "        no_improvement_count = 0\n",
        "    else:\n",
        "        no_improvement_count += 1\n",
        "        if no_improvement_count >= early_stop_patience:\n",
        "            print(\"Early stopping triggered.\")\n",
        "            break\n",
        "\n",
        "    scheduler.step(val_loss)  # Step the learning rate based on validation loss\n",
        "\n",
        "    print(f\"Epoch [{epoch + 1}/{num_epochs_teacher}], \"\n",
        "          f\"Train Loss: {train_loss:.4f}, Train Accuracy: {train_accuracy:.2f}%, \"\n",
        "          f\"Val Loss: {val_loss:.4f}, Val Accuracy: {val_accuracy:.2f}%\")\n",
        "\n",
        "end_time_teacher = time.time()\n",
        "print(f\"Teacher training completed in {(end_time_teacher - start_time_teacher) / 60:.2f} minutes\")\n",
        "\n",
        "# Load the best model for testing\n",
        "teacher_model.load_state_dict(torch.load('teacher_model_best.pth'))\n",
        "\n",
        "# Testing phase\n",
        "teacher_model.eval()\n",
        "correct_test = 0\n",
        "total_test = 0\n",
        "with torch.no_grad():\n",
        "    for inputs, labels in test_loader:\n",
        "        inputs, labels = inputs.to(device), labels.to(device)\n",
        "        outputs = teacher_model(inputs)\n",
        "        _, predicted = torch.max(outputs.data, 1)\n",
        "        total_test += labels.size(0)\n",
        "        correct_test += (predicted == labels).sum().item()\n",
        "\n",
        "test_accuracy = 100 * correct_test / total_test\n",
        "print(f'Accuracy of the teacher model on the test set: {test_accuracy:.2f}%')\n",
        "\n",
        "# Plotting training and validation loss\n",
        "plt.figure(figsize=(10, 5))\n",
        "plt.plot(train_losses, label=\"Training Loss\")\n",
        "plt.plot(val_losses, label=\"Validation Loss\")\n",
        "plt.xlabel(\"Epoch\")\n",
        "plt.ylabel(\"Loss\")\n",
        "plt.title(\"Training and Validation Loss\")\n",
        "plt.legend()\n",
        "plt.show()\n",
        "\n",
        "# Plotting training and validation accuracy\n",
        "plt.figure(figsize=(10, 5))\n",
        "plt.plot(train_accuracies, label=\"Training Accuracy\")\n",
        "plt.plot(val_accuracies, label=\"Validation Accuracy\")\n",
        "plt.xlabel(\"Epoch\")\n",
        "plt.ylabel(\"Accuracy (%)\")\n",
        "plt.title(\"Training and Validation Accuracy\")\n",
        "plt.legend()\n",
        "plt.show()\n"
      ]
    },
    {
      "cell_type": "code",
      "execution_count": 2,
      "metadata": {
        "colab": {
          "base_uri": "https://localhost:8080/"
        },
        "id": "J2JWVBF7Sy-b",
        "outputId": "4092db49-f0b8-4b79-9426-7f37f8d175f6"
      },
      "outputs": [
        {
          "output_type": "stream",
          "name": "stderr",
          "text": [
            "/usr/local/lib/python3.10/dist-packages/torchvision/models/_utils.py:223: UserWarning: Arguments other than a weight enum or `None` for 'weights' are deprecated since 0.13 and may be removed in the future. The current behavior is equivalent to passing `weights=None`.\n",
            "  warnings.warn(msg)\n",
            "<ipython-input-2-c5c348a656be>:25: FutureWarning: You are using `torch.load` with `weights_only=False` (the current default value), which uses the default pickle module implicitly. It is possible to construct malicious pickle data which will execute arbitrary code during unpickling (See https://github.com/pytorch/pytorch/blob/main/SECURITY.md#untrusted-models for more details). In a future release, the default value for `weights_only` will be flipped to `True`. This limits the functions that could be executed during unpickling. Arbitrary objects will no longer be allowed to be loaded via this mode unless they are explicitly allowlisted by the user via `torch.serialization.add_safe_globals`. We recommend you start setting `weights_only=True` for any use case where you don't have full control of the loaded file. Please open an issue on GitHub for any issues related to this experimental feature.\n",
            "  teacher_model.load_state_dict(torch.load('teacher_model_best.pth'))\n"
          ]
        },
        {
          "output_type": "execute_result",
          "data": {
            "text/plain": [
              "CustomResNet50(\n",
              "  (resnet): ResNet(\n",
              "    (conv1): Conv2d(3, 64, kernel_size=(7, 7), stride=(2, 2), padding=(3, 3), bias=False)\n",
              "    (bn1): BatchNorm2d(64, eps=1e-05, momentum=0.1, affine=True, track_running_stats=True)\n",
              "    (relu): ReLU(inplace=True)\n",
              "    (maxpool): MaxPool2d(kernel_size=3, stride=2, padding=1, dilation=1, ceil_mode=False)\n",
              "    (layer1): Sequential(\n",
              "      (0): Bottleneck(\n",
              "        (conv1): Conv2d(64, 64, kernel_size=(1, 1), stride=(1, 1), bias=False)\n",
              "        (bn1): BatchNorm2d(64, eps=1e-05, momentum=0.1, affine=True, track_running_stats=True)\n",
              "        (conv2): Conv2d(64, 64, kernel_size=(3, 3), stride=(1, 1), padding=(1, 1), bias=False)\n",
              "        (bn2): BatchNorm2d(64, eps=1e-05, momentum=0.1, affine=True, track_running_stats=True)\n",
              "        (conv3): Conv2d(64, 256, kernel_size=(1, 1), stride=(1, 1), bias=False)\n",
              "        (bn3): BatchNorm2d(256, eps=1e-05, momentum=0.1, affine=True, track_running_stats=True)\n",
              "        (relu): ReLU(inplace=True)\n",
              "        (downsample): Sequential(\n",
              "          (0): Conv2d(64, 256, kernel_size=(1, 1), stride=(1, 1), bias=False)\n",
              "          (1): BatchNorm2d(256, eps=1e-05, momentum=0.1, affine=True, track_running_stats=True)\n",
              "        )\n",
              "      )\n",
              "      (1): Bottleneck(\n",
              "        (conv1): Conv2d(256, 64, kernel_size=(1, 1), stride=(1, 1), bias=False)\n",
              "        (bn1): BatchNorm2d(64, eps=1e-05, momentum=0.1, affine=True, track_running_stats=True)\n",
              "        (conv2): Conv2d(64, 64, kernel_size=(3, 3), stride=(1, 1), padding=(1, 1), bias=False)\n",
              "        (bn2): BatchNorm2d(64, eps=1e-05, momentum=0.1, affine=True, track_running_stats=True)\n",
              "        (conv3): Conv2d(64, 256, kernel_size=(1, 1), stride=(1, 1), bias=False)\n",
              "        (bn3): BatchNorm2d(256, eps=1e-05, momentum=0.1, affine=True, track_running_stats=True)\n",
              "        (relu): ReLU(inplace=True)\n",
              "      )\n",
              "      (2): Bottleneck(\n",
              "        (conv1): Conv2d(256, 64, kernel_size=(1, 1), stride=(1, 1), bias=False)\n",
              "        (bn1): BatchNorm2d(64, eps=1e-05, momentum=0.1, affine=True, track_running_stats=True)\n",
              "        (conv2): Conv2d(64, 64, kernel_size=(3, 3), stride=(1, 1), padding=(1, 1), bias=False)\n",
              "        (bn2): BatchNorm2d(64, eps=1e-05, momentum=0.1, affine=True, track_running_stats=True)\n",
              "        (conv3): Conv2d(64, 256, kernel_size=(1, 1), stride=(1, 1), bias=False)\n",
              "        (bn3): BatchNorm2d(256, eps=1e-05, momentum=0.1, affine=True, track_running_stats=True)\n",
              "        (relu): ReLU(inplace=True)\n",
              "      )\n",
              "    )\n",
              "    (layer2): Sequential(\n",
              "      (0): Bottleneck(\n",
              "        (conv1): Conv2d(256, 128, kernel_size=(1, 1), stride=(1, 1), bias=False)\n",
              "        (bn1): BatchNorm2d(128, eps=1e-05, momentum=0.1, affine=True, track_running_stats=True)\n",
              "        (conv2): Conv2d(128, 128, kernel_size=(3, 3), stride=(2, 2), padding=(1, 1), bias=False)\n",
              "        (bn2): BatchNorm2d(128, eps=1e-05, momentum=0.1, affine=True, track_running_stats=True)\n",
              "        (conv3): Conv2d(128, 512, kernel_size=(1, 1), stride=(1, 1), bias=False)\n",
              "        (bn3): BatchNorm2d(512, eps=1e-05, momentum=0.1, affine=True, track_running_stats=True)\n",
              "        (relu): ReLU(inplace=True)\n",
              "        (downsample): Sequential(\n",
              "          (0): Conv2d(256, 512, kernel_size=(1, 1), stride=(2, 2), bias=False)\n",
              "          (1): BatchNorm2d(512, eps=1e-05, momentum=0.1, affine=True, track_running_stats=True)\n",
              "        )\n",
              "      )\n",
              "      (1): Bottleneck(\n",
              "        (conv1): Conv2d(512, 128, kernel_size=(1, 1), stride=(1, 1), bias=False)\n",
              "        (bn1): BatchNorm2d(128, eps=1e-05, momentum=0.1, affine=True, track_running_stats=True)\n",
              "        (conv2): Conv2d(128, 128, kernel_size=(3, 3), stride=(1, 1), padding=(1, 1), bias=False)\n",
              "        (bn2): BatchNorm2d(128, eps=1e-05, momentum=0.1, affine=True, track_running_stats=True)\n",
              "        (conv3): Conv2d(128, 512, kernel_size=(1, 1), stride=(1, 1), bias=False)\n",
              "        (bn3): BatchNorm2d(512, eps=1e-05, momentum=0.1, affine=True, track_running_stats=True)\n",
              "        (relu): ReLU(inplace=True)\n",
              "      )\n",
              "      (2): Bottleneck(\n",
              "        (conv1): Conv2d(512, 128, kernel_size=(1, 1), stride=(1, 1), bias=False)\n",
              "        (bn1): BatchNorm2d(128, eps=1e-05, momentum=0.1, affine=True, track_running_stats=True)\n",
              "        (conv2): Conv2d(128, 128, kernel_size=(3, 3), stride=(1, 1), padding=(1, 1), bias=False)\n",
              "        (bn2): BatchNorm2d(128, eps=1e-05, momentum=0.1, affine=True, track_running_stats=True)\n",
              "        (conv3): Conv2d(128, 512, kernel_size=(1, 1), stride=(1, 1), bias=False)\n",
              "        (bn3): BatchNorm2d(512, eps=1e-05, momentum=0.1, affine=True, track_running_stats=True)\n",
              "        (relu): ReLU(inplace=True)\n",
              "      )\n",
              "      (3): Bottleneck(\n",
              "        (conv1): Conv2d(512, 128, kernel_size=(1, 1), stride=(1, 1), bias=False)\n",
              "        (bn1): BatchNorm2d(128, eps=1e-05, momentum=0.1, affine=True, track_running_stats=True)\n",
              "        (conv2): Conv2d(128, 128, kernel_size=(3, 3), stride=(1, 1), padding=(1, 1), bias=False)\n",
              "        (bn2): BatchNorm2d(128, eps=1e-05, momentum=0.1, affine=True, track_running_stats=True)\n",
              "        (conv3): Conv2d(128, 512, kernel_size=(1, 1), stride=(1, 1), bias=False)\n",
              "        (bn3): BatchNorm2d(512, eps=1e-05, momentum=0.1, affine=True, track_running_stats=True)\n",
              "        (relu): ReLU(inplace=True)\n",
              "      )\n",
              "    )\n",
              "    (layer3): Sequential(\n",
              "      (0): Bottleneck(\n",
              "        (conv1): Conv2d(512, 256, kernel_size=(1, 1), stride=(1, 1), bias=False)\n",
              "        (bn1): BatchNorm2d(256, eps=1e-05, momentum=0.1, affine=True, track_running_stats=True)\n",
              "        (conv2): Conv2d(256, 256, kernel_size=(3, 3), stride=(2, 2), padding=(1, 1), bias=False)\n",
              "        (bn2): BatchNorm2d(256, eps=1e-05, momentum=0.1, affine=True, track_running_stats=True)\n",
              "        (conv3): Conv2d(256, 1024, kernel_size=(1, 1), stride=(1, 1), bias=False)\n",
              "        (bn3): BatchNorm2d(1024, eps=1e-05, momentum=0.1, affine=True, track_running_stats=True)\n",
              "        (relu): ReLU(inplace=True)\n",
              "        (downsample): Sequential(\n",
              "          (0): Conv2d(512, 1024, kernel_size=(1, 1), stride=(2, 2), bias=False)\n",
              "          (1): BatchNorm2d(1024, eps=1e-05, momentum=0.1, affine=True, track_running_stats=True)\n",
              "        )\n",
              "      )\n",
              "      (1): Bottleneck(\n",
              "        (conv1): Conv2d(1024, 256, kernel_size=(1, 1), stride=(1, 1), bias=False)\n",
              "        (bn1): BatchNorm2d(256, eps=1e-05, momentum=0.1, affine=True, track_running_stats=True)\n",
              "        (conv2): Conv2d(256, 256, kernel_size=(3, 3), stride=(1, 1), padding=(1, 1), bias=False)\n",
              "        (bn2): BatchNorm2d(256, eps=1e-05, momentum=0.1, affine=True, track_running_stats=True)\n",
              "        (conv3): Conv2d(256, 1024, kernel_size=(1, 1), stride=(1, 1), bias=False)\n",
              "        (bn3): BatchNorm2d(1024, eps=1e-05, momentum=0.1, affine=True, track_running_stats=True)\n",
              "        (relu): ReLU(inplace=True)\n",
              "      )\n",
              "      (2): Bottleneck(\n",
              "        (conv1): Conv2d(1024, 256, kernel_size=(1, 1), stride=(1, 1), bias=False)\n",
              "        (bn1): BatchNorm2d(256, eps=1e-05, momentum=0.1, affine=True, track_running_stats=True)\n",
              "        (conv2): Conv2d(256, 256, kernel_size=(3, 3), stride=(1, 1), padding=(1, 1), bias=False)\n",
              "        (bn2): BatchNorm2d(256, eps=1e-05, momentum=0.1, affine=True, track_running_stats=True)\n",
              "        (conv3): Conv2d(256, 1024, kernel_size=(1, 1), stride=(1, 1), bias=False)\n",
              "        (bn3): BatchNorm2d(1024, eps=1e-05, momentum=0.1, affine=True, track_running_stats=True)\n",
              "        (relu): ReLU(inplace=True)\n",
              "      )\n",
              "      (3): Bottleneck(\n",
              "        (conv1): Conv2d(1024, 256, kernel_size=(1, 1), stride=(1, 1), bias=False)\n",
              "        (bn1): BatchNorm2d(256, eps=1e-05, momentum=0.1, affine=True, track_running_stats=True)\n",
              "        (conv2): Conv2d(256, 256, kernel_size=(3, 3), stride=(1, 1), padding=(1, 1), bias=False)\n",
              "        (bn2): BatchNorm2d(256, eps=1e-05, momentum=0.1, affine=True, track_running_stats=True)\n",
              "        (conv3): Conv2d(256, 1024, kernel_size=(1, 1), stride=(1, 1), bias=False)\n",
              "        (bn3): BatchNorm2d(1024, eps=1e-05, momentum=0.1, affine=True, track_running_stats=True)\n",
              "        (relu): ReLU(inplace=True)\n",
              "      )\n",
              "      (4): Bottleneck(\n",
              "        (conv1): Conv2d(1024, 256, kernel_size=(1, 1), stride=(1, 1), bias=False)\n",
              "        (bn1): BatchNorm2d(256, eps=1e-05, momentum=0.1, affine=True, track_running_stats=True)\n",
              "        (conv2): Conv2d(256, 256, kernel_size=(3, 3), stride=(1, 1), padding=(1, 1), bias=False)\n",
              "        (bn2): BatchNorm2d(256, eps=1e-05, momentum=0.1, affine=True, track_running_stats=True)\n",
              "        (conv3): Conv2d(256, 1024, kernel_size=(1, 1), stride=(1, 1), bias=False)\n",
              "        (bn3): BatchNorm2d(1024, eps=1e-05, momentum=0.1, affine=True, track_running_stats=True)\n",
              "        (relu): ReLU(inplace=True)\n",
              "      )\n",
              "      (5): Bottleneck(\n",
              "        (conv1): Conv2d(1024, 256, kernel_size=(1, 1), stride=(1, 1), bias=False)\n",
              "        (bn1): BatchNorm2d(256, eps=1e-05, momentum=0.1, affine=True, track_running_stats=True)\n",
              "        (conv2): Conv2d(256, 256, kernel_size=(3, 3), stride=(1, 1), padding=(1, 1), bias=False)\n",
              "        (bn2): BatchNorm2d(256, eps=1e-05, momentum=0.1, affine=True, track_running_stats=True)\n",
              "        (conv3): Conv2d(256, 1024, kernel_size=(1, 1), stride=(1, 1), bias=False)\n",
              "        (bn3): BatchNorm2d(1024, eps=1e-05, momentum=0.1, affine=True, track_running_stats=True)\n",
              "        (relu): ReLU(inplace=True)\n",
              "      )\n",
              "    )\n",
              "    (layer4): Sequential(\n",
              "      (0): Bottleneck(\n",
              "        (conv1): Conv2d(1024, 512, kernel_size=(1, 1), stride=(1, 1), bias=False)\n",
              "        (bn1): BatchNorm2d(512, eps=1e-05, momentum=0.1, affine=True, track_running_stats=True)\n",
              "        (conv2): Conv2d(512, 512, kernel_size=(3, 3), stride=(2, 2), padding=(1, 1), bias=False)\n",
              "        (bn2): BatchNorm2d(512, eps=1e-05, momentum=0.1, affine=True, track_running_stats=True)\n",
              "        (conv3): Conv2d(512, 2048, kernel_size=(1, 1), stride=(1, 1), bias=False)\n",
              "        (bn3): BatchNorm2d(2048, eps=1e-05, momentum=0.1, affine=True, track_running_stats=True)\n",
              "        (relu): ReLU(inplace=True)\n",
              "        (downsample): Sequential(\n",
              "          (0): Conv2d(1024, 2048, kernel_size=(1, 1), stride=(2, 2), bias=False)\n",
              "          (1): BatchNorm2d(2048, eps=1e-05, momentum=0.1, affine=True, track_running_stats=True)\n",
              "        )\n",
              "      )\n",
              "      (1): Bottleneck(\n",
              "        (conv1): Conv2d(2048, 512, kernel_size=(1, 1), stride=(1, 1), bias=False)\n",
              "        (bn1): BatchNorm2d(512, eps=1e-05, momentum=0.1, affine=True, track_running_stats=True)\n",
              "        (conv2): Conv2d(512, 512, kernel_size=(3, 3), stride=(1, 1), padding=(1, 1), bias=False)\n",
              "        (bn2): BatchNorm2d(512, eps=1e-05, momentum=0.1, affine=True, track_running_stats=True)\n",
              "        (conv3): Conv2d(512, 2048, kernel_size=(1, 1), stride=(1, 1), bias=False)\n",
              "        (bn3): BatchNorm2d(2048, eps=1e-05, momentum=0.1, affine=True, track_running_stats=True)\n",
              "        (relu): ReLU(inplace=True)\n",
              "      )\n",
              "      (2): Bottleneck(\n",
              "        (conv1): Conv2d(2048, 512, kernel_size=(1, 1), stride=(1, 1), bias=False)\n",
              "        (bn1): BatchNorm2d(512, eps=1e-05, momentum=0.1, affine=True, track_running_stats=True)\n",
              "        (conv2): Conv2d(512, 512, kernel_size=(3, 3), stride=(1, 1), padding=(1, 1), bias=False)\n",
              "        (bn2): BatchNorm2d(512, eps=1e-05, momentum=0.1, affine=True, track_running_stats=True)\n",
              "        (conv3): Conv2d(512, 2048, kernel_size=(1, 1), stride=(1, 1), bias=False)\n",
              "        (bn3): BatchNorm2d(2048, eps=1e-05, momentum=0.1, affine=True, track_running_stats=True)\n",
              "        (relu): ReLU(inplace=True)\n",
              "      )\n",
              "    )\n",
              "    (avgpool): AdaptiveAvgPool2d(output_size=(1, 1))\n",
              "    (fc): Sequential(\n",
              "      (0): Dropout(p=0.5, inplace=False)\n",
              "      (1): Linear(in_features=2048, out_features=10, bias=True)\n",
              "    )\n",
              "  )\n",
              ")"
            ]
          },
          "metadata": {},
          "execution_count": 2
        }
      ],
      "source": [
        "student_model = models.resnet18(pretrained=False)\n",
        "student_model.fc = nn.Linear(512, 10)\n",
        "student_model.to(device)\n",
        "\n",
        "class DistillationLoss(nn.Module):\n",
        "    def __init__(self, temperature=3.0, alpha=0.5):\n",
        "        super(DistillationLoss, self).__init__()\n",
        "        self.temperature = temperature\n",
        "        self.alpha = alpha\n",
        "        self.criterion_ce = nn.CrossEntropyLoss()\n",
        "\n",
        "    def forward(self, student_logits, teacher_logits, labels):\n",
        "        distillation_loss = F.kl_div(\n",
        "            F.log_softmax(student_logits / self.temperature, dim=1),\n",
        "            F.softmax(teacher_logits / self.temperature, dim=1),\n",
        "            reduction='batchmean'\n",
        "        ) * (self.temperature ** 2)\n",
        "\n",
        "        student_loss = self.criterion_ce(student_logits, labels)\n",
        "        return self.alpha * distillation_loss + (1 - self.alpha) * student_loss\n",
        "\n",
        "optimizer_student = optim.Adam(student_model.parameters(), lr=0.001)\n",
        "criterion = DistillationLoss(temperature=3.0, alpha=0.5)\n",
        "\n",
        "teacher_model.load_state_dict(torch.load('teacher_model_best.pth'))\n",
        "teacher_model.eval()"
      ]
    },
    {
      "cell_type": "code",
      "execution_count": 3,
      "metadata": {
        "colab": {
          "base_uri": "https://localhost:8080/"
        },
        "id": "Hu9oUDnlS1iO",
        "outputId": "2258304f-223a-4892-96a6-5b3fa7ff11ec"
      },
      "outputs": [
        {
          "output_type": "stream",
          "name": "stdout",
          "text": [
            "Student Model Epoch [1/80], Loss: 3.4599\n",
            "Student Model Epoch [2/80], Loss: 2.6207\n",
            "Student Model Epoch [3/80], Loss: 2.1878\n",
            "Student Model Epoch [4/80], Loss: 1.9173\n",
            "Student Model Epoch [5/80], Loss: 1.7519\n",
            "Student Model Epoch [6/80], Loss: 1.5806\n",
            "Student Model Epoch [7/80], Loss: 1.4783\n",
            "Student Model Epoch [8/80], Loss: 1.3811\n",
            "Student Model Epoch [9/80], Loss: 1.2900\n",
            "Student Model Epoch [10/80], Loss: 1.2426\n",
            "Student Model Epoch [11/80], Loss: 1.1803\n",
            "Student Model Epoch [12/80], Loss: 1.1351\n",
            "Student Model Epoch [13/80], Loss: 1.1012\n",
            "Student Model Epoch [14/80], Loss: 1.0610\n",
            "Student Model Epoch [15/80], Loss: 1.0207\n",
            "Student Model Epoch [16/80], Loss: 0.9745\n",
            "Student Model Epoch [17/80], Loss: 0.9545\n",
            "Student Model Epoch [18/80], Loss: 0.9412\n",
            "Student Model Epoch [19/80], Loss: 0.9214\n",
            "Student Model Epoch [20/80], Loss: 0.8835\n",
            "Student Model Epoch [21/80], Loss: 0.8582\n",
            "Student Model Epoch [22/80], Loss: 0.8418\n",
            "Student Model Epoch [23/80], Loss: 0.8385\n",
            "Student Model Epoch [24/80], Loss: 0.8120\n",
            "Student Model Epoch [25/80], Loss: 0.7880\n",
            "Student Model Epoch [26/80], Loss: 0.7704\n",
            "Student Model Epoch [27/80], Loss: 0.7610\n",
            "Student Model Epoch [28/80], Loss: 0.7529\n",
            "Student Model Epoch [29/80], Loss: 0.7355\n",
            "Student Model Epoch [30/80], Loss: 0.7147\n",
            "Student Model Epoch [31/80], Loss: 0.7083\n",
            "Student Model Epoch [32/80], Loss: 0.7030\n",
            "Student Model Epoch [33/80], Loss: 0.6827\n",
            "Student Model Epoch [34/80], Loss: 0.6670\n",
            "Student Model Epoch [35/80], Loss: 0.6697\n",
            "Student Model Epoch [36/80], Loss: 0.6551\n",
            "Student Model Epoch [37/80], Loss: 0.6459\n",
            "Student Model Epoch [38/80], Loss: 0.6384\n",
            "Student Model Epoch [39/80], Loss: 0.6211\n",
            "Student Model Epoch [40/80], Loss: 0.6203\n",
            "Student Model Epoch [41/80], Loss: 0.6187\n",
            "Student Model Epoch [42/80], Loss: 0.6055\n",
            "Student Model Epoch [43/80], Loss: 0.5943\n",
            "Student Model Epoch [44/80], Loss: 0.5941\n",
            "Student Model Epoch [45/80], Loss: 0.5809\n",
            "Student Model Epoch [46/80], Loss: 0.5769\n",
            "Student Model Epoch [47/80], Loss: 0.5714\n",
            "Student Model Epoch [48/80], Loss: 0.5625\n",
            "Student Model Epoch [49/80], Loss: 0.5680\n",
            "Student Model Epoch [50/80], Loss: 0.5562\n",
            "Student Model Epoch [51/80], Loss: 0.5507\n",
            "Student Model Epoch [52/80], Loss: 0.5386\n",
            "Student Model Epoch [53/80], Loss: 0.5351\n",
            "Student Model Epoch [54/80], Loss: 0.5274\n",
            "Student Model Epoch [55/80], Loss: 0.5285\n",
            "Student Model Epoch [56/80], Loss: 0.5234\n",
            "Student Model Epoch [57/80], Loss: 0.5219\n",
            "Student Model Epoch [58/80], Loss: 0.5159\n",
            "Student Model Epoch [59/80], Loss: 0.5144\n",
            "Student Model Epoch [60/80], Loss: 0.5095\n",
            "Student Model Epoch [61/80], Loss: 0.5055\n",
            "Student Model Epoch [62/80], Loss: 0.4971\n",
            "Student Model Epoch [63/80], Loss: 0.4886\n",
            "Student Model Epoch [64/80], Loss: 0.4886\n",
            "Student Model Epoch [65/80], Loss: 0.4879\n",
            "Student Model Epoch [66/80], Loss: 0.4864\n",
            "Student Model Epoch [67/80], Loss: 0.4772\n",
            "Student Model Epoch [68/80], Loss: 0.4735\n",
            "Student Model Epoch [69/80], Loss: 0.4702\n",
            "Student Model Epoch [70/80], Loss: 0.4675\n",
            "Student Model Epoch [71/80], Loss: 0.4599\n",
            "Student Model Epoch [72/80], Loss: 0.4707\n",
            "Student Model Epoch [73/80], Loss: 0.4560\n",
            "Student Model Epoch [74/80], Loss: 0.4611\n",
            "Student Model Epoch [75/80], Loss: 0.4583\n",
            "Student Model Epoch [76/80], Loss: 0.4504\n",
            "Student Model Epoch [77/80], Loss: 0.4498\n",
            "Student Model Epoch [78/80], Loss: 0.4438\n",
            "Student Model Epoch [79/80], Loss: 0.4378\n",
            "Student Model Epoch [80/80], Loss: 0.4407\n",
            "Student training completed in 14.63 minutes\n"
          ]
        }
      ],
      "source": [
        "import torch.nn.functional as F\n",
        "num_epochs_student = 80\n",
        "start_time_student = time.time()\n",
        "for epoch in range(num_epochs_student):\n",
        "    student_model.train()\n",
        "    running_loss = 0.0\n",
        "    for inputs, labels in train_loader:\n",
        "        inputs, labels = inputs.to(device), labels.to(device)\n",
        "        with torch.no_grad():\n",
        "            teacher_outputs = teacher_model(inputs)\n",
        "        student_outputs = student_model(inputs)\n",
        "        loss = criterion(student_outputs, teacher_outputs, labels)\n",
        "        optimizer_student.zero_grad()\n",
        "        loss.backward()\n",
        "        optimizer_student.step()\n",
        "\n",
        "        running_loss += loss.item()\n",
        "\n",
        "    print(f'Student Model Epoch [{epoch + 1}/{num_epochs_student}], Loss: {running_loss / len(train_loader):.4f}')\n",
        "\n",
        "end_time_student = time.time()\n",
        "print(f'Student training completed in {(end_time_student - start_time_student) / 60:.2f} minutes')\n",
        "torch.save(student_model.state_dict(), 'student_model.pth')"
      ]
    },
    {
      "cell_type": "code",
      "execution_count": 4,
      "metadata": {
        "colab": {
          "base_uri": "https://localhost:8080/"
        },
        "id": "P7tP0IuQS36E",
        "outputId": "1481edfc-294e-475d-cc62-06e662abf611"
      },
      "outputs": [
        {
          "output_type": "stream",
          "name": "stdout",
          "text": [
            "Accuracy of the student model on the test set: 85.56%\n"
          ]
        }
      ],
      "source": [
        "student_model.eval()\n",
        "correct = 0\n",
        "total = 0\n",
        "with torch.no_grad():\n",
        "    for inputs, labels in test_loader:\n",
        "        inputs, labels = inputs.to(device), labels.to(device)\n",
        "        outputs = student_model(inputs)\n",
        "        _, predicted = torch.max(outputs, 1)\n",
        "        total += labels.size(0)\n",
        "        correct += (predicted == labels).sum().item()\n",
        "\n",
        "print(f'Accuracy of the student model on the test set: {100 * correct / total:.2f}%')\n"
      ]
    },
    {
      "cell_type": "code",
      "execution_count": 7,
      "metadata": {
        "id": "g-84ZCg_Vexj",
        "colab": {
          "base_uri": "https://localhost:8080/"
        },
        "outputId": "9d563a43-711e-4f8a-8534-e1eac669c11d"
      },
      "outputs": [
        {
          "output_type": "stream",
          "name": "stderr",
          "text": [
            "<ipython-input-7-8c3abf7f895b>:31: FutureWarning: You are using `torch.load` with `weights_only=False` (the current default value), which uses the default pickle module implicitly. It is possible to construct malicious pickle data which will execute arbitrary code during unpickling (See https://github.com/pytorch/pytorch/blob/main/SECURITY.md#untrusted-models for more details). In a future release, the default value for `weights_only` will be flipped to `True`. This limits the functions that could be executed during unpickling. Arbitrary objects will no longer be allowed to be loaded via this mode unless they are explicitly allowlisted by the user via `torch.serialization.add_safe_globals`. We recommend you start setting `weights_only=True` for any use case where you don't have full control of the loaded file. Please open an issue on GitHub for any issues related to this experimental feature.\n",
            "  teacher_model.load_state_dict(torch.load('teacher_model_best.pth'))\n"
          ]
        },
        {
          "output_type": "stream",
          "name": "stdout",
          "text": [
            "Student Model Epoch [1/80], Loss: 4.7141\n",
            "Student Model Epoch [2/80], Loss: 3.8738\n",
            "Student Model Epoch [3/80], Loss: 3.5223\n",
            "Student Model Epoch [4/80], Loss: 3.2453\n",
            "Student Model Epoch [5/80], Loss: 3.0029\n",
            "Student Model Epoch [6/80], Loss: 2.8404\n",
            "Student Model Epoch [7/80], Loss: 2.6670\n",
            "Student Model Epoch [8/80], Loss: 2.5026\n",
            "Student Model Epoch [9/80], Loss: 2.3672\n",
            "Student Model Epoch [10/80], Loss: 2.2564\n",
            "Student Model Epoch [11/80], Loss: 2.1544\n",
            "Student Model Epoch [12/80], Loss: 2.0790\n",
            "Student Model Epoch [13/80], Loss: 2.0114\n",
            "Student Model Epoch [14/80], Loss: 1.9337\n",
            "Student Model Epoch [15/80], Loss: 1.8629\n",
            "Student Model Epoch [16/80], Loss: 1.7957\n",
            "Student Model Epoch [17/80], Loss: 1.7433\n",
            "Student Model Epoch [18/80], Loss: 1.6886\n",
            "Student Model Epoch [19/80], Loss: 1.6197\n",
            "Student Model Epoch [20/80], Loss: 1.5908\n",
            "Student Model Epoch [21/80], Loss: 1.5475\n",
            "Student Model Epoch [22/80], Loss: 1.4890\n",
            "Student Model Epoch [23/80], Loss: 1.4568\n",
            "Student Model Epoch [24/80], Loss: 1.4052\n",
            "Student Model Epoch [25/80], Loss: 1.3971\n",
            "Student Model Epoch [26/80], Loss: 1.3558\n",
            "Student Model Epoch [27/80], Loss: 1.3209\n",
            "Student Model Epoch [28/80], Loss: 1.2960\n",
            "Student Model Epoch [29/80], Loss: 1.2651\n",
            "Student Model Epoch [30/80], Loss: 1.2352\n",
            "Student Model Epoch [31/80], Loss: 1.2184\n",
            "Student Model Epoch [32/80], Loss: 1.1941\n",
            "Student Model Epoch [33/80], Loss: 1.1718\n",
            "Student Model Epoch [34/80], Loss: 1.1597\n",
            "Student Model Epoch [35/80], Loss: 1.1331\n",
            "Student Model Epoch [36/80], Loss: 1.1158\n",
            "Student Model Epoch [37/80], Loss: 1.1012\n",
            "Student Model Epoch [38/80], Loss: 1.0801\n",
            "Student Model Epoch [39/80], Loss: 1.0694\n",
            "Student Model Epoch [40/80], Loss: 1.0578\n",
            "Student Model Epoch [41/80], Loss: 1.0307\n",
            "Student Model Epoch [42/80], Loss: 1.0188\n",
            "Student Model Epoch [43/80], Loss: 1.0094\n",
            "Student Model Epoch [44/80], Loss: 0.9901\n",
            "Student Model Epoch [45/80], Loss: 0.9822\n",
            "Student Model Epoch [46/80], Loss: 0.9656\n",
            "Student Model Epoch [47/80], Loss: 0.9608\n",
            "Student Model Epoch [48/80], Loss: 0.9522\n",
            "Student Model Epoch [49/80], Loss: 0.9319\n",
            "Student Model Epoch [50/80], Loss: 0.9218\n",
            "Student Model Epoch [51/80], Loss: 0.9280\n",
            "Student Model Epoch [52/80], Loss: 0.9109\n",
            "Student Model Epoch [53/80], Loss: 0.9035\n",
            "Student Model Epoch [54/80], Loss: 0.8954\n",
            "Student Model Epoch [55/80], Loss: 0.8792\n",
            "Student Model Epoch [56/80], Loss: 0.8764\n",
            "Student Model Epoch [57/80], Loss: 0.8663\n",
            "Student Model Epoch [58/80], Loss: 0.8525\n",
            "Student Model Epoch [59/80], Loss: 0.8470\n",
            "Student Model Epoch [60/80], Loss: 0.8392\n",
            "Student Model Epoch [61/80], Loss: 0.8251\n",
            "Student Model Epoch [62/80], Loss: 0.8177\n",
            "Student Model Epoch [63/80], Loss: 0.8146\n",
            "Student Model Epoch [64/80], Loss: 0.8154\n",
            "Student Model Epoch [65/80], Loss: 0.8017\n",
            "Student Model Epoch [66/80], Loss: 0.7970\n",
            "Student Model Epoch [67/80], Loss: 0.7953\n",
            "Student Model Epoch [68/80], Loss: 0.7827\n",
            "Student Model Epoch [69/80], Loss: 0.7840\n",
            "Student Model Epoch [70/80], Loss: 0.7773\n",
            "Student Model Epoch [71/80], Loss: 0.7706\n",
            "Student Model Epoch [72/80], Loss: 0.7622\n",
            "Student Model Epoch [73/80], Loss: 0.7527\n",
            "Student Model Epoch [74/80], Loss: 0.7462\n",
            "Student Model Epoch [75/80], Loss: 0.7482\n",
            "Student Model Epoch [76/80], Loss: 0.7392\n",
            "Student Model Epoch [77/80], Loss: 0.7386\n",
            "Student Model Epoch [78/80], Loss: 0.7363\n",
            "Student Model Epoch [79/80], Loss: 0.7330\n",
            "Student Model Epoch [80/80], Loss: 0.7194\n",
            "Student training completed in 15.05 minutes\n",
            "Accuracy of the student model (MobileNetV2) on the test set: 82.88%\n"
          ]
        }
      ],
      "source": [
        "import torch\n",
        "import torch.nn as nn\n",
        "import torch.optim as optim\n",
        "from torchvision import models\n",
        "import torch.nn.functional as F\n",
        "import time\n",
        "\n",
        "# Load MobileNetV2 model and replace the final fully connected layer\n",
        "student_model = models.mobilenet_v2(pretrained=False)\n",
        "student_model.classifier[1] = nn.Linear(student_model.last_channel, 10)\n",
        "student_model.to(device)\n",
        "\n",
        "class DistillationLoss(nn.Module):\n",
        "    def __init__(self, temperature=3.0, alpha=0.5):\n",
        "        super(DistillationLoss, self).__init__()\n",
        "        self.temperature = temperature\n",
        "        self.alpha = alpha\n",
        "        self.criterion_ce = nn.CrossEntropyLoss()\n",
        "\n",
        "    def forward(self, student_logits, teacher_logits, labels):\n",
        "        distillation_loss = F.kl_div(\n",
        "            F.log_softmax(student_logits / self.temperature, dim=1),\n",
        "            F.softmax(teacher_logits / self.temperature, dim=1),\n",
        "            reduction='batchmean'\n",
        "        ) * (self.temperature ** 2)\n",
        "\n",
        "        student_loss = self.criterion_ce(student_logits, labels)\n",
        "        return self.alpha * distillation_loss + (1 - self.alpha) * student_loss\n",
        "\n",
        "# Load the teacher model and set it to evaluation mode\n",
        "teacher_model.load_state_dict(torch.load('teacher_model_best.pth'))\n",
        "teacher_model.eval()\n",
        "\n",
        "# Define optimizer and loss for student model\n",
        "optimizer_student = optim.Adam(student_model.parameters(), lr=0.001)\n",
        "criterion = DistillationLoss(temperature=3.0, alpha=0.5)\n",
        "\n",
        "# Training loop for student model with knowledge distillation\n",
        "num_epochs_student = 80\n",
        "start_time_student = time.time()\n",
        "\n",
        "for epoch in range(num_epochs_student):\n",
        "    student_model.train()\n",
        "    running_loss = 0.0\n",
        "    for inputs, labels in train_loader:\n",
        "        inputs, labels = inputs.to(device), labels.to(device)\n",
        "        with torch.no_grad():\n",
        "            teacher_outputs = teacher_model(inputs)\n",
        "        student_outputs = student_model(inputs)\n",
        "        loss = criterion(student_outputs, teacher_outputs, labels)\n",
        "        optimizer_student.zero_grad()\n",
        "        loss.backward()\n",
        "        optimizer_student.step()\n",
        "\n",
        "        running_loss += loss.item()\n",
        "\n",
        "    print(f'Student Model Epoch [{epoch + 1}/{num_epochs_student}], Loss: {running_loss / len(train_loader):.4f}')\n",
        "\n",
        "end_time_student = time.time()\n",
        "print(f'Student training completed in {(end_time_student - start_time_student) / 60:.2f} minutes')\n",
        "torch.save(student_model.state_dict(), 'student_model_mobilenet.pth')\n",
        "\n",
        "# Evaluation of the student model\n",
        "student_model.eval()\n",
        "correct = 0\n",
        "total = 0\n",
        "with torch.no_grad():\n",
        "    for inputs, labels in test_loader:\n",
        "        inputs, labels = inputs.to(device), labels.to(device)\n",
        "        outputs = student_model(inputs)\n",
        "        _, predicted = torch.max(outputs, 1)\n",
        "        total += labels.size(0)\n",
        "        correct += (predicted == labels).sum().item()\n",
        "\n",
        "print(f'Accuracy of the student model (MobileNetV2) on the test set: {100 * correct / total:.2f}%')"
      ]
    }
  ],
  "metadata": {
    "accelerator": "GPU",
    "colab": {
      "gpuType": "A100",
      "provenance": [],
      "machine_shape": "hm"
    },
    "kernelspec": {
      "display_name": "Python 3",
      "name": "python3"
    },
    "language_info": {
      "name": "python"
    }
  },
  "nbformat": 4,
  "nbformat_minor": 0
}
