{
  "nbformat": 4,
  "nbformat_minor": 0,
  "metadata": {
    "colab": {
      "provenance": [],
      "gpuType": "T4"
    },
    "kernelspec": {
      "name": "python3",
      "display_name": "Python 3"
    },
    "language_info": {
      "name": "python"
    },
    "accelerator": "GPU"
  },
  "cells": [
    {
      "cell_type": "code",
      "source": [
        "import torch\n",
        "import torch.nn as nn\n",
        "import torch.optim as optim\n",
        "from torch.optim.lr_scheduler import ReduceLROnPlateau\n",
        "from torch.utils.data import DataLoader, random_split\n",
        "from torchvision import models, datasets, transforms\n",
        "import numpy as np\n",
        "from tqdm import tqdm\n",
        "import time\n",
        "import os\n",
        "import subprocess\n",
        "import codecarbon\n",
        "from thop import profile\n",
        "\n",
        "# Check if GPU is available and set device\n",
        "device = torch.device(\"cuda\" if torch.cuda.is_available() else \"cpu\")\n",
        "print(f\"Using device: {device}\")\n",
        "\n",
        "# Define data augmentations for training\n",
        "transform_train = transforms.Compose([\n",
        "    transforms.RandomHorizontalFlip(),\n",
        "    transforms.RandomCrop(32, padding=4),\n",
        "    transforms.RandomRotation(15),\n",
        "    transforms.ColorJitter(brightness=0.2, contrast=0.2, saturation=0.2, hue=0.1),\n",
        "    transforms.ToTensor(),\n",
        "    transforms.Normalize((0.4914, 0.4822, 0.4465), (0.2023, 0.1994, 0.2010)),\n",
        "])\n",
        "\n",
        "transform_test = transforms.Compose([\n",
        "    transforms.ToTensor(),\n",
        "    transforms.Normalize((0.4914, 0.4822, 0.4465), (0.2023, 0.1994, 0.2010)),\n",
        "])\n",
        "\n",
        "# Load CIFAR-10 dataset\n",
        "train_dataset = datasets.CIFAR10(root='./data', train=True, download=True, transform=transform_train)\n",
        "test_dataset = datasets.CIFAR10(root='./data', train=False, download=True, transform=transform_test)\n",
        "\n",
        "# Split training data into training and validation sets (80% train, 20% validation)\n",
        "train_size = int(0.8 * len(train_dataset))\n",
        "val_size = len(train_dataset) - train_size\n",
        "train_dataset, val_dataset = random_split(train_dataset, [train_size, val_size])\n",
        "\n",
        "# Create DataLoaders\n",
        "train_loader = DataLoader(train_dataset, batch_size=128, shuffle=True, num_workers=4, pin_memory=True)\n",
        "val_loader = DataLoader(val_dataset, batch_size=128, shuffle=False, num_workers=4, pin_memory=True)\n",
        "test_loader = DataLoader(test_dataset, batch_size=128, shuffle=False, num_workers=4, pin_memory=True)\n",
        "\n",
        "# Define Custom ResNet-50 Model\n",
        "class CustomResNet50(nn.Module):\n",
        "    def __init__(self, num_classes=10, dropout_rate=0.5):\n",
        "        super(CustomResNet50, self).__init__()\n",
        "        self.resnet = models.resnet50(pretrained=True)\n",
        "        self.resnet.fc = nn.Sequential(\n",
        "            nn.Dropout(dropout_rate),\n",
        "            nn.Linear(2048, num_classes)\n",
        "        )\n",
        "\n",
        "    def forward(self, x):\n",
        "        return self.resnet(x)\n",
        "\n",
        "# Initialize model\n",
        "teacher_model = CustomResNet50().to(device)\n",
        "\n",
        "# Define loss function, optimizer, and learning rate scheduler\n",
        "criterion_ce = nn.CrossEntropyLoss()\n",
        "optimizer_teacher = optim.Adam(teacher_model.parameters(), lr=0.001, weight_decay=1e-4)\n",
        "scheduler = ReduceLROnPlateau(optimizer_teacher, mode='min', factor=0.1, patience=5, verbose=True)\n",
        "\n",
        "# Use CodeCarbon for energy consumption tracking\n",
        "tracker = codecarbon.EmissionsTracker()\n",
        "tracker.start()\n",
        "\n",
        "# Function to get GPU power consumption using nvidia-smi\n",
        "def get_gpu_power():\n",
        "    try:\n",
        "        result = subprocess.run(\n",
        "            ['nvidia-smi', '--query-gpu=power.draw', '--format=csv,nounits,noheader'],\n",
        "            stdout=subprocess.PIPE, text=True\n",
        "        )\n",
        "        power_draws = [float(p) for p in result.stdout.strip().split('\\n')]\n",
        "        return sum(power_draws) / len(power_draws) if power_draws else 0.0\n",
        "    except Exception as e:\n",
        "        print(f\"Error getting GPU power: {e}\")\n",
        "        return 0.0\n",
        "\n",
        "gpu_power_readings = []\n",
        "\n",
        "# Training loop\n",
        "num_epochs_teacher = 80\n",
        "train_losses, val_losses = [], []\n",
        "train_accuracies, val_accuracies = [], []\n",
        "best_val_accuracy = 0.0\n",
        "best_val_loss = float('inf')\n",
        "start_training_time = time.time()\n",
        "\n",
        "for epoch in range(num_epochs_teacher):\n",
        "    teacher_model.train()\n",
        "    running_loss, correct_train, total_train = 0.0, 0, 0\n",
        "\n",
        "    for inputs, labels in tqdm(train_loader, desc=f'Epoch [{epoch+1}/{num_epochs_teacher}] - Training'):\n",
        "        inputs, labels = inputs.to(device), labels.to(device)\n",
        "        optimizer_teacher.zero_grad()\n",
        "        outputs = teacher_model(inputs)\n",
        "        loss = criterion_ce(outputs, labels)\n",
        "        loss.backward()\n",
        "        optimizer_teacher.step()\n",
        "\n",
        "        running_loss += loss.item()\n",
        "        _, predicted = torch.max(outputs.data, 1)\n",
        "        correct_train += (predicted == labels).sum().item()\n",
        "        total_train += labels.size(0)\n",
        "        gpu_power_readings.append(get_gpu_power())\n",
        "\n",
        "    train_loss = running_loss / len(train_loader)\n",
        "    train_accuracy = 100 * correct_train / total_train\n",
        "    train_losses.append(train_loss)\n",
        "    train_accuracies.append(train_accuracy)\n",
        "\n",
        "    # Validation phase\n",
        "    teacher_model.eval()\n",
        "    running_val_loss, correct_val, total_val = 0.0, 0, 0\n",
        "    with torch.no_grad():\n",
        "        for inputs, labels in val_loader:\n",
        "            inputs, labels = inputs.to(device), labels.to(device)\n",
        "            outputs = teacher_model(inputs)\n",
        "            loss = criterion_ce(outputs, labels)\n",
        "            running_val_loss += loss.item()\n",
        "            _, predicted = torch.max(outputs.data, 1)\n",
        "            correct_val += (predicted == labels).sum().item()\n",
        "            total_val += labels.size(0)\n",
        "\n",
        "    val_loss = running_val_loss / len(val_loader)\n",
        "    val_accuracy = 100 * correct_val / total_val\n",
        "    val_losses.append(val_loss)\n",
        "    val_accuracies.append(val_accuracy)\n",
        "\n",
        "    print(f\"Epoch [{epoch+1}/{num_epochs_teacher}], Train Loss: {train_loss:.4f}, Train Acc: {train_accuracy:.2f}%, \"\n",
        "          f\"Val Loss: {val_loss:.4f}, Val Acc: {val_accuracy:.2f}%\")\n",
        "\n",
        "    if val_accuracy > best_val_accuracy:\n",
        "        best_val_accuracy = val_accuracy\n",
        "        torch.save(teacher_model.state_dict(), 'best_teacher_model.pth')\n",
        "\n",
        "    scheduler.step(val_loss)\n",
        "\n",
        "training_time = time.time() - start_training_time\n",
        "\n",
        "# Stop the CodeCarbon tracker\n",
        "emissions = tracker.stop()\n",
        "\n",
        "# Model analysis metrics\n",
        "param_count = sum(p.numel() for p in teacher_model.parameters() if p.requires_grad)\n",
        "model_size = os.path.getsize('best_teacher_model.pth') / (1024 * 1024)\n",
        "\n",
        "# FLOPs calculation\n",
        "example_input = torch.randn(1, 3, 32, 32).to(device)\n",
        "flops, params = profile(teacher_model, inputs=(example_input,), verbose=False)\n",
        "\n",
        "# Inference time calculation\n",
        "teacher_model.eval()\n",
        "inference_start = time.time()\n",
        "with torch.no_grad():\n",
        "    for _ in range(100):  # Measure inference time over 100 iterations\n",
        "        _ = teacher_model(example_input)\n",
        "inference_time = (time.time() - inference_start) / 100  # Average inference time per run\n",
        "\n",
        "# Report energy and performance metrics\n",
        "avg_gpu_power = sum(gpu_power_readings) / len(gpu_power_readings) if gpu_power_readings else 0.0\n",
        "energy_consumption_gpu = (avg_gpu_power * num_epochs_teacher * len(train_loader) / 1000)\n",
        "\n",
        "# Final results\n",
        "print(\"\\n--- Model Analysis ---\")\n",
        "print(f\"Parameter Count: {param_count}\")\n",
        "print(f\"Model Size: {model_size:.2f} MB\")\n",
        "print(f\"FLOPs: {flops / 1e9:.2f} GFLOPs\")\n",
        "print(f\"Training Time: {training_time:.2f} seconds\")\n",
        "print(f\"Average Inference Time: {inference_time:.6f} seconds\")\n",
        "\n",
        "print(\"\\n--- Energy and Emissions Report ---\")\n",
        "print(f\"CO2 Emissions: {emissions:.6f} kg\")\n",
        "print(f\"Average GPU Power Consumption: {avg_gpu_power:.2f} W\")\n",
        "print(f\"Total GPU Energy Consumption: {energy_consumption_gpu:.6f} kWh\")\n"
      ],
      "metadata": {
        "colab": {
          "base_uri": "https://localhost:8080/"
        },
        "id": "GyO8H9ybsO-i",
        "outputId": "4b3ec492-9bd5-47ba-f4c1-50bc080b7d16"
      },
      "execution_count": 4,
      "outputs": [
        {
          "output_type": "stream",
          "name": "stdout",
          "text": [
            "Using device: cuda\n",
            "Files already downloaded and verified\n",
            "Files already downloaded and verified\n"
          ]
        },
        {
          "output_type": "stream",
          "name": "stderr",
          "text": [
            "/usr/local/lib/python3.10/dist-packages/torchvision/models/_utils.py:208: UserWarning: The parameter 'pretrained' is deprecated since 0.13 and may be removed in the future, please use 'weights' instead.\n",
            "  warnings.warn(\n",
            "/usr/local/lib/python3.10/dist-packages/torchvision/models/_utils.py:223: UserWarning: Arguments other than a weight enum or `None` for 'weights' are deprecated since 0.13 and may be removed in the future. The current behavior is equivalent to passing `weights=ResNet50_Weights.IMAGENET1K_V1`. You can also use `weights=ResNet50_Weights.DEFAULT` to get the most up-to-date weights.\n",
            "  warnings.warn(msg)\n",
            "/usr/local/lib/python3.10/dist-packages/torch/optim/lr_scheduler.py:62: UserWarning: The verbose parameter is deprecated. Please use get_last_lr() to access the learning rate.\n",
            "  warnings.warn(\n",
            "[codecarbon INFO @ 01:23:11] [setup] RAM Tracking...\n",
            "[codecarbon INFO @ 01:23:11] [setup] GPU Tracking...\n",
            "[codecarbon INFO @ 01:23:11] Tracking Nvidia GPU via pynvml\n",
            "[codecarbon INFO @ 01:23:11] [setup] CPU Tracking...\n",
            "[codecarbon WARNING @ 01:23:11] No CPU tracking mode found. Falling back on CPU constant mode. \n",
            " Linux OS detected: Please ensure RAPL files exist at \\sys\\class\\powercap\\intel-rapl to measure CPU\n",
            "\n",
            "[codecarbon WARNING @ 01:23:12] We saw that you have a Intel(R) Xeon(R) CPU @ 2.20GHz but we don't know it. Please contact us.\n",
            "[codecarbon INFO @ 01:23:12] CPU Model on constant consumption mode: Intel(R) Xeon(R) CPU @ 2.20GHz\n",
            "[codecarbon INFO @ 01:23:12] >>> Tracker's metadata:\n",
            "[codecarbon INFO @ 01:23:12]   Platform system: Linux-6.1.85+-x86_64-with-glibc2.35\n",
            "[codecarbon INFO @ 01:23:12]   Python version: 3.10.12\n",
            "[codecarbon INFO @ 01:23:12]   CodeCarbon version: 2.7.4\n",
            "[codecarbon INFO @ 01:23:12]   Available RAM : 12.675 GB\n",
            "[codecarbon INFO @ 01:23:12]   CPU count: 2\n",
            "[codecarbon INFO @ 01:23:12]   CPU model: Intel(R) Xeon(R) CPU @ 2.20GHz\n",
            "[codecarbon INFO @ 01:23:12]   GPU count: 1\n",
            "[codecarbon INFO @ 01:23:12]   GPU model: 1 x Tesla T4\n",
            "[codecarbon INFO @ 01:23:12] Saving emissions data to file /content/emissions.csv\n",
            "Epoch [1/80] - Training:   0%|          | 0/313 [00:00<?, ?it/s]/usr/local/lib/python3.10/dist-packages/torch/utils/data/dataloader.py:617: UserWarning: This DataLoader will create 4 worker processes in total. Our suggested max number of worker in current system is 2, which is smaller than what this DataLoader is going to create. Please be aware that excessive worker creation might get DataLoader running slow or even freeze, lower the worker number to avoid potential slowness/freeze if necessary.\n",
            "  warnings.warn(\n",
            "Epoch [1/80] - Training:  28%|██▊       | 89/313 [00:14<00:41,  5.46it/s][codecarbon INFO @ 01:23:27] Energy consumed for RAM : 0.000020 kWh. RAM Power : 4.7530388832092285 W\n",
            "[codecarbon INFO @ 01:23:27] Energy consumed for all GPUs : 0.000212 kWh. Total GPU Power : 50.83780396290514 W\n",
            "[codecarbon INFO @ 01:23:27] Energy consumed for all CPUs : 0.000178 kWh. Total CPU Power : 42.5 W\n",
            "[codecarbon INFO @ 01:23:27] 0.000409 kWh of electricity used since the beginning.\n",
            "Epoch [1/80] - Training:  56%|█████▌    | 175/313 [00:29<00:28,  4.80it/s][codecarbon INFO @ 01:23:42] Energy consumed for RAM : 0.000040 kWh. RAM Power : 4.7530388832092285 W\n",
            "[codecarbon INFO @ 01:23:42] Energy consumed for all GPUs : 0.000422 kWh. Total GPU Power : 50.51464354064898 W\n",
            "[codecarbon INFO @ 01:23:42] Energy consumed for all CPUs : 0.000354 kWh. Total CPU Power : 42.5 W\n",
            "[codecarbon INFO @ 01:23:42] 0.000816 kWh of electricity used since the beginning.\n",
            "Epoch [1/80] - Training:  86%|████████▌ | 268/313 [00:44<00:09,  4.78it/s][codecarbon INFO @ 01:23:57] Energy consumed for RAM : 0.000059 kWh. RAM Power : 4.7530388832092285 W\n",
            "[codecarbon INFO @ 01:23:57] Energy consumed for all GPUs : 0.000645 kWh. Total GPU Power : 53.370221805598156 W\n",
            "[codecarbon INFO @ 01:23:57] Energy consumed for all CPUs : 0.000532 kWh. Total CPU Power : 42.5 W\n",
            "[codecarbon INFO @ 01:23:57] 0.001236 kWh of electricity used since the beginning.\n",
            "Epoch [1/80] - Training: 100%|██████████| 313/313 [00:51<00:00,  6.02it/s]\n",
            "/usr/local/lib/python3.10/dist-packages/torch/utils/data/dataloader.py:617: UserWarning: This DataLoader will create 4 worker processes in total. Our suggested max number of worker in current system is 2, which is smaller than what this DataLoader is going to create. Please be aware that excessive worker creation might get DataLoader running slow or even freeze, lower the worker number to avoid potential slowness/freeze if necessary.\n",
            "  warnings.warn(\n",
            "[codecarbon INFO @ 01:24:12] Energy consumed for RAM : 0.000079 kWh. RAM Power : 4.7530388832092285 W\n",
            "[codecarbon INFO @ 01:24:12] Energy consumed for all GPUs : 0.000826 kWh. Total GPU Power : 43.57087267909356 W\n",
            "[codecarbon INFO @ 01:24:12] Energy consumed for all CPUs : 0.000709 kWh. Total CPU Power : 42.5 W\n",
            "[codecarbon INFO @ 01:24:12] 0.001614 kWh of electricity used since the beginning.\n"
          ]
        },
        {
          "output_type": "stream",
          "name": "stdout",
          "text": [
            "Epoch [1/80], Train Loss: 1.2898, Train Acc: 55.48%, Val Loss: 1.1446, Val Acc: 60.70%\n"
          ]
        },
        {
          "output_type": "stream",
          "name": "stderr",
          "text": [
            "Epoch [2/80] - Training:  23%|██▎       | 73/313 [00:12<00:55,  4.29it/s][codecarbon INFO @ 01:24:27] Energy consumed for RAM : 0.000099 kWh. RAM Power : 4.7530388832092285 W\n",
            "[codecarbon INFO @ 01:24:27] Energy consumed for all GPUs : 0.001037 kWh. Total GPU Power : 50.69144286276493 W\n",
            "[codecarbon INFO @ 01:24:27] Energy consumed for all CPUs : 0.000886 kWh. Total CPU Power : 42.5 W\n",
            "[codecarbon INFO @ 01:24:27] 0.002022 kWh of electricity used since the beginning.\n",
            "Epoch [2/80] - Training:  53%|█████▎    | 166/313 [00:27<00:33,  4.44it/s][codecarbon INFO @ 01:24:42] Energy consumed for RAM : 0.000119 kWh. RAM Power : 4.7530388832092285 W\n",
            "[codecarbon INFO @ 01:24:42] Energy consumed for all GPUs : 0.001268 kWh. Total GPU Power : 55.286366791853794 W\n",
            "[codecarbon INFO @ 01:24:42] Energy consumed for all CPUs : 0.001063 kWh. Total CPU Power : 42.5 W\n",
            "[codecarbon INFO @ 01:24:42] 0.002449 kWh of electricity used since the beginning.\n",
            "Epoch [2/80] - Training:  81%|████████▏ | 255/313 [00:42<00:13,  4.32it/s][codecarbon INFO @ 01:24:57] Energy consumed for RAM : 0.000139 kWh. RAM Power : 4.7530388832092285 W\n",
            "[codecarbon INFO @ 01:24:57] Energy consumed for all GPUs : 0.001492 kWh. Total GPU Power : 53.919694949760746 W\n",
            "[codecarbon INFO @ 01:24:57] Energy consumed for all CPUs : 0.001240 kWh. Total CPU Power : 42.5 W\n",
            "[codecarbon INFO @ 01:24:57] 0.002871 kWh of electricity used since the beginning.\n",
            "Epoch [2/80] - Training: 100%|██████████| 313/313 [00:51<00:00,  6.12it/s]\n",
            "/usr/local/lib/python3.10/dist-packages/torch/utils/data/dataloader.py:617: UserWarning: This DataLoader will create 4 worker processes in total. Our suggested max number of worker in current system is 2, which is smaller than what this DataLoader is going to create. Please be aware that excessive worker creation might get DataLoader running slow or even freeze, lower the worker number to avoid potential slowness/freeze if necessary.\n",
            "  warnings.warn(\n",
            "[codecarbon INFO @ 01:25:12] Energy consumed for RAM : 0.000158 kWh. RAM Power : 4.7530388832092285 W\n",
            "[codecarbon INFO @ 01:25:12] Energy consumed for all GPUs : 0.001695 kWh. Total GPU Power : 48.80286975712229 W\n",
            "[codecarbon INFO @ 01:25:12] Energy consumed for all CPUs : 0.001417 kWh. Total CPU Power : 42.5 W\n",
            "[codecarbon INFO @ 01:25:12] 0.003271 kWh of electricity used since the beginning.\n",
            "[codecarbon INFO @ 01:25:12] 0.003779 g.CO2eq/s mean an estimation of 119.16112292953845 kg.CO2eq/year\n"
          ]
        },
        {
          "output_type": "stream",
          "name": "stdout",
          "text": [
            "Epoch [2/80], Train Loss: 1.1287, Train Acc: 61.80%, Val Loss: 1.3379, Val Acc: 62.26%\n"
          ]
        },
        {
          "output_type": "stream",
          "name": "stderr",
          "text": [
            "Epoch [3/80] - Training:  18%|█▊        | 56/313 [00:10<01:01,  4.15it/s][codecarbon INFO @ 01:25:27] Energy consumed for RAM : 0.000178 kWh. RAM Power : 4.7530388832092285 W\n",
            "[codecarbon INFO @ 01:25:27] Energy consumed for all GPUs : 0.001897 kWh. Total GPU Power : 48.32903499783744 W\n",
            "[codecarbon INFO @ 01:25:27] Energy consumed for all CPUs : 0.001595 kWh. Total CPU Power : 42.5 W\n",
            "[codecarbon INFO @ 01:25:27] 0.003670 kWh of electricity used since the beginning.\n",
            "Epoch [3/80] - Training:  47%|████▋     | 146/313 [00:25<00:38,  4.34it/s][codecarbon INFO @ 01:25:42] Energy consumed for RAM : 0.000198 kWh. RAM Power : 4.7530388832092285 W\n",
            "[codecarbon INFO @ 01:25:42] Energy consumed for all GPUs : 0.002128 kWh. Total GPU Power : 55.70756473136611 W\n",
            "[codecarbon INFO @ 01:25:42] Energy consumed for all CPUs : 0.001771 kWh. Total CPU Power : 42.5 W\n",
            "[codecarbon INFO @ 01:25:42] 0.004097 kWh of electricity used since the beginning.\n",
            "Epoch [3/80] - Training:  76%|███████▌  | 237/313 [00:40<00:17,  4.35it/s][codecarbon INFO @ 01:25:57] Energy consumed for RAM : 0.000218 kWh. RAM Power : 4.7530388832092285 W\n",
            "[codecarbon INFO @ 01:25:57] Energy consumed for all GPUs : 0.002355 kWh. Total GPU Power : 54.650786361896664 W\n",
            "[codecarbon INFO @ 01:25:57] Energy consumed for all CPUs : 0.001949 kWh. Total CPU Power : 42.5 W\n",
            "[codecarbon INFO @ 01:25:57] 0.004522 kWh of electricity used since the beginning.\n",
            "Epoch [3/80] - Training: 100%|██████████| 313/313 [00:51<00:00,  6.07it/s]\n",
            "/usr/local/lib/python3.10/dist-packages/torch/utils/data/dataloader.py:617: UserWarning: This DataLoader will create 4 worker processes in total. Our suggested max number of worker in current system is 2, which is smaller than what this DataLoader is going to create. Please be aware that excessive worker creation might get DataLoader running slow or even freeze, lower the worker number to avoid potential slowness/freeze if necessary.\n",
            "  warnings.warn(\n",
            "[codecarbon INFO @ 01:26:12] Energy consumed for RAM : 0.000237 kWh. RAM Power : 4.7530388832092285 W\n",
            "[codecarbon INFO @ 01:26:12] Energy consumed for all GPUs : 0.002576 kWh. Total GPU Power : 53.01334742048145 W\n",
            "[codecarbon INFO @ 01:26:12] Energy consumed for all CPUs : 0.002126 kWh. Total CPU Power : 42.5 W\n",
            "[codecarbon INFO @ 01:26:12] 0.004939 kWh of electricity used since the beginning.\n"
          ]
        },
        {
          "output_type": "stream",
          "name": "stdout",
          "text": [
            "Epoch [3/80], Train Loss: 1.0075, Train Acc: 65.91%, Val Loss: 0.8632, Val Acc: 70.53%\n"
          ]
        },
        {
          "output_type": "stream",
          "name": "stderr",
          "text": [
            "Epoch [4/80] - Training:  12%|█▏        | 39/313 [00:08<00:54,  5.04it/s][codecarbon INFO @ 01:26:27] Energy consumed for RAM : 0.000257 kWh. RAM Power : 4.7530388832092285 W\n",
            "[codecarbon INFO @ 01:26:27] Energy consumed for all GPUs : 0.002754 kWh. Total GPU Power : 42.79935460845958 W\n",
            "[codecarbon INFO @ 01:26:27] Energy consumed for all CPUs : 0.002303 kWh. Total CPU Power : 42.5 W\n",
            "[codecarbon INFO @ 01:26:27] 0.005314 kWh of electricity used since the beginning.\n",
            "Epoch [4/80] - Training:  41%|████      | 129/313 [00:23<00:30,  6.13it/s][codecarbon INFO @ 01:26:42] Energy consumed for RAM : 0.000277 kWh. RAM Power : 4.7530388832092285 W\n",
            "[codecarbon INFO @ 01:26:42] Energy consumed for all GPUs : 0.002985 kWh. Total GPU Power : 55.264604688211065 W\n",
            "[codecarbon INFO @ 01:26:42] Energy consumed for all CPUs : 0.002480 kWh. Total CPU Power : 42.5 W\n",
            "[codecarbon INFO @ 01:26:42] 0.005742 kWh of electricity used since the beginning.\n",
            "Epoch [4/80] - Training:  70%|██████▉   | 219/313 [00:38<00:15,  6.06it/s][codecarbon INFO @ 01:26:57] Energy consumed for RAM : 0.000297 kWh. RAM Power : 4.7530388832092285 W\n",
            "[codecarbon INFO @ 01:26:57] Energy consumed for all GPUs : 0.003220 kWh. Total GPU Power : 56.33583515127362 W\n",
            "[codecarbon INFO @ 01:26:57] Energy consumed for all CPUs : 0.002658 kWh. Total CPU Power : 42.5 W\n",
            "[codecarbon INFO @ 01:26:57] 0.006174 kWh of electricity used since the beginning.\n",
            "Epoch [4/80] - Training: 100%|██████████| 313/313 [00:53<00:00,  5.87it/s]\n",
            "/usr/local/lib/python3.10/dist-packages/torch/utils/data/dataloader.py:617: UserWarning: This DataLoader will create 4 worker processes in total. Our suggested max number of worker in current system is 2, which is smaller than what this DataLoader is going to create. Please be aware that excessive worker creation might get DataLoader running slow or even freeze, lower the worker number to avoid potential slowness/freeze if necessary.\n",
            "  warnings.warn(\n",
            "[codecarbon INFO @ 01:27:12] Energy consumed for RAM : 0.000317 kWh. RAM Power : 4.7530388832092285 W\n",
            "[codecarbon INFO @ 01:27:12] Energy consumed for all GPUs : 0.003452 kWh. Total GPU Power : 55.72119792302213 W\n",
            "[codecarbon INFO @ 01:27:12] Energy consumed for all CPUs : 0.002835 kWh. Total CPU Power : 42.5 W\n",
            "[codecarbon INFO @ 01:27:12] 0.006604 kWh of electricity used since the beginning.\n",
            "[codecarbon INFO @ 01:27:12] 0.003848 g.CO2eq/s mean an estimation of 121.34816948070844 kg.CO2eq/year\n"
          ]
        },
        {
          "output_type": "stream",
          "name": "stdout",
          "text": [
            "Epoch [4/80], Train Loss: 0.9478, Train Acc: 68.34%, Val Loss: 0.8524, Val Acc: 70.61%\n"
          ]
        },
        {
          "output_type": "stream",
          "name": "stderr",
          "text": [
            "Epoch [5/80] - Training:   7%|▋         | 23/313 [00:06<00:45,  6.44it/s][codecarbon INFO @ 01:27:27] Energy consumed for RAM : 0.000336 kWh. RAM Power : 4.7530388832092285 W\n",
            "[codecarbon INFO @ 01:27:27] Energy consumed for all GPUs : 0.003621 kWh. Total GPU Power : 40.55636116648439 W\n",
            "[codecarbon INFO @ 01:27:27] Energy consumed for all CPUs : 0.003012 kWh. Total CPU Power : 42.5 W\n",
            "[codecarbon INFO @ 01:27:27] 0.006969 kWh of electricity used since the beginning.\n",
            "Epoch [5/80] - Training:  36%|███▌      | 113/313 [00:20<00:32,  6.21it/s][codecarbon INFO @ 01:27:42] Energy consumed for RAM : 0.000356 kWh. RAM Power : 4.7530388832092285 W\n",
            "[codecarbon INFO @ 01:27:42] Energy consumed for all GPUs : 0.003848 kWh. Total GPU Power : 54.67914663885241 W\n",
            "[codecarbon INFO @ 01:27:42] Energy consumed for all CPUs : 0.003189 kWh. Total CPU Power : 42.5 W\n",
            "[codecarbon INFO @ 01:27:42] 0.007393 kWh of electricity used since the beginning.\n",
            "Epoch [5/80] - Training:  65%|██████▌   | 204/313 [00:35<00:16,  6.61it/s][codecarbon INFO @ 01:27:57] Energy consumed for RAM : 0.000376 kWh. RAM Power : 4.7530388832092285 W\n",
            "[codecarbon INFO @ 01:27:57] Energy consumed for all GPUs : 0.004079 kWh. Total GPU Power : 55.27337600914141 W\n",
            "[codecarbon INFO @ 01:27:57] Energy consumed for all CPUs : 0.003366 kWh. Total CPU Power : 42.5 W\n",
            "[codecarbon INFO @ 01:27:57] 0.007821 kWh of electricity used since the beginning.\n",
            "Epoch [5/80] - Training:  94%|█████████▍| 295/313 [00:50<00:02,  6.64it/s][codecarbon INFO @ 01:28:12] Energy consumed for RAM : 0.000396 kWh. RAM Power : 4.7530388832092285 W\n",
            "[codecarbon INFO @ 01:28:12] Energy consumed for all GPUs : 0.004306 kWh. Total GPU Power : 54.46503814095773 W\n",
            "[codecarbon INFO @ 01:28:12] Energy consumed for all CPUs : 0.003543 kWh. Total CPU Power : 42.5 W\n",
            "[codecarbon INFO @ 01:28:12] 0.008244 kWh of electricity used since the beginning.\n",
            "Epoch [5/80] - Training: 100%|██████████| 313/313 [00:53<00:00,  5.88it/s]\n",
            "/usr/local/lib/python3.10/dist-packages/torch/utils/data/dataloader.py:617: UserWarning: This DataLoader will create 4 worker processes in total. Our suggested max number of worker in current system is 2, which is smaller than what this DataLoader is going to create. Please be aware that excessive worker creation might get DataLoader running slow or even freeze, lower the worker number to avoid potential slowness/freeze if necessary.\n",
            "  warnings.warn(\n"
          ]
        },
        {
          "output_type": "stream",
          "name": "stdout",
          "text": [
            "Epoch [5/80], Train Loss: 0.8144, Train Acc: 72.13%, Val Loss: 0.7685, Val Acc: 73.38%\n"
          ]
        },
        {
          "output_type": "stream",
          "name": "stderr",
          "text": [
            "Epoch [6/80] - Training:   3%|▎         | 10/313 [00:02<00:48,  6.22it/s][codecarbon INFO @ 01:28:27] Energy consumed for RAM : 0.000416 kWh. RAM Power : 4.7530388832092285 W\n",
            "[codecarbon INFO @ 01:28:27] Energy consumed for all GPUs : 0.004483 kWh. Total GPU Power : 42.5227116175515 W\n",
            "[codecarbon INFO @ 01:28:27] Energy consumed for all CPUs : 0.003720 kWh. Total CPU Power : 42.5 W\n",
            "[codecarbon INFO @ 01:28:27] 0.008619 kWh of electricity used since the beginning.\n",
            "Epoch [6/80] - Training:  32%|███▏      | 100/313 [00:17<00:31,  6.86it/s][codecarbon INFO @ 01:28:42] Energy consumed for RAM : 0.000435 kWh. RAM Power : 4.7530388832092285 W\n",
            "[codecarbon INFO @ 01:28:42] Energy consumed for all GPUs : 0.004712 kWh. Total GPU Power : 54.92529352633517 W\n",
            "[codecarbon INFO @ 01:28:42] Energy consumed for all CPUs : 0.003897 kWh. Total CPU Power : 42.5 W\n",
            "[codecarbon INFO @ 01:28:43] 0.009044 kWh of electricity used since the beginning.\n",
            "Epoch [6/80] - Training:  61%|██████    | 190/313 [00:32<00:18,  6.82it/s][codecarbon INFO @ 01:28:57] Energy consumed for RAM : 0.000455 kWh. RAM Power : 4.7530388832092285 W\n",
            "[codecarbon INFO @ 01:28:57] Energy consumed for all GPUs : 0.004943 kWh. Total GPU Power : 55.51032806971453 W\n",
            "[codecarbon INFO @ 01:28:57] Energy consumed for all CPUs : 0.004074 kWh. Total CPU Power : 42.5 W\n",
            "[codecarbon INFO @ 01:28:57] 0.009472 kWh of electricity used since the beginning.\n",
            "Epoch [6/80] - Training:  90%|█████████ | 282/313 [00:47<00:04,  7.37it/s][codecarbon INFO @ 01:29:13] Energy consumed for RAM : 0.000475 kWh. RAM Power : 4.7530388832092285 W\n",
            "[codecarbon INFO @ 01:29:13] Energy consumed for all GPUs : 0.005175 kWh. Total GPU Power : 55.68499442422636 W\n",
            "[codecarbon INFO @ 01:29:13] Energy consumed for all CPUs : 0.004252 kWh. Total CPU Power : 42.5 W\n",
            "[codecarbon INFO @ 01:29:13] 0.009901 kWh of electricity used since the beginning.\n",
            "[codecarbon INFO @ 01:29:13] 0.003811 g.CO2eq/s mean an estimation of 120.19637060720332 kg.CO2eq/year\n",
            "Epoch [6/80] - Training: 100%|██████████| 313/313 [00:51<00:00,  6.09it/s]\n",
            "/usr/local/lib/python3.10/dist-packages/torch/utils/data/dataloader.py:617: UserWarning: This DataLoader will create 4 worker processes in total. Our suggested max number of worker in current system is 2, which is smaller than what this DataLoader is going to create. Please be aware that excessive worker creation might get DataLoader running slow or even freeze, lower the worker number to avoid potential slowness/freeze if necessary.\n",
            "  warnings.warn(\n"
          ]
        },
        {
          "output_type": "stream",
          "name": "stdout",
          "text": [
            "Epoch [6/80], Train Loss: 0.7945, Train Acc: 72.92%, Val Loss: 0.7850, Val Acc: 73.10%\n"
          ]
        },
        {
          "output_type": "stream",
          "name": "stderr",
          "text": [
            "\rEpoch [7/80] - Training:   0%|          | 0/313 [00:00<?, ?it/s][codecarbon INFO @ 01:29:28] Energy consumed for RAM : 0.000495 kWh. RAM Power : 4.7530388832092285 W\n",
            "[codecarbon INFO @ 01:29:28] Energy consumed for all GPUs : 0.005359 kWh. Total GPU Power : 44.167001431865565 W\n",
            "[codecarbon INFO @ 01:29:28] Energy consumed for all CPUs : 0.004429 kWh. Total CPU Power : 42.5 W\n",
            "[codecarbon INFO @ 01:29:28] 0.010283 kWh of electricity used since the beginning.\n",
            "Epoch [7/80] - Training:  27%|██▋       | 86/313 [00:15<00:33,  6.68it/s][codecarbon INFO @ 01:29:43] Energy consumed for RAM : 0.000515 kWh. RAM Power : 4.7530388832092285 W\n",
            "[codecarbon INFO @ 01:29:43] Energy consumed for all GPUs : 0.005579 kWh. Total GPU Power : 52.76317614385036 W\n",
            "[codecarbon INFO @ 01:29:43] Energy consumed for all CPUs : 0.004606 kWh. Total CPU Power : 42.5 W\n",
            "[codecarbon INFO @ 01:29:43] 0.010700 kWh of electricity used since the beginning.\n",
            "Epoch [7/80] - Training:  56%|█████▌    | 174/313 [00:30<00:20,  6.79it/s][codecarbon INFO @ 01:29:58] Energy consumed for RAM : 0.000534 kWh. RAM Power : 4.7530388832092285 W\n",
            "[codecarbon INFO @ 01:29:58] Energy consumed for all GPUs : 0.005807 kWh. Total GPU Power : 54.73903324077716 W\n",
            "[codecarbon INFO @ 01:29:58] Energy consumed for all CPUs : 0.004784 kWh. Total CPU Power : 42.5 W\n",
            "[codecarbon INFO @ 01:29:58] 0.011125 kWh of electricity used since the beginning.\n",
            "Epoch [7/80] - Training:  84%|████████▍ | 263/313 [00:45<00:07,  6.81it/s][codecarbon INFO @ 01:30:13] Energy consumed for RAM : 0.000554 kWh. RAM Power : 4.7530388832092285 W\n",
            "[codecarbon INFO @ 01:30:13] Energy consumed for all GPUs : 0.006033 kWh. Total GPU Power : 54.30952355541413 W\n",
            "[codecarbon INFO @ 01:30:13] Energy consumed for all CPUs : 0.004960 kWh. Total CPU Power : 42.5 W\n",
            "[codecarbon INFO @ 01:30:13] 0.011548 kWh of electricity used since the beginning.\n",
            "Epoch [7/80] - Training: 100%|██████████| 313/313 [00:52<00:00,  5.99it/s]\n",
            "/usr/local/lib/python3.10/dist-packages/torch/utils/data/dataloader.py:617: UserWarning: This DataLoader will create 4 worker processes in total. Our suggested max number of worker in current system is 2, which is smaller than what this DataLoader is going to create. Please be aware that excessive worker creation might get DataLoader running slow or even freeze, lower the worker number to avoid potential slowness/freeze if necessary.\n",
            "  warnings.warn(\n",
            "[codecarbon INFO @ 01:30:28] Energy consumed for RAM : 0.000574 kWh. RAM Power : 4.7530388832092285 W\n",
            "[codecarbon INFO @ 01:30:28] Energy consumed for all GPUs : 0.006234 kWh. Total GPU Power : 48.18898603081047 W\n",
            "[codecarbon INFO @ 01:30:28] Energy consumed for all CPUs : 0.005138 kWh. Total CPU Power : 42.5 W\n",
            "[codecarbon INFO @ 01:30:28] 0.011946 kWh of electricity used since the beginning.\n"
          ]
        },
        {
          "output_type": "stream",
          "name": "stdout",
          "text": [
            "Epoch [7/80], Train Loss: 0.7627, Train Acc: 73.94%, Val Loss: 0.8039, Val Acc: 73.06%\n"
          ]
        },
        {
          "output_type": "stream",
          "name": "stderr",
          "text": [
            "Epoch [8/80] - Training:  20%|██        | 63/313 [00:12<00:34,  7.29it/s][codecarbon INFO @ 01:30:43] Energy consumed for RAM : 0.000594 kWh. RAM Power : 4.7530388832092285 W\n",
            "[codecarbon INFO @ 01:30:43] Energy consumed for all GPUs : 0.006431 kWh. Total GPU Power : 47.32976420312806 W\n",
            "[codecarbon INFO @ 01:30:43] Energy consumed for all CPUs : 0.005315 kWh. Total CPU Power : 42.5 W\n",
            "[codecarbon INFO @ 01:30:43] 0.012340 kWh of electricity used since the beginning.\n",
            "Epoch [8/80] - Training:  49%|████▉     | 154/313 [00:27<00:22,  6.92it/s][codecarbon INFO @ 01:30:58] Energy consumed for RAM : 0.000614 kWh. RAM Power : 4.7530388832092285 W\n",
            "[codecarbon INFO @ 01:30:58] Energy consumed for all GPUs : 0.006661 kWh. Total GPU Power : 55.11352974818235 W\n",
            "[codecarbon INFO @ 01:30:58] Energy consumed for all CPUs : 0.005492 kWh. Total CPU Power : 42.5 W\n",
            "[codecarbon INFO @ 01:30:58] 0.012766 kWh of electricity used since the beginning.\n",
            "Epoch [8/80] - Training:  78%|███████▊  | 244/313 [00:42<00:10,  6.88it/s][codecarbon INFO @ 01:31:13] Energy consumed for RAM : 0.000633 kWh. RAM Power : 4.7530388832092285 W\n",
            "[codecarbon INFO @ 01:31:13] Energy consumed for all GPUs : 0.006890 kWh. Total GPU Power : 55.12699362265698 W\n",
            "[codecarbon INFO @ 01:31:13] Energy consumed for all CPUs : 0.005669 kWh. Total CPU Power : 42.5 W\n",
            "[codecarbon INFO @ 01:31:13] 0.013193 kWh of electricity used since the beginning.\n",
            "[codecarbon INFO @ 01:31:13] 0.003802 g.CO2eq/s mean an estimation of 119.90352331988281 kg.CO2eq/year\n",
            "Epoch [8/80] - Training: 100%|██████████| 313/313 [00:53<00:00,  5.86it/s]\n",
            "/usr/local/lib/python3.10/dist-packages/torch/utils/data/dataloader.py:617: UserWarning: This DataLoader will create 4 worker processes in total. Our suggested max number of worker in current system is 2, which is smaller than what this DataLoader is going to create. Please be aware that excessive worker creation might get DataLoader running slow or even freeze, lower the worker number to avoid potential slowness/freeze if necessary.\n",
            "  warnings.warn(\n",
            "[codecarbon INFO @ 01:31:28] Energy consumed for RAM : 0.000653 kWh. RAM Power : 4.7530388832092285 W\n",
            "[codecarbon INFO @ 01:31:28] Energy consumed for all GPUs : 0.007109 kWh. Total GPU Power : 52.269181298823554 W\n",
            "[codecarbon INFO @ 01:31:28] Energy consumed for all CPUs : 0.005847 kWh. Total CPU Power : 42.5 W\n",
            "[codecarbon INFO @ 01:31:28] 0.013609 kWh of electricity used since the beginning.\n"
          ]
        },
        {
          "output_type": "stream",
          "name": "stdout",
          "text": [
            "Epoch [8/80], Train Loss: 0.7561, Train Acc: 74.51%, Val Loss: 0.7345, Val Acc: 74.67%\n"
          ]
        },
        {
          "output_type": "stream",
          "name": "stderr",
          "text": [
            "Epoch [9/80] - Training:  14%|█▍        | 45/313 [00:09<00:39,  6.78it/s][codecarbon INFO @ 01:31:43] Energy consumed for RAM : 0.000673 kWh. RAM Power : 4.7530388832092285 W\n",
            "Epoch [9/80] - Training:  15%|█▍        | 46/313 [00:09<00:40,  6.51it/s][codecarbon INFO @ 01:31:43] Energy consumed for all GPUs : 0.007285 kWh. Total GPU Power : 42.31149273212766 W\n",
            "[codecarbon INFO @ 01:31:43] Energy consumed for all CPUs : 0.006024 kWh. Total CPU Power : 42.5 W\n",
            "[codecarbon INFO @ 01:31:43] 0.013982 kWh of electricity used since the beginning.\n",
            "Epoch [9/80] - Training:  43%|████▎     | 135/313 [00:24<00:26,  6.82it/s][codecarbon INFO @ 01:31:58] Energy consumed for RAM : 0.000693 kWh. RAM Power : 4.7530388832092285 W\n",
            "[codecarbon INFO @ 01:31:58] Energy consumed for all GPUs : 0.007508 kWh. Total GPU Power : 53.639664254394425 W\n",
            "[codecarbon INFO @ 01:31:58] Energy consumed for all CPUs : 0.006201 kWh. Total CPU Power : 42.5 W\n",
            "[codecarbon INFO @ 01:31:58] 0.014401 kWh of electricity used since the beginning.\n",
            "Epoch [9/80] - Training:  72%|███████▏  | 225/313 [00:39<00:12,  7.01it/s][codecarbon INFO @ 01:32:13] Energy consumed for RAM : 0.000712 kWh. RAM Power : 4.7530388832092285 W\n",
            "[codecarbon INFO @ 01:32:13] Energy consumed for all GPUs : 0.007739 kWh. Total GPU Power : 55.60037762939052 W\n",
            "[codecarbon INFO @ 01:32:13] Energy consumed for all CPUs : 0.006378 kWh. Total CPU Power : 42.5 W\n",
            "[codecarbon INFO @ 01:32:13] 0.014829 kWh of electricity used since the beginning.\n",
            "Epoch [9/80] - Training: 100%|██████████| 313/313 [00:54<00:00,  5.79it/s]\n",
            "/usr/local/lib/python3.10/dist-packages/torch/utils/data/dataloader.py:617: UserWarning: This DataLoader will create 4 worker processes in total. Our suggested max number of worker in current system is 2, which is smaller than what this DataLoader is going to create. Please be aware that excessive worker creation might get DataLoader running slow or even freeze, lower the worker number to avoid potential slowness/freeze if necessary.\n",
            "  warnings.warn(\n",
            "[codecarbon INFO @ 01:32:28] Energy consumed for RAM : 0.000732 kWh. RAM Power : 4.7530388832092285 W\n",
            "[codecarbon INFO @ 01:32:28] Energy consumed for all GPUs : 0.007968 kWh. Total GPU Power : 54.956130105854946 W\n",
            "[codecarbon INFO @ 01:32:28] Energy consumed for all CPUs : 0.006555 kWh. Total CPU Power : 42.5 W\n",
            "[codecarbon INFO @ 01:32:28] 0.015256 kWh of electricity used since the beginning.\n"
          ]
        },
        {
          "output_type": "stream",
          "name": "stdout",
          "text": [
            "Epoch [9/80], Train Loss: 0.6979, Train Acc: 76.19%, Val Loss: 0.7145, Val Acc: 75.28%\n"
          ]
        },
        {
          "output_type": "stream",
          "name": "stderr",
          "text": [
            "Epoch [10/80] - Training:   8%|▊         | 25/313 [00:04<00:44,  6.52it/s][codecarbon INFO @ 01:32:43] Energy consumed for RAM : 0.000752 kWh. RAM Power : 4.7530388832092285 W\n",
            "[codecarbon INFO @ 01:32:43] Energy consumed for all GPUs : 0.008141 kWh. Total GPU Power : 41.452450256209886 W\n",
            "[codecarbon INFO @ 01:32:43] Energy consumed for all CPUs : 0.006732 kWh. Total CPU Power : 42.5 W\n",
            "[codecarbon INFO @ 01:32:43] 0.015626 kWh of electricity used since the beginning.\n",
            "Epoch [10/80] - Training:  37%|███▋      | 115/313 [00:19<00:27,  7.10it/s][codecarbon INFO @ 01:32:58] Energy consumed for RAM : 0.000772 kWh. RAM Power : 4.7530388832092285 W\n",
            "[codecarbon INFO @ 01:32:58] Energy consumed for all GPUs : 0.008366 kWh. Total GPU Power : 53.84487775041982 W\n",
            "[codecarbon INFO @ 01:32:58] Energy consumed for all CPUs : 0.006910 kWh. Total CPU Power : 42.5 W\n",
            "[codecarbon INFO @ 01:32:58] 0.016048 kWh of electricity used since the beginning.\n",
            "Epoch [10/80] - Training:  65%|██████▍   | 203/313 [00:34<00:16,  6.67it/s][codecarbon INFO @ 01:33:13] Energy consumed for RAM : 0.000792 kWh. RAM Power : 4.7530388832092285 W\n",
            "[codecarbon INFO @ 01:33:13] Energy consumed for all GPUs : 0.008592 kWh. Total GPU Power : 54.21724654463739 W\n",
            "[codecarbon INFO @ 01:33:13] Energy consumed for all CPUs : 0.007088 kWh. Total CPU Power : 42.5 W\n",
            "[codecarbon INFO @ 01:33:13] 0.016472 kWh of electricity used since the beginning.\n",
            "[codecarbon INFO @ 01:33:13] 0.003784 g.CO2eq/s mean an estimation of 119.34632647459586 kg.CO2eq/year\n",
            "Epoch [10/80] - Training:  94%|█████████▎| 293/313 [00:49<00:03,  6.51it/s][codecarbon INFO @ 01:33:28] Energy consumed for RAM : 0.000811 kWh. RAM Power : 4.7530388832092285 W\n",
            "[codecarbon INFO @ 01:33:28] Energy consumed for all GPUs : 0.008821 kWh. Total GPU Power : 55.02558011832542 W\n",
            "[codecarbon INFO @ 01:33:28] Energy consumed for all CPUs : 0.007264 kWh. Total CPU Power : 42.5 W\n",
            "[codecarbon INFO @ 01:33:28] 0.016897 kWh of electricity used since the beginning.\n",
            "Epoch [10/80] - Training: 100%|██████████| 313/313 [00:52<00:00,  5.99it/s]\n",
            "/usr/local/lib/python3.10/dist-packages/torch/utils/data/dataloader.py:617: UserWarning: This DataLoader will create 4 worker processes in total. Our suggested max number of worker in current system is 2, which is smaller than what this DataLoader is going to create. Please be aware that excessive worker creation might get DataLoader running slow or even freeze, lower the worker number to avoid potential slowness/freeze if necessary.\n",
            "  warnings.warn(\n"
          ]
        },
        {
          "output_type": "stream",
          "name": "stdout",
          "text": [
            "Epoch [10/80], Train Loss: 0.7009, Train Acc: 76.14%, Val Loss: 0.7642, Val Acc: 74.10%\n"
          ]
        },
        {
          "output_type": "stream",
          "name": "stderr",
          "text": [
            "Epoch [11/80] - Training:   2%|▏         | 7/313 [00:01<01:02,  4.87it/s][codecarbon INFO @ 01:33:43] Energy consumed for RAM : 0.000831 kWh. RAM Power : 4.7530388832092285 W\n",
            "[codecarbon INFO @ 01:33:43] Energy consumed for all GPUs : 0.008995 kWh. Total GPU Power : 41.84458019878304 W\n",
            "[codecarbon INFO @ 01:33:43] Energy consumed for all CPUs : 0.007442 kWh. Total CPU Power : 42.5 W\n",
            "[codecarbon INFO @ 01:33:43] 0.017268 kWh of electricity used since the beginning.\n",
            "Epoch [11/80] - Training:  32%|███▏      | 99/313 [00:16<00:30,  7.07it/s][codecarbon INFO @ 01:33:58] Energy consumed for RAM : 0.000851 kWh. RAM Power : 4.7530388832092285 W\n",
            "[codecarbon INFO @ 01:33:58] Energy consumed for all GPUs : 0.009219 kWh. Total GPU Power : 53.6390859394046 W\n",
            "[codecarbon INFO @ 01:33:58] Energy consumed for all CPUs : 0.007618 kWh. Total CPU Power : 42.5 W\n",
            "[codecarbon INFO @ 01:33:58] 0.017688 kWh of electricity used since the beginning.\n",
            "Epoch [11/80] - Training:  61%|██████    | 191/313 [00:31<00:17,  6.94it/s][codecarbon INFO @ 01:34:13] Energy consumed for RAM : 0.000871 kWh. RAM Power : 4.7530388832092285 W\n",
            "[codecarbon INFO @ 01:34:13] Energy consumed for all GPUs : 0.009448 kWh. Total GPU Power : 55.07277021708046 W\n",
            "[codecarbon INFO @ 01:34:13] Energy consumed for all CPUs : 0.007796 kWh. Total CPU Power : 42.5 W\n",
            "[codecarbon INFO @ 01:34:13] 0.018115 kWh of electricity used since the beginning.\n",
            "Epoch [11/80] - Training:  91%|█████████▏| 286/313 [00:46<00:03,  7.12it/s][codecarbon INFO @ 01:34:28] Energy consumed for RAM : 0.000891 kWh. RAM Power : 4.7530388832092285 W\n",
            "[codecarbon INFO @ 01:34:28] Energy consumed for all GPUs : 0.009679 kWh. Total GPU Power : 55.418172780364515 W\n",
            "[codecarbon INFO @ 01:34:28] Energy consumed for all CPUs : 0.007973 kWh. Total CPU Power : 42.5 W\n",
            "[codecarbon INFO @ 01:34:28] 0.018542 kWh of electricity used since the beginning.\n",
            "Epoch [11/80] - Training: 100%|██████████| 313/313 [00:50<00:00,  6.23it/s]\n",
            "/usr/local/lib/python3.10/dist-packages/torch/utils/data/dataloader.py:617: UserWarning: This DataLoader will create 4 worker processes in total. Our suggested max number of worker in current system is 2, which is smaller than what this DataLoader is going to create. Please be aware that excessive worker creation might get DataLoader running slow or even freeze, lower the worker number to avoid potential slowness/freeze if necessary.\n",
            "  warnings.warn(\n"
          ]
        },
        {
          "output_type": "stream",
          "name": "stdout",
          "text": [
            "Epoch [11/80], Train Loss: 0.6862, Train Acc: 76.83%, Val Loss: 0.8005, Val Acc: 72.89%\n"
          ]
        },
        {
          "output_type": "stream",
          "name": "stderr",
          "text": [
            "Epoch [12/80] - Training:   1%|          | 2/313 [00:00<02:15,  2.30it/s][codecarbon INFO @ 01:34:43] Energy consumed for RAM : 0.000910 kWh. RAM Power : 4.7530388832092285 W\n",
            "[codecarbon INFO @ 01:34:43] Energy consumed for all GPUs : 0.009859 kWh. Total GPU Power : 43.13084502337169 W\n",
            "[codecarbon INFO @ 01:34:43] Energy consumed for all CPUs : 0.008150 kWh. Total CPU Power : 42.5 W\n",
            "[codecarbon INFO @ 01:34:43] 0.018919 kWh of electricity used since the beginning.\n",
            "Epoch [12/80] - Training:  29%|██▉       | 90/313 [00:15<00:33,  6.71it/s][codecarbon INFO @ 01:34:58] Energy consumed for RAM : 0.000930 kWh. RAM Power : 4.7530388832092285 W\n",
            "[codecarbon INFO @ 01:34:58] Energy consumed for all GPUs : 0.010081 kWh. Total GPU Power : 53.437697290590854 W\n",
            "[codecarbon INFO @ 01:34:58] Energy consumed for all CPUs : 0.008327 kWh. Total CPU Power : 42.5 W\n",
            "[codecarbon INFO @ 01:34:58] 0.019339 kWh of electricity used since the beginning.\n",
            "Epoch [12/80] - Training:  57%|█████▋    | 179/313 [00:31<00:18,  7.10it/s][codecarbon INFO @ 01:35:13] Energy consumed for RAM : 0.000950 kWh. RAM Power : 4.7530388832092285 W\n",
            "[codecarbon INFO @ 01:35:13] Energy consumed for all GPUs : 0.010307 kWh. Total GPU Power : 54.10460716956987 W\n",
            "[codecarbon INFO @ 01:35:13] Energy consumed for all CPUs : 0.008504 kWh. Total CPU Power : 42.5 W\n",
            "[codecarbon INFO @ 01:35:13] 0.019762 kWh of electricity used since the beginning.\n",
            "[codecarbon INFO @ 01:35:13] 0.003802 g.CO2eq/s mean an estimation of 119.88802412894401 kg.CO2eq/year\n",
            "Epoch [12/80] - Training:  86%|████████▌ | 269/313 [00:46<00:06,  6.98it/s][codecarbon INFO @ 01:35:28] Energy consumed for RAM : 0.000970 kWh. RAM Power : 4.7530388832092285 W\n",
            "[codecarbon INFO @ 01:35:28] Energy consumed for all GPUs : 0.010537 kWh. Total GPU Power : 55.09120182167232 W\n",
            "[codecarbon INFO @ 01:35:28] Energy consumed for all CPUs : 0.008682 kWh. Total CPU Power : 42.5 W\n",
            "[codecarbon INFO @ 01:35:28] 0.020188 kWh of electricity used since the beginning.\n",
            "Epoch [12/80] - Training: 100%|██████████| 313/313 [00:53<00:00,  5.81it/s]\n",
            "/usr/local/lib/python3.10/dist-packages/torch/utils/data/dataloader.py:617: UserWarning: This DataLoader will create 4 worker processes in total. Our suggested max number of worker in current system is 2, which is smaller than what this DataLoader is going to create. Please be aware that excessive worker creation might get DataLoader running slow or even freeze, lower the worker number to avoid potential slowness/freeze if necessary.\n",
            "  warnings.warn(\n",
            "[codecarbon INFO @ 01:35:43] Energy consumed for RAM : 0.000990 kWh. RAM Power : 4.7530388832092285 W\n",
            "[codecarbon INFO @ 01:35:43] Energy consumed for all GPUs : 0.010726 kWh. Total GPU Power : 45.43604370790056 W\n",
            "[codecarbon INFO @ 01:35:43] Energy consumed for all CPUs : 0.008859 kWh. Total CPU Power : 42.5 W\n",
            "[codecarbon INFO @ 01:35:43] 0.020575 kWh of electricity used since the beginning.\n"
          ]
        },
        {
          "output_type": "stream",
          "name": "stdout",
          "text": [
            "Epoch [12/80], Train Loss: 0.6810, Train Acc: 76.98%, Val Loss: 0.6875, Val Acc: 76.88%\n"
          ]
        },
        {
          "output_type": "stream",
          "name": "stderr",
          "text": [
            "Epoch [13/80] - Training:  22%|██▏       | 70/313 [00:13<00:36,  6.68it/s][codecarbon INFO @ 01:35:58] Energy consumed for RAM : 0.001009 kWh. RAM Power : 4.7530388832092285 W\n",
            "[codecarbon INFO @ 01:35:58] Energy consumed for all GPUs : 0.010925 kWh. Total GPU Power : 47.69368300951959 W\n",
            "[codecarbon INFO @ 01:35:58] Energy consumed for all CPUs : 0.009036 kWh. Total CPU Power : 42.5 W\n",
            "[codecarbon INFO @ 01:35:58] 0.020970 kWh of electricity used since the beginning.\n",
            "Epoch [13/80] - Training:  51%|█████     | 159/313 [00:27<00:21,  7.02it/s][codecarbon INFO @ 01:36:13] Energy consumed for RAM : 0.001029 kWh. RAM Power : 4.7530388832092285 W\n",
            "[codecarbon INFO @ 01:36:13] Energy consumed for all GPUs : 0.011152 kWh. Total GPU Power : 54.62316404391203 W\n",
            "[codecarbon INFO @ 01:36:13] Energy consumed for all CPUs : 0.009213 kWh. Total CPU Power : 42.5 W\n",
            "[codecarbon INFO @ 01:36:13] 0.021395 kWh of electricity used since the beginning.\n",
            "Epoch [13/80] - Training:  80%|███████▉  | 249/313 [00:42<00:09,  6.77it/s][codecarbon INFO @ 01:36:28] Energy consumed for RAM : 0.001049 kWh. RAM Power : 4.7530388832092285 W\n",
            "[codecarbon INFO @ 01:36:28] Energy consumed for all GPUs : 0.011384 kWh. Total GPU Power : 55.488518107010776 W\n",
            "[codecarbon INFO @ 01:36:28] Energy consumed for all CPUs : 0.009391 kWh. Total CPU Power : 42.5 W\n",
            "[codecarbon INFO @ 01:36:28] 0.021823 kWh of electricity used since the beginning.\n",
            "Epoch [13/80] - Training: 100%|██████████| 313/313 [00:53<00:00,  5.84it/s]\n",
            "/usr/local/lib/python3.10/dist-packages/torch/utils/data/dataloader.py:617: UserWarning: This DataLoader will create 4 worker processes in total. Our suggested max number of worker in current system is 2, which is smaller than what this DataLoader is going to create. Please be aware that excessive worker creation might get DataLoader running slow or even freeze, lower the worker number to avoid potential slowness/freeze if necessary.\n",
            "  warnings.warn(\n",
            "[codecarbon INFO @ 01:36:43] Energy consumed for RAM : 0.001069 kWh. RAM Power : 4.7530388832092285 W\n",
            "[codecarbon INFO @ 01:36:43] Energy consumed for all GPUs : 0.011592 kWh. Total GPU Power : 50.09296091336536 W\n",
            "[codecarbon INFO @ 01:36:43] Energy consumed for all CPUs : 0.009568 kWh. Total CPU Power : 42.5 W\n",
            "[codecarbon INFO @ 01:36:43] 0.022229 kWh of electricity used since the beginning.\n"
          ]
        },
        {
          "output_type": "stream",
          "name": "stdout",
          "text": [
            "Epoch [13/80], Train Loss: 0.6580, Train Acc: 77.85%, Val Loss: 0.6597, Val Acc: 77.18%\n"
          ]
        },
        {
          "output_type": "stream",
          "name": "stderr",
          "text": [
            "Epoch [14/80] - Training:  16%|█▋        | 51/313 [00:08<00:38,  6.75it/s][codecarbon INFO @ 01:36:58] Energy consumed for RAM : 0.001089 kWh. RAM Power : 4.7530388832092285 W\n",
            "[codecarbon INFO @ 01:36:58] Energy consumed for all GPUs : 0.011786 kWh. Total GPU Power : 46.366586704737216 W\n",
            "[codecarbon INFO @ 01:36:58] Energy consumed for all CPUs : 0.009745 kWh. Total CPU Power : 42.5 W\n",
            "[codecarbon INFO @ 01:36:58] 0.022619 kWh of electricity used since the beginning.\n",
            "Epoch [14/80] - Training:  46%|████▋     | 145/313 [00:23<00:22,  7.35it/s][codecarbon INFO @ 01:37:13] Energy consumed for RAM : 0.001108 kWh. RAM Power : 4.7530388832092285 W\n",
            "[codecarbon INFO @ 01:37:13] Energy consumed for all GPUs : 0.012017 kWh. Total GPU Power : 55.50087070395553 W\n",
            "[codecarbon INFO @ 01:37:13] Energy consumed for all CPUs : 0.009922 kWh. Total CPU Power : 42.5 W\n",
            "[codecarbon INFO @ 01:37:13] 0.023047 kWh of electricity used since the beginning.\n",
            "[codecarbon INFO @ 01:37:13] 0.003795 g.CO2eq/s mean an estimation of 119.68450295091723 kg.CO2eq/year\n",
            "Epoch [14/80] - Training:  77%|███████▋  | 241/313 [00:38<00:09,  7.69it/s][codecarbon INFO @ 01:37:28] Energy consumed for RAM : 0.001128 kWh. RAM Power : 4.7530388832092285 W\n",
            "[codecarbon INFO @ 01:37:28] Energy consumed for all GPUs : 0.012256 kWh. Total GPU Power : 57.51454332673444 W\n",
            "[codecarbon INFO @ 01:37:28] Energy consumed for all CPUs : 0.010099 kWh. Total CPU Power : 42.5 W\n",
            "[codecarbon INFO @ 01:37:28] 0.023484 kWh of electricity used since the beginning.\n",
            "Epoch [14/80] - Training: 100%|██████████| 313/313 [00:49<00:00,  6.27it/s]\n",
            "/usr/local/lib/python3.10/dist-packages/torch/utils/data/dataloader.py:617: UserWarning: This DataLoader will create 4 worker processes in total. Our suggested max number of worker in current system is 2, which is smaller than what this DataLoader is going to create. Please be aware that excessive worker creation might get DataLoader running slow or even freeze, lower the worker number to avoid potential slowness/freeze if necessary.\n",
            "  warnings.warn(\n",
            "[codecarbon INFO @ 01:37:43] Energy consumed for RAM : 0.001148 kWh. RAM Power : 4.7530388832092285 W\n",
            "[codecarbon INFO @ 01:37:43] Energy consumed for all GPUs : 0.012472 kWh. Total GPU Power : 51.82772788184383 W\n",
            "[codecarbon INFO @ 01:37:43] Energy consumed for all CPUs : 0.010276 kWh. Total CPU Power : 42.5 W\n",
            "[codecarbon INFO @ 01:37:43] 0.023897 kWh of electricity used since the beginning.\n"
          ]
        },
        {
          "output_type": "stream",
          "name": "stdout",
          "text": [
            "Epoch [14/80], Train Loss: 0.6453, Train Acc: 78.30%, Val Loss: 0.6665, Val Acc: 77.32%\n"
          ]
        },
        {
          "output_type": "stream",
          "name": "stderr",
          "text": [
            "Epoch [15/80] - Training:  11%|█         | 34/313 [00:06<00:53,  5.18it/s][codecarbon INFO @ 01:37:58] Energy consumed for RAM : 0.001168 kWh. RAM Power : 4.7530388832092285 W\n",
            "[codecarbon INFO @ 01:37:58] Energy consumed for all GPUs : 0.012645 kWh. Total GPU Power : 41.248657468168304 W\n",
            "[codecarbon INFO @ 01:37:58] Energy consumed for all CPUs : 0.010454 kWh. Total CPU Power : 42.5 W\n",
            "[codecarbon INFO @ 01:37:58] 0.024267 kWh of electricity used since the beginning.\n",
            "Epoch [15/80] - Training:  39%|███▉      | 123/313 [00:21<00:37,  5.01it/s][codecarbon INFO @ 01:38:13] Energy consumed for RAM : 0.001188 kWh. RAM Power : 4.7530388832092285 W\n",
            "[codecarbon INFO @ 01:38:13] Energy consumed for all GPUs : 0.012865 kWh. Total GPU Power : 53.152370211672455 W\n",
            "[codecarbon INFO @ 01:38:13] Energy consumed for all CPUs : 0.010631 kWh. Total CPU Power : 42.5 W\n",
            "[codecarbon INFO @ 01:38:13] 0.024684 kWh of electricity used since the beginning.\n",
            "Epoch [15/80] - Training:  69%|██████▊   | 215/313 [00:36<00:19,  5.05it/s][codecarbon INFO @ 01:38:28] Energy consumed for RAM : 0.001207 kWh. RAM Power : 4.7530388832092285 W\n",
            "[codecarbon INFO @ 01:38:28] Energy consumed for all GPUs : 0.013094 kWh. Total GPU Power : 54.7675270853228 W\n",
            "[codecarbon INFO @ 01:38:28] Energy consumed for all CPUs : 0.010808 kWh. Total CPU Power : 42.5 W\n",
            "[codecarbon INFO @ 01:38:28] 0.025109 kWh of electricity used since the beginning.\n",
            "Epoch [15/80] - Training:  98%|█████████▊| 306/313 [00:51<00:01,  5.50it/s][codecarbon INFO @ 01:38:43] Energy consumed for RAM : 0.001227 kWh. RAM Power : 4.7530388832092285 W\n",
            "[codecarbon INFO @ 01:38:43] Energy consumed for all GPUs : 0.013324 kWh. Total GPU Power : 55.194589591429 W\n",
            "[codecarbon INFO @ 01:38:43] Energy consumed for all CPUs : 0.010985 kWh. Total CPU Power : 42.5 W\n",
            "[codecarbon INFO @ 01:38:43] 0.025536 kWh of electricity used since the beginning.\n",
            "Epoch [15/80] - Training: 100%|██████████| 313/313 [00:52<00:00,  5.91it/s]\n",
            "/usr/local/lib/python3.10/dist-packages/torch/utils/data/dataloader.py:617: UserWarning: This DataLoader will create 4 worker processes in total. Our suggested max number of worker in current system is 2, which is smaller than what this DataLoader is going to create. Please be aware that excessive worker creation might get DataLoader running slow or even freeze, lower the worker number to avoid potential slowness/freeze if necessary.\n",
            "  warnings.warn(\n"
          ]
        },
        {
          "output_type": "stream",
          "name": "stdout",
          "text": [
            "Epoch [15/80], Train Loss: 0.6246, Train Acc: 78.81%, Val Loss: 0.6393, Val Acc: 78.32%\n"
          ]
        },
        {
          "output_type": "stream",
          "name": "stderr",
          "text": [
            "Epoch [16/80] - Training:   6%|▌         | 18/313 [00:04<01:07,  4.38it/s][codecarbon INFO @ 01:38:58] Energy consumed for RAM : 0.001247 kWh. RAM Power : 4.7530388832092285 W\n",
            "[codecarbon INFO @ 01:38:58] Energy consumed for all GPUs : 0.013500 kWh. Total GPU Power : 42.18191260708424 W\n",
            "[codecarbon INFO @ 01:38:58] Energy consumed for all CPUs : 0.011163 kWh. Total CPU Power : 42.5 W\n",
            "[codecarbon INFO @ 01:38:58] 0.025910 kWh of electricity used since the beginning.\n",
            "Epoch [16/80] - Training:  35%|███▍      | 108/313 [00:18<00:44,  4.63it/s][codecarbon INFO @ 01:39:13] Energy consumed for RAM : 0.001267 kWh. RAM Power : 4.7530388832092285 W\n",
            "[codecarbon INFO @ 01:39:13] Energy consumed for all GPUs : 0.013727 kWh. Total GPU Power : 54.54356770546818 W\n",
            "[codecarbon INFO @ 01:39:13] Energy consumed for all CPUs : 0.011340 kWh. Total CPU Power : 42.5 W\n",
            "[codecarbon INFO @ 01:39:13] 0.026333 kWh of electricity used since the beginning.\n",
            "[codecarbon INFO @ 01:39:13] 0.003795 g.CO2eq/s mean an estimation of 119.68561783007516 kg.CO2eq/year\n",
            "Epoch [16/80] - Training:  64%|██████▎   | 199/313 [00:34<00:21,  5.39it/s][codecarbon INFO @ 01:39:28] Energy consumed for RAM : 0.001287 kWh. RAM Power : 4.7530388832092285 W\n",
            "[codecarbon INFO @ 01:39:28] Energy consumed for all GPUs : 0.013955 kWh. Total GPU Power : 54.78447191702951 W\n",
            "[codecarbon INFO @ 01:39:28] Energy consumed for all CPUs : 0.011518 kWh. Total CPU Power : 42.5 W\n",
            "[codecarbon INFO @ 01:39:28] 0.026760 kWh of electricity used since the beginning.\n",
            "Epoch [16/80] - Training:  93%|█████████▎| 290/313 [00:48<00:04,  5.09it/s][codecarbon INFO @ 01:39:43] Energy consumed for RAM : 0.001306 kWh. RAM Power : 4.7530388832092285 W\n",
            "[codecarbon INFO @ 01:39:43] Energy consumed for all GPUs : 0.014187 kWh. Total GPU Power : 55.73746499750004 W\n",
            "[codecarbon INFO @ 01:39:43] Energy consumed for all CPUs : 0.011694 kWh. Total CPU Power : 42.5 W\n",
            "[codecarbon INFO @ 01:39:43] 0.027188 kWh of electricity used since the beginning.\n",
            "Epoch [16/80] - Training: 100%|██████████| 313/313 [00:53<00:00,  5.87it/s]\n",
            "/usr/local/lib/python3.10/dist-packages/torch/utils/data/dataloader.py:617: UserWarning: This DataLoader will create 4 worker processes in total. Our suggested max number of worker in current system is 2, which is smaller than what this DataLoader is going to create. Please be aware that excessive worker creation might get DataLoader running slow or even freeze, lower the worker number to avoid potential slowness/freeze if necessary.\n",
            "  warnings.warn(\n"
          ]
        },
        {
          "output_type": "stream",
          "name": "stdout",
          "text": [
            "Epoch [16/80], Train Loss: 0.6081, Train Acc: 79.21%, Val Loss: 0.6673, Val Acc: 77.75%\n"
          ]
        },
        {
          "output_type": "stream",
          "name": "stderr",
          "text": [
            "Epoch [17/80] - Training:   2%|▏         | 5/313 [00:01<01:34,  3.27it/s][codecarbon INFO @ 01:39:58] Energy consumed for RAM : 0.001326 kWh. RAM Power : 4.7530388832092285 W\n",
            "[codecarbon INFO @ 01:39:58] Energy consumed for all GPUs : 0.014361 kWh. Total GPU Power : 41.66450099372745 W\n",
            "[codecarbon INFO @ 01:39:58] Energy consumed for all CPUs : 0.011871 kWh. Total CPU Power : 42.5 W\n",
            "[codecarbon INFO @ 01:39:58] 0.027558 kWh of electricity used since the beginning.\n",
            "Epoch [17/80] - Training:  30%|██▉       | 93/313 [00:16<00:46,  4.74it/s][codecarbon INFO @ 01:40:13] Energy consumed for RAM : 0.001346 kWh. RAM Power : 4.7530388832092285 W\n",
            "[codecarbon INFO @ 01:40:13] Energy consumed for all GPUs : 0.014578 kWh. Total GPU Power : 52.09911696824401 W\n",
            "[codecarbon INFO @ 01:40:13] Energy consumed for all CPUs : 0.012049 kWh. Total CPU Power : 42.5 W\n",
            "[codecarbon INFO @ 01:40:13] 0.027972 kWh of electricity used since the beginning.\n",
            "Epoch [17/80] - Training:  58%|█████▊    | 182/313 [00:31<00:24,  5.36it/s][codecarbon INFO @ 01:40:28] Energy consumed for RAM : 0.001366 kWh. RAM Power : 4.7530388832092285 W\n",
            "[codecarbon INFO @ 01:40:28] Energy consumed for all GPUs : 0.014803 kWh. Total GPU Power : 54.04502083565573 W\n",
            "[codecarbon INFO @ 01:40:28] Energy consumed for all CPUs : 0.012226 kWh. Total CPU Power : 42.5 W\n",
            "[codecarbon INFO @ 01:40:28] 0.028395 kWh of electricity used since the beginning.\n",
            "Epoch [17/80] - Training:  87%|████████▋ | 272/313 [00:47<00:08,  4.56it/s][codecarbon INFO @ 01:40:43] Energy consumed for RAM : 0.001386 kWh. RAM Power : 4.7530388832092285 W\n",
            "[codecarbon INFO @ 01:40:43] Energy consumed for all GPUs : 0.015031 kWh. Total GPU Power : 54.621173825942606 W\n",
            "[codecarbon INFO @ 01:40:43] Energy consumed for all CPUs : 0.012403 kWh. Total CPU Power : 42.5 W\n",
            "[codecarbon INFO @ 01:40:43] 0.028820 kWh of electricity used since the beginning.\n",
            "Epoch [17/80] - Training: 100%|██████████| 313/313 [00:53<00:00,  5.82it/s]\n",
            "/usr/local/lib/python3.10/dist-packages/torch/utils/data/dataloader.py:617: UserWarning: This DataLoader will create 4 worker processes in total. Our suggested max number of worker in current system is 2, which is smaller than what this DataLoader is going to create. Please be aware that excessive worker creation might get DataLoader running slow or even freeze, lower the worker number to avoid potential slowness/freeze if necessary.\n",
            "  warnings.warn(\n",
            "[codecarbon INFO @ 01:40:58] Energy consumed for RAM : 0.001405 kWh. RAM Power : 4.7530388832092285 W\n",
            "[codecarbon INFO @ 01:40:58] Energy consumed for all GPUs : 0.015221 kWh. Total GPU Power : 45.69674385242736 W\n",
            "[codecarbon INFO @ 01:40:58] Energy consumed for all CPUs : 0.012581 kWh. Total CPU Power : 42.5 W\n",
            "[codecarbon INFO @ 01:40:58] 0.029207 kWh of electricity used since the beginning.\n"
          ]
        },
        {
          "output_type": "stream",
          "name": "stdout",
          "text": [
            "Epoch [17/80], Train Loss: 0.6069, Train Acc: 79.50%, Val Loss: 0.6272, Val Acc: 78.25%\n"
          ]
        },
        {
          "output_type": "stream",
          "name": "stderr",
          "text": [
            "Epoch [18/80] - Training:  25%|██▍       | 77/313 [00:13<00:52,  4.48it/s][codecarbon INFO @ 01:41:13] Energy consumed for RAM : 0.001425 kWh. RAM Power : 4.7530388832092285 W\n",
            "[codecarbon INFO @ 01:41:13] Energy consumed for all GPUs : 0.015441 kWh. Total GPU Power : 52.586081827588686 W\n",
            "[codecarbon INFO @ 01:41:13] Energy consumed for all CPUs : 0.012758 kWh. Total CPU Power : 42.5 W\n",
            "[codecarbon INFO @ 01:41:13] 0.029625 kWh of electricity used since the beginning.\n",
            "[codecarbon INFO @ 01:41:13] 0.003799 g.CO2eq/s mean an estimation of 119.80015291312223 kg.CO2eq/year\n",
            "Epoch [18/80] - Training:  53%|█████▎    | 167/313 [00:28<00:33,  4.37it/s][codecarbon INFO @ 01:41:28] Energy consumed for RAM : 0.001445 kWh. RAM Power : 4.7530388832092285 W\n",
            "[codecarbon INFO @ 01:41:28] Energy consumed for all GPUs : 0.015673 kWh. Total GPU Power : 55.68786090538561 W\n",
            "[codecarbon INFO @ 01:41:28] Energy consumed for all CPUs : 0.012935 kWh. Total CPU Power : 42.5 W\n",
            "[codecarbon INFO @ 01:41:28] 0.030053 kWh of electricity used since the beginning.\n",
            "Epoch [18/80] - Training:  83%|████████▎ | 259/313 [00:42<00:11,  4.66it/s][codecarbon INFO @ 01:41:43] Energy consumed for RAM : 0.001465 kWh. RAM Power : 4.7530388832092285 W\n",
            "[codecarbon INFO @ 01:41:43] Energy consumed for all GPUs : 0.015902 kWh. Total GPU Power : 54.98775027995681 W\n",
            "[codecarbon INFO @ 01:41:43] Energy consumed for all CPUs : 0.013112 kWh. Total CPU Power : 42.5 W\n",
            "[codecarbon INFO @ 01:41:43] 0.030479 kWh of electricity used since the beginning.\n",
            "Epoch [18/80] - Training: 100%|██████████| 313/313 [00:51<00:00,  6.13it/s]\n",
            "/usr/local/lib/python3.10/dist-packages/torch/utils/data/dataloader.py:617: UserWarning: This DataLoader will create 4 worker processes in total. Our suggested max number of worker in current system is 2, which is smaller than what this DataLoader is going to create. Please be aware that excessive worker creation might get DataLoader running slow or even freeze, lower the worker number to avoid potential slowness/freeze if necessary.\n",
            "  warnings.warn(\n",
            "[codecarbon INFO @ 01:41:58] Energy consumed for RAM : 0.001485 kWh. RAM Power : 4.7530388832092285 W\n",
            "[codecarbon INFO @ 01:41:58] Energy consumed for all GPUs : 0.016096 kWh. Total GPU Power : 46.67219649935736 W\n",
            "[codecarbon INFO @ 01:41:58] Energy consumed for all CPUs : 0.013289 kWh. Total CPU Power : 42.5 W\n",
            "[codecarbon INFO @ 01:41:58] 0.030870 kWh of electricity used since the beginning.\n"
          ]
        },
        {
          "output_type": "stream",
          "name": "stdout",
          "text": [
            "Epoch [18/80], Train Loss: 0.6107, Train Acc: 79.22%, Val Loss: 0.6284, Val Acc: 78.41%\n"
          ]
        },
        {
          "output_type": "stream",
          "name": "stderr",
          "text": [
            "Epoch [19/80] - Training:  21%|██        | 66/313 [00:11<00:59,  4.15it/s][codecarbon INFO @ 01:42:13] Energy consumed for RAM : 0.001504 kWh. RAM Power : 4.7530388832092285 W\n",
            "[codecarbon INFO @ 01:42:13] Energy consumed for all GPUs : 0.016304 kWh. Total GPU Power : 49.698091601063766 W\n",
            "[codecarbon INFO @ 01:42:13] Energy consumed for all CPUs : 0.013467 kWh. Total CPU Power : 42.5 W\n",
            "[codecarbon INFO @ 01:42:13] 0.031275 kWh of electricity used since the beginning.\n",
            "Epoch [19/80] - Training:  50%|████▉     | 156/313 [00:26<00:37,  4.19it/s][codecarbon INFO @ 01:42:28] Energy consumed for RAM : 0.001524 kWh. RAM Power : 4.7530388832092285 W\n",
            "[codecarbon INFO @ 01:42:28] Energy consumed for all GPUs : 0.016534 kWh. Total GPU Power : 55.46033438024574 W\n",
            "[codecarbon INFO @ 01:42:28] Energy consumed for all CPUs : 0.013644 kWh. Total CPU Power : 42.5 W\n",
            "[codecarbon INFO @ 01:42:28] 0.031702 kWh of electricity used since the beginning.\n",
            "Epoch [19/80] - Training:  79%|███████▊  | 246/313 [00:41<00:15,  4.40it/s][codecarbon INFO @ 01:42:43] Energy consumed for RAM : 0.001544 kWh. RAM Power : 4.7530388832092285 W\n",
            "[codecarbon INFO @ 01:42:43] Energy consumed for all GPUs : 0.016763 kWh. Total GPU Power : 54.99178563382497 W\n",
            "[codecarbon INFO @ 01:42:43] Energy consumed for all CPUs : 0.013821 kWh. Total CPU Power : 42.5 W\n",
            "[codecarbon INFO @ 01:42:43] 0.032128 kWh of electricity used since the beginning.\n",
            "Epoch [19/80] - Training: 100%|██████████| 313/313 [00:51<00:00,  6.08it/s]\n",
            "/usr/local/lib/python3.10/dist-packages/torch/utils/data/dataloader.py:617: UserWarning: This DataLoader will create 4 worker processes in total. Our suggested max number of worker in current system is 2, which is smaller than what this DataLoader is going to create. Please be aware that excessive worker creation might get DataLoader running slow or even freeze, lower the worker number to avoid potential slowness/freeze if necessary.\n",
            "  warnings.warn(\n",
            "[codecarbon INFO @ 01:42:58] Energy consumed for RAM : 0.001564 kWh. RAM Power : 4.7530388832092285 W\n",
            "[codecarbon INFO @ 01:42:58] Energy consumed for all GPUs : 0.016974 kWh. Total GPU Power : 50.61531554245037 W\n",
            "[codecarbon INFO @ 01:42:58] Energy consumed for all CPUs : 0.013998 kWh. Total CPU Power : 42.5 W\n",
            "[codecarbon INFO @ 01:42:58] 0.032536 kWh of electricity used since the beginning.\n"
          ]
        },
        {
          "output_type": "stream",
          "name": "stdout",
          "text": [
            "Epoch [19/80], Train Loss: 0.5870, Train Acc: 79.97%, Val Loss: 0.6146, Val Acc: 79.03%\n"
          ]
        },
        {
          "output_type": "stream",
          "name": "stderr",
          "text": [
            "Epoch [20/80] - Training:  15%|█▍        | 46/313 [00:09<01:05,  4.10it/s][codecarbon INFO @ 01:43:13] Energy consumed for RAM : 0.001584 kWh. RAM Power : 4.7530388832092285 W\n",
            "[codecarbon INFO @ 01:43:13] Energy consumed for all GPUs : 0.017158 kWh. Total GPU Power : 44.05497134086916 W\n",
            "[codecarbon INFO @ 01:43:13] Energy consumed for all CPUs : 0.014175 kWh. Total CPU Power : 42.5 W\n",
            "[codecarbon INFO @ 01:43:14] 0.032917 kWh of electricity used since the beginning.\n",
            "[codecarbon INFO @ 01:43:14] 0.003802 g.CO2eq/s mean an estimation of 119.90022059918729 kg.CO2eq/year\n",
            "Epoch [20/80] - Training:  43%|████▎     | 134/313 [00:24<00:43,  4.12it/s][codecarbon INFO @ 01:43:28] Energy consumed for RAM : 0.001603 kWh. RAM Power : 4.7530388832092285 W\n",
            "[codecarbon INFO @ 01:43:28] Energy consumed for all GPUs : 0.017380 kWh. Total GPU Power : 53.66646848040851 W\n",
            "[codecarbon INFO @ 01:43:28] Energy consumed for all CPUs : 0.014352 kWh. Total CPU Power : 42.5 W\n",
            "[codecarbon INFO @ 01:43:28] 0.033335 kWh of electricity used since the beginning.\n",
            "Epoch [20/80] - Training:  72%|███████▏  | 224/313 [00:39<00:22,  3.96it/s][codecarbon INFO @ 01:43:43] Energy consumed for RAM : 0.001623 kWh. RAM Power : 4.7530388832092285 W\n",
            "[codecarbon INFO @ 01:43:43] Energy consumed for all GPUs : 0.017604 kWh. Total GPU Power : 53.722254046591225 W\n",
            "[codecarbon INFO @ 01:43:43] Energy consumed for all CPUs : 0.014529 kWh. Total CPU Power : 42.5 W\n",
            "[codecarbon INFO @ 01:43:43] 0.033756 kWh of electricity used since the beginning.\n",
            "Epoch [20/80] - Training: 100%|██████████| 313/313 [00:53<00:00,  5.87it/s]\n",
            "/usr/local/lib/python3.10/dist-packages/torch/utils/data/dataloader.py:617: UserWarning: This DataLoader will create 4 worker processes in total. Our suggested max number of worker in current system is 2, which is smaller than what this DataLoader is going to create. Please be aware that excessive worker creation might get DataLoader running slow or even freeze, lower the worker number to avoid potential slowness/freeze if necessary.\n",
            "  warnings.warn(\n",
            "[codecarbon INFO @ 01:43:58] Energy consumed for RAM : 0.001643 kWh. RAM Power : 4.7530388832092285 W\n",
            "[codecarbon INFO @ 01:43:59] Energy consumed for all GPUs : 0.017839 kWh. Total GPU Power : 56.3018294050264 W\n",
            "[codecarbon INFO @ 01:43:59] Energy consumed for all CPUs : 0.014706 kWh. Total CPU Power : 42.5 W\n",
            "[codecarbon INFO @ 01:43:59] 0.034188 kWh of electricity used since the beginning.\n"
          ]
        },
        {
          "output_type": "stream",
          "name": "stdout",
          "text": [
            "Epoch [20/80], Train Loss: 0.5899, Train Acc: 80.00%, Val Loss: 0.6204, Val Acc: 79.12%\n"
          ]
        },
        {
          "output_type": "stream",
          "name": "stderr",
          "text": [
            "Epoch [21/80] - Training:   9%|▉         | 28/313 [00:06<00:52,  5.48it/s][codecarbon INFO @ 01:44:14] Energy consumed for RAM : 0.001663 kWh. RAM Power : 4.7530388832092285 W\n",
            "[codecarbon INFO @ 01:44:14] Energy consumed for all GPUs : 0.018005 kWh. Total GPU Power : 39.99064177126551 W\n",
            "[codecarbon INFO @ 01:44:14] Energy consumed for all CPUs : 0.014883 kWh. Total CPU Power : 42.5 W\n",
            "[codecarbon INFO @ 01:44:14] 0.034551 kWh of electricity used since the beginning.\n",
            "Epoch [21/80] - Training:  37%|███▋      | 117/313 [00:21<00:32,  6.03it/s][codecarbon INFO @ 01:44:29] Energy consumed for RAM : 0.001682 kWh. RAM Power : 4.7530388832092285 W\n",
            "[codecarbon INFO @ 01:44:29] Energy consumed for all GPUs : 0.018233 kWh. Total GPU Power : 54.503932413372816 W\n",
            "[codecarbon INFO @ 01:44:29] Energy consumed for all CPUs : 0.015060 kWh. Total CPU Power : 42.5 W\n",
            "[codecarbon INFO @ 01:44:29] 0.034975 kWh of electricity used since the beginning.\n",
            "Epoch [21/80] - Training:  66%|██████▌   | 207/313 [00:36<00:16,  6.47it/s][codecarbon INFO @ 01:44:44] Energy consumed for RAM : 0.001702 kWh. RAM Power : 4.7530388832092285 W\n",
            "[codecarbon INFO @ 01:44:44] Energy consumed for all GPUs : 0.018462 kWh. Total GPU Power : 55.14398845389061 W\n",
            "[codecarbon INFO @ 01:44:44] Energy consumed for all CPUs : 0.015238 kWh. Total CPU Power : 42.5 W\n",
            "[codecarbon INFO @ 01:44:44] 0.035402 kWh of electricity used since the beginning.\n",
            "Epoch [21/80] - Training:  95%|█████████▍| 296/313 [00:51<00:02,  6.32it/s][codecarbon INFO @ 01:44:59] Energy consumed for RAM : 0.001722 kWh. RAM Power : 4.7530388832092285 W\n",
            "[codecarbon INFO @ 01:44:59] Energy consumed for all GPUs : 0.018691 kWh. Total GPU Power : 54.987561320386206 W\n",
            "[codecarbon INFO @ 01:44:59] Energy consumed for all CPUs : 0.015415 kWh. Total CPU Power : 42.5 W\n",
            "[codecarbon INFO @ 01:44:59] 0.035828 kWh of electricity used since the beginning.\n",
            "Epoch [21/80] - Training: 100%|██████████| 313/313 [00:53<00:00,  5.81it/s]\n",
            "/usr/local/lib/python3.10/dist-packages/torch/utils/data/dataloader.py:617: UserWarning: This DataLoader will create 4 worker processes in total. Our suggested max number of worker in current system is 2, which is smaller than what this DataLoader is going to create. Please be aware that excessive worker creation might get DataLoader running slow or even freeze, lower the worker number to avoid potential slowness/freeze if necessary.\n",
            "  warnings.warn(\n"
          ]
        },
        {
          "output_type": "stream",
          "name": "stdout",
          "text": [
            "Epoch [21/80], Train Loss: 0.5689, Train Acc: 80.51%, Val Loss: 0.6387, Val Acc: 78.04%\n"
          ]
        },
        {
          "output_type": "stream",
          "name": "stderr",
          "text": [
            "Epoch [22/80] - Training:   4%|▎         | 11/313 [00:02<00:49,  6.10it/s][codecarbon INFO @ 01:45:14] Energy consumed for RAM : 0.001742 kWh. RAM Power : 4.7530388832092285 W\n",
            "[codecarbon INFO @ 01:45:14] Energy consumed for all GPUs : 0.018867 kWh. Total GPU Power : 42.31105463027865 W\n",
            "[codecarbon INFO @ 01:45:14] Energy consumed for all CPUs : 0.015592 kWh. Total CPU Power : 42.5 W\n",
            "[codecarbon INFO @ 01:45:14] 0.036201 kWh of electricity used since the beginning.\n",
            "[codecarbon INFO @ 01:45:14] 0.003795 g.CO2eq/s mean an estimation of 119.68251862286053 kg.CO2eq/year\n",
            "Epoch [22/80] - Training:  32%|███▏      | 100/313 [00:17<00:33,  6.33it/s][codecarbon INFO @ 01:45:29] Energy consumed for RAM : 0.001762 kWh. RAM Power : 4.7530388832092285 W\n",
            "[codecarbon INFO @ 01:45:29] Energy consumed for all GPUs : 0.019088 kWh. Total GPU Power : 53.186467335930274 W\n",
            "[codecarbon INFO @ 01:45:29] Energy consumed for all CPUs : 0.015769 kWh. Total CPU Power : 42.5 W\n",
            "[codecarbon INFO @ 01:45:29] 0.036619 kWh of electricity used since the beginning.\n",
            "Epoch [22/80] - Training:  60%|██████    | 188/313 [00:32<00:18,  6.91it/s][codecarbon INFO @ 01:45:44] Energy consumed for RAM : 0.001781 kWh. RAM Power : 4.7530388832092285 W\n",
            "[codecarbon INFO @ 01:45:44] Energy consumed for all GPUs : 0.019311 kWh. Total GPU Power : 53.519657322109545 W\n",
            "[codecarbon INFO @ 01:45:44] Energy consumed for all CPUs : 0.015946 kWh. Total CPU Power : 42.5 W\n",
            "[codecarbon INFO @ 01:45:44] 0.037038 kWh of electricity used since the beginning.\n",
            "Epoch [22/80] - Training:  88%|████████▊ | 276/313 [00:47<00:05,  6.70it/s][codecarbon INFO @ 01:45:59] Energy consumed for RAM : 0.001801 kWh. RAM Power : 4.7530388832092285 W\n",
            "[codecarbon INFO @ 01:45:59] Energy consumed for all GPUs : 0.019538 kWh. Total GPU Power : 54.47921693791103 W\n",
            "[codecarbon INFO @ 01:45:59] Energy consumed for all CPUs : 0.016123 kWh. Total CPU Power : 42.5 W\n",
            "[codecarbon INFO @ 01:45:59] 0.037462 kWh of electricity used since the beginning.\n",
            "Epoch [22/80] - Training: 100%|██████████| 313/313 [00:52<00:00,  5.94it/s]\n",
            "/usr/local/lib/python3.10/dist-packages/torch/utils/data/dataloader.py:617: UserWarning: This DataLoader will create 4 worker processes in total. Our suggested max number of worker in current system is 2, which is smaller than what this DataLoader is going to create. Please be aware that excessive worker creation might get DataLoader running slow or even freeze, lower the worker number to avoid potential slowness/freeze if necessary.\n",
            "  warnings.warn(\n",
            "[codecarbon INFO @ 01:46:14] Energy consumed for RAM : 0.001821 kWh. RAM Power : 4.7530388832092285 W\n",
            "[codecarbon INFO @ 01:46:14] Energy consumed for all GPUs : 0.019729 kWh. Total GPU Power : 45.78588457107963 W\n",
            "[codecarbon INFO @ 01:46:14] Energy consumed for all CPUs : 0.016300 kWh. Total CPU Power : 42.5 W\n",
            "[codecarbon INFO @ 01:46:14] 0.037850 kWh of electricity used since the beginning.\n"
          ]
        },
        {
          "output_type": "stream",
          "name": "stdout",
          "text": [
            "Epoch [22/80], Train Loss: 0.5615, Train Acc: 81.07%, Val Loss: 0.6730, Val Acc: 77.02%\n"
          ]
        },
        {
          "output_type": "stream",
          "name": "stderr",
          "text": [
            "Epoch [23/80] - Training:  25%|██▍       | 77/313 [00:14<00:32,  7.20it/s][codecarbon INFO @ 01:46:29] Energy consumed for RAM : 0.001841 kWh. RAM Power : 4.7530388832092285 W\n",
            "[codecarbon INFO @ 01:46:29] Energy consumed for all GPUs : 0.019939 kWh. Total GPU Power : 50.46574793239083 W\n",
            "[codecarbon INFO @ 01:46:29] Energy consumed for all CPUs : 0.016477 kWh. Total CPU Power : 42.5 W\n",
            "[codecarbon INFO @ 01:46:29] 0.038257 kWh of electricity used since the beginning.\n",
            "Epoch [23/80] - Training:  54%|█████▎    | 168/313 [00:29<00:21,  6.89it/s][codecarbon INFO @ 01:46:44] Energy consumed for RAM : 0.001861 kWh. RAM Power : 4.7530388832092285 W\n",
            "[codecarbon INFO @ 01:46:44] Energy consumed for all GPUs : 0.020172 kWh. Total GPU Power : 55.88222482252938 W\n",
            "[codecarbon INFO @ 01:46:44] Energy consumed for all CPUs : 0.016654 kWh. Total CPU Power : 42.5 W\n",
            "[codecarbon INFO @ 01:46:44] 0.038687 kWh of electricity used since the beginning.\n",
            "Epoch [23/80] - Training:  82%|████████▏ | 258/313 [00:44<00:08,  6.82it/s][codecarbon INFO @ 01:46:59] Energy consumed for RAM : 0.001880 kWh. RAM Power : 4.7530388832092285 W\n",
            "[codecarbon INFO @ 01:46:59] Energy consumed for all GPUs : 0.020402 kWh. Total GPU Power : 55.23146278565832 W\n",
            "[codecarbon INFO @ 01:46:59] Energy consumed for all CPUs : 0.016832 kWh. Total CPU Power : 42.5 W\n",
            "[codecarbon INFO @ 01:46:59] 0.039114 kWh of electricity used since the beginning.\n",
            "Epoch [23/80] - Training: 100%|██████████| 313/313 [00:51<00:00,  6.03it/s]\n",
            "/usr/local/lib/python3.10/dist-packages/torch/utils/data/dataloader.py:617: UserWarning: This DataLoader will create 4 worker processes in total. Our suggested max number of worker in current system is 2, which is smaller than what this DataLoader is going to create. Please be aware that excessive worker creation might get DataLoader running slow or even freeze, lower the worker number to avoid potential slowness/freeze if necessary.\n",
            "  warnings.warn(\n",
            "[codecarbon INFO @ 01:47:14] Energy consumed for RAM : 0.001900 kWh. RAM Power : 4.7530388832092285 W\n",
            "[codecarbon INFO @ 01:47:14] Energy consumed for all GPUs : 0.020610 kWh. Total GPU Power : 50.05031177140845 W\n",
            "[codecarbon INFO @ 01:47:14] Energy consumed for all CPUs : 0.017009 kWh. Total CPU Power : 42.5 W\n",
            "[codecarbon INFO @ 01:47:14] 0.039519 kWh of electricity used since the beginning.\n",
            "[codecarbon INFO @ 01:47:14] 0.003834 g.CO2eq/s mean an estimation of 120.92437369337783 kg.CO2eq/year\n"
          ]
        },
        {
          "output_type": "stream",
          "name": "stdout",
          "text": [
            "Epoch [23/80], Train Loss: 0.5613, Train Acc: 80.82%, Val Loss: 0.6165, Val Acc: 78.70%\n"
          ]
        },
        {
          "output_type": "stream",
          "name": "stderr",
          "text": [
            "Epoch [24/80] - Training:  20%|██        | 64/313 [00:11<00:34,  7.23it/s][codecarbon INFO @ 01:47:29] Energy consumed for RAM : 0.001920 kWh. RAM Power : 4.7530388832092285 W\n",
            "[codecarbon INFO @ 01:47:29] Energy consumed for all GPUs : 0.020806 kWh. Total GPU Power : 47.008241875825526 W\n",
            "[codecarbon INFO @ 01:47:29] Energy consumed for all CPUs : 0.017186 kWh. Total CPU Power : 42.5 W\n",
            "[codecarbon INFO @ 01:47:29] 0.039912 kWh of electricity used since the beginning.\n",
            "Epoch [24/80] - Training:  51%|█████     | 159/313 [00:26<00:19,  7.71it/s][codecarbon INFO @ 01:47:44] Energy consumed for RAM : 0.001940 kWh. RAM Power : 4.7530388832092285 W\n",
            "[codecarbon INFO @ 01:47:44] Energy consumed for all GPUs : 0.021035 kWh. Total GPU Power : 54.99917101657436 W\n",
            "[codecarbon INFO @ 01:47:44] Energy consumed for all CPUs : 0.017363 kWh. Total CPU Power : 42.5 W\n",
            "[codecarbon INFO @ 01:47:44] 0.040338 kWh of electricity used since the beginning.\n",
            "Epoch [24/80] - Training:  81%|████████  | 254/313 [00:42<00:08,  6.81it/s][codecarbon INFO @ 01:47:59] Energy consumed for RAM : 0.001959 kWh. RAM Power : 4.7530388832092285 W\n",
            "[codecarbon INFO @ 01:47:59] Energy consumed for all GPUs : 0.021269 kWh. Total GPU Power : 56.16798723399899 W\n",
            "[codecarbon INFO @ 01:47:59] Energy consumed for all CPUs : 0.017540 kWh. Total CPU Power : 42.5 W\n",
            "[codecarbon INFO @ 01:47:59] 0.040769 kWh of electricity used since the beginning.\n",
            "Epoch [24/80] - Training: 100%|██████████| 313/313 [00:50<00:00,  6.14it/s]\n",
            "/usr/local/lib/python3.10/dist-packages/torch/utils/data/dataloader.py:617: UserWarning: This DataLoader will create 4 worker processes in total. Our suggested max number of worker in current system is 2, which is smaller than what this DataLoader is going to create. Please be aware that excessive worker creation might get DataLoader running slow or even freeze, lower the worker number to avoid potential slowness/freeze if necessary.\n",
            "  warnings.warn(\n",
            "[codecarbon INFO @ 01:48:14] Energy consumed for RAM : 0.001979 kWh. RAM Power : 4.7530388832092285 W\n",
            "[codecarbon INFO @ 01:48:14] Energy consumed for all GPUs : 0.021481 kWh. Total GPU Power : 50.916306551069546 W\n",
            "[codecarbon INFO @ 01:48:14] Energy consumed for all CPUs : 0.017717 kWh. Total CPU Power : 42.5 W\n",
            "[codecarbon INFO @ 01:48:14] 0.041178 kWh of electricity used since the beginning.\n"
          ]
        },
        {
          "output_type": "stream",
          "name": "stdout",
          "text": [
            "Epoch [24/80], Train Loss: 0.5498, Train Acc: 81.21%, Val Loss: 0.6213, Val Acc: 78.40%\n"
          ]
        },
        {
          "output_type": "stream",
          "name": "stderr",
          "text": [
            "Epoch [25/80] - Training:  21%|██        | 65/313 [00:12<00:35,  7.05it/s][codecarbon INFO @ 01:48:29] Energy consumed for RAM : 0.001999 kWh. RAM Power : 4.7530388832092285 W\n",
            "[codecarbon INFO @ 01:48:29] Energy consumed for all GPUs : 0.021678 kWh. Total GPU Power : 47.24099955347046 W\n",
            "[codecarbon INFO @ 01:48:29] Energy consumed for all CPUs : 0.017895 kWh. Total CPU Power : 42.5 W\n",
            "[codecarbon INFO @ 01:48:29] 0.041572 kWh of electricity used since the beginning.\n",
            "Epoch [25/80] - Training:  50%|████▉     | 156/313 [00:27<00:22,  7.01it/s][codecarbon INFO @ 01:48:44] Energy consumed for RAM : 0.002019 kWh. RAM Power : 4.7530388832092285 W\n",
            "[codecarbon INFO @ 01:48:44] Energy consumed for all GPUs : 0.021907 kWh. Total GPU Power : 54.98509057279036 W\n",
            "[codecarbon INFO @ 01:48:44] Energy consumed for all CPUs : 0.018072 kWh. Total CPU Power : 42.5 W\n",
            "[codecarbon INFO @ 01:48:44] 0.041998 kWh of electricity used since the beginning.\n",
            "Epoch [25/80] - Training:  79%|███████▊  | 246/313 [00:42<00:09,  7.03it/s][codecarbon INFO @ 01:48:59] Energy consumed for RAM : 0.002039 kWh. RAM Power : 4.7530388832092285 W\n",
            "[codecarbon INFO @ 01:48:59] Energy consumed for all GPUs : 0.022136 kWh. Total GPU Power : 54.824309002254004 W\n",
            "[codecarbon INFO @ 01:48:59] Energy consumed for all CPUs : 0.018249 kWh. Total CPU Power : 42.5 W\n",
            "[codecarbon INFO @ 01:48:59] 0.042423 kWh of electricity used since the beginning.\n",
            "Epoch [25/80] - Training: 100%|██████████| 313/313 [00:53<00:00,  5.85it/s]\n",
            "/usr/local/lib/python3.10/dist-packages/torch/utils/data/dataloader.py:617: UserWarning: This DataLoader will create 4 worker processes in total. Our suggested max number of worker in current system is 2, which is smaller than what this DataLoader is going to create. Please be aware that excessive worker creation might get DataLoader running slow or even freeze, lower the worker number to avoid potential slowness/freeze if necessary.\n",
            "  warnings.warn(\n",
            "[codecarbon INFO @ 01:49:14] Energy consumed for RAM : 0.002058 kWh. RAM Power : 4.7530388832092285 W\n",
            "[codecarbon INFO @ 01:49:14] Energy consumed for all GPUs : 0.022351 kWh. Total GPU Power : 51.56850869135489 W\n",
            "[codecarbon INFO @ 01:49:14] Energy consumed for all CPUs : 0.018426 kWh. Total CPU Power : 42.5 W\n",
            "[codecarbon INFO @ 01:49:14] 0.042835 kWh of electricity used since the beginning.\n",
            "[codecarbon INFO @ 01:49:14] 0.003830 g.CO2eq/s mean an estimation of 120.78077161113708 kg.CO2eq/year\n"
          ]
        },
        {
          "output_type": "stream",
          "name": "stdout",
          "text": [
            "Epoch [25/80], Train Loss: 0.5412, Train Acc: 81.64%, Val Loss: 0.5805, Val Acc: 80.24%\n"
          ]
        },
        {
          "output_type": "stream",
          "name": "stderr",
          "text": [
            "Epoch [26/80] - Training:  16%|█▌        | 50/313 [00:09<00:38,  6.80it/s][codecarbon INFO @ 01:49:29] Energy consumed for RAM : 0.002078 kWh. RAM Power : 4.7530388832092285 W\n",
            "[codecarbon INFO @ 01:49:29] Energy consumed for all GPUs : 0.022536 kWh. Total GPU Power : 44.4340329734726 W\n",
            "[codecarbon INFO @ 01:49:29] Energy consumed for all CPUs : 0.018603 kWh. Total CPU Power : 42.5 W\n",
            "[codecarbon INFO @ 01:49:29] 0.043217 kWh of electricity used since the beginning.\n",
            "Epoch [26/80] - Training:  45%|████▍     | 140/313 [00:24<00:25,  6.77it/s][codecarbon INFO @ 01:49:44] Energy consumed for RAM : 0.002098 kWh. RAM Power : 4.7530388832092285 W\n",
            "[codecarbon INFO @ 01:49:44] Energy consumed for all GPUs : 0.022761 kWh. Total GPU Power : 54.19305895352616 W\n",
            "[codecarbon INFO @ 01:49:44] Energy consumed for all CPUs : 0.018781 kWh. Total CPU Power : 42.5 W\n",
            "[codecarbon INFO @ 01:49:44] 0.043640 kWh of electricity used since the beginning.\n",
            "Epoch [26/80] - Training:  73%|███████▎  | 228/313 [00:39<00:12,  6.87it/s][codecarbon INFO @ 01:49:59] Energy consumed for RAM : 0.002118 kWh. RAM Power : 4.7530388832092285 W\n",
            "[codecarbon INFO @ 01:49:59] Energy consumed for all GPUs : 0.022986 kWh. Total GPU Power : 54.0536583845219 W\n",
            "[codecarbon INFO @ 01:49:59] Energy consumed for all CPUs : 0.018957 kWh. Total CPU Power : 42.5 W\n",
            "[codecarbon INFO @ 01:49:59] 0.044061 kWh of electricity used since the beginning.\n",
            "Epoch [26/80] - Training: 100%|██████████| 313/313 [00:53<00:00,  5.86it/s]\n",
            "/usr/local/lib/python3.10/dist-packages/torch/utils/data/dataloader.py:617: UserWarning: This DataLoader will create 4 worker processes in total. Our suggested max number of worker in current system is 2, which is smaller than what this DataLoader is going to create. Please be aware that excessive worker creation might get DataLoader running slow or even freeze, lower the worker number to avoid potential slowness/freeze if necessary.\n",
            "  warnings.warn(\n",
            "[codecarbon INFO @ 01:50:14] Energy consumed for RAM : 0.002137 kWh. RAM Power : 4.7530388832092285 W\n",
            "[codecarbon INFO @ 01:50:14] Energy consumed for all GPUs : 0.023211 kWh. Total GPU Power : 54.03538520141186 W\n",
            "[codecarbon INFO @ 01:50:14] Energy consumed for all CPUs : 0.019134 kWh. Total CPU Power : 42.5 W\n",
            "[codecarbon INFO @ 01:50:14] 0.044483 kWh of electricity used since the beginning.\n"
          ]
        },
        {
          "output_type": "stream",
          "name": "stdout",
          "text": [
            "Epoch [26/80], Train Loss: 0.5386, Train Acc: 81.65%, Val Loss: 0.5911, Val Acc: 79.79%\n"
          ]
        },
        {
          "output_type": "stream",
          "name": "stderr",
          "text": [
            "Epoch [27/80] - Training:  10%|▉         | 30/313 [00:05<00:40,  7.04it/s][codecarbon INFO @ 01:50:29] Energy consumed for RAM : 0.002157 kWh. RAM Power : 4.7530388832092285 W\n",
            "[codecarbon INFO @ 01:50:29] Energy consumed for all GPUs : 0.023387 kWh. Total GPU Power : 42.45605932779415 W\n",
            "[codecarbon INFO @ 01:50:29] Energy consumed for all CPUs : 0.019311 kWh. Total CPU Power : 42.5 W\n",
            "[codecarbon INFO @ 01:50:29] 0.044856 kWh of electricity used since the beginning.\n",
            "Epoch [27/80] - Training:  39%|███▊      | 121/313 [00:20<00:27,  6.90it/s][codecarbon INFO @ 01:50:44] Energy consumed for RAM : 0.002177 kWh. RAM Power : 4.7530388832092285 W\n",
            "[codecarbon INFO @ 01:50:44] Energy consumed for all GPUs : 0.023617 kWh. Total GPU Power : 55.25614090210138 W\n",
            "[codecarbon INFO @ 01:50:44] Energy consumed for all CPUs : 0.019488 kWh. Total CPU Power : 42.5 W\n",
            "[codecarbon INFO @ 01:50:44] 0.045282 kWh of electricity used since the beginning.\n",
            "Epoch [27/80] - Training:  67%|██████▋   | 210/313 [00:35<00:15,  6.61it/s][codecarbon INFO @ 01:50:59] Energy consumed for RAM : 0.002197 kWh. RAM Power : 4.7530388832092285 W\n",
            "[codecarbon INFO @ 01:50:59] Energy consumed for all GPUs : 0.023842 kWh. Total GPU Power : 54.02491271189723 W\n",
            "[codecarbon INFO @ 01:50:59] Energy consumed for all CPUs : 0.019666 kWh. Total CPU Power : 42.5 W\n",
            "[codecarbon INFO @ 01:50:59] 0.045704 kWh of electricity used since the beginning.\n",
            "Epoch [27/80] - Training:  96%|█████████▌| 301/313 [00:50<00:01,  7.19it/s][codecarbon INFO @ 01:51:14] Energy consumed for RAM : 0.002217 kWh. RAM Power : 4.7530388832092285 W\n",
            "[codecarbon INFO @ 01:51:14] Energy consumed for all GPUs : 0.024071 kWh. Total GPU Power : 54.94024715376875 W\n",
            "[codecarbon INFO @ 01:51:14] Energy consumed for all CPUs : 0.019843 kWh. Total CPU Power : 42.5 W\n",
            "[codecarbon INFO @ 01:51:14] 0.046130 kWh of electricity used since the beginning.\n",
            "[codecarbon INFO @ 01:51:14] 0.003808 g.CO2eq/s mean an estimation of 120.07818010966567 kg.CO2eq/year\n",
            "Epoch [27/80] - Training: 100%|██████████| 313/313 [00:51<00:00,  6.04it/s]\n",
            "/usr/local/lib/python3.10/dist-packages/torch/utils/data/dataloader.py:617: UserWarning: This DataLoader will create 4 worker processes in total. Our suggested max number of worker in current system is 2, which is smaller than what this DataLoader is going to create. Please be aware that excessive worker creation might get DataLoader running slow or even freeze, lower the worker number to avoid potential slowness/freeze if necessary.\n",
            "  warnings.warn(\n"
          ]
        },
        {
          "output_type": "stream",
          "name": "stdout",
          "text": [
            "Epoch [27/80], Train Loss: 0.5311, Train Acc: 81.75%, Val Loss: 0.6036, Val Acc: 79.38%\n"
          ]
        },
        {
          "output_type": "stream",
          "name": "stderr",
          "text": [
            "Epoch [28/80] - Training:   4%|▍         | 14/313 [00:02<00:48,  6.12it/s][codecarbon INFO @ 01:51:29] Energy consumed for RAM : 0.002236 kWh. RAM Power : 4.7530388832092285 W\n",
            "[codecarbon INFO @ 01:51:29] Energy consumed for all GPUs : 0.024242 kWh. Total GPU Power : 41.05565335885879 W\n",
            "[codecarbon INFO @ 01:51:29] Energy consumed for all CPUs : 0.020020 kWh. Total CPU Power : 42.5 W\n",
            "[codecarbon INFO @ 01:51:29] 0.046498 kWh of electricity used since the beginning.\n",
            "Epoch [28/80] - Training:  33%|███▎      | 104/313 [00:17<00:31,  6.59it/s][codecarbon INFO @ 01:51:44] Energy consumed for RAM : 0.002256 kWh. RAM Power : 4.7530388832092285 W\n",
            "[codecarbon INFO @ 01:51:44] Energy consumed for all GPUs : 0.024467 kWh. Total GPU Power : 54.04942074193018 W\n",
            "[codecarbon INFO @ 01:51:44] Energy consumed for all CPUs : 0.020197 kWh. Total CPU Power : 42.5 W\n",
            "[codecarbon INFO @ 01:51:44] 0.046920 kWh of electricity used since the beginning.\n",
            "Epoch [28/80] - Training:  62%|██████▏   | 193/313 [00:32<00:17,  6.68it/s][codecarbon INFO @ 01:51:59] Energy consumed for RAM : 0.002276 kWh. RAM Power : 4.7530388832092285 W\n",
            "[codecarbon INFO @ 01:51:59] Energy consumed for all GPUs : 0.024694 kWh. Total GPU Power : 54.675436527838116 W\n",
            "[codecarbon INFO @ 01:51:59] Energy consumed for all CPUs : 0.020374 kWh. Total CPU Power : 42.5 W\n",
            "[codecarbon INFO @ 01:51:59] 0.047344 kWh of electricity used since the beginning.\n",
            "Epoch [28/80] - Training:  91%|█████████ | 284/313 [00:47<00:04,  6.86it/s][codecarbon INFO @ 01:52:14] Energy consumed for RAM : 0.002296 kWh. RAM Power : 4.7530388832092285 W\n",
            "[codecarbon INFO @ 01:52:14] Energy consumed for all GPUs : 0.024925 kWh. Total GPU Power : 55.27577240748597 W\n",
            "[codecarbon INFO @ 01:52:14] Energy consumed for all CPUs : 0.020551 kWh. Total CPU Power : 42.5 W\n",
            "[codecarbon INFO @ 01:52:14] 0.047772 kWh of electricity used since the beginning.\n",
            "Epoch [28/80] - Training: 100%|██████████| 313/313 [00:52<00:00,  6.01it/s]\n",
            "/usr/local/lib/python3.10/dist-packages/torch/utils/data/dataloader.py:617: UserWarning: This DataLoader will create 4 worker processes in total. Our suggested max number of worker in current system is 2, which is smaller than what this DataLoader is going to create. Please be aware that excessive worker creation might get DataLoader running slow or even freeze, lower the worker number to avoid potential slowness/freeze if necessary.\n",
            "  warnings.warn(\n"
          ]
        },
        {
          "output_type": "stream",
          "name": "stdout",
          "text": [
            "Epoch [28/80], Train Loss: 0.5264, Train Acc: 82.06%, Val Loss: 0.5980, Val Acc: 79.43%\n"
          ]
        },
        {
          "output_type": "stream",
          "name": "stderr",
          "text": [
            "\rEpoch [29/80] - Training:   0%|          | 0/313 [00:00<?, ?it/s][codecarbon INFO @ 01:52:29] Energy consumed for RAM : 0.002315 kWh. RAM Power : 4.7530388832092285 W\n",
            "[codecarbon INFO @ 01:52:29] Energy consumed for all GPUs : 0.025112 kWh. Total GPU Power : 44.915792467950716 W\n",
            "[codecarbon INFO @ 01:52:29] Energy consumed for all CPUs : 0.020728 kWh. Total CPU Power : 42.5 W\n",
            "[codecarbon INFO @ 01:52:29] 0.048155 kWh of electricity used since the beginning.\n",
            "Epoch [29/80] - Training:  28%|██▊       | 88/313 [00:15<00:32,  6.98it/s][codecarbon INFO @ 01:52:44] Energy consumed for RAM : 0.002335 kWh. RAM Power : 4.7530388832092285 W\n",
            "[codecarbon INFO @ 01:52:44] Energy consumed for all GPUs : 0.025331 kWh. Total GPU Power : 52.84986074953821 W\n",
            "[codecarbon INFO @ 01:52:44] Energy consumed for all CPUs : 0.020905 kWh. Total CPU Power : 42.5 W\n",
            "[codecarbon INFO @ 01:52:44] 0.048572 kWh of electricity used since the beginning.\n",
            "Epoch [29/80] - Training:  57%|█████▋    | 178/313 [00:30<00:19,  7.03it/s][codecarbon INFO @ 01:52:59] Energy consumed for RAM : 0.002355 kWh. RAM Power : 4.7530388832092285 W\n",
            "[codecarbon INFO @ 01:52:59] Energy consumed for all GPUs : 0.025557 kWh. Total GPU Power : 54.066449890578106 W\n",
            "[codecarbon INFO @ 01:52:59] Energy consumed for all CPUs : 0.021082 kWh. Total CPU Power : 42.5 W\n",
            "[codecarbon INFO @ 01:52:59] 0.048994 kWh of electricity used since the beginning.\n",
            "Epoch [29/80] - Training:  86%|████████▌ | 268/313 [00:45<00:06,  6.90it/s][codecarbon INFO @ 01:53:14] Energy consumed for RAM : 0.002375 kWh. RAM Power : 4.7530388832092285 W\n",
            "[codecarbon INFO @ 01:53:14] Energy consumed for all GPUs : 0.025789 kWh. Total GPU Power : 55.672629418477115 W\n",
            "[codecarbon INFO @ 01:53:14] Energy consumed for all CPUs : 0.021259 kWh. Total CPU Power : 42.5 W\n",
            "[codecarbon INFO @ 01:53:14] 0.049423 kWh of electricity used since the beginning.\n",
            "[codecarbon INFO @ 01:53:14] 0.003805 g.CO2eq/s mean an estimation of 119.99107667742348 kg.CO2eq/year\n",
            "Epoch [29/80] - Training: 100%|██████████| 313/313 [00:53<00:00,  5.85it/s]\n",
            "/usr/local/lib/python3.10/dist-packages/torch/utils/data/dataloader.py:617: UserWarning: This DataLoader will create 4 worker processes in total. Our suggested max number of worker in current system is 2, which is smaller than what this DataLoader is going to create. Please be aware that excessive worker creation might get DataLoader running slow or even freeze, lower the worker number to avoid potential slowness/freeze if necessary.\n",
            "  warnings.warn(\n",
            "[codecarbon INFO @ 01:53:29] Energy consumed for RAM : 0.002395 kWh. RAM Power : 4.7530388832092285 W\n",
            "[codecarbon INFO @ 01:53:29] Energy consumed for all GPUs : 0.025977 kWh. Total GPU Power : 45.11245356543205 W\n",
            "[codecarbon INFO @ 01:53:29] Energy consumed for all CPUs : 0.021437 kWh. Total CPU Power : 42.5 W\n",
            "[codecarbon INFO @ 01:53:29] 0.049808 kWh of electricity used since the beginning.\n"
          ]
        },
        {
          "output_type": "stream",
          "name": "stdout",
          "text": [
            "Epoch [29/80], Train Loss: 0.5217, Train Acc: 82.14%, Val Loss: 0.5978, Val Acc: 79.18%\n"
          ]
        },
        {
          "output_type": "stream",
          "name": "stderr",
          "text": [
            "Epoch [30/80] - Training:  25%|██▍       | 78/313 [00:13<00:32,  7.28it/s][codecarbon INFO @ 01:53:44] Energy consumed for RAM : 0.002414 kWh. RAM Power : 4.7530388832092285 W\n",
            "[codecarbon INFO @ 01:53:44] Energy consumed for all GPUs : 0.026183 kWh. Total GPU Power : 49.54801129888492 W\n",
            "[codecarbon INFO @ 01:53:44] Energy consumed for all CPUs : 0.021614 kWh. Total CPU Power : 42.5 W\n",
            "[codecarbon INFO @ 01:53:44] 0.050211 kWh of electricity used since the beginning.\n",
            "Epoch [30/80] - Training:  55%|█████▍    | 172/313 [00:28<00:19,  7.10it/s][codecarbon INFO @ 01:53:59] Energy consumed for RAM : 0.002434 kWh. RAM Power : 4.7530388832092285 W\n",
            "[codecarbon INFO @ 01:53:59] Energy consumed for all GPUs : 0.026417 kWh. Total GPU Power : 56.13210321501394 W\n",
            "[codecarbon INFO @ 01:53:59] Energy consumed for all CPUs : 0.021791 kWh. Total CPU Power : 42.5 W\n",
            "[codecarbon INFO @ 01:53:59] 0.050642 kWh of electricity used since the beginning.\n",
            "Epoch [30/80] - Training:  85%|████████▌ | 267/313 [00:43<00:06,  6.90it/s][codecarbon INFO @ 01:54:14] Energy consumed for RAM : 0.002454 kWh. RAM Power : 4.7530388832092285 W\n",
            "[codecarbon INFO @ 01:54:14] Energy consumed for all GPUs : 0.026653 kWh. Total GPU Power : 56.6953773935779 W\n",
            "[codecarbon INFO @ 01:54:14] Energy consumed for all CPUs : 0.021968 kWh. Total CPU Power : 42.5 W\n",
            "[codecarbon INFO @ 01:54:14] 0.051075 kWh of electricity used since the beginning.\n",
            "Epoch [30/80] - Training: 100%|██████████| 313/313 [00:51<00:00,  6.11it/s]\n",
            "/usr/local/lib/python3.10/dist-packages/torch/utils/data/dataloader.py:617: UserWarning: This DataLoader will create 4 worker processes in total. Our suggested max number of worker in current system is 2, which is smaller than what this DataLoader is going to create. Please be aware that excessive worker creation might get DataLoader running slow or even freeze, lower the worker number to avoid potential slowness/freeze if necessary.\n",
            "  warnings.warn(\n",
            "[codecarbon INFO @ 01:54:29] Energy consumed for RAM : 0.002474 kWh. RAM Power : 4.7530388832092285 W\n",
            "[codecarbon INFO @ 01:54:29] Energy consumed for all GPUs : 0.026845 kWh. Total GPU Power : 46.086904963328735 W\n",
            "[codecarbon INFO @ 01:54:29] Energy consumed for all CPUs : 0.022145 kWh. Total CPU Power : 42.5 W\n",
            "[codecarbon INFO @ 01:54:29] 0.051464 kWh of electricity used since the beginning.\n"
          ]
        },
        {
          "output_type": "stream",
          "name": "stdout",
          "text": [
            "Epoch [30/80], Train Loss: 0.5118, Train Acc: 82.44%, Val Loss: 0.5784, Val Acc: 80.28%\n"
          ]
        },
        {
          "output_type": "stream",
          "name": "stderr",
          "text": [
            "Epoch [31/80] - Training:  25%|██▍       | 78/313 [00:12<00:45,  5.15it/s][codecarbon INFO @ 01:54:44] Energy consumed for RAM : 0.002494 kWh. RAM Power : 4.7530388832092285 W\n",
            "[codecarbon INFO @ 01:54:44] Energy consumed for all GPUs : 0.027065 kWh. Total GPU Power : 52.636048412303836 W\n",
            "[codecarbon INFO @ 01:54:44] Energy consumed for all CPUs : 0.022323 kWh. Total CPU Power : 42.5 W\n",
            "[codecarbon INFO @ 01:54:44] 0.051881 kWh of electricity used since the beginning.\n",
            "Epoch [31/80] - Training:  54%|█████▎    | 168/313 [00:27<00:31,  4.65it/s][codecarbon INFO @ 01:54:59] Energy consumed for RAM : 0.002513 kWh. RAM Power : 4.7530388832092285 W\n",
            "[codecarbon INFO @ 01:54:59] Energy consumed for all GPUs : 0.027294 kWh. Total GPU Power : 55.19428334991237 W\n",
            "[codecarbon INFO @ 01:54:59] Energy consumed for all CPUs : 0.022500 kWh. Total CPU Power : 42.5 W\n",
            "[codecarbon INFO @ 01:54:59] 0.052307 kWh of electricity used since the beginning.\n",
            "Epoch [31/80] - Training:  83%|████████▎ | 259/313 [00:42<00:10,  5.01it/s][codecarbon INFO @ 01:55:14] Energy consumed for RAM : 0.002533 kWh. RAM Power : 4.7530388832092285 W\n",
            "[codecarbon INFO @ 01:55:14] Energy consumed for all GPUs : 0.027529 kWh. Total GPU Power : 56.44434378407533 W\n",
            "[codecarbon INFO @ 01:55:14] Energy consumed for all CPUs : 0.022677 kWh. Total CPU Power : 42.5 W\n",
            "[codecarbon INFO @ 01:55:14] 0.052739 kWh of electricity used since the beginning.\n",
            "[codecarbon INFO @ 01:55:14] 0.003830 g.CO2eq/s mean an estimation of 120.7985502982255 kg.CO2eq/year\n",
            "Epoch [31/80] - Training: 100%|██████████| 313/313 [00:51<00:00,  6.11it/s]\n",
            "/usr/local/lib/python3.10/dist-packages/torch/utils/data/dataloader.py:617: UserWarning: This DataLoader will create 4 worker processes in total. Our suggested max number of worker in current system is 2, which is smaller than what this DataLoader is going to create. Please be aware that excessive worker creation might get DataLoader running slow or even freeze, lower the worker number to avoid potential slowness/freeze if necessary.\n",
            "  warnings.warn(\n",
            "[codecarbon INFO @ 01:55:29] Energy consumed for RAM : 0.002553 kWh. RAM Power : 4.7530388832092285 W\n",
            "[codecarbon INFO @ 01:55:29] Energy consumed for all GPUs : 0.027732 kWh. Total GPU Power : 48.67214122532928 W\n",
            "[codecarbon INFO @ 01:55:29] Energy consumed for all CPUs : 0.022854 kWh. Total CPU Power : 42.5 W\n",
            "[codecarbon INFO @ 01:55:29] 0.053138 kWh of electricity used since the beginning.\n"
          ]
        },
        {
          "output_type": "stream",
          "name": "stdout",
          "text": [
            "Epoch [31/80], Train Loss: 0.5100, Train Acc: 82.47%, Val Loss: 0.5978, Val Acc: 79.75%\n"
          ]
        },
        {
          "output_type": "stream",
          "name": "stderr",
          "text": [
            "Epoch [32/80] - Training:  20%|██        | 63/313 [00:10<00:52,  4.79it/s][codecarbon INFO @ 01:55:44] Energy consumed for RAM : 0.002573 kWh. RAM Power : 4.7530388832092285 W\n",
            "[codecarbon INFO @ 01:55:44] Energy consumed for all GPUs : 0.027937 kWh. Total GPU Power : 49.10939530736357 W\n",
            "[codecarbon INFO @ 01:55:44] Energy consumed for all CPUs : 0.023031 kWh. Total CPU Power : 42.5 W\n",
            "[codecarbon INFO @ 01:55:44] 0.053541 kWh of electricity used since the beginning.\n",
            "Epoch [32/80] - Training:  50%|█████     | 157/313 [00:25<00:34,  4.56it/s][codecarbon INFO @ 01:55:59] Energy consumed for RAM : 0.002593 kWh. RAM Power : 4.7530388832092285 W\n",
            "[codecarbon INFO @ 01:55:59] Energy consumed for all GPUs : 0.028169 kWh. Total GPU Power : 55.560862104532276 W\n",
            "[codecarbon INFO @ 01:55:59] Energy consumed for all CPUs : 0.023209 kWh. Total CPU Power : 42.5 W\n",
            "[codecarbon INFO @ 01:55:59] 0.053970 kWh of electricity used since the beginning.\n",
            "Epoch [32/80] - Training:  80%|███████▉  | 249/313 [00:40<00:14,  4.36it/s][codecarbon INFO @ 01:56:14] Energy consumed for RAM : 0.002612 kWh. RAM Power : 4.7530388832092285 W\n",
            "[codecarbon INFO @ 01:56:14] Energy consumed for all GPUs : 0.028397 kWh. Total GPU Power : 54.64703828561193 W\n",
            "[codecarbon INFO @ 01:56:14] Energy consumed for all CPUs : 0.023386 kWh. Total CPU Power : 42.5 W\n",
            "[codecarbon INFO @ 01:56:14] 0.054395 kWh of electricity used since the beginning.\n",
            "Epoch [32/80] - Training: 100%|██████████| 313/313 [00:50<00:00,  6.18it/s]\n",
            "/usr/local/lib/python3.10/dist-packages/torch/utils/data/dataloader.py:617: UserWarning: This DataLoader will create 4 worker processes in total. Our suggested max number of worker in current system is 2, which is smaller than what this DataLoader is going to create. Please be aware that excessive worker creation might get DataLoader running slow or even freeze, lower the worker number to avoid potential slowness/freeze if necessary.\n",
            "  warnings.warn(\n",
            "[codecarbon INFO @ 01:56:29] Energy consumed for RAM : 0.002632 kWh. RAM Power : 4.7530388832092285 W\n",
            "[codecarbon INFO @ 01:56:29] Energy consumed for all GPUs : 0.028605 kWh. Total GPU Power : 49.92449020381015 W\n",
            "[codecarbon INFO @ 01:56:29] Energy consumed for all CPUs : 0.023564 kWh. Total CPU Power : 42.5 W\n",
            "[codecarbon INFO @ 01:56:29] 0.054801 kWh of electricity used since the beginning.\n"
          ]
        },
        {
          "output_type": "stream",
          "name": "stdout",
          "text": [
            "Epoch [32/80], Train Loss: 0.5072, Train Acc: 82.69%, Val Loss: 0.5627, Val Acc: 80.75%\n"
          ]
        },
        {
          "output_type": "stream",
          "name": "stderr",
          "text": [
            "Epoch [33/80] - Training:  16%|█▌        | 49/313 [00:09<00:59,  4.47it/s][codecarbon INFO @ 01:56:44] Energy consumed for RAM : 0.002652 kWh. RAM Power : 4.7530388832092285 W\n",
            "[codecarbon INFO @ 01:56:44] Energy consumed for all GPUs : 0.028795 kWh. Total GPU Power : 45.691049623483245 W\n",
            "[codecarbon INFO @ 01:56:44] Energy consumed for all CPUs : 0.023741 kWh. Total CPU Power : 42.5 W\n",
            "[codecarbon INFO @ 01:56:44] 0.055188 kWh of electricity used since the beginning.\n",
            "Epoch [33/80] - Training:  45%|████▍     | 140/313 [00:24<00:36,  4.74it/s][codecarbon INFO @ 01:56:59] Energy consumed for RAM : 0.002672 kWh. RAM Power : 4.7530388832092285 W\n",
            "[codecarbon INFO @ 01:56:59] Energy consumed for all GPUs : 0.029022 kWh. Total GPU Power : 54.30000719479874 W\n",
            "[codecarbon INFO @ 01:56:59] Energy consumed for all CPUs : 0.023918 kWh. Total CPU Power : 42.5 W\n",
            "[codecarbon INFO @ 01:56:59] 0.055612 kWh of electricity used since the beginning.\n",
            "Epoch [33/80] - Training:  73%|███████▎  | 229/313 [00:39<00:19,  4.27it/s][codecarbon INFO @ 01:57:14] Energy consumed for RAM : 0.002692 kWh. RAM Power : 4.7530388832092285 W\n",
            "[codecarbon INFO @ 01:57:14] Energy consumed for all GPUs : 0.029254 kWh. Total GPU Power : 55.668078743656565 W\n",
            "[codecarbon INFO @ 01:57:14] Energy consumed for all CPUs : 0.024095 kWh. Total CPU Power : 42.5 W\n",
            "[codecarbon INFO @ 01:57:14] 0.056040 kWh of electricity used since the beginning.\n",
            "[codecarbon INFO @ 01:57:14] 0.003811 g.CO2eq/s mean an estimation of 120.18361490462031 kg.CO2eq/year\n",
            "Epoch [33/80] - Training: 100%|██████████| 313/313 [00:51<00:00,  6.03it/s]\n",
            "/usr/local/lib/python3.10/dist-packages/torch/utils/data/dataloader.py:617: UserWarning: This DataLoader will create 4 worker processes in total. Our suggested max number of worker in current system is 2, which is smaller than what this DataLoader is going to create. Please be aware that excessive worker creation might get DataLoader running slow or even freeze, lower the worker number to avoid potential slowness/freeze if necessary.\n",
            "  warnings.warn(\n",
            "[codecarbon INFO @ 01:57:29] Energy consumed for RAM : 0.002711 kWh. RAM Power : 4.7530388832092285 W\n",
            "[codecarbon INFO @ 01:57:29] Energy consumed for all GPUs : 0.029481 kWh. Total GPU Power : 54.42752247169504 W\n",
            "[codecarbon INFO @ 01:57:29] Energy consumed for all CPUs : 0.024273 kWh. Total CPU Power : 42.5 W\n",
            "[codecarbon INFO @ 01:57:29] 0.056465 kWh of electricity used since the beginning.\n"
          ]
        },
        {
          "output_type": "stream",
          "name": "stdout",
          "text": [
            "Epoch [33/80], Train Loss: 0.5036, Train Acc: 82.77%, Val Loss: 0.5786, Val Acc: 80.38%\n"
          ]
        },
        {
          "output_type": "stream",
          "name": "stderr",
          "text": [
            "Epoch [34/80] - Training:  10%|█         | 32/313 [00:07<01:06,  4.20it/s][codecarbon INFO @ 01:57:44] Energy consumed for RAM : 0.002731 kWh. RAM Power : 4.7530388832092285 W\n",
            "[codecarbon INFO @ 01:57:44] Energy consumed for all GPUs : 0.029653 kWh. Total GPU Power : 41.47288346242917 W\n",
            "[codecarbon INFO @ 01:57:44] Energy consumed for all CPUs : 0.024450 kWh. Total CPU Power : 42.5 W\n",
            "[codecarbon INFO @ 01:57:44] 0.056834 kWh of electricity used since the beginning.\n",
            "Epoch [34/80] - Training:  39%|███▊      | 121/313 [00:22<00:51,  3.74it/s][codecarbon INFO @ 01:57:59] Energy consumed for RAM : 0.002751 kWh. RAM Power : 4.7530388832092285 W\n",
            "[codecarbon INFO @ 01:57:59] Energy consumed for all GPUs : 0.029877 kWh. Total GPU Power : 53.82194355816153 W\n",
            "[codecarbon INFO @ 01:57:59] Energy consumed for all CPUs : 0.024627 kWh. Total CPU Power : 42.5 W\n",
            "[codecarbon INFO @ 01:57:59] 0.057255 kWh of electricity used since the beginning.\n",
            "Epoch [34/80] - Training:  68%|██████▊   | 212/313 [00:37<00:21,  4.75it/s][codecarbon INFO @ 01:58:14] Energy consumed for RAM : 0.002771 kWh. RAM Power : 4.7530388832092285 W\n",
            "[codecarbon INFO @ 01:58:14] Energy consumed for all GPUs : 0.030104 kWh. Total GPU Power : 54.41554834104979 W\n",
            "[codecarbon INFO @ 01:58:14] Energy consumed for all CPUs : 0.024804 kWh. Total CPU Power : 42.5 W\n",
            "[codecarbon INFO @ 01:58:14] 0.057679 kWh of electricity used since the beginning.\n",
            "Epoch [34/80] - Training:  96%|█████████▌| 301/313 [00:52<00:02,  4.16it/s][codecarbon INFO @ 01:58:29] Energy consumed for RAM : 0.002791 kWh. RAM Power : 4.7530388832092285 W\n",
            "[codecarbon INFO @ 01:58:29] Energy consumed for all GPUs : 0.030334 kWh. Total GPU Power : 55.2768994483306 W\n",
            "[codecarbon INFO @ 01:58:29] Energy consumed for all CPUs : 0.024981 kWh. Total CPU Power : 42.5 W\n",
            "[codecarbon INFO @ 01:58:29] 0.058106 kWh of electricity used since the beginning.\n",
            "Epoch [34/80] - Training: 100%|██████████| 313/313 [00:53<00:00,  5.81it/s]\n",
            "/usr/local/lib/python3.10/dist-packages/torch/utils/data/dataloader.py:617: UserWarning: This DataLoader will create 4 worker processes in total. Our suggested max number of worker in current system is 2, which is smaller than what this DataLoader is going to create. Please be aware that excessive worker creation might get DataLoader running slow or even freeze, lower the worker number to avoid potential slowness/freeze if necessary.\n",
            "  warnings.warn(\n"
          ]
        },
        {
          "output_type": "stream",
          "name": "stdout",
          "text": [
            "Epoch [34/80], Train Loss: 0.4956, Train Acc: 83.20%, Val Loss: 0.5934, Val Acc: 79.70%\n"
          ]
        },
        {
          "output_type": "stream",
          "name": "stderr",
          "text": [
            "Epoch [35/80] - Training:   5%|▌         | 16/313 [00:04<01:16,  3.89it/s][codecarbon INFO @ 01:58:44] Energy consumed for RAM : 0.002810 kWh. RAM Power : 4.7530388832092285 W\n",
            "[codecarbon INFO @ 01:58:44] Energy consumed for all GPUs : 0.030504 kWh. Total GPU Power : 40.82216123825453 W\n",
            "[codecarbon INFO @ 01:58:44] Energy consumed for all CPUs : 0.025158 kWh. Total CPU Power : 42.5 W\n",
            "[codecarbon INFO @ 01:58:44] 0.058473 kWh of electricity used since the beginning.\n",
            "Epoch [35/80] - Training:  34%|███▍      | 106/313 [00:19<00:48,  4.23it/s][codecarbon INFO @ 01:58:59] Energy consumed for RAM : 0.002830 kWh. RAM Power : 4.7530388832092285 W\n",
            "[codecarbon INFO @ 01:58:59] Energy consumed for all GPUs : 0.030727 kWh. Total GPU Power : 53.42424665592001 W\n",
            "[codecarbon INFO @ 01:58:59] Energy consumed for all CPUs : 0.025335 kWh. Total CPU Power : 42.5 W\n",
            "[codecarbon INFO @ 01:58:59] 0.058893 kWh of electricity used since the beginning.\n",
            "Epoch [35/80] - Training:  63%|██████▎   | 196/313 [00:34<00:26,  4.47it/s][codecarbon INFO @ 01:59:14] Energy consumed for RAM : 0.002850 kWh. RAM Power : 4.7530388832092285 W\n",
            "[codecarbon INFO @ 01:59:14] Energy consumed for all GPUs : 0.030955 kWh. Total GPU Power : 54.62348678678896 W\n",
            "[codecarbon INFO @ 01:59:14] Energy consumed for all CPUs : 0.025513 kWh. Total CPU Power : 42.5 W\n",
            "[codecarbon INFO @ 01:59:14] 0.059317 kWh of electricity used since the beginning.\n",
            "Epoch [35/80] - Training:  63%|██████▎   | 197/313 [00:34<00:27,  4.26it/s][codecarbon INFO @ 01:59:14] 0.003785 g.CO2eq/s mean an estimation of 119.3594586099352 kg.CO2eq/year\n",
            "Epoch [35/80] - Training:  91%|█████████▏| 286/313 [00:49<00:07,  3.77it/s][codecarbon INFO @ 01:59:29] Energy consumed for RAM : 0.002870 kWh. RAM Power : 4.7530388832092285 W\n",
            "[codecarbon INFO @ 01:59:29] Energy consumed for all GPUs : 0.031177 kWh. Total GPU Power : 53.42796705279439 W\n",
            "[codecarbon INFO @ 01:59:29] Energy consumed for all CPUs : 0.025690 kWh. Total CPU Power : 42.5 W\n",
            "[codecarbon INFO @ 01:59:29] 0.059737 kWh of electricity used since the beginning.\n",
            "Epoch [35/80] - Training: 100%|██████████| 313/313 [00:53<00:00,  5.82it/s]\n",
            "/usr/local/lib/python3.10/dist-packages/torch/utils/data/dataloader.py:617: UserWarning: This DataLoader will create 4 worker processes in total. Our suggested max number of worker in current system is 2, which is smaller than what this DataLoader is going to create. Please be aware that excessive worker creation might get DataLoader running slow or even freeze, lower the worker number to avoid potential slowness/freeze if necessary.\n",
            "  warnings.warn(\n"
          ]
        },
        {
          "output_type": "stream",
          "name": "stdout",
          "text": [
            "Epoch [35/80], Train Loss: 0.4895, Train Acc: 83.15%, Val Loss: 0.5921, Val Acc: 79.67%\n"
          ]
        },
        {
          "output_type": "stream",
          "name": "stderr",
          "text": [
            "Epoch [36/80] - Training:   1%|          | 2/313 [00:01<03:11,  1.62it/s][codecarbon INFO @ 01:59:44] Energy consumed for RAM : 0.002890 kWh. RAM Power : 4.7530388832092285 W\n",
            "[codecarbon INFO @ 01:59:44] Energy consumed for all GPUs : 0.031350 kWh. Total GPU Power : 41.40360500863557 W\n",
            "[codecarbon INFO @ 01:59:44] Energy consumed for all CPUs : 0.025867 kWh. Total CPU Power : 42.5 W\n",
            "[codecarbon INFO @ 01:59:44] 0.060106 kWh of electricity used since the beginning.\n",
            "Epoch [36/80] - Training:  28%|██▊       | 88/313 [00:16<00:57,  3.89it/s][codecarbon INFO @ 01:59:59] Energy consumed for RAM : 0.002909 kWh. RAM Power : 4.7530388832092285 W\n",
            "[codecarbon INFO @ 01:59:59] Energy consumed for all GPUs : 0.031562 kWh. Total GPU Power : 51.0294411767305 W\n",
            "[codecarbon INFO @ 01:59:59] Energy consumed for all CPUs : 0.026044 kWh. Total CPU Power : 42.5 W\n",
            "[codecarbon INFO @ 01:59:59] 0.060516 kWh of electricity used since the beginning.\n",
            "Epoch [36/80] - Training:  57%|█████▋    | 177/313 [00:31<00:32,  4.24it/s][codecarbon INFO @ 02:00:14] Energy consumed for RAM : 0.002929 kWh. RAM Power : 4.7530388832092285 W\n",
            "[codecarbon INFO @ 02:00:14] Energy consumed for all GPUs : 0.031789 kWh. Total GPU Power : 54.238494623806446 W\n",
            "[codecarbon INFO @ 02:00:14] Energy consumed for all CPUs : 0.026221 kWh. Total CPU Power : 42.5 W\n",
            "[codecarbon INFO @ 02:00:14] 0.060939 kWh of electricity used since the beginning.\n",
            "Epoch [36/80] - Training:  85%|████████▌ | 267/313 [00:46<00:10,  4.25it/s][codecarbon INFO @ 02:00:29] Energy consumed for RAM : 0.002949 kWh. RAM Power : 4.7530388832092285 W\n",
            "[codecarbon INFO @ 02:00:29] Energy consumed for all GPUs : 0.032016 kWh. Total GPU Power : 54.528471080423344 W\n",
            "[codecarbon INFO @ 02:00:30] Energy consumed for all CPUs : 0.026399 kWh. Total CPU Power : 42.5 W\n",
            "[codecarbon INFO @ 02:00:30] 0.061364 kWh of electricity used since the beginning.\n",
            "Epoch [36/80] - Training: 100%|██████████| 313/313 [00:53<00:00,  5.87it/s]\n",
            "/usr/local/lib/python3.10/dist-packages/torch/utils/data/dataloader.py:617: UserWarning: This DataLoader will create 4 worker processes in total. Our suggested max number of worker in current system is 2, which is smaller than what this DataLoader is going to create. Please be aware that excessive worker creation might get DataLoader running slow or even freeze, lower the worker number to avoid potential slowness/freeze if necessary.\n",
            "  warnings.warn(\n",
            "[codecarbon INFO @ 02:00:44] Energy consumed for RAM : 0.002969 kWh. RAM Power : 4.7530388832092285 W\n",
            "[codecarbon INFO @ 02:00:44] Energy consumed for all GPUs : 0.032206 kWh. Total GPU Power : 45.702453115830295 W\n",
            "[codecarbon INFO @ 02:00:44] Energy consumed for all CPUs : 0.026576 kWh. Total CPU Power : 42.5 W\n",
            "[codecarbon INFO @ 02:00:44] 0.061751 kWh of electricity used since the beginning.\n"
          ]
        },
        {
          "output_type": "stream",
          "name": "stdout",
          "text": [
            "Epoch [36/80], Train Loss: 0.4899, Train Acc: 83.14%, Val Loss: 0.5845, Val Acc: 80.30%\n"
          ]
        },
        {
          "output_type": "stream",
          "name": "stderr",
          "text": [
            "Epoch [37/80] - Training:  21%|██▏       | 67/313 [00:12<01:02,  3.95it/s][codecarbon INFO @ 02:00:59] Energy consumed for RAM : 0.002989 kWh. RAM Power : 4.7530388832092285 W\n",
            "[codecarbon INFO @ 02:00:59] Energy consumed for all GPUs : 0.032412 kWh. Total GPU Power : 49.483809885671654 W\n",
            "[codecarbon INFO @ 02:00:59] Energy consumed for all CPUs : 0.026753 kWh. Total CPU Power : 42.5 W\n",
            "[codecarbon INFO @ 02:00:59] 0.062154 kWh of electricity used since the beginning.\n",
            "Epoch [37/80] - Training:  51%|█████     | 159/313 [00:27<00:34,  4.48it/s][codecarbon INFO @ 02:01:15] Energy consumed for RAM : 0.003008 kWh. RAM Power : 4.7530388832092285 W\n",
            "[codecarbon INFO @ 02:01:15] Energy consumed for all GPUs : 0.032637 kWh. Total GPU Power : 53.84267488461583 W\n",
            "[codecarbon INFO @ 02:01:15] Energy consumed for all CPUs : 0.026930 kWh. Total CPU Power : 42.5 W\n",
            "[codecarbon INFO @ 02:01:15] 0.062575 kWh of electricity used since the beginning.\n",
            "[codecarbon INFO @ 02:01:15] 0.003763 g.CO2eq/s mean an estimation of 118.67736144107374 kg.CO2eq/year\n",
            "Epoch [37/80] - Training:  80%|███████▉  | 249/313 [00:42<00:13,  4.75it/s][codecarbon INFO @ 02:01:30] Energy consumed for RAM : 0.003028 kWh. RAM Power : 4.7530388832092285 W\n",
            "[codecarbon INFO @ 02:01:30] Energy consumed for all GPUs : 0.032866 kWh. Total GPU Power : 54.87352205444673 W\n",
            "[codecarbon INFO @ 02:01:30] Energy consumed for all CPUs : 0.027108 kWh. Total CPU Power : 42.5 W\n",
            "[codecarbon INFO @ 02:01:30] 0.063002 kWh of electricity used since the beginning.\n",
            "Epoch [37/80] - Training: 100%|██████████| 313/313 [00:52<00:00,  6.00it/s]\n",
            "/usr/local/lib/python3.10/dist-packages/torch/utils/data/dataloader.py:617: UserWarning: This DataLoader will create 4 worker processes in total. Our suggested max number of worker in current system is 2, which is smaller than what this DataLoader is going to create. Please be aware that excessive worker creation might get DataLoader running slow or even freeze, lower the worker number to avoid potential slowness/freeze if necessary.\n",
            "  warnings.warn(\n",
            "[codecarbon INFO @ 02:01:45] Energy consumed for RAM : 0.003048 kWh. RAM Power : 4.7530388832092285 W\n",
            "[codecarbon INFO @ 02:01:45] Energy consumed for all GPUs : 0.033073 kWh. Total GPU Power : 49.504680745107265 W\n",
            "[codecarbon INFO @ 02:01:45] Energy consumed for all CPUs : 0.027285 kWh. Total CPU Power : 42.5 W\n",
            "[codecarbon INFO @ 02:01:45] 0.063406 kWh of electricity used since the beginning.\n"
          ]
        },
        {
          "output_type": "stream",
          "name": "stdout",
          "text": [
            "Epoch [37/80], Train Loss: 0.4832, Train Acc: 83.41%, Val Loss: 0.5810, Val Acc: 79.98%\n"
          ]
        },
        {
          "output_type": "stream",
          "name": "stderr",
          "text": [
            "Epoch [38/80] - Training:  16%|█▋        | 51/313 [00:09<00:57,  4.55it/s][codecarbon INFO @ 02:02:00] Energy consumed for RAM : 0.003068 kWh. RAM Power : 4.7530388832092285 W\n",
            "[codecarbon INFO @ 02:02:00] Energy consumed for all GPUs : 0.033260 kWh. Total GPU Power : 45.20518768427377 W\n",
            "[codecarbon INFO @ 02:02:00] Energy consumed for all CPUs : 0.027462 kWh. Total CPU Power : 42.5 W\n",
            "[codecarbon INFO @ 02:02:00] 0.063790 kWh of electricity used since the beginning.\n",
            "Epoch [38/80] - Training:  45%|████▍     | 140/313 [00:24<00:39,  4.33it/s][codecarbon INFO @ 02:02:15] Energy consumed for RAM : 0.003088 kWh. RAM Power : 4.7530388832092285 W\n",
            "Epoch [38/80] - Training:  45%|████▌     | 141/313 [00:24<00:38,  4.51it/s][codecarbon INFO @ 02:02:15] Energy consumed for all GPUs : 0.033488 kWh. Total GPU Power : 54.56389762962024 W\n",
            "[codecarbon INFO @ 02:02:15] Energy consumed for all CPUs : 0.027639 kWh. Total CPU Power : 42.5 W\n",
            "[codecarbon INFO @ 02:02:15] 0.064214 kWh of electricity used since the beginning.\n",
            "Epoch [38/80] - Training:  74%|███████▍  | 231/313 [00:39<00:18,  4.49it/s][codecarbon INFO @ 02:02:30] Energy consumed for RAM : 0.003107 kWh. RAM Power : 4.7530388832092285 W\n",
            "[codecarbon INFO @ 02:02:30] Energy consumed for all GPUs : 0.033714 kWh. Total GPU Power : 54.41526072008019 W\n",
            "[codecarbon INFO @ 02:02:30] Energy consumed for all CPUs : 0.027816 kWh. Total CPU Power : 42.5 W\n",
            "[codecarbon INFO @ 02:02:30] 0.064638 kWh of electricity used since the beginning.\n",
            "Epoch [38/80] - Training: 100%|██████████| 313/313 [00:52<00:00,  6.01it/s]\n",
            "/usr/local/lib/python3.10/dist-packages/torch/utils/data/dataloader.py:617: UserWarning: This DataLoader will create 4 worker processes in total. Our suggested max number of worker in current system is 2, which is smaller than what this DataLoader is going to create. Please be aware that excessive worker creation might get DataLoader running slow or even freeze, lower the worker number to avoid potential slowness/freeze if necessary.\n",
            "  warnings.warn(\n",
            "[codecarbon INFO @ 02:02:45] Energy consumed for RAM : 0.003127 kWh. RAM Power : 4.7530388832092285 W\n",
            "[codecarbon INFO @ 02:02:45] Energy consumed for all GPUs : 0.033938 kWh. Total GPU Power : 53.68786511944707 W\n",
            "[codecarbon INFO @ 02:02:45] Energy consumed for all CPUs : 0.027994 kWh. Total CPU Power : 42.5 W\n",
            "[codecarbon INFO @ 02:02:45] 0.065059 kWh of electricity used since the beginning.\n"
          ]
        },
        {
          "output_type": "stream",
          "name": "stdout",
          "text": [
            "Epoch [38/80], Train Loss: 0.4786, Train Acc: 83.63%, Val Loss: 0.5768, Val Acc: 79.82%\n"
          ]
        },
        {
          "output_type": "stream",
          "name": "stderr",
          "text": [
            "Epoch [39/80] - Training:  11%|█         | 33/313 [00:07<01:05,  4.25it/s][codecarbon INFO @ 02:03:00] Energy consumed for RAM : 0.003147 kWh. RAM Power : 4.7530388832092285 W\n",
            "[codecarbon INFO @ 02:03:00] Energy consumed for all GPUs : 0.034106 kWh. Total GPU Power : 40.266891160120885 W\n",
            "[codecarbon INFO @ 02:03:00] Energy consumed for all CPUs : 0.028170 kWh. Total CPU Power : 42.5 W\n",
            "[codecarbon INFO @ 02:03:00] 0.065423 kWh of electricity used since the beginning.\n",
            "Epoch [39/80] - Training:  39%|███▉      | 123/313 [00:22<00:43,  4.37it/s][codecarbon INFO @ 02:03:15] Energy consumed for RAM : 0.003167 kWh. RAM Power : 4.7530388832092285 W\n",
            "[codecarbon INFO @ 02:03:15] Energy consumed for all GPUs : 0.034330 kWh. Total GPU Power : 53.86515588667913 W\n",
            "[codecarbon INFO @ 02:03:15] Energy consumed for all CPUs : 0.028348 kWh. Total CPU Power : 42.5 W\n",
            "[codecarbon INFO @ 02:03:15] 0.065844 kWh of electricity used since the beginning.\n",
            "[codecarbon INFO @ 02:03:15] 0.003776 g.CO2eq/s mean an estimation of 119.07612627878918 kg.CO2eq/year\n",
            "Epoch [39/80] - Training:  68%|██████▊   | 212/313 [00:37<00:23,  4.36it/s][codecarbon INFO @ 02:03:30] Energy consumed for RAM : 0.003186 kWh. RAM Power : 4.7530388832092285 W\n",
            "[codecarbon INFO @ 02:03:30] Energy consumed for all GPUs : 0.034555 kWh. Total GPU Power : 53.932706589021414 W\n",
            "[codecarbon INFO @ 02:03:30] Energy consumed for all CPUs : 0.028525 kWh. Total CPU Power : 42.5 W\n",
            "[codecarbon INFO @ 02:03:30] 0.066266 kWh of electricity used since the beginning.\n",
            "Epoch [39/80] - Training:  96%|█████████▋| 302/313 [00:52<00:02,  4.13it/s][codecarbon INFO @ 02:03:45] Energy consumed for RAM : 0.003206 kWh. RAM Power : 4.7530388832092285 W\n",
            "[codecarbon INFO @ 02:03:45] Energy consumed for all GPUs : 0.034782 kWh. Total GPU Power : 54.59018910701401 W\n",
            "[codecarbon INFO @ 02:03:45] Energy consumed for all CPUs : 0.028702 kWh. Total CPU Power : 42.5 W\n",
            "[codecarbon INFO @ 02:03:45] 0.066690 kWh of electricity used since the beginning.\n",
            "Epoch [39/80] - Training: 100%|██████████| 313/313 [00:53<00:00,  5.83it/s]\n",
            "/usr/local/lib/python3.10/dist-packages/torch/utils/data/dataloader.py:617: UserWarning: This DataLoader will create 4 worker processes in total. Our suggested max number of worker in current system is 2, which is smaller than what this DataLoader is going to create. Please be aware that excessive worker creation might get DataLoader running slow or even freeze, lower the worker number to avoid potential slowness/freeze if necessary.\n",
            "  warnings.warn(\n"
          ]
        },
        {
          "output_type": "stream",
          "name": "stdout",
          "text": [
            "Epoch [39/80], Train Loss: 0.3987, Train Acc: 86.33%, Val Loss: 0.4851, Val Acc: 83.38%\n"
          ]
        },
        {
          "output_type": "stream",
          "name": "stderr",
          "text": [
            "Epoch [40/80] - Training:   5%|▍         | 15/313 [00:04<01:12,  4.09it/s][codecarbon INFO @ 02:04:00] Energy consumed for RAM : 0.003226 kWh. RAM Power : 4.7530388832092285 W\n",
            "[codecarbon INFO @ 02:04:00] Energy consumed for all GPUs : 0.034944 kWh. Total GPU Power : 38.877907473162615 W\n",
            "[codecarbon INFO @ 02:04:00] Energy consumed for all CPUs : 0.028879 kWh. Total CPU Power : 42.5 W\n",
            "[codecarbon INFO @ 02:04:00] 0.067050 kWh of electricity used since the beginning.\n",
            "Epoch [40/80] - Training:  33%|███▎      | 104/313 [00:19<00:46,  4.51it/s][codecarbon INFO @ 02:04:15] Energy consumed for RAM : 0.003246 kWh. RAM Power : 4.7530388832092285 W\n",
            "[codecarbon INFO @ 02:04:15] Energy consumed for all GPUs : 0.035166 kWh. Total GPU Power : 53.114648340691616 W\n",
            "[codecarbon INFO @ 02:04:15] Energy consumed for all CPUs : 0.029057 kWh. Total CPU Power : 42.5 W\n",
            "[codecarbon INFO @ 02:04:15] 0.067468 kWh of electricity used since the beginning.\n",
            "Epoch [40/80] - Training:  62%|██████▏   | 194/313 [00:34<00:27,  4.33it/s][codecarbon INFO @ 02:04:30] Energy consumed for RAM : 0.003266 kWh. RAM Power : 4.7530388832092285 W\n",
            "[codecarbon INFO @ 02:04:30] Energy consumed for all GPUs : 0.035392 kWh. Total GPU Power : 54.10871477425637 W\n",
            "[codecarbon INFO @ 02:04:30] Energy consumed for all CPUs : 0.029234 kWh. Total CPU Power : 42.5 W\n",
            "[codecarbon INFO @ 02:04:30] 0.067891 kWh of electricity used since the beginning.\n",
            "Epoch [40/80] - Training:  91%|█████████ | 284/313 [00:49<00:06,  4.20it/s][codecarbon INFO @ 02:04:45] Energy consumed for RAM : 0.003285 kWh. RAM Power : 4.7530388832092285 W\n",
            "[codecarbon INFO @ 02:04:45] Energy consumed for all GPUs : 0.035620 kWh. Total GPU Power : 54.93180719364105 W\n",
            "[codecarbon INFO @ 02:04:45] Energy consumed for all CPUs : 0.029412 kWh. Total CPU Power : 42.5 W\n",
            "[codecarbon INFO @ 02:04:45] 0.068317 kWh of electricity used since the beginning.\n",
            "Epoch [40/80] - Training: 100%|██████████| 313/313 [00:53<00:00,  5.85it/s]\n",
            "/usr/local/lib/python3.10/dist-packages/torch/utils/data/dataloader.py:617: UserWarning: This DataLoader will create 4 worker processes in total. Our suggested max number of worker in current system is 2, which is smaller than what this DataLoader is going to create. Please be aware that excessive worker creation might get DataLoader running slow or even freeze, lower the worker number to avoid potential slowness/freeze if necessary.\n",
            "  warnings.warn(\n"
          ]
        },
        {
          "output_type": "stream",
          "name": "stdout",
          "text": [
            "Epoch [40/80], Train Loss: 0.3578, Train Acc: 87.58%, Val Loss: 0.4638, Val Acc: 83.96%\n"
          ]
        },
        {
          "output_type": "stream",
          "name": "stderr",
          "text": [
            "\rEpoch [41/80] - Training:   0%|          | 0/313 [00:00<?, ?it/s][codecarbon INFO @ 02:05:00] Energy consumed for RAM : 0.003305 kWh. RAM Power : 4.7530388832092285 W\n",
            "[codecarbon INFO @ 02:05:00] Energy consumed for all GPUs : 0.035803 kWh. Total GPU Power : 44.0304114155931 W\n",
            "[codecarbon INFO @ 02:05:00] Energy consumed for all CPUs : 0.029588 kWh. Total CPU Power : 42.5 W\n",
            "[codecarbon INFO @ 02:05:00] 0.068697 kWh of electricity used since the beginning.\n",
            "Epoch [41/80] - Training:  28%|██▊       | 89/313 [00:15<00:37,  5.90it/s][codecarbon INFO @ 02:05:15] Energy consumed for RAM : 0.003325 kWh. RAM Power : 4.7530388832092285 W\n",
            "[codecarbon INFO @ 02:05:15] Energy consumed for all GPUs : 0.036028 kWh. Total GPU Power : 53.88609893181072 W\n",
            "[codecarbon INFO @ 02:05:15] Energy consumed for all CPUs : 0.029766 kWh. Total CPU Power : 42.5 W\n",
            "[codecarbon INFO @ 02:05:15] 0.069119 kWh of electricity used since the beginning.\n",
            "[codecarbon INFO @ 02:05:15] 0.003780 g.CO2eq/s mean an estimation of 119.21120592809716 kg.CO2eq/year\n",
            "Epoch [41/80] - Training:  58%|█████▊    | 181/313 [00:30<00:22,  5.95it/s][codecarbon INFO @ 02:05:30] Energy consumed for RAM : 0.003345 kWh. RAM Power : 4.7530388832092285 W\n",
            "[codecarbon INFO @ 02:05:30] Energy consumed for all GPUs : 0.036258 kWh. Total GPU Power : 55.28637167664253 W\n",
            "[codecarbon INFO @ 02:05:30] Energy consumed for all CPUs : 0.029943 kWh. Total CPU Power : 42.5 W\n",
            "[codecarbon INFO @ 02:05:30] 0.069546 kWh of electricity used since the beginning.\n",
            "Epoch [41/80] - Training:  88%|████████▊ | 274/313 [00:45<00:05,  7.03it/s][codecarbon INFO @ 02:05:45] Energy consumed for RAM : 0.003365 kWh. RAM Power : 4.7530388832092285 W\n",
            "[codecarbon INFO @ 02:05:45] Energy consumed for all GPUs : 0.036487 kWh. Total GPU Power : 54.880624566257026 W\n",
            "[codecarbon INFO @ 02:05:45] Energy consumed for all CPUs : 0.030120 kWh. Total CPU Power : 42.5 W\n",
            "[codecarbon INFO @ 02:05:45] 0.069971 kWh of electricity used since the beginning.\n",
            "Epoch [41/80] - Training: 100%|██████████| 313/313 [00:50<00:00,  6.15it/s]\n",
            "/usr/local/lib/python3.10/dist-packages/torch/utils/data/dataloader.py:617: UserWarning: This DataLoader will create 4 worker processes in total. Our suggested max number of worker in current system is 2, which is smaller than what this DataLoader is going to create. Please be aware that excessive worker creation might get DataLoader running slow or even freeze, lower the worker number to avoid potential slowness/freeze if necessary.\n",
            "  warnings.warn(\n",
            "[codecarbon INFO @ 02:06:00] Energy consumed for RAM : 0.003384 kWh. RAM Power : 4.7530388832092285 W\n",
            "[codecarbon INFO @ 02:06:00] Energy consumed for all GPUs : 0.036679 kWh. Total GPU Power : 46.08419862493834 W\n",
            "[codecarbon INFO @ 02:06:00] Energy consumed for all CPUs : 0.030297 kWh. Total CPU Power : 42.5 W\n",
            "[codecarbon INFO @ 02:06:00] 0.070360 kWh of electricity used since the beginning.\n"
          ]
        },
        {
          "output_type": "stream",
          "name": "stdout",
          "text": [
            "Epoch [41/80], Train Loss: 0.3468, Train Acc: 87.93%, Val Loss: 0.4591, Val Acc: 84.60%\n"
          ]
        },
        {
          "output_type": "stream",
          "name": "stderr",
          "text": [
            "Epoch [42/80] - Training:  27%|██▋       | 83/313 [00:14<00:33,  6.80it/s][codecarbon INFO @ 02:06:15] Energy consumed for RAM : 0.003404 kWh. RAM Power : 4.7530388832092285 W\n",
            "[codecarbon INFO @ 02:06:15] Energy consumed for all GPUs : 0.036893 kWh. Total GPU Power : 51.425279110800076 W\n",
            "[codecarbon INFO @ 02:06:15] Energy consumed for all CPUs : 0.030474 kWh. Total CPU Power : 42.5 W\n",
            "[codecarbon INFO @ 02:06:15] 0.070771 kWh of electricity used since the beginning.\n",
            "Epoch [42/80] - Training:  57%|█████▋    | 178/313 [00:29<00:19,  6.82it/s][codecarbon INFO @ 02:06:30] Energy consumed for RAM : 0.003424 kWh. RAM Power : 4.7530388832092285 W\n",
            "Epoch [42/80] - Training:  57%|█████▋    | 179/313 [00:29<00:18,  7.27it/s][codecarbon INFO @ 02:06:30] Energy consumed for all GPUs : 0.037126 kWh. Total GPU Power : 55.916172899225586 W\n",
            "[codecarbon INFO @ 02:06:30] Energy consumed for all CPUs : 0.030651 kWh. Total CPU Power : 42.5 W\n",
            "[codecarbon INFO @ 02:06:30] 0.071201 kWh of electricity used since the beginning.\n",
            "Epoch [42/80] - Training:  87%|████████▋ | 271/313 [00:44<00:06,  6.98it/s][codecarbon INFO @ 02:06:45] Energy consumed for RAM : 0.003444 kWh. RAM Power : 4.7530388832092285 W\n",
            "[codecarbon INFO @ 02:06:45] Energy consumed for all GPUs : 0.037360 kWh. Total GPU Power : 56.23291408534215 W\n",
            "[codecarbon INFO @ 02:06:45] Energy consumed for all CPUs : 0.030829 kWh. Total CPU Power : 42.5 W\n",
            "[codecarbon INFO @ 02:06:45] 0.071633 kWh of electricity used since the beginning.\n",
            "Epoch [42/80] - Training: 100%|██████████| 313/313 [00:50<00:00,  6.25it/s]\n",
            "/usr/local/lib/python3.10/dist-packages/torch/utils/data/dataloader.py:617: UserWarning: This DataLoader will create 4 worker processes in total. Our suggested max number of worker in current system is 2, which is smaller than what this DataLoader is going to create. Please be aware that excessive worker creation might get DataLoader running slow or even freeze, lower the worker number to avoid potential slowness/freeze if necessary.\n",
            "  warnings.warn(\n",
            "[codecarbon INFO @ 02:07:00] Energy consumed for RAM : 0.003464 kWh. RAM Power : 4.7530388832092285 W\n",
            "[codecarbon INFO @ 02:07:00] Energy consumed for all GPUs : 0.037554 kWh. Total GPU Power : 46.43562788496581 W\n",
            "[codecarbon INFO @ 02:07:00] Energy consumed for all CPUs : 0.031006 kWh. Total CPU Power : 42.5 W\n",
            "[codecarbon INFO @ 02:07:00] 0.072023 kWh of electricity used since the beginning.\n"
          ]
        },
        {
          "output_type": "stream",
          "name": "stdout",
          "text": [
            "Epoch [42/80], Train Loss: 0.3316, Train Acc: 88.56%, Val Loss: 0.4546, Val Acc: 84.58%\n"
          ]
        },
        {
          "output_type": "stream",
          "name": "stderr",
          "text": [
            "Epoch [43/80] - Training:  23%|██▎       | 73/313 [00:13<00:35,  6.82it/s][codecarbon INFO @ 02:07:15] Energy consumed for RAM : 0.003483 kWh. RAM Power : 4.7530388832092285 W\n",
            "[codecarbon INFO @ 02:07:15] Energy consumed for all GPUs : 0.037757 kWh. Total GPU Power : 48.89830810179377 W\n",
            "[codecarbon INFO @ 02:07:15] Energy consumed for all CPUs : 0.031183 kWh. Total CPU Power : 42.5 W\n",
            "[codecarbon INFO @ 02:07:15] 0.072424 kWh of electricity used since the beginning.\n",
            "[codecarbon INFO @ 02:07:15] 0.003818 g.CO2eq/s mean an estimation of 120.40093886991615 kg.CO2eq/year\n",
            "Epoch [43/80] - Training:  52%|█████▏    | 162/313 [00:28<00:22,  6.80it/s][codecarbon INFO @ 02:07:30] Energy consumed for RAM : 0.003503 kWh. RAM Power : 4.7530388832092285 W\n",
            "[codecarbon INFO @ 02:07:30] Energy consumed for all GPUs : 0.037984 kWh. Total GPU Power : 54.461924276633226 W\n",
            "[codecarbon INFO @ 02:07:30] Energy consumed for all CPUs : 0.031360 kWh. Total CPU Power : 42.5 W\n",
            "[codecarbon INFO @ 02:07:30] 0.072847 kWh of electricity used since the beginning.\n",
            "Epoch [43/80] - Training:  79%|███████▊  | 246/313 [00:43<00:10,  6.67it/s][codecarbon INFO @ 02:07:45] Energy consumed for RAM : 0.003523 kWh. RAM Power : 4.7530388832092285 W\n",
            "[codecarbon INFO @ 02:07:45] Energy consumed for all GPUs : 0.038204 kWh. Total GPU Power : 52.687948905878436 W\n",
            "[codecarbon INFO @ 02:07:45] Energy consumed for all CPUs : 0.031537 kWh. Total CPU Power : 42.5 W\n",
            "[codecarbon INFO @ 02:07:45] 0.073264 kWh of electricity used since the beginning.\n",
            "Epoch [43/80] - Training: 100%|██████████| 313/313 [00:53<00:00,  5.82it/s]\n",
            "/usr/local/lib/python3.10/dist-packages/torch/utils/data/dataloader.py:617: UserWarning: This DataLoader will create 4 worker processes in total. Our suggested max number of worker in current system is 2, which is smaller than what this DataLoader is going to create. Please be aware that excessive worker creation might get DataLoader running slow or even freeze, lower the worker number to avoid potential slowness/freeze if necessary.\n",
            "  warnings.warn(\n",
            "[codecarbon INFO @ 02:08:00] Energy consumed for RAM : 0.003543 kWh. RAM Power : 4.7530388832092285 W\n",
            "[codecarbon INFO @ 02:08:00] Energy consumed for all GPUs : 0.038422 kWh. Total GPU Power : 52.514662459091845 W\n",
            "[codecarbon INFO @ 02:08:00] Energy consumed for all CPUs : 0.031714 kWh. Total CPU Power : 42.5 W\n",
            "[codecarbon INFO @ 02:08:00] 0.073680 kWh of electricity used since the beginning.\n"
          ]
        },
        {
          "output_type": "stream",
          "name": "stdout",
          "text": [
            "Epoch [43/80], Train Loss: 0.3220, Train Acc: 88.86%, Val Loss: 0.4640, Val Acc: 84.52%\n"
          ]
        },
        {
          "output_type": "stream",
          "name": "stderr",
          "text": [
            "Epoch [44/80] - Training:  17%|█▋        | 52/313 [00:10<00:37,  6.96it/s][codecarbon INFO @ 02:08:15] Energy consumed for RAM : 0.003563 kWh. RAM Power : 4.7530388832092285 W\n",
            "[codecarbon INFO @ 02:08:15] Energy consumed for all GPUs : 0.038600 kWh. Total GPU Power : 42.70265594278918 W\n",
            "[codecarbon INFO @ 02:08:15] Energy consumed for all CPUs : 0.031891 kWh. Total CPU Power : 42.5 W\n",
            "[codecarbon INFO @ 02:08:15] 0.074054 kWh of electricity used since the beginning.\n",
            "Epoch [44/80] - Training:  46%|████▌     | 143/313 [00:25<00:25,  6.69it/s][codecarbon INFO @ 02:08:30] Energy consumed for RAM : 0.003582 kWh. RAM Power : 4.7530388832092285 W\n",
            "[codecarbon INFO @ 02:08:30] Energy consumed for all GPUs : 0.038829 kWh. Total GPU Power : 54.91105569398891 W\n",
            "[codecarbon INFO @ 02:08:30] Energy consumed for all CPUs : 0.032069 kWh. Total CPU Power : 42.5 W\n",
            "[codecarbon INFO @ 02:08:30] 0.074480 kWh of electricity used since the beginning.\n",
            "Epoch [44/80] - Training:  76%|███████▌  | 237/313 [00:40<00:11,  6.78it/s][codecarbon INFO @ 02:08:45] Energy consumed for RAM : 0.003602 kWh. RAM Power : 4.7530388832092285 W\n",
            "[codecarbon INFO @ 02:08:45] Energy consumed for all GPUs : 0.039065 kWh. Total GPU Power : 56.451530579209695 W\n",
            "[codecarbon INFO @ 02:08:45] Energy consumed for all CPUs : 0.032246 kWh. Total CPU Power : 42.5 W\n",
            "[codecarbon INFO @ 02:08:45] 0.074913 kWh of electricity used since the beginning.\n",
            "Epoch [44/80] - Training: 100%|██████████| 313/313 [00:52<00:00,  5.97it/s]\n",
            "/usr/local/lib/python3.10/dist-packages/torch/utils/data/dataloader.py:617: UserWarning: This DataLoader will create 4 worker processes in total. Our suggested max number of worker in current system is 2, which is smaller than what this DataLoader is going to create. Please be aware that excessive worker creation might get DataLoader running slow or even freeze, lower the worker number to avoid potential slowness/freeze if necessary.\n",
            "  warnings.warn(\n",
            "[codecarbon INFO @ 02:09:00] Energy consumed for RAM : 0.003622 kWh. RAM Power : 4.7530388832092285 W\n",
            "[codecarbon INFO @ 02:09:00] Energy consumed for all GPUs : 0.039284 kWh. Total GPU Power : 52.614856567478576 W\n",
            "[codecarbon INFO @ 02:09:00] Energy consumed for all CPUs : 0.032423 kWh. Total CPU Power : 42.5 W\n",
            "[codecarbon INFO @ 02:09:00] 0.075329 kWh of electricity used since the beginning.\n"
          ]
        },
        {
          "output_type": "stream",
          "name": "stdout",
          "text": [
            "Epoch [44/80], Train Loss: 0.3142, Train Acc: 89.23%, Val Loss: 0.4495, Val Acc: 84.82%\n"
          ]
        },
        {
          "output_type": "stream",
          "name": "stderr",
          "text": [
            "Epoch [45/80] - Training:  14%|█▍        | 45/313 [00:08<00:36,  7.36it/s][codecarbon INFO @ 02:09:15] Energy consumed for RAM : 0.003642 kWh. RAM Power : 4.7530388832092285 W\n",
            "[codecarbon INFO @ 02:09:15] Energy consumed for all GPUs : 0.039462 kWh. Total GPU Power : 42.58823231524222 W\n",
            "[codecarbon INFO @ 02:09:15] Energy consumed for all CPUs : 0.032600 kWh. Total CPU Power : 42.5 W\n",
            "[codecarbon INFO @ 02:09:15] 0.075704 kWh of electricity used since the beginning.\n",
            "[codecarbon INFO @ 02:09:15] 0.003788 g.CO2eq/s mean an estimation of 119.46958145531015 kg.CO2eq/year\n",
            "Epoch [45/80] - Training:  44%|████▍     | 139/313 [00:23<00:25,  6.75it/s][codecarbon INFO @ 02:09:30] Energy consumed for RAM : 0.003662 kWh. RAM Power : 4.7530388832092285 W\n",
            "[codecarbon INFO @ 02:09:30] Energy consumed for all GPUs : 0.039691 kWh. Total GPU Power : 54.932021883194366 W\n",
            "[codecarbon INFO @ 02:09:30] Energy consumed for all CPUs : 0.032778 kWh. Total CPU Power : 42.5 W\n",
            "[codecarbon INFO @ 02:09:30] 0.076130 kWh of electricity used since the beginning.\n",
            "Epoch [45/80] - Training:  74%|███████▍  | 231/313 [00:39<00:12,  6.67it/s][codecarbon INFO @ 02:09:45] Energy consumed for RAM : 0.003681 kWh. RAM Power : 4.7530388832092285 W\n",
            "[codecarbon INFO @ 02:09:45] Energy consumed for all GPUs : 0.039920 kWh. Total GPU Power : 55.2209854839963 W\n",
            "[codecarbon INFO @ 02:09:45] Energy consumed for all CPUs : 0.032955 kWh. Total CPU Power : 42.5 W\n",
            "[codecarbon INFO @ 02:09:45] 0.076556 kWh of electricity used since the beginning.\n",
            "Epoch [45/80] - Training: 100%|██████████| 313/313 [00:52<00:00,  5.94it/s]\n",
            "/usr/local/lib/python3.10/dist-packages/torch/utils/data/dataloader.py:617: UserWarning: This DataLoader will create 4 worker processes in total. Our suggested max number of worker in current system is 2, which is smaller than what this DataLoader is going to create. Please be aware that excessive worker creation might get DataLoader running slow or even freeze, lower the worker number to avoid potential slowness/freeze if necessary.\n",
            "  warnings.warn(\n",
            "[codecarbon INFO @ 02:10:00] Energy consumed for RAM : 0.003701 kWh. RAM Power : 4.7530388832092285 W\n",
            "[codecarbon INFO @ 02:10:00] Energy consumed for all GPUs : 0.040141 kWh. Total GPU Power : 52.873001735006504 W\n",
            "[codecarbon INFO @ 02:10:00] Energy consumed for all CPUs : 0.033132 kWh. Total CPU Power : 42.5 W\n",
            "[codecarbon INFO @ 02:10:00] 0.076974 kWh of electricity used since the beginning.\n"
          ]
        },
        {
          "output_type": "stream",
          "name": "stdout",
          "text": [
            "Epoch [45/80], Train Loss: 0.3117, Train Acc: 89.21%, Val Loss: 0.4464, Val Acc: 84.95%\n"
          ]
        },
        {
          "output_type": "stream",
          "name": "stderr",
          "text": [
            "Epoch [46/80] - Training:  11%|█         | 33/313 [00:05<00:42,  6.66it/s][codecarbon INFO @ 02:10:15] Energy consumed for RAM : 0.003721 kWh. RAM Power : 4.7530388832092285 W\n",
            "[codecarbon INFO @ 02:10:15] Energy consumed for all GPUs : 0.040318 kWh. Total GPU Power : 42.59238440359939 W\n",
            "[codecarbon INFO @ 02:10:15] Energy consumed for all CPUs : 0.033309 kWh. Total CPU Power : 42.5 W\n",
            "[codecarbon INFO @ 02:10:15] 0.077349 kWh of electricity used since the beginning.\n",
            "Epoch [46/80] - Training:  39%|███▉      | 122/313 [00:20<00:28,  6.81it/s][codecarbon INFO @ 02:10:30] Energy consumed for RAM : 0.003741 kWh. RAM Power : 4.7530388832092285 W\n",
            "[codecarbon INFO @ 02:10:30] Energy consumed for all GPUs : 0.040545 kWh. Total GPU Power : 54.408019006148166 W\n",
            "[codecarbon INFO @ 02:10:30] Energy consumed for all CPUs : 0.033486 kWh. Total CPU Power : 42.5 W\n",
            "[codecarbon INFO @ 02:10:30] 0.077772 kWh of electricity used since the beginning.\n",
            "Epoch [46/80] - Training:  67%|██████▋   | 210/313 [00:35<00:15,  6.79it/s][codecarbon INFO @ 02:10:45] Energy consumed for RAM : 0.003760 kWh. RAM Power : 4.7530388832092285 W\n",
            "[codecarbon INFO @ 02:10:45] Energy consumed for all GPUs : 0.040772 kWh. Total GPU Power : 54.6594480073889 W\n",
            "[codecarbon INFO @ 02:10:45] Energy consumed for all CPUs : 0.033663 kWh. Total CPU Power : 42.5 W\n",
            "[codecarbon INFO @ 02:10:45] 0.078196 kWh of electricity used since the beginning.\n",
            "Epoch [46/80] - Training:  95%|█████████▌| 298/313 [00:50<00:02,  6.19it/s][codecarbon INFO @ 02:11:00] Energy consumed for RAM : 0.003780 kWh. RAM Power : 4.7530388832092285 W\n",
            "[codecarbon INFO @ 02:11:00] Energy consumed for all GPUs : 0.040998 kWh. Total GPU Power : 54.21372125084915 W\n",
            "[codecarbon INFO @ 02:11:00] Energy consumed for all CPUs : 0.033841 kWh. Total CPU Power : 42.5 W\n",
            "[codecarbon INFO @ 02:11:00] 0.078619 kWh of electricity used since the beginning.\n",
            "Epoch [46/80] - Training: 100%|██████████| 313/313 [00:52<00:00,  5.94it/s]\n",
            "/usr/local/lib/python3.10/dist-packages/torch/utils/data/dataloader.py:617: UserWarning: This DataLoader will create 4 worker processes in total. Our suggested max number of worker in current system is 2, which is smaller than what this DataLoader is going to create. Please be aware that excessive worker creation might get DataLoader running slow or even freeze, lower the worker number to avoid potential slowness/freeze if necessary.\n",
            "  warnings.warn(\n"
          ]
        },
        {
          "output_type": "stream",
          "name": "stdout",
          "text": [
            "Epoch [46/80], Train Loss: 0.3084, Train Acc: 89.28%, Val Loss: 0.4575, Val Acc: 84.71%\n"
          ]
        },
        {
          "output_type": "stream",
          "name": "stderr",
          "text": [
            "Epoch [47/80] - Training:   3%|▎         | 9/313 [00:02<00:51,  5.90it/s][codecarbon INFO @ 02:11:15] Energy consumed for RAM : 0.003800 kWh. RAM Power : 4.7530388832092285 W\n",
            "[codecarbon INFO @ 02:11:15] Energy consumed for all GPUs : 0.041171 kWh. Total GPU Power : 41.44448251372802 W\n",
            "[codecarbon INFO @ 02:11:15] Energy consumed for all CPUs : 0.034018 kWh. Total CPU Power : 42.5 W\n",
            "[codecarbon INFO @ 02:11:15] 0.078988 kWh of electricity used since the beginning.\n",
            "[codecarbon INFO @ 02:11:15] 0.003794 g.CO2eq/s mean an estimation of 119.63460848472812 kg.CO2eq/year\n",
            "Epoch [47/80] - Training:  31%|███       | 97/313 [00:17<00:32,  6.60it/s][codecarbon INFO @ 02:11:30] Energy consumed for RAM : 0.003820 kWh. RAM Power : 4.7530388832092285 W\n",
            "[codecarbon INFO @ 02:11:30] Energy consumed for all GPUs : 0.041390 kWh. Total GPU Power : 52.798926886972986 W\n",
            "[codecarbon INFO @ 02:11:30] Energy consumed for all CPUs : 0.034195 kWh. Total CPU Power : 42.5 W\n",
            "[codecarbon INFO @ 02:11:30] 0.079405 kWh of electricity used since the beginning.\n",
            "Epoch [47/80] - Training:  59%|█████▉    | 184/313 [00:32<00:18,  6.90it/s][codecarbon INFO @ 02:11:45] Energy consumed for RAM : 0.003840 kWh. RAM Power : 4.7530388832092285 W\n",
            "[codecarbon INFO @ 02:11:45] Energy consumed for all GPUs : 0.041614 kWh. Total GPU Power : 53.65094322747542 W\n",
            "Epoch [47/80] - Training:  59%|█████▉    | 185/313 [00:32<00:20,  6.37it/s][codecarbon INFO @ 02:11:45] Energy consumed for all CPUs : 0.034372 kWh. Total CPU Power : 42.5 W\n",
            "[codecarbon INFO @ 02:11:45] 0.079826 kWh of electricity used since the beginning.\n",
            "Epoch [47/80] - Training:  87%|████████▋ | 273/313 [00:47<00:06,  6.61it/s][codecarbon INFO @ 02:12:00] Energy consumed for RAM : 0.003859 kWh. RAM Power : 4.7530388832092285 W\n",
            "[codecarbon INFO @ 02:12:00] Energy consumed for all GPUs : 0.041841 kWh. Total GPU Power : 54.55586825313756 W\n",
            "[codecarbon INFO @ 02:12:00] Energy consumed for all CPUs : 0.034549 kWh. Total CPU Power : 42.5 W\n",
            "[codecarbon INFO @ 02:12:00] 0.080249 kWh of electricity used since the beginning.\n",
            "Epoch [47/80] - Training: 100%|██████████| 313/313 [00:53<00:00,  5.90it/s]\n",
            "/usr/local/lib/python3.10/dist-packages/torch/utils/data/dataloader.py:617: UserWarning: This DataLoader will create 4 worker processes in total. Our suggested max number of worker in current system is 2, which is smaller than what this DataLoader is going to create. Please be aware that excessive worker creation might get DataLoader running slow or even freeze, lower the worker number to avoid potential slowness/freeze if necessary.\n",
            "  warnings.warn(\n",
            "[codecarbon INFO @ 02:12:15] Energy consumed for RAM : 0.003879 kWh. RAM Power : 4.7530388832092285 W\n",
            "[codecarbon INFO @ 02:12:15] Energy consumed for all GPUs : 0.042033 kWh. Total GPU Power : 46.17326820123305 W\n",
            "[codecarbon INFO @ 02:12:15] Energy consumed for all CPUs : 0.034726 kWh. Total CPU Power : 42.5 W\n",
            "[codecarbon INFO @ 02:12:15] 0.080639 kWh of electricity used since the beginning.\n"
          ]
        },
        {
          "output_type": "stream",
          "name": "stdout",
          "text": [
            "Epoch [47/80], Train Loss: 0.2931, Train Acc: 90.06%, Val Loss: 0.4531, Val Acc: 84.80%\n"
          ]
        },
        {
          "output_type": "stream",
          "name": "stderr",
          "text": [
            "Epoch [48/80] - Training:  24%|██▍       | 76/313 [00:13<00:36,  6.44it/s][codecarbon INFO @ 02:12:30] Energy consumed for RAM : 0.003899 kWh. RAM Power : 4.7530388832092285 W\n",
            "[codecarbon INFO @ 02:12:30] Energy consumed for all GPUs : 0.042237 kWh. Total GPU Power : 48.95421105179894 W\n",
            "[codecarbon INFO @ 02:12:30] Energy consumed for all CPUs : 0.034903 kWh. Total CPU Power : 42.5 W\n",
            "[codecarbon INFO @ 02:12:30] 0.081039 kWh of electricity used since the beginning.\n",
            "Epoch [48/80] - Training:  52%|█████▏    | 163/313 [00:29<00:23,  6.31it/s][codecarbon INFO @ 02:12:45] Energy consumed for RAM : 0.003919 kWh. RAM Power : 4.7530388832092285 W\n",
            "[codecarbon INFO @ 02:12:45] Energy consumed for all GPUs : 0.042456 kWh. Total GPU Power : 52.6691424553031 W\n",
            "[codecarbon INFO @ 02:12:45] Energy consumed for all CPUs : 0.035080 kWh. Total CPU Power : 42.5 W\n",
            "[codecarbon INFO @ 02:12:45] 0.081455 kWh of electricity used since the beginning.\n",
            "Epoch [48/80] - Training:  80%|███████▉  | 250/313 [00:43<00:09,  6.93it/s][codecarbon INFO @ 02:13:00] Energy consumed for RAM : 0.003939 kWh. RAM Power : 4.7530388832092285 W\n",
            "[codecarbon INFO @ 02:13:00] Energy consumed for all GPUs : 0.042680 kWh. Total GPU Power : 53.762120819545906 W\n",
            "[codecarbon INFO @ 02:13:00] Energy consumed for all CPUs : 0.035257 kWh. Total CPU Power : 42.5 W\n",
            "[codecarbon INFO @ 02:13:00] 0.081876 kWh of electricity used since the beginning.\n",
            "Epoch [48/80] - Training: 100%|██████████| 313/313 [00:54<00:00,  5.70it/s]\n",
            "/usr/local/lib/python3.10/dist-packages/torch/utils/data/dataloader.py:617: UserWarning: This DataLoader will create 4 worker processes in total. Our suggested max number of worker in current system is 2, which is smaller than what this DataLoader is going to create. Please be aware that excessive worker creation might get DataLoader running slow or even freeze, lower the worker number to avoid potential slowness/freeze if necessary.\n",
            "  warnings.warn(\n",
            "[codecarbon INFO @ 02:13:15] Energy consumed for RAM : 0.003958 kWh. RAM Power : 4.7530388832092285 W\n",
            "[codecarbon INFO @ 02:13:15] Energy consumed for all GPUs : 0.042887 kWh. Total GPU Power : 49.48823587689157 W\n",
            "[codecarbon INFO @ 02:13:15] Energy consumed for all CPUs : 0.035435 kWh. Total CPU Power : 42.5 W\n",
            "[codecarbon INFO @ 02:13:15] 0.082280 kWh of electricity used since the beginning.\n",
            "[codecarbon INFO @ 02:13:15] 0.003802 g.CO2eq/s mean an estimation of 119.90690018806606 kg.CO2eq/year\n"
          ]
        },
        {
          "output_type": "stream",
          "name": "stdout",
          "text": [
            "Epoch [48/80], Train Loss: 0.2977, Train Acc: 89.63%, Val Loss: 0.4480, Val Acc: 84.98%\n"
          ]
        },
        {
          "output_type": "stream",
          "name": "stderr",
          "text": [
            "Epoch [49/80] - Training:  15%|█▌        | 47/313 [00:09<00:41,  6.40it/s][codecarbon INFO @ 02:13:30] Energy consumed for RAM : 0.003978 kWh. RAM Power : 4.7530388832092285 W\n",
            "Epoch [49/80] - Training:  15%|█▌        | 48/313 [00:09<00:42,  6.21it/s][codecarbon INFO @ 02:13:30] Energy consumed for all GPUs : 0.043066 kWh. Total GPU Power : 43.127197369080946 W\n",
            "[codecarbon INFO @ 02:13:30] Energy consumed for all CPUs : 0.035612 kWh. Total CPU Power : 42.5 W\n",
            "[codecarbon INFO @ 02:13:30] 0.082656 kWh of electricity used since the beginning.\n",
            "Epoch [49/80] - Training:  43%|████▎     | 134/313 [00:24<00:26,  6.74it/s][codecarbon INFO @ 02:13:45] Energy consumed for RAM : 0.003998 kWh. RAM Power : 4.7530388832092285 W\n",
            "[codecarbon INFO @ 02:13:45] Energy consumed for all GPUs : 0.043286 kWh. Total GPU Power : 52.89710809109936 W\n",
            "[codecarbon INFO @ 02:13:45] Energy consumed for all CPUs : 0.035789 kWh. Total CPU Power : 42.5 W\n",
            "[codecarbon INFO @ 02:13:45] 0.083074 kWh of electricity used since the beginning.\n",
            "Epoch [49/80] - Training:  71%|███████   | 222/313 [00:39<00:13,  6.56it/s][codecarbon INFO @ 02:14:00] Energy consumed for RAM : 0.004018 kWh. RAM Power : 4.7530388832092285 W\n",
            "[codecarbon INFO @ 02:14:00] Energy consumed for all GPUs : 0.043512 kWh. Total GPU Power : 54.27663049228827 W\n",
            "[codecarbon INFO @ 02:14:00] Energy consumed for all CPUs : 0.035966 kWh. Total CPU Power : 42.5 W\n",
            "[codecarbon INFO @ 02:14:00] 0.083496 kWh of electricity used since the beginning.\n",
            "Epoch [49/80] - Training: 100%|██████████| 313/313 [00:54<00:00,  5.71it/s]\n",
            "/usr/local/lib/python3.10/dist-packages/torch/utils/data/dataloader.py:617: UserWarning: This DataLoader will create 4 worker processes in total. Our suggested max number of worker in current system is 2, which is smaller than what this DataLoader is going to create. Please be aware that excessive worker creation might get DataLoader running slow or even freeze, lower the worker number to avoid potential slowness/freeze if necessary.\n",
            "  warnings.warn(\n",
            "[codecarbon INFO @ 02:14:15] Energy consumed for RAM : 0.004038 kWh. RAM Power : 4.7530388832092285 W\n",
            "[codecarbon INFO @ 02:14:15] Energy consumed for all GPUs : 0.043739 kWh. Total GPU Power : 54.49607206588808 W\n",
            "[codecarbon INFO @ 02:14:15] Energy consumed for all CPUs : 0.036144 kWh. Total CPU Power : 42.5 W\n",
            "[codecarbon INFO @ 02:14:15] 0.083921 kWh of electricity used since the beginning.\n",
            "[codecarbon INFO @ 02:14:15] Energy consumed for all GPUs : 0.043739 kWh. Total GPU Power : 54.49607206588808 W\n"
          ]
        },
        {
          "output_type": "stream",
          "name": "stdout",
          "text": [
            "Epoch [49/80], Train Loss: 0.2884, Train Acc: 90.06%, Val Loss: 0.4375, Val Acc: 85.31%\n"
          ]
        },
        {
          "output_type": "stream",
          "name": "stderr",
          "text": [
            "Epoch [50/80] - Training:   6%|▋         | 20/313 [00:03<00:43,  6.76it/s][codecarbon INFO @ 02:14:30] Energy consumed for RAM : 0.004057 kWh. RAM Power : 4.7530388832092285 W\n",
            "[codecarbon INFO @ 02:14:30] Energy consumed for all GPUs : 0.043908 kWh. Total GPU Power : 40.40768099598549 W\n",
            "[codecarbon INFO @ 02:14:30] Energy consumed for all CPUs : 0.036320 kWh. Total CPU Power : 42.5 W\n",
            "[codecarbon INFO @ 02:14:30] 0.084285 kWh of electricity used since the beginning.\n",
            "Epoch [50/80] - Training:  34%|███▍      | 107/313 [00:18<00:31,  6.62it/s][codecarbon INFO @ 02:14:45] Energy consumed for RAM : 0.004077 kWh. RAM Power : 4.7530388832092285 W\n",
            "[codecarbon INFO @ 02:14:45] Energy consumed for all GPUs : 0.044127 kWh. Total GPU Power : 52.67071236694638 W\n",
            "[codecarbon INFO @ 02:14:45] Energy consumed for all CPUs : 0.036497 kWh. Total CPU Power : 42.5 W\n",
            "[codecarbon INFO @ 02:14:45] 0.084701 kWh of electricity used since the beginning.\n",
            "Epoch [50/80] - Training:  62%|██████▏   | 195/313 [00:33<00:16,  7.00it/s][codecarbon INFO @ 02:15:00] Energy consumed for RAM : 0.004097 kWh. RAM Power : 4.7530388832092285 W\n",
            "[codecarbon INFO @ 02:15:00] Energy consumed for all GPUs : 0.044356 kWh. Total GPU Power : 55.15742971773816 W\n",
            "[codecarbon INFO @ 02:15:00] Energy consumed for all CPUs : 0.036674 kWh. Total CPU Power : 42.5 W\n",
            "[codecarbon INFO @ 02:15:00] 0.085128 kWh of electricity used since the beginning.\n",
            "Epoch [50/80] - Training:  90%|█████████ | 283/313 [00:48<00:04,  7.18it/s][codecarbon INFO @ 02:15:15] Energy consumed for RAM : 0.004117 kWh. RAM Power : 4.7530388832092285 W\n",
            "[codecarbon INFO @ 02:15:15] Energy consumed for all GPUs : 0.044581 kWh. Total GPU Power : 53.845922339567075 W\n",
            "[codecarbon INFO @ 02:15:15] Energy consumed for all CPUs : 0.036851 kWh. Total CPU Power : 42.5 W\n",
            "[codecarbon INFO @ 02:15:15] 0.085549 kWh of electricity used since the beginning.\n",
            "[codecarbon INFO @ 02:15:15] 0.003778 g.CO2eq/s mean an estimation of 119.14379883658887 kg.CO2eq/year\n",
            "Epoch [50/80] - Training: 100%|██████████| 313/313 [00:53<00:00,  5.90it/s]\n",
            "/usr/local/lib/python3.10/dist-packages/torch/utils/data/dataloader.py:617: UserWarning: This DataLoader will create 4 worker processes in total. Our suggested max number of worker in current system is 2, which is smaller than what this DataLoader is going to create. Please be aware that excessive worker creation might get DataLoader running slow or even freeze, lower the worker number to avoid potential slowness/freeze if necessary.\n",
            "  warnings.warn(\n"
          ]
        },
        {
          "output_type": "stream",
          "name": "stdout",
          "text": [
            "Epoch [50/80], Train Loss: 0.2857, Train Acc: 90.11%, Val Loss: 0.4416, Val Acc: 84.88%\n"
          ]
        },
        {
          "output_type": "stream",
          "name": "stderr",
          "text": [
            "\rEpoch [51/80] - Training:   0%|          | 0/313 [00:00<?, ?it/s][codecarbon INFO @ 02:15:30] Energy consumed for RAM : 0.004136 kWh. RAM Power : 4.7530388832092285 W\n",
            "[codecarbon INFO @ 02:15:30] Energy consumed for all GPUs : 0.044762 kWh. Total GPU Power : 43.4227331868636 W\n",
            "[codecarbon INFO @ 02:15:30] Energy consumed for all CPUs : 0.037029 kWh. Total CPU Power : 42.5 W\n",
            "[codecarbon INFO @ 02:15:30] 0.085927 kWh of electricity used since the beginning.\n",
            "Epoch [51/80] - Training:  25%|██▌       | 79/313 [00:14<00:36,  6.50it/s][codecarbon INFO @ 02:15:45] Energy consumed for RAM : 0.004156 kWh. RAM Power : 4.7530388832092285 W\n",
            "[codecarbon INFO @ 02:15:45] Energy consumed for all GPUs : 0.044969 kWh. Total GPU Power : 49.822400519899006 W\n",
            "[codecarbon INFO @ 02:15:45] Energy consumed for all CPUs : 0.037206 kWh. Total CPU Power : 42.5 W\n",
            "[codecarbon INFO @ 02:15:45] 0.086331 kWh of electricity used since the beginning.\n",
            "Epoch [51/80] - Training:  54%|█████▎    | 168/313 [00:29<00:20,  6.91it/s][codecarbon INFO @ 02:16:00] Energy consumed for RAM : 0.004176 kWh. RAM Power : 4.7530388832092285 W\n",
            "[codecarbon INFO @ 02:16:00] Energy consumed for all GPUs : 0.045194 kWh. Total GPU Power : 53.946472839989184 W\n",
            "[codecarbon INFO @ 02:16:00] Energy consumed for all CPUs : 0.037383 kWh. Total CPU Power : 42.5 W\n",
            "[codecarbon INFO @ 02:16:00] 0.086753 kWh of electricity used since the beginning.\n",
            "Epoch [51/80] - Training:  81%|████████▏ | 255/313 [00:44<00:08,  6.77it/s][codecarbon INFO @ 02:16:15] Energy consumed for RAM : 0.004196 kWh. RAM Power : 4.7530388832092285 W\n",
            "[codecarbon INFO @ 02:16:15] Energy consumed for all GPUs : 0.045419 kWh. Total GPU Power : 53.981265368283076 W\n",
            "[codecarbon INFO @ 02:16:15] Energy consumed for all CPUs : 0.037560 kWh. Total CPU Power : 42.5 W\n",
            "[codecarbon INFO @ 02:16:15] 0.087174 kWh of electricity used since the beginning.\n",
            "Epoch [51/80] - Training: 100%|██████████| 313/313 [00:54<00:00,  5.77it/s]\n",
            "/usr/local/lib/python3.10/dist-packages/torch/utils/data/dataloader.py:617: UserWarning: This DataLoader will create 4 worker processes in total. Our suggested max number of worker in current system is 2, which is smaller than what this DataLoader is going to create. Please be aware that excessive worker creation might get DataLoader running slow or even freeze, lower the worker number to avoid potential slowness/freeze if necessary.\n",
            "  warnings.warn(\n",
            "[codecarbon INFO @ 02:16:30] Energy consumed for RAM : 0.004216 kWh. RAM Power : 4.7530388832092285 W\n",
            "[codecarbon INFO @ 02:16:30] Energy consumed for all GPUs : 0.045630 kWh. Total GPU Power : 50.733256109551114 W\n",
            "[codecarbon INFO @ 02:16:30] Energy consumed for all CPUs : 0.037737 kWh. Total CPU Power : 42.5 W\n",
            "[codecarbon INFO @ 02:16:30] 0.087583 kWh of electricity used since the beginning.\n"
          ]
        },
        {
          "output_type": "stream",
          "name": "stdout",
          "text": [
            "Epoch [51/80], Train Loss: 0.2808, Train Acc: 90.19%, Val Loss: 0.4501, Val Acc: 84.99%\n"
          ]
        },
        {
          "output_type": "stream",
          "name": "stderr",
          "text": [
            "Epoch [52/80] - Training:  19%|█▉        | 59/313 [00:11<00:37,  6.70it/s][codecarbon INFO @ 02:16:45] Energy consumed for RAM : 0.004235 kWh. RAM Power : 4.7530388832092285 W\n",
            "[codecarbon INFO @ 02:16:45] Energy consumed for all GPUs : 0.045818 kWh. Total GPU Power : 45.028314512820806 W\n",
            "[codecarbon INFO @ 02:16:45] Energy consumed for all CPUs : 0.037915 kWh. Total CPU Power : 42.5 W\n",
            "[codecarbon INFO @ 02:16:45] 0.087968 kWh of electricity used since the beginning.\n",
            "Epoch [52/80] - Training:  47%|████▋     | 147/313 [00:26<00:23,  6.96it/s][codecarbon INFO @ 02:17:00] Energy consumed for RAM : 0.004255 kWh. RAM Power : 4.7530388832092285 W\n",
            "[codecarbon INFO @ 02:17:01] Energy consumed for all GPUs : 0.046039 kWh. Total GPU Power : 53.156592256733916 W\n",
            "[codecarbon INFO @ 02:17:01] Energy consumed for all CPUs : 0.038092 kWh. Total CPU Power : 42.5 W\n",
            "[codecarbon INFO @ 02:17:01] 0.088386 kWh of electricity used since the beginning.\n",
            "Epoch [52/80] - Training:  75%|███████▌  | 235/313 [00:41<00:11,  6.72it/s][codecarbon INFO @ 02:17:15] Energy consumed for RAM : 0.004275 kWh. RAM Power : 4.7530388832092285 W\n",
            "[codecarbon INFO @ 02:17:15] Energy consumed for all GPUs : 0.046263 kWh. Total GPU Power : 53.82501334933208 W\n",
            "[codecarbon INFO @ 02:17:15] Energy consumed for all CPUs : 0.038269 kWh. Total CPU Power : 42.5 W\n",
            "[codecarbon INFO @ 02:17:15] 0.088806 kWh of electricity used since the beginning.\n",
            "[codecarbon INFO @ 02:17:15] 0.003762 g.CO2eq/s mean an estimation of 118.65392614185808 kg.CO2eq/year\n",
            "Epoch [52/80] - Training: 100%|██████████| 313/313 [00:54<00:00,  5.73it/s]\n",
            "/usr/local/lib/python3.10/dist-packages/torch/utils/data/dataloader.py:617: UserWarning: This DataLoader will create 4 worker processes in total. Our suggested max number of worker in current system is 2, which is smaller than what this DataLoader is going to create. Please be aware that excessive worker creation might get DataLoader running slow or even freeze, lower the worker number to avoid potential slowness/freeze if necessary.\n",
            "  warnings.warn(\n",
            "[codecarbon INFO @ 02:17:31] Energy consumed for RAM : 0.004295 kWh. RAM Power : 4.7530388832092285 W\n",
            "[codecarbon INFO @ 02:17:31] Energy consumed for all GPUs : 0.046484 kWh. Total GPU Power : 52.988975524828334 W\n",
            "[codecarbon INFO @ 02:17:31] Energy consumed for all CPUs : 0.038446 kWh. Total CPU Power : 42.5 W\n",
            "[codecarbon INFO @ 02:17:31] 0.089225 kWh of electricity used since the beginning.\n"
          ]
        },
        {
          "output_type": "stream",
          "name": "stdout",
          "text": [
            "Epoch [52/80], Train Loss: 0.2758, Train Acc: 90.42%, Val Loss: 0.4421, Val Acc: 85.50%\n"
          ]
        },
        {
          "output_type": "stream",
          "name": "stderr",
          "text": [
            "Epoch [53/80] - Training:  12%|█▏        | 37/313 [00:06<00:41,  6.62it/s][codecarbon INFO @ 02:17:46] Energy consumed for RAM : 0.004315 kWh. RAM Power : 4.7530388832092285 W\n",
            "[codecarbon INFO @ 02:17:46] Energy consumed for all GPUs : 0.046664 kWh. Total GPU Power : 43.31036373407771 W\n",
            "[codecarbon INFO @ 02:17:46] Energy consumed for all CPUs : 0.038623 kWh. Total CPU Power : 42.5 W\n",
            "[codecarbon INFO @ 02:17:46] 0.089602 kWh of electricity used since the beginning.\n",
            "Epoch [53/80] - Training:  40%|███▉      | 125/313 [00:21<00:28,  6.64it/s][codecarbon INFO @ 02:18:01] Energy consumed for RAM : 0.004334 kWh. RAM Power : 4.7530388832092285 W\n",
            "[codecarbon INFO @ 02:18:01] Energy consumed for all GPUs : 0.046888 kWh. Total GPU Power : 53.79470422969817 W\n",
            "[codecarbon INFO @ 02:18:01] Energy consumed for all CPUs : 0.038801 kWh. Total CPU Power : 42.5 W\n",
            "[codecarbon INFO @ 02:18:01] 0.090023 kWh of electricity used since the beginning.\n",
            "Epoch [53/80] - Training:  68%|██████▊   | 213/313 [00:36<00:14,  6.92it/s][codecarbon INFO @ 02:18:16] Energy consumed for RAM : 0.004354 kWh. RAM Power : 4.7530388832092285 W\n",
            "[codecarbon INFO @ 02:18:16] Energy consumed for all GPUs : 0.047118 kWh. Total GPU Power : 55.068880224124555 W\n",
            "[codecarbon INFO @ 02:18:16] Energy consumed for all CPUs : 0.038978 kWh. Total CPU Power : 42.5 W\n",
            "[codecarbon INFO @ 02:18:16] 0.090450 kWh of electricity used since the beginning.\n",
            "Epoch [53/80] - Training:  97%|█████████▋| 303/313 [00:51<00:01,  6.51it/s][codecarbon INFO @ 02:18:31] Energy consumed for RAM : 0.004374 kWh. RAM Power : 4.7530388832092285 W\n",
            "[codecarbon INFO @ 02:18:31] Energy consumed for all GPUs : 0.047345 kWh. Total GPU Power : 54.63831201539241 W\n",
            "[codecarbon INFO @ 02:18:31] Energy consumed for all CPUs : 0.039155 kWh. Total CPU Power : 42.5 W\n",
            "[codecarbon INFO @ 02:18:31] 0.090873 kWh of electricity used since the beginning.\n",
            "Epoch [53/80] - Training: 100%|██████████| 313/313 [00:52<00:00,  5.93it/s]\n",
            "/usr/local/lib/python3.10/dist-packages/torch/utils/data/dataloader.py:617: UserWarning: This DataLoader will create 4 worker processes in total. Our suggested max number of worker in current system is 2, which is smaller than what this DataLoader is going to create. Please be aware that excessive worker creation might get DataLoader running slow or even freeze, lower the worker number to avoid potential slowness/freeze if necessary.\n",
            "  warnings.warn(\n"
          ]
        },
        {
          "output_type": "stream",
          "name": "stdout",
          "text": [
            "Epoch [53/80], Train Loss: 0.2756, Train Acc: 90.47%, Val Loss: 0.4491, Val Acc: 85.30%\n"
          ]
        },
        {
          "output_type": "stream",
          "name": "stderr",
          "text": [
            "Epoch [54/80] - Training:   5%|▍         | 15/313 [00:03<00:46,  6.48it/s][codecarbon INFO @ 02:18:46] Energy consumed for RAM : 0.004394 kWh. RAM Power : 4.7530388832092285 W\n",
            "[codecarbon INFO @ 02:18:46] Energy consumed for all GPUs : 0.047520 kWh. Total GPU Power : 42.044253611703084 W\n",
            "[codecarbon INFO @ 02:18:46] Energy consumed for all CPUs : 0.039332 kWh. Total CPU Power : 42.5 W\n",
            "[codecarbon INFO @ 02:18:46] 0.091246 kWh of electricity used since the beginning.\n",
            "Epoch [54/80] - Training:  33%|███▎      | 103/313 [00:18<00:29,  7.04it/s][codecarbon INFO @ 02:19:01] Energy consumed for RAM : 0.004413 kWh. RAM Power : 4.7530388832092285 W\n",
            "[codecarbon INFO @ 02:19:01] Energy consumed for all GPUs : 0.047744 kWh. Total GPU Power : 53.862647391350706 W\n",
            "[codecarbon INFO @ 02:19:01] Energy consumed for all CPUs : 0.039509 kWh. Total CPU Power : 42.5 W\n",
            "[codecarbon INFO @ 02:19:01] 0.091667 kWh of electricity used since the beginning.\n",
            "Epoch [54/80] - Training:  61%|██████▏   | 192/313 [00:33<00:18,  6.59it/s][codecarbon INFO @ 02:19:16] Energy consumed for RAM : 0.004433 kWh. RAM Power : 4.7530388832092285 W\n",
            "Epoch [54/80] - Training:  62%|██████▏   | 193/313 [00:33<00:17,  6.97it/s][codecarbon INFO @ 02:19:16] Energy consumed for all GPUs : 0.047968 kWh. Total GPU Power : 53.67586934969783 W\n",
            "[codecarbon INFO @ 02:19:16] Energy consumed for all CPUs : 0.039686 kWh. Total CPU Power : 42.5 W\n",
            "[codecarbon INFO @ 02:19:16] 0.092088 kWh of electricity used since the beginning.\n",
            "[codecarbon INFO @ 02:19:16] 0.003788 g.CO2eq/s mean an estimation of 119.47272325096472 kg.CO2eq/year\n",
            "Epoch [54/80] - Training:  90%|█████████ | 282/313 [00:48<00:04,  7.01it/s][codecarbon INFO @ 02:19:31] Energy consumed for RAM : 0.004453 kWh. RAM Power : 4.7530388832092285 W\n",
            "[codecarbon INFO @ 02:19:31] Energy consumed for all GPUs : 0.048196 kWh. Total GPU Power : 54.687378972815 W\n",
            "[codecarbon INFO @ 02:19:31] Energy consumed for all CPUs : 0.039864 kWh. Total CPU Power : 42.5 W\n",
            "[codecarbon INFO @ 02:19:31] 0.092512 kWh of electricity used since the beginning.\n",
            "Epoch [54/80] - Training: 100%|██████████| 313/313 [00:53<00:00,  5.90it/s]\n",
            "/usr/local/lib/python3.10/dist-packages/torch/utils/data/dataloader.py:617: UserWarning: This DataLoader will create 4 worker processes in total. Our suggested max number of worker in current system is 2, which is smaller than what this DataLoader is going to create. Please be aware that excessive worker creation might get DataLoader running slow or even freeze, lower the worker number to avoid potential slowness/freeze if necessary.\n",
            "  warnings.warn(\n"
          ]
        },
        {
          "output_type": "stream",
          "name": "stdout",
          "text": [
            "Epoch [54/80], Train Loss: 0.2669, Train Acc: 90.88%, Val Loss: 0.4444, Val Acc: 85.12%\n"
          ]
        },
        {
          "output_type": "stream",
          "name": "stderr",
          "text": [
            "\rEpoch [55/80] - Training:   0%|          | 0/313 [00:00<?, ?it/s][codecarbon INFO @ 02:19:46] Energy consumed for RAM : 0.004473 kWh. RAM Power : 4.7530388832092285 W\n",
            "[codecarbon INFO @ 02:19:46] Energy consumed for all GPUs : 0.048378 kWh. Total GPU Power : 43.96423668101899 W\n",
            "[codecarbon INFO @ 02:19:46] Energy consumed for all CPUs : 0.040041 kWh. Total CPU Power : 42.5 W\n",
            "[codecarbon INFO @ 02:19:46] 0.092892 kWh of electricity used since the beginning.\n",
            "Epoch [55/80] - Training:  27%|██▋       | 83/313 [00:15<00:35,  6.39it/s][codecarbon INFO @ 02:20:01] Energy consumed for RAM : 0.004493 kWh. RAM Power : 4.7530388832092285 W\n",
            "[codecarbon INFO @ 02:20:01] Energy consumed for all GPUs : 0.048596 kWh. Total GPU Power : 52.081376138229544 W\n",
            "[codecarbon INFO @ 02:20:01] Energy consumed for all CPUs : 0.040218 kWh. Total CPU Power : 42.5 W\n",
            "[codecarbon INFO @ 02:20:01] 0.093306 kWh of electricity used since the beginning.\n",
            "Epoch [55/80] - Training:  54%|█████▍    | 169/313 [00:30<00:22,  6.40it/s][codecarbon INFO @ 02:20:16] Energy consumed for RAM : 0.004512 kWh. RAM Power : 4.7530388832092285 W\n",
            "[codecarbon INFO @ 02:20:16] Energy consumed for all GPUs : 0.048812 kWh. Total GPU Power : 51.958710466013706 W\n",
            "[codecarbon INFO @ 02:20:16] Energy consumed for all CPUs : 0.040395 kWh. Total CPU Power : 42.5 W\n",
            "[codecarbon INFO @ 02:20:16] 0.093719 kWh of electricity used since the beginning.\n",
            "Epoch [55/80] - Training:  82%|████████▏ | 257/313 [00:45<00:08,  6.31it/s][codecarbon INFO @ 02:20:31] Energy consumed for RAM : 0.004532 kWh. RAM Power : 4.7530388832092285 W\n",
            "[codecarbon INFO @ 02:20:31] Energy consumed for all GPUs : 0.049032 kWh. Total GPU Power : 52.87414221807392 W\n",
            "[codecarbon INFO @ 02:20:31] Energy consumed for all CPUs : 0.040572 kWh. Total CPU Power : 42.5 W\n",
            "[codecarbon INFO @ 02:20:31] 0.094137 kWh of electricity used since the beginning.\n",
            "Epoch [55/80] - Training: 100%|██████████| 313/313 [00:55<00:00,  5.66it/s]\n",
            "/usr/local/lib/python3.10/dist-packages/torch/utils/data/dataloader.py:617: UserWarning: This DataLoader will create 4 worker processes in total. Our suggested max number of worker in current system is 2, which is smaller than what this DataLoader is going to create. Please be aware that excessive worker creation might get DataLoader running slow or even freeze, lower the worker number to avoid potential slowness/freeze if necessary.\n",
            "  warnings.warn(\n",
            "[codecarbon INFO @ 02:20:46] Energy consumed for RAM : 0.004552 kWh. RAM Power : 4.7530388832092285 W\n",
            "[codecarbon INFO @ 02:20:46] Energy consumed for all GPUs : 0.049229 kWh. Total GPU Power : 47.19201351348354 W\n",
            "[codecarbon INFO @ 02:20:46] Energy consumed for all CPUs : 0.040749 kWh. Total CPU Power : 42.5 W\n",
            "[codecarbon INFO @ 02:20:46] 0.094530 kWh of electricity used since the beginning.\n"
          ]
        },
        {
          "output_type": "stream",
          "name": "stdout",
          "text": [
            "Epoch [55/80], Train Loss: 0.2644, Train Acc: 90.68%, Val Loss: 0.4476, Val Acc: 85.55%\n"
          ]
        },
        {
          "output_type": "stream",
          "name": "stderr",
          "text": [
            "Epoch [56/80] - Training:  18%|█▊        | 56/313 [00:09<00:38,  6.75it/s][codecarbon INFO @ 02:21:01] Energy consumed for RAM : 0.004572 kWh. RAM Power : 4.7530388832092285 W\n",
            "[codecarbon INFO @ 02:21:01] Energy consumed for all GPUs : 0.049420 kWh. Total GPU Power : 45.877386125501424 W\n",
            "[codecarbon INFO @ 02:21:01] Energy consumed for all CPUs : 0.040926 kWh. Total CPU Power : 42.5 W\n",
            "[codecarbon INFO @ 02:21:01] 0.094918 kWh of electricity used since the beginning.\n",
            "Epoch [56/80] - Training:  46%|████▌     | 143/313 [00:24<00:30,  5.67it/s][codecarbon INFO @ 02:21:16] Energy consumed for RAM : 0.004592 kWh. RAM Power : 4.7530388832092285 W\n",
            "[codecarbon INFO @ 02:21:16] Energy consumed for all GPUs : 0.049644 kWh. Total GPU Power : 53.824548279280734 W\n",
            "[codecarbon INFO @ 02:21:16] Energy consumed for all CPUs : 0.041104 kWh. Total CPU Power : 42.5 W\n",
            "[codecarbon INFO @ 02:21:16] 0.095339 kWh of electricity used since the beginning.\n",
            "[codecarbon INFO @ 02:21:16] 0.003757 g.CO2eq/s mean an estimation of 118.4850763463253 kg.CO2eq/year\n",
            "Epoch [56/80] - Training:  74%|███████▍  | 232/313 [00:39<00:11,  6.84it/s][codecarbon INFO @ 02:21:31] Energy consumed for RAM : 0.004611 kWh. RAM Power : 4.7530388832092285 W\n",
            "[codecarbon INFO @ 02:21:31] Energy consumed for all GPUs : 0.049871 kWh. Total GPU Power : 54.5020610035216 W\n",
            "[codecarbon INFO @ 02:21:31] Energy consumed for all CPUs : 0.041281 kWh. Total CPU Power : 42.5 W\n",
            "[codecarbon INFO @ 02:21:31] 0.095764 kWh of electricity used since the beginning.\n",
            "Epoch [56/80] - Training: 100%|██████████| 313/313 [00:52<00:00,  5.91it/s]\n",
            "/usr/local/lib/python3.10/dist-packages/torch/utils/data/dataloader.py:617: UserWarning: This DataLoader will create 4 worker processes in total. Our suggested max number of worker in current system is 2, which is smaller than what this DataLoader is going to create. Please be aware that excessive worker creation might get DataLoader running slow or even freeze, lower the worker number to avoid potential slowness/freeze if necessary.\n",
            "  warnings.warn(\n",
            "[codecarbon INFO @ 02:21:46] Energy consumed for RAM : 0.004631 kWh. RAM Power : 4.7530388832092285 W\n",
            "[codecarbon INFO @ 02:21:46] Energy consumed for all GPUs : 0.050094 kWh. Total GPU Power : 53.54108665457881 W\n",
            "[codecarbon INFO @ 02:21:46] Energy consumed for all CPUs : 0.041458 kWh. Total CPU Power : 42.5 W\n",
            "[codecarbon INFO @ 02:21:46] 0.096183 kWh of electricity used since the beginning.\n"
          ]
        },
        {
          "output_type": "stream",
          "name": "stdout",
          "text": [
            "Epoch [56/80], Train Loss: 0.2584, Train Acc: 91.11%, Val Loss: 0.4367, Val Acc: 85.70%\n"
          ]
        },
        {
          "output_type": "stream",
          "name": "stderr",
          "text": [
            "Epoch [57/80] - Training:   9%|▉         | 28/313 [00:05<00:44,  6.39it/s][codecarbon INFO @ 02:22:01] Energy consumed for RAM : 0.004651 kWh. RAM Power : 4.7530388832092285 W\n",
            "[codecarbon INFO @ 02:22:01] Energy consumed for all GPUs : 0.050269 kWh. Total GPU Power : 41.82456799345665 W\n",
            "[codecarbon INFO @ 02:22:01] Energy consumed for all CPUs : 0.041635 kWh. Total CPU Power : 42.5 W\n",
            "[codecarbon INFO @ 02:22:01] 0.096555 kWh of electricity used since the beginning.\n",
            "Epoch [57/80] - Training:  37%|███▋      | 117/313 [00:20<00:29,  6.60it/s][codecarbon INFO @ 02:22:16] Energy consumed for RAM : 0.004671 kWh. RAM Power : 4.7530388832092285 W\n",
            "[codecarbon INFO @ 02:22:16] Energy consumed for all GPUs : 0.050492 kWh. Total GPU Power : 53.428840744634215 W\n",
            "[codecarbon INFO @ 02:22:16] Energy consumed for all CPUs : 0.041812 kWh. Total CPU Power : 42.5 W\n",
            "[codecarbon INFO @ 02:22:16] 0.096975 kWh of electricity used since the beginning.\n",
            "Epoch [57/80] - Training:  65%|██████▌   | 204/313 [00:35<00:17,  6.26it/s][codecarbon INFO @ 02:22:31] Energy consumed for RAM : 0.004691 kWh. RAM Power : 4.7530388832092285 W\n",
            "[codecarbon INFO @ 02:22:31] Energy consumed for all GPUs : 0.050714 kWh. Total GPU Power : 53.34731384553373 W\n",
            "[codecarbon INFO @ 02:22:31] Energy consumed for all CPUs : 0.041990 kWh. Total CPU Power : 42.5 W\n",
            "[codecarbon INFO @ 02:22:31] 0.097394 kWh of electricity used since the beginning.\n",
            "Epoch [57/80] - Training:  94%|█████████▎| 293/313 [00:50<00:03,  6.63it/s][codecarbon INFO @ 02:22:46] Energy consumed for RAM : 0.004710 kWh. RAM Power : 4.7530388832092285 W\n",
            "[codecarbon INFO @ 02:22:46] Energy consumed for all GPUs : 0.050939 kWh. Total GPU Power : 53.857119428240544 W\n",
            "[codecarbon INFO @ 02:22:46] Energy consumed for all CPUs : 0.042167 kWh. Total CPU Power : 42.5 W\n",
            "[codecarbon INFO @ 02:22:46] 0.097816 kWh of electricity used since the beginning.\n",
            "Epoch [57/80] - Training: 100%|██████████| 313/313 [00:53<00:00,  5.80it/s]\n",
            "/usr/local/lib/python3.10/dist-packages/torch/utils/data/dataloader.py:617: UserWarning: This DataLoader will create 4 worker processes in total. Our suggested max number of worker in current system is 2, which is smaller than what this DataLoader is going to create. Please be aware that excessive worker creation might get DataLoader running slow or even freeze, lower the worker number to avoid potential slowness/freeze if necessary.\n",
            "  warnings.warn(\n"
          ]
        },
        {
          "output_type": "stream",
          "name": "stdout",
          "text": [
            "Epoch [57/80], Train Loss: 0.2502, Train Acc: 91.40%, Val Loss: 0.4452, Val Acc: 85.80%\n"
          ]
        },
        {
          "output_type": "stream",
          "name": "stderr",
          "text": [
            "Epoch [58/80] - Training:   2%|▏         | 6/313 [00:01<01:21,  3.76it/s][codecarbon INFO @ 02:23:01] Energy consumed for RAM : 0.004730 kWh. RAM Power : 4.7530388832092285 W\n",
            "[codecarbon INFO @ 02:23:01] Energy consumed for all GPUs : 0.051117 kWh. Total GPU Power : 42.68031808765115 W\n",
            "[codecarbon INFO @ 02:23:01] Energy consumed for all CPUs : 0.042344 kWh. Total CPU Power : 42.5 W\n",
            "[codecarbon INFO @ 02:23:01] 0.098191 kWh of electricity used since the beginning.\n",
            "Epoch [58/80] - Training:  30%|███       | 94/313 [00:17<00:43,  5.09it/s][codecarbon INFO @ 02:23:16] Energy consumed for RAM : 0.004750 kWh. RAM Power : 4.7530388832092285 W\n",
            "[codecarbon INFO @ 02:23:16] Energy consumed for all GPUs : 0.051337 kWh. Total GPU Power : 52.98871532213774 W\n",
            "[codecarbon INFO @ 02:23:16] Energy consumed for all CPUs : 0.042522 kWh. Total CPU Power : 42.5 W\n",
            "[codecarbon INFO @ 02:23:16] 0.098609 kWh of electricity used since the beginning.\n",
            "[codecarbon INFO @ 02:23:16] 0.003775 g.CO2eq/s mean an estimation of 119.0409867818074 kg.CO2eq/year\n",
            "Epoch [58/80] - Training:  58%|█████▊    | 182/313 [00:31<00:21,  6.03it/s][codecarbon INFO @ 02:23:31] Energy consumed for RAM : 0.004770 kWh. RAM Power : 4.7530388832092285 W\n",
            "[codecarbon INFO @ 02:23:31] Energy consumed for all GPUs : 0.051562 kWh. Total GPU Power : 53.936612368703116 W\n",
            "[codecarbon INFO @ 02:23:31] Energy consumed for all CPUs : 0.042699 kWh. Total CPU Power : 42.5 W\n",
            "[codecarbon INFO @ 02:23:31] 0.099030 kWh of electricity used since the beginning.\n",
            "Epoch [58/80] - Training:  86%|████████▋ | 270/313 [00:47<00:07,  5.64it/s][codecarbon INFO @ 02:23:46] Energy consumed for RAM : 0.004790 kWh. RAM Power : 4.7530388832092285 W\n",
            "[codecarbon INFO @ 02:23:46] Energy consumed for all GPUs : 0.051787 kWh. Total GPU Power : 53.89478948713054 W\n",
            "[codecarbon INFO @ 02:23:46] Energy consumed for all CPUs : 0.042876 kWh. Total CPU Power : 42.5 W\n",
            "[codecarbon INFO @ 02:23:46] 0.099452 kWh of electricity used since the beginning.\n",
            "Epoch [58/80] - Training: 100%|██████████| 313/313 [00:54<00:00,  5.74it/s]\n",
            "/usr/local/lib/python3.10/dist-packages/torch/utils/data/dataloader.py:617: UserWarning: This DataLoader will create 4 worker processes in total. Our suggested max number of worker in current system is 2, which is smaller than what this DataLoader is going to create. Please be aware that excessive worker creation might get DataLoader running slow or even freeze, lower the worker number to avoid potential slowness/freeze if necessary.\n",
            "  warnings.warn(\n",
            "[codecarbon INFO @ 02:24:01] Energy consumed for RAM : 0.004809 kWh. RAM Power : 4.7530388832092285 W\n",
            "[codecarbon INFO @ 02:24:01] Energy consumed for all GPUs : 0.051969 kWh. Total GPU Power : 43.831605792738856 W\n",
            "[codecarbon INFO @ 02:24:01] Energy consumed for all CPUs : 0.043053 kWh. Total CPU Power : 42.5 W\n",
            "[codecarbon INFO @ 02:24:01] 0.099832 kWh of electricity used since the beginning.\n"
          ]
        },
        {
          "output_type": "stream",
          "name": "stdout",
          "text": [
            "Epoch [58/80], Train Loss: 0.2458, Train Acc: 91.45%, Val Loss: 0.4377, Val Acc: 85.59%\n"
          ]
        },
        {
          "output_type": "stream",
          "name": "stderr",
          "text": [
            "Epoch [59/80] - Training:  24%|██▍       | 76/313 [00:12<00:38,  6.13it/s][codecarbon INFO @ 02:24:16] Energy consumed for RAM : 0.004829 kWh. RAM Power : 4.7530388832092285 W\n",
            "[codecarbon INFO @ 02:24:16] Energy consumed for all GPUs : 0.052183 kWh. Total GPU Power : 51.191081479301715 W\n",
            "[codecarbon INFO @ 02:24:16] Energy consumed for all CPUs : 0.043230 kWh. Total CPU Power : 42.5 W\n",
            "[codecarbon INFO @ 02:24:16] 0.100242 kWh of electricity used since the beginning.\n",
            "Epoch [59/80] - Training:  54%|█████▍    | 169/313 [00:27<00:21,  6.82it/s][codecarbon INFO @ 02:24:31] Energy consumed for RAM : 0.004849 kWh. RAM Power : 4.7530388832092285 W\n",
            "[codecarbon INFO @ 02:24:31] Energy consumed for all GPUs : 0.052410 kWh. Total GPU Power : 54.69228692227207 W\n",
            "[codecarbon INFO @ 02:24:31] Energy consumed for all CPUs : 0.043407 kWh. Total CPU Power : 42.5 W\n",
            "[codecarbon INFO @ 02:24:31] 0.100666 kWh of electricity used since the beginning.\n",
            "Epoch [59/80] - Training:  84%|████████▎ | 262/313 [00:42<00:09,  5.38it/s][codecarbon INFO @ 02:24:46] Energy consumed for RAM : 0.004869 kWh. RAM Power : 4.7530388832092285 W\n",
            "[codecarbon INFO @ 02:24:46] Energy consumed for all GPUs : 0.052640 kWh. Total GPU Power : 55.26811334240612 W\n",
            "[codecarbon INFO @ 02:24:46] Energy consumed for all CPUs : 0.043585 kWh. Total CPU Power : 42.5 W\n",
            "[codecarbon INFO @ 02:24:46] 0.101094 kWh of electricity used since the beginning.\n",
            "Epoch [59/80] - Training: 100%|██████████| 313/313 [00:51<00:00,  6.03it/s]\n",
            "/usr/local/lib/python3.10/dist-packages/torch/utils/data/dataloader.py:617: UserWarning: This DataLoader will create 4 worker processes in total. Our suggested max number of worker in current system is 2, which is smaller than what this DataLoader is going to create. Please be aware that excessive worker creation might get DataLoader running slow or even freeze, lower the worker number to avoid potential slowness/freeze if necessary.\n",
            "  warnings.warn(\n",
            "[codecarbon INFO @ 02:25:01] Energy consumed for RAM : 0.004888 kWh. RAM Power : 4.7530388832092285 W\n",
            "[codecarbon INFO @ 02:25:01] Energy consumed for all GPUs : 0.052830 kWh. Total GPU Power : 45.637727306491 W\n",
            "[codecarbon INFO @ 02:25:01] Energy consumed for all CPUs : 0.043762 kWh. Total CPU Power : 42.5 W\n",
            "[codecarbon INFO @ 02:25:01] 0.101480 kWh of electricity used since the beginning.\n"
          ]
        },
        {
          "output_type": "stream",
          "name": "stdout",
          "text": [
            "Epoch [59/80], Train Loss: 0.2472, Train Acc: 91.46%, Val Loss: 0.4358, Val Acc: 85.60%\n"
          ]
        },
        {
          "output_type": "stream",
          "name": "stderr",
          "text": [
            "Epoch [60/80] - Training:  20%|█▉        | 62/313 [00:10<00:42,  5.97it/s][codecarbon INFO @ 02:25:16] Energy consumed for RAM : 0.004908 kWh. RAM Power : 4.7530388832092285 W\n",
            "[codecarbon INFO @ 02:25:16] Energy consumed for all GPUs : 0.053026 kWh. Total GPU Power : 46.86831338510561 W\n",
            "[codecarbon INFO @ 02:25:16] Energy consumed for all CPUs : 0.043939 kWh. Total CPU Power : 42.5 W\n",
            "[codecarbon INFO @ 02:25:16] 0.101873 kWh of electricity used since the beginning.\n",
            "[codecarbon INFO @ 02:25:16] 0.003771 g.CO2eq/s mean an estimation of 118.91395749820329 kg.CO2eq/year\n",
            "Epoch [60/80] - Training:  48%|████▊     | 150/313 [00:25<00:23,  6.97it/s][codecarbon INFO @ 02:25:31] Energy consumed for RAM : 0.004928 kWh. RAM Power : 4.7530388832092285 W\n",
            "[codecarbon INFO @ 02:25:31] Energy consumed for all GPUs : 0.053247 kWh. Total GPU Power : 53.16296672481939 W\n",
            "[codecarbon INFO @ 02:25:31] Energy consumed for all CPUs : 0.044116 kWh. Total CPU Power : 42.5 W\n",
            "[codecarbon INFO @ 02:25:31] 0.102291 kWh of electricity used since the beginning.\n",
            "Epoch [60/80] - Training:  76%|███████▌  | 237/313 [00:40<00:11,  6.72it/s][codecarbon INFO @ 02:25:46] Energy consumed for RAM : 0.004948 kWh. RAM Power : 4.7530388832092285 W\n",
            "[codecarbon INFO @ 02:25:46] Energy consumed for all GPUs : 0.053472 kWh. Total GPU Power : 53.999833480029324 W\n",
            "[codecarbon INFO @ 02:25:46] Energy consumed for all CPUs : 0.044293 kWh. Total CPU Power : 42.5 W\n",
            "[codecarbon INFO @ 02:25:46] 0.102713 kWh of electricity used since the beginning.\n",
            "Epoch [60/80] - Training: 100%|██████████| 313/313 [00:53<00:00,  5.89it/s]\n",
            "/usr/local/lib/python3.10/dist-packages/torch/utils/data/dataloader.py:617: UserWarning: This DataLoader will create 4 worker processes in total. Our suggested max number of worker in current system is 2, which is smaller than what this DataLoader is going to create. Please be aware that excessive worker creation might get DataLoader running slow or even freeze, lower the worker number to avoid potential slowness/freeze if necessary.\n",
            "  warnings.warn(\n",
            "[codecarbon INFO @ 02:26:01] Energy consumed for RAM : 0.004968 kWh. RAM Power : 4.7530388832092285 W\n",
            "[codecarbon INFO @ 02:26:01] Energy consumed for all GPUs : 0.053689 kWh. Total GPU Power : 52.11877338137506 W\n",
            "[codecarbon INFO @ 02:26:01] Energy consumed for all CPUs : 0.044471 kWh. Total CPU Power : 42.5 W\n",
            "[codecarbon INFO @ 02:26:01] 0.103128 kWh of electricity used since the beginning.\n"
          ]
        },
        {
          "output_type": "stream",
          "name": "stdout",
          "text": [
            "Epoch [60/80], Train Loss: 0.2472, Train Acc: 91.48%, Val Loss: 0.4351, Val Acc: 85.92%\n"
          ]
        },
        {
          "output_type": "stream",
          "name": "stderr",
          "text": [
            "Epoch [61/80] - Training:  12%|█▏        | 36/313 [00:06<00:39,  7.03it/s][codecarbon INFO @ 02:26:16] Energy consumed for RAM : 0.004988 kWh. RAM Power : 4.7530388832092285 W\n",
            "[codecarbon INFO @ 02:26:16] Energy consumed for all GPUs : 0.053867 kWh. Total GPU Power : 42.70091946288196 W\n",
            "[codecarbon INFO @ 02:26:16] Energy consumed for all CPUs : 0.044648 kWh. Total CPU Power : 42.5 W\n",
            "[codecarbon INFO @ 02:26:16] 0.103503 kWh of electricity used since the beginning.\n",
            "Epoch [61/80] - Training:  41%|████      | 127/313 [00:21<00:27,  6.79it/s][codecarbon INFO @ 02:26:31] Energy consumed for RAM : 0.005007 kWh. RAM Power : 4.7530388832092285 W\n",
            "[codecarbon INFO @ 02:26:31] Energy consumed for all GPUs : 0.054093 kWh. Total GPU Power : 54.254354842657165 W\n",
            "[codecarbon INFO @ 02:26:31] Energy consumed for all CPUs : 0.044825 kWh. Total CPU Power : 42.5 W\n",
            "[codecarbon INFO @ 02:26:31] 0.103925 kWh of electricity used since the beginning.\n",
            "Epoch [61/80] - Training:  70%|███████   | 220/313 [00:36<00:13,  7.08it/s][codecarbon INFO @ 02:26:46] Energy consumed for RAM : 0.005027 kWh. RAM Power : 4.7530388832092285 W\n",
            "[codecarbon INFO @ 02:26:46] Energy consumed for all GPUs : 0.054324 kWh. Total GPU Power : 55.41212483226585 W\n",
            "[codecarbon INFO @ 02:26:46] Energy consumed for all CPUs : 0.045002 kWh. Total CPU Power : 42.5 W\n",
            "[codecarbon INFO @ 02:26:46] 0.104353 kWh of electricity used since the beginning.\n",
            "Epoch [61/80] - Training: 100%|██████████| 313/313 [00:50<00:00,  6.16it/s]\n",
            "/usr/local/lib/python3.10/dist-packages/torch/utils/data/dataloader.py:617: UserWarning: This DataLoader will create 4 worker processes in total. Our suggested max number of worker in current system is 2, which is smaller than what this DataLoader is going to create. Please be aware that excessive worker creation might get DataLoader running slow or even freeze, lower the worker number to avoid potential slowness/freeze if necessary.\n",
            "  warnings.warn(\n",
            "[codecarbon INFO @ 02:27:01] Energy consumed for RAM : 0.005047 kWh. RAM Power : 4.7530388832092285 W\n",
            "[codecarbon INFO @ 02:27:01] Energy consumed for all GPUs : 0.054552 kWh. Total GPU Power : 54.83785389370662 W\n",
            "[codecarbon INFO @ 02:27:01] Energy consumed for all CPUs : 0.045179 kWh. Total CPU Power : 42.5 W\n",
            "[codecarbon INFO @ 02:27:01] 0.104778 kWh of electricity used since the beginning.\n"
          ]
        },
        {
          "output_type": "stream",
          "name": "stdout",
          "text": [
            "Epoch [61/80], Train Loss: 0.2476, Train Acc: 91.33%, Val Loss: 0.4459, Val Acc: 85.46%\n"
          ]
        },
        {
          "output_type": "stream",
          "name": "stderr",
          "text": [
            "Epoch [62/80] - Training:   9%|▉         | 28/313 [00:04<00:40,  7.02it/s][codecarbon INFO @ 02:27:16] Energy consumed for RAM : 0.005067 kWh. RAM Power : 4.7530388832092285 W\n",
            "[codecarbon INFO @ 02:27:16] Energy consumed for all GPUs : 0.054726 kWh. Total GPU Power : 41.68588997807627 W\n",
            "[codecarbon INFO @ 02:27:16] Energy consumed for all CPUs : 0.045357 kWh. Total CPU Power : 42.5 W\n",
            "[codecarbon INFO @ 02:27:16] 0.105149 kWh of electricity used since the beginning.\n",
            "[codecarbon INFO @ 02:27:16] 0.003784 g.CO2eq/s mean an estimation of 119.33315158231088 kg.CO2eq/year\n",
            "Epoch [62/80] - Training:  38%|███▊      | 120/313 [00:19<00:29,  6.62it/s][codecarbon INFO @ 02:27:31] Energy consumed for RAM : 0.005086 kWh. RAM Power : 4.7530388832092285 W\n",
            "[codecarbon INFO @ 02:27:31] Energy consumed for all GPUs : 0.054950 kWh. Total GPU Power : 53.69649932178229 W\n",
            "[codecarbon INFO @ 02:27:31] Energy consumed for all CPUs : 0.045534 kWh. Total CPU Power : 42.5 W\n",
            "[codecarbon INFO @ 02:27:31] 0.105570 kWh of electricity used since the beginning.\n",
            "Epoch [62/80] - Training:  68%|██████▊   | 212/313 [00:34<00:13,  7.39it/s][codecarbon INFO @ 02:27:46] Energy consumed for RAM : 0.005106 kWh. RAM Power : 4.7530388832092285 W\n",
            "[codecarbon INFO @ 02:27:46] Energy consumed for all GPUs : 0.055180 kWh. Total GPU Power : 55.174625324648126 W\n",
            "[codecarbon INFO @ 02:27:46] Energy consumed for all CPUs : 0.045711 kWh. Total CPU Power : 42.5 W\n",
            "[codecarbon INFO @ 02:27:46] 0.105997 kWh of electricity used since the beginning.\n",
            "Epoch [62/80] - Training:  97%|█████████▋| 304/313 [00:50<00:01,  6.82it/s][codecarbon INFO @ 02:28:01] Energy consumed for RAM : 0.005126 kWh. RAM Power : 4.7530388832092285 W\n",
            "[codecarbon INFO @ 02:28:01] Energy consumed for all GPUs : 0.055405 kWh. Total GPU Power : 54.2645169443823 W\n",
            "[codecarbon INFO @ 02:28:01] Energy consumed for all CPUs : 0.045888 kWh. Total CPU Power : 42.5 W\n",
            "[codecarbon INFO @ 02:28:01] 0.106419 kWh of electricity used since the beginning.\n",
            "Epoch [62/80] - Training: 100%|██████████| 313/313 [00:51<00:00,  6.13it/s]\n",
            "/usr/local/lib/python3.10/dist-packages/torch/utils/data/dataloader.py:617: UserWarning: This DataLoader will create 4 worker processes in total. Our suggested max number of worker in current system is 2, which is smaller than what this DataLoader is going to create. Please be aware that excessive worker creation might get DataLoader running slow or even freeze, lower the worker number to avoid potential slowness/freeze if necessary.\n",
            "  warnings.warn(\n"
          ]
        },
        {
          "output_type": "stream",
          "name": "stdout",
          "text": [
            "Epoch [62/80], Train Loss: 0.2441, Train Acc: 91.50%, Val Loss: 0.4423, Val Acc: 85.24%\n"
          ]
        },
        {
          "output_type": "stream",
          "name": "stderr",
          "text": [
            "Epoch [63/80] - Training:   7%|▋         | 21/313 [00:04<00:55,  5.22it/s][codecarbon INFO @ 02:28:16] Energy consumed for RAM : 0.005146 kWh. RAM Power : 4.7530388832092285 W\n",
            "[codecarbon INFO @ 02:28:16] Energy consumed for all GPUs : 0.055590 kWh. Total GPU Power : 44.18078079342581 W\n",
            "[codecarbon INFO @ 02:28:16] Energy consumed for all CPUs : 0.046065 kWh. Total CPU Power : 42.5 W\n",
            "[codecarbon INFO @ 02:28:16] 0.106801 kWh of electricity used since the beginning.\n",
            "Epoch [63/80] - Training:  36%|███▌      | 113/313 [00:18<00:36,  5.46it/s][codecarbon INFO @ 02:28:31] Energy consumed for RAM : 0.005166 kWh. RAM Power : 4.7530388832092285 W\n",
            "Epoch [63/80] - Training:  36%|███▋      | 114/313 [00:19<00:37,  5.24it/s][codecarbon INFO @ 02:28:31] Energy consumed for all GPUs : 0.055819 kWh. Total GPU Power : 55.20128974710794 W\n",
            "[codecarbon INFO @ 02:28:31] Energy consumed for all CPUs : 0.046242 kWh. Total CPU Power : 42.5 W\n",
            "[codecarbon INFO @ 02:28:31] 0.107227 kWh of electricity used since the beginning.\n",
            "Epoch [63/80] - Training:  66%|██████▌   | 207/313 [00:34<00:20,  5.21it/s][codecarbon INFO @ 02:28:46] Energy consumed for RAM : 0.005185 kWh. RAM Power : 4.7530388832092285 W\n",
            "[codecarbon INFO @ 02:28:46] Energy consumed for all GPUs : 0.056048 kWh. Total GPU Power : 54.84274741140107 W\n",
            "[codecarbon INFO @ 02:28:46] Energy consumed for all CPUs : 0.046419 kWh. Total CPU Power : 42.5 W\n",
            "[codecarbon INFO @ 02:28:46] 0.107653 kWh of electricity used since the beginning.\n",
            "Epoch [63/80] - Training:  96%|█████████▌| 299/313 [00:49<00:02,  4.89it/s][codecarbon INFO @ 02:29:01] Energy consumed for RAM : 0.005205 kWh. RAM Power : 4.7530388832092285 W\n",
            "[codecarbon INFO @ 02:29:01] Energy consumed for all GPUs : 0.056274 kWh. Total GPU Power : 54.33153113552916 W\n",
            "[codecarbon INFO @ 02:29:01] Energy consumed for all CPUs : 0.046597 kWh. Total CPU Power : 42.5 W\n",
            "[codecarbon INFO @ 02:29:01] 0.108076 kWh of electricity used since the beginning.\n",
            "Epoch [63/80] - Training: 100%|██████████| 313/313 [00:51<00:00,  6.09it/s]\n",
            "/usr/local/lib/python3.10/dist-packages/torch/utils/data/dataloader.py:617: UserWarning: This DataLoader will create 4 worker processes in total. Our suggested max number of worker in current system is 2, which is smaller than what this DataLoader is going to create. Please be aware that excessive worker creation might get DataLoader running slow or even freeze, lower the worker number to avoid potential slowness/freeze if necessary.\n",
            "  warnings.warn(\n"
          ]
        },
        {
          "output_type": "stream",
          "name": "stdout",
          "text": [
            "Epoch [63/80], Train Loss: 0.2448, Train Acc: 91.33%, Val Loss: 0.4403, Val Acc: 85.44%\n"
          ]
        },
        {
          "output_type": "stream",
          "name": "stderr",
          "text": [
            "Epoch [64/80] - Training:   6%|▌         | 18/313 [00:04<01:05,  4.49it/s][codecarbon INFO @ 02:29:16] Energy consumed for RAM : 0.005225 kWh. RAM Power : 4.7530388832092285 W\n",
            "[codecarbon INFO @ 02:29:16] Energy consumed for all GPUs : 0.056458 kWh. Total GPU Power : 43.98078261507513 W\n",
            "[codecarbon INFO @ 02:29:16] Energy consumed for all CPUs : 0.046774 kWh. Total CPU Power : 42.5 W\n",
            "[codecarbon INFO @ 02:29:16] 0.108457 kWh of electricity used since the beginning.\n",
            "[codecarbon INFO @ 02:29:16] 0.003820 g.CO2eq/s mean an estimation of 120.45978791396482 kg.CO2eq/year\n",
            "Epoch [64/80] - Training:  35%|███▍      | 108/313 [00:19<00:44,  4.61it/s][codecarbon INFO @ 02:29:31] Energy consumed for RAM : 0.005245 kWh. RAM Power : 4.7530388832092285 W\n",
            "[codecarbon INFO @ 02:29:31] Energy consumed for all GPUs : 0.056677 kWh. Total GPU Power : 52.593366944870226 W\n",
            "[codecarbon INFO @ 02:29:31] Energy consumed for all CPUs : 0.046951 kWh. Total CPU Power : 42.5 W\n",
            "[codecarbon INFO @ 02:29:31] 0.108873 kWh of electricity used since the beginning.\n",
            "Epoch [64/80] - Training:  64%|██████▍   | 200/313 [00:34<00:25,  4.43it/s][codecarbon INFO @ 02:29:46] Energy consumed for RAM : 0.005265 kWh. RAM Power : 4.7530388832092285 W\n",
            "[codecarbon INFO @ 02:29:46] Energy consumed for all GPUs : 0.056903 kWh. Total GPU Power : 54.2779390447922 W\n",
            "[codecarbon INFO @ 02:29:46] Energy consumed for all CPUs : 0.047128 kWh. Total CPU Power : 42.5 W\n",
            "[codecarbon INFO @ 02:29:46] 0.109296 kWh of electricity used since the beginning.\n",
            "Epoch [64/80] - Training:  92%|█████████▏| 289/313 [00:49<00:05,  4.72it/s][codecarbon INFO @ 02:30:01] Energy consumed for RAM : 0.005284 kWh. RAM Power : 4.7530388832092285 W\n",
            "[codecarbon INFO @ 02:30:01] Energy consumed for all GPUs : 0.057129 kWh. Total GPU Power : 54.35327629120017 W\n",
            "[codecarbon INFO @ 02:30:01] Energy consumed for all CPUs : 0.047305 kWh. Total CPU Power : 42.5 W\n",
            "[codecarbon INFO @ 02:30:01] 0.109719 kWh of electricity used since the beginning.\n",
            "Epoch [64/80] - Training: 100%|██████████| 313/313 [00:53<00:00,  5.88it/s]\n",
            "/usr/local/lib/python3.10/dist-packages/torch/utils/data/dataloader.py:617: UserWarning: This DataLoader will create 4 worker processes in total. Our suggested max number of worker in current system is 2, which is smaller than what this DataLoader is going to create. Please be aware that excessive worker creation might get DataLoader running slow or even freeze, lower the worker number to avoid potential slowness/freeze if necessary.\n",
            "  warnings.warn(\n"
          ]
        },
        {
          "output_type": "stream",
          "name": "stdout",
          "text": [
            "Epoch [64/80], Train Loss: 0.2498, Train Acc: 91.37%, Val Loss: 0.4260, Val Acc: 86.30%\n"
          ]
        },
        {
          "output_type": "stream",
          "name": "stderr",
          "text": [
            "\rEpoch [65/80] - Training:   0%|          | 0/313 [00:00<?, ?it/s][codecarbon INFO @ 02:30:16] Energy consumed for RAM : 0.005304 kWh. RAM Power : 4.7530388832092285 W\n",
            "[codecarbon INFO @ 02:30:16] Energy consumed for all GPUs : 0.057297 kWh. Total GPU Power : 40.23619856414384 W\n",
            "[codecarbon INFO @ 02:30:16] Energy consumed for all CPUs : 0.047483 kWh. Total CPU Power : 42.5 W\n",
            "[codecarbon INFO @ 02:30:16] 0.110084 kWh of electricity used since the beginning.\n",
            "Epoch [65/80] - Training:  28%|██▊       | 87/313 [00:16<00:51,  4.40it/s][codecarbon INFO @ 02:30:31] Energy consumed for RAM : 0.005324 kWh. RAM Power : 4.7530388832092285 W\n",
            "[codecarbon INFO @ 02:30:31] Energy consumed for all GPUs : 0.057515 kWh. Total GPU Power : 52.19081790922403 W\n",
            "[codecarbon INFO @ 02:30:31] Energy consumed for all CPUs : 0.047660 kWh. Total CPU Power : 42.5 W\n",
            "[codecarbon INFO @ 02:30:31] 0.110499 kWh of electricity used since the beginning.\n",
            "Epoch [65/80] - Training:  57%|█████▋    | 177/313 [00:31<00:29,  4.60it/s][codecarbon INFO @ 02:30:46] Energy consumed for RAM : 0.005344 kWh. RAM Power : 4.7530388832092285 W\n",
            "[codecarbon INFO @ 02:30:46] Energy consumed for all GPUs : 0.057744 kWh. Total GPU Power : 54.989549772923716 W\n",
            "[codecarbon INFO @ 02:30:46] Energy consumed for all CPUs : 0.047838 kWh. Total CPU Power : 42.5 W\n",
            "[codecarbon INFO @ 02:30:46] 0.110925 kWh of electricity used since the beginning.\n",
            "Epoch [65/80] - Training:  86%|████████▌ | 268/313 [00:46<00:10,  4.44it/s][codecarbon INFO @ 02:31:01] Energy consumed for RAM : 0.005364 kWh. RAM Power : 4.7530388832092285 W\n",
            "[codecarbon INFO @ 02:31:01] Energy consumed for all GPUs : 0.057975 kWh. Total GPU Power : 55.34585902630715 W\n",
            "[codecarbon INFO @ 02:31:01] Energy consumed for all CPUs : 0.048015 kWh. Total CPU Power : 42.5 W\n",
            "[codecarbon INFO @ 02:31:02] 0.111354 kWh of electricity used since the beginning.\n",
            "Epoch [65/80] - Training: 100%|██████████| 313/313 [00:52<00:00,  5.91it/s]\n",
            "/usr/local/lib/python3.10/dist-packages/torch/utils/data/dataloader.py:617: UserWarning: This DataLoader will create 4 worker processes in total. Our suggested max number of worker in current system is 2, which is smaller than what this DataLoader is going to create. Please be aware that excessive worker creation might get DataLoader running slow or even freeze, lower the worker number to avoid potential slowness/freeze if necessary.\n",
            "  warnings.warn(\n",
            "[codecarbon INFO @ 02:31:16] Energy consumed for RAM : 0.005383 kWh. RAM Power : 4.7530388832092285 W\n",
            "[codecarbon INFO @ 02:31:16] Energy consumed for all GPUs : 0.058167 kWh. Total GPU Power : 46.11732088032129 W\n",
            "[codecarbon INFO @ 02:31:16] Energy consumed for all CPUs : 0.048192 kWh. Total CPU Power : 42.5 W\n",
            "[codecarbon INFO @ 02:31:16] 0.111742 kWh of electricity used since the beginning.\n",
            "[codecarbon INFO @ 02:31:16] 0.003793 g.CO2eq/s mean an estimation of 119.61470028809393 kg.CO2eq/year\n"
          ]
        },
        {
          "output_type": "stream",
          "name": "stdout",
          "text": [
            "Epoch [65/80], Train Loss: 0.2418, Train Acc: 91.55%, Val Loss: 0.4330, Val Acc: 85.78%\n"
          ]
        },
        {
          "output_type": "stream",
          "name": "stderr",
          "text": [
            "Epoch [66/80] - Training:  23%|██▎       | 73/313 [00:12<00:55,  4.31it/s][codecarbon INFO @ 02:31:31] Energy consumed for RAM : 0.005403 kWh. RAM Power : 4.7530388832092285 W\n",
            "[codecarbon INFO @ 02:31:31] Energy consumed for all GPUs : 0.058375 kWh. Total GPU Power : 50.108375262443175 W\n",
            "[codecarbon INFO @ 02:31:31] Energy consumed for all CPUs : 0.048369 kWh. Total CPU Power : 42.5 W\n",
            "[codecarbon INFO @ 02:31:31] 0.112148 kWh of electricity used since the beginning.\n",
            "Epoch [66/80] - Training:  53%|█████▎    | 165/313 [00:27<00:36,  4.06it/s][codecarbon INFO @ 02:31:46] Energy consumed for RAM : 0.005423 kWh. RAM Power : 4.7530388832092285 W\n",
            "[codecarbon INFO @ 02:31:46] Energy consumed for all GPUs : 0.058599 kWh. Total GPU Power : 53.68770276304284 W\n",
            "[codecarbon INFO @ 02:31:46] Energy consumed for all CPUs : 0.048546 kWh. Total CPU Power : 42.5 W\n",
            "[codecarbon INFO @ 02:31:46] 0.112568 kWh of electricity used since the beginning.\n",
            "Epoch [66/80] - Training:  82%|████████▏ | 256/313 [00:42<00:13,  4.14it/s][codecarbon INFO @ 02:32:01] Energy consumed for RAM : 0.005443 kWh. RAM Power : 4.7530388832092285 W\n",
            "[codecarbon INFO @ 02:32:02] Energy consumed for all GPUs : 0.058829 kWh. Total GPU Power : 55.22784370269841 W\n",
            "[codecarbon INFO @ 02:32:02] Energy consumed for all CPUs : 0.048723 kWh. Total CPU Power : 42.5 W\n",
            "[codecarbon INFO @ 02:32:02] 0.112995 kWh of electricity used since the beginning.\n",
            "Epoch [66/80] - Training: 100%|██████████| 313/313 [00:50<00:00,  6.17it/s]\n",
            "/usr/local/lib/python3.10/dist-packages/torch/utils/data/dataloader.py:617: UserWarning: This DataLoader will create 4 worker processes in total. Our suggested max number of worker in current system is 2, which is smaller than what this DataLoader is going to create. Please be aware that excessive worker creation might get DataLoader running slow or even freeze, lower the worker number to avoid potential slowness/freeze if necessary.\n",
            "  warnings.warn(\n",
            "[codecarbon INFO @ 02:32:17] Energy consumed for RAM : 0.005463 kWh. RAM Power : 4.7530388832092285 W\n",
            "[codecarbon INFO @ 02:32:17] Energy consumed for all GPUs : 0.059034 kWh. Total GPU Power : 49.038373430027 W\n",
            "[codecarbon INFO @ 02:32:17] Energy consumed for all CPUs : 0.048901 kWh. Total CPU Power : 42.5 W\n",
            "[codecarbon INFO @ 02:32:17] 0.113397 kWh of electricity used since the beginning.\n"
          ]
        },
        {
          "output_type": "stream",
          "name": "stdout",
          "text": [
            "Epoch [66/80], Train Loss: 0.2485, Train Acc: 91.36%, Val Loss: 0.4363, Val Acc: 85.50%\n"
          ]
        },
        {
          "output_type": "stream",
          "name": "stderr",
          "text": [
            "Epoch [67/80] - Training:  20%|██        | 63/313 [00:11<00:52,  4.79it/s][codecarbon INFO @ 02:32:32] Energy consumed for RAM : 0.005482 kWh. RAM Power : 4.7530388832092285 W\n",
            "[codecarbon INFO @ 02:32:32] Energy consumed for all GPUs : 0.059231 kWh. Total GPU Power : 47.36354832695229 W\n",
            "[codecarbon INFO @ 02:32:32] Energy consumed for all CPUs : 0.049078 kWh. Total CPU Power : 42.5 W\n",
            "[codecarbon INFO @ 02:32:32] 0.113791 kWh of electricity used since the beginning.\n",
            "Epoch [67/80] - Training:  50%|████▉     | 155/313 [00:26<00:35,  4.51it/s][codecarbon INFO @ 02:32:47] Energy consumed for RAM : 0.005502 kWh. RAM Power : 4.7530388832092285 W\n",
            "[codecarbon INFO @ 02:32:47] Energy consumed for all GPUs : 0.059455 kWh. Total GPU Power : 53.93533664812825 W\n",
            "[codecarbon INFO @ 02:32:47] Energy consumed for all CPUs : 0.049255 kWh. Total CPU Power : 42.5 W\n",
            "[codecarbon INFO @ 02:32:47] 0.114212 kWh of electricity used since the beginning.\n",
            "Epoch [67/80] - Training:  79%|███████▉  | 248/313 [00:41<00:13,  4.92it/s][codecarbon INFO @ 02:33:02] Energy consumed for RAM : 0.005522 kWh. RAM Power : 4.7530388832092285 W\n",
            "[codecarbon INFO @ 02:33:02] Energy consumed for all GPUs : 0.059682 kWh. Total GPU Power : 54.378309398464694 W\n",
            "[codecarbon INFO @ 02:33:02] Energy consumed for all CPUs : 0.049432 kWh. Total CPU Power : 42.5 W\n",
            "[codecarbon INFO @ 02:33:02] 0.114636 kWh of electricity used since the beginning.\n",
            "Epoch [67/80] - Training: 100%|██████████| 313/313 [00:50<00:00,  6.19it/s]\n",
            "/usr/local/lib/python3.10/dist-packages/torch/utils/data/dataloader.py:617: UserWarning: This DataLoader will create 4 worker processes in total. Our suggested max number of worker in current system is 2, which is smaller than what this DataLoader is going to create. Please be aware that excessive worker creation might get DataLoader running slow or even freeze, lower the worker number to avoid potential slowness/freeze if necessary.\n",
            "  warnings.warn(\n",
            "[codecarbon INFO @ 02:33:17] Energy consumed for RAM : 0.005542 kWh. RAM Power : 4.7530388832092285 W\n",
            "[codecarbon INFO @ 02:33:17] Energy consumed for all GPUs : 0.059895 kWh. Total GPU Power : 51.286715889257295 W\n",
            "[codecarbon INFO @ 02:33:17] Energy consumed for all CPUs : 0.049609 kWh. Total CPU Power : 42.5 W\n",
            "[codecarbon INFO @ 02:33:17] 0.115046 kWh of electricity used since the beginning.\n",
            "[codecarbon INFO @ 02:33:17] 0.003817 g.CO2eq/s mean an estimation of 120.37770572394928 kg.CO2eq/year\n"
          ]
        },
        {
          "output_type": "stream",
          "name": "stdout",
          "text": [
            "Epoch [67/80], Train Loss: 0.2406, Train Acc: 91.74%, Val Loss: 0.4356, Val Acc: 85.76%\n"
          ]
        },
        {
          "output_type": "stream",
          "name": "stderr",
          "text": [
            "Epoch [68/80] - Training:  18%|█▊        | 57/313 [00:10<00:37,  6.83it/s][codecarbon INFO @ 02:33:32] Energy consumed for RAM : 0.005561 kWh. RAM Power : 4.7530388832092285 W\n",
            "[codecarbon INFO @ 02:33:32] Energy consumed for all GPUs : 0.060089 kWh. Total GPU Power : 46.320910599706615 W\n",
            "[codecarbon INFO @ 02:33:32] Energy consumed for all CPUs : 0.049786 kWh. Total CPU Power : 42.5 W\n",
            "[codecarbon INFO @ 02:33:32] 0.115436 kWh of electricity used since the beginning.\n",
            "Epoch [68/80] - Training:  48%|████▊     | 150/313 [00:25<00:26,  6.19it/s][codecarbon INFO @ 02:33:47] Energy consumed for RAM : 0.005581 kWh. RAM Power : 4.7530388832092285 W\n",
            "[codecarbon INFO @ 02:33:47] Energy consumed for all GPUs : 0.060317 kWh. Total GPU Power : 54.829285717724325 W\n",
            "[codecarbon INFO @ 02:33:47] Energy consumed for all CPUs : 0.049963 kWh. Total CPU Power : 42.5 W\n",
            "[codecarbon INFO @ 02:33:47] 0.115862 kWh of electricity used since the beginning.\n",
            "Epoch [68/80] - Training:  78%|███████▊  | 243/313 [00:40<00:10,  6.81it/s][codecarbon INFO @ 02:34:02] Energy consumed for RAM : 0.005601 kWh. RAM Power : 4.7530388832092285 W\n",
            "[codecarbon INFO @ 02:34:02] Energy consumed for all GPUs : 0.060547 kWh. Total GPU Power : 55.30260206227121 W\n",
            "[codecarbon INFO @ 02:34:02] Energy consumed for all CPUs : 0.050141 kWh. Total CPU Power : 42.5 W\n",
            "[codecarbon INFO @ 02:34:02] 0.116289 kWh of electricity used since the beginning.\n",
            "Epoch [68/80] - Training: 100%|██████████| 313/313 [00:50<00:00,  6.20it/s]\n",
            "/usr/local/lib/python3.10/dist-packages/torch/utils/data/dataloader.py:617: UserWarning: This DataLoader will create 4 worker processes in total. Our suggested max number of worker in current system is 2, which is smaller than what this DataLoader is going to create. Please be aware that excessive worker creation might get DataLoader running slow or even freeze, lower the worker number to avoid potential slowness/freeze if necessary.\n",
            "  warnings.warn(\n",
            "[codecarbon INFO @ 02:34:17] Energy consumed for RAM : 0.005621 kWh. RAM Power : 4.7530388832092285 W\n",
            "[codecarbon INFO @ 02:34:17] Energy consumed for all GPUs : 0.060768 kWh. Total GPU Power : 53.05465375104043 W\n",
            "[codecarbon INFO @ 02:34:17] Energy consumed for all CPUs : 0.050318 kWh. Total CPU Power : 42.5 W\n",
            "[codecarbon INFO @ 02:34:17] 0.116707 kWh of electricity used since the beginning.\n"
          ]
        },
        {
          "output_type": "stream",
          "name": "stdout",
          "text": [
            "Epoch [68/80], Train Loss: 0.2398, Train Acc: 91.60%, Val Loss: 0.4429, Val Acc: 86.03%\n"
          ]
        },
        {
          "output_type": "stream",
          "name": "stderr",
          "text": [
            "Epoch [69/80] - Training:  18%|█▊        | 55/313 [00:10<00:35,  7.35it/s][codecarbon INFO @ 02:34:32] Energy consumed for RAM : 0.005641 kWh. RAM Power : 4.7530388832092285 W\n",
            "[codecarbon INFO @ 02:34:32] Energy consumed for all GPUs : 0.060957 kWh. Total GPU Power : 45.21497717734546 W\n",
            "[codecarbon INFO @ 02:34:32] Energy consumed for all CPUs : 0.050495 kWh. Total CPU Power : 42.5 W\n",
            "[codecarbon INFO @ 02:34:32] 0.117092 kWh of electricity used since the beginning.\n",
            "Epoch [69/80] - Training:  48%|████▊     | 149/313 [00:25<00:23,  7.08it/s][codecarbon INFO @ 02:34:47] Energy consumed for RAM : 0.005660 kWh. RAM Power : 4.7530388832092285 W\n",
            "[codecarbon INFO @ 02:34:47] Energy consumed for all GPUs : 0.061185 kWh. Total GPU Power : 54.86811631774603 W\n",
            "[codecarbon INFO @ 02:34:47] Energy consumed for all CPUs : 0.050672 kWh. Total CPU Power : 42.5 W\n",
            "[codecarbon INFO @ 02:34:47] 0.117518 kWh of electricity used since the beginning.\n",
            "Epoch [69/80] - Training:  76%|███████▌  | 238/313 [00:40<00:10,  7.11it/s][codecarbon INFO @ 02:35:02] Energy consumed for RAM : 0.005680 kWh. RAM Power : 4.7530388832092285 W\n",
            "[codecarbon INFO @ 02:35:02] Energy consumed for all GPUs : 0.061408 kWh. Total GPU Power : 53.44632898069022 W\n",
            "[codecarbon INFO @ 02:35:02] Energy consumed for all CPUs : 0.050849 kWh. Total CPU Power : 42.5 W\n",
            "[codecarbon INFO @ 02:35:02] 0.117937 kWh of electricity used since the beginning.\n",
            "Epoch [69/80] - Training: 100%|██████████| 313/313 [00:52<00:00,  5.96it/s]\n",
            "/usr/local/lib/python3.10/dist-packages/torch/utils/data/dataloader.py:617: UserWarning: This DataLoader will create 4 worker processes in total. Our suggested max number of worker in current system is 2, which is smaller than what this DataLoader is going to create. Please be aware that excessive worker creation might get DataLoader running slow or even freeze, lower the worker number to avoid potential slowness/freeze if necessary.\n",
            "  warnings.warn(\n",
            "[codecarbon INFO @ 02:35:17] Energy consumed for RAM : 0.005700 kWh. RAM Power : 4.7530388832092285 W\n",
            "[codecarbon INFO @ 02:35:17] Energy consumed for all GPUs : 0.061632 kWh. Total GPU Power : 53.77357843074279 W\n",
            "[codecarbon INFO @ 02:35:17] Energy consumed for all CPUs : 0.051026 kWh. Total CPU Power : 42.5 W\n",
            "[codecarbon INFO @ 02:35:17] 0.118358 kWh of electricity used since the beginning.\n",
            "[codecarbon INFO @ 02:35:17] 0.003826 g.CO2eq/s mean an estimation of 120.65610700891361 kg.CO2eq/year\n"
          ]
        },
        {
          "output_type": "stream",
          "name": "stdout",
          "text": [
            "Epoch [69/80], Train Loss: 0.2375, Train Acc: 91.64%, Val Loss: 0.4393, Val Acc: 85.60%\n"
          ]
        },
        {
          "output_type": "stream",
          "name": "stderr",
          "text": [
            "Epoch [70/80] - Training:  13%|█▎        | 42/313 [00:09<00:40,  6.66it/s][codecarbon INFO @ 02:35:32] Energy consumed for RAM : 0.005720 kWh. RAM Power : 4.7530388832092285 W\n",
            "Epoch [70/80] - Training:  14%|█▎        | 43/313 [00:09<00:40,  6.68it/s][codecarbon INFO @ 02:35:32] Energy consumed for all GPUs : 0.061803 kWh. Total GPU Power : 41.12727823381962 W\n",
            "[codecarbon INFO @ 02:35:32] Energy consumed for all CPUs : 0.051204 kWh. Total CPU Power : 42.5 W\n",
            "[codecarbon INFO @ 02:35:32] 0.118727 kWh of electricity used since the beginning.\n",
            "Epoch [70/80] - Training:  43%|████▎     | 134/313 [00:24<00:24,  7.30it/s][codecarbon INFO @ 02:35:47] Energy consumed for RAM : 0.005740 kWh. RAM Power : 4.7530388832092285 W\n",
            "[codecarbon INFO @ 02:35:47] Energy consumed for all GPUs : 0.062027 kWh. Total GPU Power : 53.83451509743162 W\n",
            "[codecarbon INFO @ 02:35:47] Energy consumed for all CPUs : 0.051381 kWh. Total CPU Power : 42.5 W\n",
            "[codecarbon INFO @ 02:35:47] 0.119147 kWh of electricity used since the beginning.\n",
            "Epoch [70/80] - Training:  73%|███████▎  | 227/313 [00:39<00:12,  7.04it/s][codecarbon INFO @ 02:36:02] Energy consumed for RAM : 0.005759 kWh. RAM Power : 4.7530388832092285 W\n",
            "[codecarbon INFO @ 02:36:02] Energy consumed for all GPUs : 0.062253 kWh. Total GPU Power : 54.23982494798397 W\n",
            "[codecarbon INFO @ 02:36:02] Energy consumed for all CPUs : 0.051558 kWh. Total CPU Power : 42.5 W\n",
            "[codecarbon INFO @ 02:36:02] 0.119570 kWh of electricity used since the beginning.\n",
            "Epoch [70/80] - Training: 100%|██████████| 313/313 [00:52<00:00,  5.94it/s]\n",
            "/usr/local/lib/python3.10/dist-packages/torch/utils/data/dataloader.py:617: UserWarning: This DataLoader will create 4 worker processes in total. Our suggested max number of worker in current system is 2, which is smaller than what this DataLoader is going to create. Please be aware that excessive worker creation might get DataLoader running slow or even freeze, lower the worker number to avoid potential slowness/freeze if necessary.\n",
            "  warnings.warn(\n",
            "[codecarbon INFO @ 02:36:17] Energy consumed for RAM : 0.005779 kWh. RAM Power : 4.7530388832092285 W\n",
            "[codecarbon INFO @ 02:36:17] Energy consumed for all GPUs : 0.062485 kWh. Total GPU Power : 55.67936572975298 W\n",
            "[codecarbon INFO @ 02:36:17] Energy consumed for all CPUs : 0.051735 kWh. Total CPU Power : 42.5 W\n",
            "[codecarbon INFO @ 02:36:17] 0.119999 kWh of electricity used since the beginning.\n"
          ]
        },
        {
          "output_type": "stream",
          "name": "stdout",
          "text": [
            "Epoch [70/80], Train Loss: 0.2448, Train Acc: 91.51%, Val Loss: 0.4493, Val Acc: 85.46%\n"
          ]
        },
        {
          "output_type": "stream",
          "name": "stderr",
          "text": [
            "Epoch [71/80] - Training:  12%|█▏        | 36/313 [00:07<00:40,  6.77it/s][codecarbon INFO @ 02:36:32] Energy consumed for RAM : 0.005799 kWh. RAM Power : 4.7530388832092285 W\n",
            "[codecarbon INFO @ 02:36:32] Energy consumed for all GPUs : 0.062655 kWh. Total GPU Power : 40.91173532637257 W\n",
            "[codecarbon INFO @ 02:36:32] Energy consumed for all CPUs : 0.051912 kWh. Total CPU Power : 42.5 W\n",
            "[codecarbon INFO @ 02:36:32] 0.120366 kWh of electricity used since the beginning.\n",
            "Epoch [71/80] - Training:  42%|████▏     | 130/313 [00:22<00:24,  7.62it/s][codecarbon INFO @ 02:36:47] Energy consumed for RAM : 0.005819 kWh. RAM Power : 4.7530388832092285 W\n",
            "Epoch [71/80] - Training:  42%|████▏     | 131/313 [00:22<00:24,  7.29it/s][codecarbon INFO @ 02:36:47] Energy consumed for all GPUs : 0.062882 kWh. Total GPU Power : 54.45193509576639 W\n",
            "[codecarbon INFO @ 02:36:47] Energy consumed for all CPUs : 0.052089 kWh. Total CPU Power : 42.5 W\n",
            "[codecarbon INFO @ 02:36:47] 0.120791 kWh of electricity used since the beginning.\n",
            "Epoch [71/80] - Training:  71%|███████   | 221/313 [00:37<00:12,  7.49it/s][codecarbon INFO @ 02:37:02] Energy consumed for RAM : 0.005839 kWh. RAM Power : 4.7530388832092285 W\n",
            "[codecarbon INFO @ 02:37:02] Energy consumed for all GPUs : 0.063108 kWh. Total GPU Power : 54.14096487477491 W\n",
            "[codecarbon INFO @ 02:37:02] Energy consumed for all CPUs : 0.052266 kWh. Total CPU Power : 42.5 W\n",
            "[codecarbon INFO @ 02:37:02] 0.121212 kWh of electricity used since the beginning.\n",
            "Epoch [71/80] - Training: 100%|██████████| 313/313 [00:52<00:00,  5.99it/s]\n",
            "/usr/local/lib/python3.10/dist-packages/torch/utils/data/dataloader.py:617: UserWarning: This DataLoader will create 4 worker processes in total. Our suggested max number of worker in current system is 2, which is smaller than what this DataLoader is going to create. Please be aware that excessive worker creation might get DataLoader running slow or even freeze, lower the worker number to avoid potential slowness/freeze if necessary.\n",
            "  warnings.warn(\n",
            "[codecarbon INFO @ 02:37:17] Energy consumed for RAM : 0.005858 kWh. RAM Power : 4.7530388832092285 W\n",
            "[codecarbon INFO @ 02:37:17] Energy consumed for all GPUs : 0.063336 kWh. Total GPU Power : 54.781037637172595 W\n",
            "[codecarbon INFO @ 02:37:17] Energy consumed for all CPUs : 0.052444 kWh. Total CPU Power : 42.5 W\n",
            "[codecarbon INFO @ 02:37:17] 0.121638 kWh of electricity used since the beginning.\n",
            "[codecarbon INFO @ 02:37:17] 0.003788 g.CO2eq/s mean an estimation of 119.46367358460137 kg.CO2eq/year\n"
          ]
        },
        {
          "output_type": "stream",
          "name": "stdout",
          "text": [
            "Epoch [71/80], Train Loss: 0.2366, Train Acc: 91.81%, Val Loss: 0.4339, Val Acc: 85.81%\n"
          ]
        },
        {
          "output_type": "stream",
          "name": "stderr",
          "text": [
            "Epoch [72/80] - Training:  10%|█         | 32/313 [00:06<00:40,  6.98it/s][codecarbon INFO @ 02:37:32] Energy consumed for RAM : 0.005878 kWh. RAM Power : 4.7530388832092285 W\n",
            "[codecarbon INFO @ 02:37:32] Energy consumed for all GPUs : 0.063506 kWh. Total GPU Power : 40.69051692512433 W\n",
            "[codecarbon INFO @ 02:37:32] Energy consumed for all CPUs : 0.052621 kWh. Total CPU Power : 42.5 W\n",
            "[codecarbon INFO @ 02:37:32] 0.122005 kWh of electricity used since the beginning.\n",
            "Epoch [72/80] - Training:  41%|████      | 128/313 [00:21<00:24,  7.62it/s][codecarbon INFO @ 02:37:47] Energy consumed for RAM : 0.005898 kWh. RAM Power : 4.7530388832092285 W\n",
            "[codecarbon INFO @ 02:37:47] Energy consumed for all GPUs : 0.063735 kWh. Total GPU Power : 55.067610583514885 W\n",
            "[codecarbon INFO @ 02:37:47] Energy consumed for all CPUs : 0.052798 kWh. Total CPU Power : 42.5 W\n",
            "[codecarbon INFO @ 02:37:47] 0.122431 kWh of electricity used since the beginning.\n",
            "Epoch [72/80] - Training:  71%|███████   | 221/313 [00:36<00:13,  6.87it/s][codecarbon INFO @ 02:38:02] Energy consumed for RAM : 0.005918 kWh. RAM Power : 4.7530388832092285 W\n",
            "[codecarbon INFO @ 02:38:02] Energy consumed for all GPUs : 0.063966 kWh. Total GPU Power : 55.53619744369526 W\n",
            "[codecarbon INFO @ 02:38:02] Energy consumed for all CPUs : 0.052975 kWh. Total CPU Power : 42.5 W\n",
            "[codecarbon INFO @ 02:38:02] 0.122859 kWh of electricity used since the beginning.\n",
            "Epoch [72/80] - Training: 100%|██████████| 313/313 [00:50<00:00,  6.16it/s]\n",
            "/usr/local/lib/python3.10/dist-packages/torch/utils/data/dataloader.py:617: UserWarning: This DataLoader will create 4 worker processes in total. Our suggested max number of worker in current system is 2, which is smaller than what this DataLoader is going to create. Please be aware that excessive worker creation might get DataLoader running slow or even freeze, lower the worker number to avoid potential slowness/freeze if necessary.\n",
            "  warnings.warn(\n",
            "[codecarbon INFO @ 02:38:17] Energy consumed for RAM : 0.005938 kWh. RAM Power : 4.7530388832092285 W\n",
            "[codecarbon INFO @ 02:38:17] Energy consumed for all GPUs : 0.064195 kWh. Total GPU Power : 54.833998910770575 W\n",
            "[codecarbon INFO @ 02:38:17] Energy consumed for all CPUs : 0.053152 kWh. Total CPU Power : 42.5 W\n",
            "[codecarbon INFO @ 02:38:17] 0.123284 kWh of electricity used since the beginning.\n"
          ]
        },
        {
          "output_type": "stream",
          "name": "stdout",
          "text": [
            "Epoch [72/80], Train Loss: 0.2443, Train Acc: 91.39%, Val Loss: 0.4418, Val Acc: 85.50%\n"
          ]
        },
        {
          "output_type": "stream",
          "name": "stderr",
          "text": [
            "Epoch [73/80] - Training:  11%|█         | 35/313 [00:06<00:39,  7.01it/s][codecarbon INFO @ 02:38:32] Energy consumed for RAM : 0.005957 kWh. RAM Power : 4.7530388832092285 W\n",
            "[codecarbon INFO @ 02:38:32] Energy consumed for all GPUs : 0.064379 kWh. Total GPU Power : 44.41187743292014 W\n",
            "[codecarbon INFO @ 02:38:32] Energy consumed for all CPUs : 0.053329 kWh. Total CPU Power : 42.5 W\n",
            "[codecarbon INFO @ 02:38:32] 0.123666 kWh of electricity used since the beginning.\n",
            "Epoch [73/80] - Training:  41%|████      | 127/313 [00:21<00:27,  6.85it/s][codecarbon INFO @ 02:38:47] Energy consumed for RAM : 0.005977 kWh. RAM Power : 4.7530388832092285 W\n",
            "[codecarbon INFO @ 02:38:47] Energy consumed for all GPUs : 0.064609 kWh. Total GPU Power : 55.217714692838506 W\n",
            "[codecarbon INFO @ 02:38:47] Energy consumed for all CPUs : 0.053506 kWh. Total CPU Power : 42.5 W\n",
            "[codecarbon INFO @ 02:38:47] 0.124092 kWh of electricity used since the beginning.\n",
            "Epoch [73/80] - Training:  71%|███████   | 221/313 [00:36<00:13,  6.97it/s][codecarbon INFO @ 02:39:02] Energy consumed for RAM : 0.005997 kWh. RAM Power : 4.7530388832092285 W\n",
            "[codecarbon INFO @ 02:39:02] Energy consumed for all GPUs : 0.064841 kWh. Total GPU Power : 55.65008749707988 W\n",
            "[codecarbon INFO @ 02:39:02] Energy consumed for all CPUs : 0.053683 kWh. Total CPU Power : 42.5 W\n",
            "[codecarbon INFO @ 02:39:02] 0.124521 kWh of electricity used since the beginning.\n",
            "Epoch [73/80] - Training: 100%|██████████| 313/313 [00:50<00:00,  6.17it/s]\n",
            "/usr/local/lib/python3.10/dist-packages/torch/utils/data/dataloader.py:617: UserWarning: This DataLoader will create 4 worker processes in total. Our suggested max number of worker in current system is 2, which is smaller than what this DataLoader is going to create. Please be aware that excessive worker creation might get DataLoader running slow or even freeze, lower the worker number to avoid potential slowness/freeze if necessary.\n",
            "  warnings.warn(\n",
            "[codecarbon INFO @ 02:39:17] Energy consumed for RAM : 0.006017 kWh. RAM Power : 4.7530388832092285 W\n",
            "[codecarbon INFO @ 02:39:17] Energy consumed for all GPUs : 0.065071 kWh. Total GPU Power : 55.26154262391213 W\n",
            "[codecarbon INFO @ 02:39:17] Energy consumed for all CPUs : 0.053860 kWh. Total CPU Power : 42.5 W\n",
            "[codecarbon INFO @ 02:39:17] 0.124948 kWh of electricity used since the beginning.\n",
            "[codecarbon INFO @ 02:39:17] 0.003824 g.CO2eq/s mean an estimation of 120.59465907778642 kg.CO2eq/year\n"
          ]
        },
        {
          "output_type": "stream",
          "name": "stdout",
          "text": [
            "Epoch [73/80], Train Loss: 0.2396, Train Acc: 91.70%, Val Loss: 0.4328, Val Acc: 86.00%\n"
          ]
        },
        {
          "output_type": "stream",
          "name": "stderr",
          "text": [
            "Epoch [74/80] - Training:  10%|▉         | 30/313 [00:05<00:38,  7.31it/s][codecarbon INFO @ 02:39:32] Energy consumed for RAM : 0.006036 kWh. RAM Power : 4.7530388832092285 W\n",
            "[codecarbon INFO @ 02:39:32] Energy consumed for all GPUs : 0.065249 kWh. Total GPU Power : 42.85745043110066 W\n",
            "[codecarbon INFO @ 02:39:32] Energy consumed for all CPUs : 0.054037 kWh. Total CPU Power : 42.5 W\n",
            "[codecarbon INFO @ 02:39:32] 0.125323 kWh of electricity used since the beginning.\n",
            "Epoch [74/80] - Training:  40%|███▉      | 124/313 [00:20<00:26,  7.05it/s][codecarbon INFO @ 02:39:47] Energy consumed for RAM : 0.006056 kWh. RAM Power : 4.7530388832092285 W\n",
            "[codecarbon INFO @ 02:39:47] Energy consumed for all GPUs : 0.065475 kWh. Total GPU Power : 53.951239324668215 W\n",
            "[codecarbon INFO @ 02:39:47] Energy consumed for all CPUs : 0.054215 kWh. Total CPU Power : 42.5 W\n",
            "[codecarbon INFO @ 02:39:47] 0.125746 kWh of electricity used since the beginning.\n",
            "Epoch [74/80] - Training:  70%|██████▉   | 219/313 [00:35<00:13,  6.93it/s][codecarbon INFO @ 02:40:02] Energy consumed for RAM : 0.006076 kWh. RAM Power : 4.7530388832092285 W\n",
            "[codecarbon INFO @ 02:40:02] Energy consumed for all GPUs : 0.065704 kWh. Total GPU Power : 55.19171961802378 W\n",
            "[codecarbon INFO @ 02:40:02] Energy consumed for all CPUs : 0.054392 kWh. Total CPU Power : 42.5 W\n",
            "[codecarbon INFO @ 02:40:02] 0.126172 kWh of electricity used since the beginning.\n",
            "Epoch [74/80] - Training: 100%|██████████| 313/313 [00:49<00:00,  6.26it/s]\n",
            "/usr/local/lib/python3.10/dist-packages/torch/utils/data/dataloader.py:617: UserWarning: This DataLoader will create 4 worker processes in total. Our suggested max number of worker in current system is 2, which is smaller than what this DataLoader is going to create. Please be aware that excessive worker creation might get DataLoader running slow or even freeze, lower the worker number to avoid potential slowness/freeze if necessary.\n",
            "  warnings.warn(\n",
            "[codecarbon INFO @ 02:40:17] Energy consumed for RAM : 0.006096 kWh. RAM Power : 4.7530388832092285 W\n",
            "[codecarbon INFO @ 02:40:17] Energy consumed for all GPUs : 0.065934 kWh. Total GPU Power : 54.97383900768035 W\n",
            "[codecarbon INFO @ 02:40:17] Energy consumed for all CPUs : 0.054569 kWh. Total CPU Power : 42.5 W\n",
            "[codecarbon INFO @ 02:40:17] 0.126598 kWh of electricity used since the beginning.\n"
          ]
        },
        {
          "output_type": "stream",
          "name": "stdout",
          "text": [
            "Epoch [74/80], Train Loss: 0.2395, Train Acc: 91.77%, Val Loss: 0.4227, Val Acc: 86.04%\n"
          ]
        },
        {
          "output_type": "stream",
          "name": "stderr",
          "text": [
            "Epoch [75/80] - Training:   9%|▊         | 27/313 [00:04<00:41,  6.83it/s][codecarbon INFO @ 02:40:32] Energy consumed for RAM : 0.006116 kWh. RAM Power : 4.7530388832092285 W\n",
            "[codecarbon INFO @ 02:40:32] Energy consumed for all GPUs : 0.066106 kWh. Total GPU Power : 41.33815028959648 W\n",
            "[codecarbon INFO @ 02:40:32] Energy consumed for all CPUs : 0.054747 kWh. Total CPU Power : 42.5 W\n",
            "[codecarbon INFO @ 02:40:32] 0.126968 kWh of electricity used since the beginning.\n",
            "Epoch [75/80] - Training:  39%|███▊      | 121/313 [00:19<00:28,  6.70it/s][codecarbon INFO @ 02:40:47] Energy consumed for RAM : 0.006135 kWh. RAM Power : 4.7530388832092285 W\n",
            "[codecarbon INFO @ 02:40:47] Energy consumed for all GPUs : 0.066333 kWh. Total GPU Power : 54.56010899662124 W\n",
            "[codecarbon INFO @ 02:40:47] Energy consumed for all CPUs : 0.054923 kWh. Total CPU Power : 42.5 W\n",
            "[codecarbon INFO @ 02:40:47] 0.127392 kWh of electricity used since the beginning.\n",
            "Epoch [75/80] - Training:  68%|██████▊   | 213/313 [00:34<00:14,  6.99it/s][codecarbon INFO @ 02:41:02] Energy consumed for RAM : 0.006155 kWh. RAM Power : 4.7530388832092285 W\n",
            "[codecarbon INFO @ 02:41:02] Energy consumed for all GPUs : 0.066566 kWh. Total GPU Power : 55.94877139442794 W\n",
            "[codecarbon INFO @ 02:41:02] Energy consumed for all CPUs : 0.055101 kWh. Total CPU Power : 42.5 W\n",
            "[codecarbon INFO @ 02:41:02] 0.127822 kWh of electricity used since the beginning.\n",
            "Epoch [75/80] - Training:  98%|█████████▊| 307/313 [00:49<00:00,  8.33it/s][codecarbon INFO @ 02:41:17] Energy consumed for RAM : 0.006175 kWh. RAM Power : 4.7530388832092285 W\n",
            "[codecarbon INFO @ 02:41:17] Energy consumed for all GPUs : 0.066802 kWh. Total GPU Power : 56.69635736923393 W\n",
            "[codecarbon INFO @ 02:41:17] Energy consumed for all CPUs : 0.055278 kWh. Total CPU Power : 42.5 W\n",
            "[codecarbon INFO @ 02:41:17] 0.128255 kWh of electricity used since the beginning.\n",
            "[codecarbon INFO @ 02:41:17] 0.003820 g.CO2eq/s mean an estimation of 120.46450267779514 kg.CO2eq/year\n",
            "Epoch [75/80] - Training: 100%|██████████| 313/313 [00:50<00:00,  6.20it/s]\n",
            "/usr/local/lib/python3.10/dist-packages/torch/utils/data/dataloader.py:617: UserWarning: This DataLoader will create 4 worker processes in total. Our suggested max number of worker in current system is 2, which is smaller than what this DataLoader is going to create. Please be aware that excessive worker creation might get DataLoader running slow or even freeze, lower the worker number to avoid potential slowness/freeze if necessary.\n",
            "  warnings.warn(\n"
          ]
        },
        {
          "output_type": "stream",
          "name": "stdout",
          "text": [
            "Epoch [75/80], Train Loss: 0.2369, Train Acc: 91.76%, Val Loss: 0.4327, Val Acc: 85.96%\n"
          ]
        },
        {
          "output_type": "stream",
          "name": "stderr",
          "text": [
            "Epoch [76/80] - Training:   7%|▋         | 23/313 [00:04<00:45,  6.38it/s][codecarbon INFO @ 02:41:32] Energy consumed for RAM : 0.006195 kWh. RAM Power : 4.7530388832092285 W\n",
            "[codecarbon INFO @ 02:41:32] Energy consumed for all GPUs : 0.066985 kWh. Total GPU Power : 43.81669979830647 W\n",
            "[codecarbon INFO @ 02:41:32] Energy consumed for all CPUs : 0.055455 kWh. Total CPU Power : 42.5 W\n",
            "[codecarbon INFO @ 02:41:32] 0.128634 kWh of electricity used since the beginning.\n",
            "Epoch [76/80] - Training:  38%|███▊      | 118/313 [00:19<00:26,  7.38it/s][codecarbon INFO @ 02:41:47] Energy consumed for RAM : 0.006215 kWh. RAM Power : 4.7530388832092285 W\n",
            "[codecarbon INFO @ 02:41:47] Energy consumed for all GPUs : 0.067216 kWh. Total GPU Power : 55.45847884828982 W\n",
            "[codecarbon INFO @ 02:41:47] Energy consumed for all CPUs : 0.055632 kWh. Total CPU Power : 42.5 W\n",
            "[codecarbon INFO @ 02:41:47] 0.129062 kWh of electricity used since the beginning.\n",
            "Epoch [76/80] - Training:  68%|██████▊   | 212/313 [00:34<00:12,  7.92it/s][codecarbon INFO @ 02:42:02] Energy consumed for RAM : 0.006234 kWh. RAM Power : 4.7530388832092285 W\n",
            "[codecarbon INFO @ 02:42:02] Energy consumed for all GPUs : 0.067449 kWh. Total GPU Power : 56.16074886851873 W\n",
            "Epoch [76/80] - Training:  68%|██████▊   | 213/313 [00:34<00:13,  7.68it/s][codecarbon INFO @ 02:42:02] Energy consumed for all CPUs : 0.055809 kWh. Total CPU Power : 42.5 W\n",
            "[codecarbon INFO @ 02:42:02] 0.129492 kWh of electricity used since the beginning.\n",
            "Epoch [76/80] - Training:  99%|█████████▊| 309/313 [00:49<00:00,  9.70it/s][codecarbon INFO @ 02:42:17] Energy consumed for RAM : 0.006254 kWh. RAM Power : 4.7530388832092285 W\n",
            "[codecarbon INFO @ 02:42:17] Energy consumed for all GPUs : 0.067680 kWh. Total GPU Power : 55.31697133317447 W\n",
            "[codecarbon INFO @ 02:42:17] Energy consumed for all CPUs : 0.055986 kWh. Total CPU Power : 42.5 W\n",
            "[codecarbon INFO @ 02:42:17] 0.129920 kWh of electricity used since the beginning.\n",
            "Epoch [76/80] - Training: 100%|██████████| 313/313 [00:49<00:00,  6.31it/s]\n",
            "/usr/local/lib/python3.10/dist-packages/torch/utils/data/dataloader.py:617: UserWarning: This DataLoader will create 4 worker processes in total. Our suggested max number of worker in current system is 2, which is smaller than what this DataLoader is going to create. Please be aware that excessive worker creation might get DataLoader running slow or even freeze, lower the worker number to avoid potential slowness/freeze if necessary.\n",
            "  warnings.warn(\n"
          ]
        },
        {
          "output_type": "stream",
          "name": "stdout",
          "text": [
            "Epoch [76/80], Train Loss: 0.2383, Train Acc: 91.79%, Val Loss: 0.4289, Val Acc: 86.01%\n"
          ]
        },
        {
          "output_type": "stream",
          "name": "stderr",
          "text": [
            "Epoch [77/80] - Training:   8%|▊         | 25/313 [00:04<00:41,  6.95it/s][codecarbon INFO @ 02:42:32] Energy consumed for RAM : 0.006274 kWh. RAM Power : 4.7530388832092285 W\n",
            "[codecarbon INFO @ 02:42:32] Energy consumed for all GPUs : 0.067860 kWh. Total GPU Power : 43.23275966508035 W\n",
            "[codecarbon INFO @ 02:42:32] Energy consumed for all CPUs : 0.056163 kWh. Total CPU Power : 42.5 W\n",
            "[codecarbon INFO @ 02:42:32] 0.130297 kWh of electricity used since the beginning.\n",
            "Epoch [77/80] - Training:  39%|███▊      | 121/313 [00:19<00:27,  6.98it/s][codecarbon INFO @ 02:42:47] Energy consumed for RAM : 0.006294 kWh. RAM Power : 4.7530388832092285 W\n",
            "[codecarbon INFO @ 02:42:47] Energy consumed for all GPUs : 0.068092 kWh. Total GPU Power : 55.751454595538235 W\n",
            "[codecarbon INFO @ 02:42:47] Energy consumed for all CPUs : 0.056340 kWh. Total CPU Power : 42.5 W\n",
            "[codecarbon INFO @ 02:42:47] 0.130726 kWh of electricity used since the beginning.\n",
            "Epoch [77/80] - Training:  69%|██████▉   | 216/313 [00:34<00:14,  6.68it/s][codecarbon INFO @ 02:43:02] Energy consumed for RAM : 0.006314 kWh. RAM Power : 4.7530388832092285 W\n",
            "[codecarbon INFO @ 02:43:02] Energy consumed for all GPUs : 0.068324 kWh. Total GPU Power : 55.60828592324948 W\n",
            "[codecarbon INFO @ 02:43:02] Energy consumed for all CPUs : 0.056517 kWh. Total CPU Power : 42.5 W\n",
            "[codecarbon INFO @ 02:43:02] 0.131154 kWh of electricity used since the beginning.\n",
            "Epoch [77/80] - Training: 100%|██████████| 313/313 [00:49<00:00,  6.36it/s]\n",
            "/usr/local/lib/python3.10/dist-packages/torch/utils/data/dataloader.py:617: UserWarning: This DataLoader will create 4 worker processes in total. Our suggested max number of worker in current system is 2, which is smaller than what this DataLoader is going to create. Please be aware that excessive worker creation might get DataLoader running slow or even freeze, lower the worker number to avoid potential slowness/freeze if necessary.\n",
            "  warnings.warn(\n",
            "[codecarbon INFO @ 02:43:17] Energy consumed for RAM : 0.006333 kWh. RAM Power : 4.7530388832092285 W\n",
            "[codecarbon INFO @ 02:43:17] Energy consumed for all GPUs : 0.068556 kWh. Total GPU Power : 55.86137252694358 W\n",
            "[codecarbon INFO @ 02:43:17] Energy consumed for all CPUs : 0.056694 kWh. Total CPU Power : 42.5 W\n",
            "[codecarbon INFO @ 02:43:17] 0.131584 kWh of electricity used since the beginning.\n",
            "[codecarbon INFO @ 02:43:17] 0.003846 g.CO2eq/s mean an estimation of 121.3024606982146 kg.CO2eq/year\n"
          ]
        },
        {
          "output_type": "stream",
          "name": "stdout",
          "text": [
            "Epoch [77/80], Train Loss: 0.2377, Train Acc: 91.89%, Val Loss: 0.4349, Val Acc: 85.75%\n"
          ]
        },
        {
          "output_type": "stream",
          "name": "stderr",
          "text": [
            "Epoch [78/80] - Training:  10%|▉         | 30/313 [00:05<00:48,  5.79it/s][codecarbon INFO @ 02:43:32] Energy consumed for RAM : 0.006353 kWh. RAM Power : 4.7530388832092285 W\n",
            "[codecarbon INFO @ 02:43:32] Energy consumed for all GPUs : 0.068738 kWh. Total GPU Power : 43.490432019728935 W\n",
            "[codecarbon INFO @ 02:43:32] Energy consumed for all CPUs : 0.056872 kWh. Total CPU Power : 42.5 W\n",
            "[codecarbon INFO @ 02:43:32] 0.131963 kWh of electricity used since the beginning.\n",
            "Epoch [78/80] - Training:  40%|███▉      | 125/313 [00:20<00:33,  5.67it/s][codecarbon INFO @ 02:43:47] Energy consumed for RAM : 0.006373 kWh. RAM Power : 4.7530388832092285 W\n",
            "[codecarbon INFO @ 02:43:47] Energy consumed for all GPUs : 0.068966 kWh. Total GPU Power : 54.81602259347315 W\n",
            "[codecarbon INFO @ 02:43:47] Energy consumed for all CPUs : 0.057049 kWh. Total CPU Power : 42.5 W\n",
            "[codecarbon INFO @ 02:43:47] 0.132389 kWh of electricity used since the beginning.\n",
            "Epoch [78/80] - Training:  70%|███████   | 220/313 [00:35<00:17,  5.34it/s][codecarbon INFO @ 02:44:02] Energy consumed for RAM : 0.006393 kWh. RAM Power : 4.7530388832092285 W\n",
            "[codecarbon INFO @ 02:44:02] Energy consumed for all GPUs : 0.069198 kWh. Total GPU Power : 55.512052745762084 W\n",
            "[codecarbon INFO @ 02:44:02] Energy consumed for all CPUs : 0.057227 kWh. Total CPU Power : 42.5 W\n",
            "[codecarbon INFO @ 02:44:02] 0.132817 kWh of electricity used since the beginning.\n",
            "Epoch [78/80] - Training: 100%|██████████| 313/313 [00:49<00:00,  6.35it/s]\n",
            "/usr/local/lib/python3.10/dist-packages/torch/utils/data/dataloader.py:617: UserWarning: This DataLoader will create 4 worker processes in total. Our suggested max number of worker in current system is 2, which is smaller than what this DataLoader is going to create. Please be aware that excessive worker creation might get DataLoader running slow or even freeze, lower the worker number to avoid potential slowness/freeze if necessary.\n",
            "  warnings.warn(\n",
            "[codecarbon INFO @ 02:44:17] Energy consumed for RAM : 0.006413 kWh. RAM Power : 4.7530388832092285 W\n",
            "[codecarbon INFO @ 02:44:17] Energy consumed for all GPUs : 0.069430 kWh. Total GPU Power : 55.63998865007404 W\n",
            "[codecarbon INFO @ 02:44:17] Energy consumed for all CPUs : 0.057404 kWh. Total CPU Power : 42.5 W\n",
            "[codecarbon INFO @ 02:44:17] 0.133246 kWh of electricity used since the beginning.\n"
          ]
        },
        {
          "output_type": "stream",
          "name": "stdout",
          "text": [
            "Epoch [78/80], Train Loss: 0.2408, Train Acc: 91.62%, Val Loss: 0.4416, Val Acc: 85.50%\n"
          ]
        },
        {
          "output_type": "stream",
          "name": "stderr",
          "text": [
            "Epoch [79/80] - Training:  10%|▉         | 31/313 [00:05<00:54,  5.18it/s][codecarbon INFO @ 02:44:32] Energy consumed for RAM : 0.006432 kWh. RAM Power : 4.7530388832092285 W\n",
            "Epoch [79/80] - Training:  10%|█         | 32/313 [00:05<00:57,  4.91it/s][codecarbon INFO @ 02:44:32] Energy consumed for all GPUs : 0.069606 kWh. Total GPU Power : 42.49344338239711 W\n",
            "[codecarbon INFO @ 02:44:32] Energy consumed for all CPUs : 0.057581 kWh. Total CPU Power : 42.5 W\n",
            "[codecarbon INFO @ 02:44:32] 0.133619 kWh of electricity used since the beginning.\n",
            "Epoch [79/80] - Training:  40%|████      | 126/313 [00:20<00:39,  4.76it/s][codecarbon INFO @ 02:44:47] Energy consumed for RAM : 0.006452 kWh. RAM Power : 4.7530388832092285 W\n",
            "[codecarbon INFO @ 02:44:47] Energy consumed for all GPUs : 0.069836 kWh. Total GPU Power : 55.19287239147934 W\n",
            "[codecarbon INFO @ 02:44:47] Energy consumed for all CPUs : 0.057758 kWh. Total CPU Power : 42.5 W\n",
            "[codecarbon INFO @ 02:44:47] 0.134047 kWh of electricity used since the beginning.\n",
            "Epoch [79/80] - Training:  71%|███████   | 221/313 [00:35<00:17,  5.14it/s][codecarbon INFO @ 02:45:02] Energy consumed for RAM : 0.006472 kWh. RAM Power : 4.7530388832092285 W\n",
            "[codecarbon INFO @ 02:45:02] Energy consumed for all GPUs : 0.070068 kWh. Total GPU Power : 55.445824431763036 W\n",
            "[codecarbon INFO @ 02:45:02] Energy consumed for all CPUs : 0.057935 kWh. Total CPU Power : 42.5 W\n",
            "[codecarbon INFO @ 02:45:02] 0.134475 kWh of electricity used since the beginning.\n",
            "Epoch [79/80] - Training: 100%|██████████| 313/313 [00:49<00:00,  6.30it/s]\n",
            "/usr/local/lib/python3.10/dist-packages/torch/utils/data/dataloader.py:617: UserWarning: This DataLoader will create 4 worker processes in total. Our suggested max number of worker in current system is 2, which is smaller than what this DataLoader is going to create. Please be aware that excessive worker creation might get DataLoader running slow or even freeze, lower the worker number to avoid potential slowness/freeze if necessary.\n",
            "  warnings.warn(\n",
            "[codecarbon INFO @ 02:45:17] Energy consumed for RAM : 0.006492 kWh. RAM Power : 4.7530388832092285 W\n",
            "[codecarbon INFO @ 02:45:17] Energy consumed for all GPUs : 0.070298 kWh. Total GPU Power : 55.26342350955145 W\n",
            "[codecarbon INFO @ 02:45:17] Energy consumed for all CPUs : 0.058112 kWh. Total CPU Power : 42.5 W\n",
            "[codecarbon INFO @ 02:45:17] 0.134902 kWh of electricity used since the beginning.\n",
            "[codecarbon INFO @ 02:45:17] 0.003830 g.CO2eq/s mean an estimation of 120.77355923711463 kg.CO2eq/year\n"
          ]
        },
        {
          "output_type": "stream",
          "name": "stdout",
          "text": [
            "Epoch [79/80], Train Loss: 0.2346, Train Acc: 91.99%, Val Loss: 0.4328, Val Acc: 86.08%\n"
          ]
        },
        {
          "output_type": "stream",
          "name": "stderr",
          "text": [
            "Epoch [80/80] - Training:  11%|█         | 33/313 [00:06<00:58,  4.75it/s][codecarbon INFO @ 02:45:32] Energy consumed for RAM : 0.006511 kWh. RAM Power : 4.7530388832092285 W\n",
            "[codecarbon INFO @ 02:45:32] Energy consumed for all GPUs : 0.070479 kWh. Total GPU Power : 43.56424785606477 W\n",
            "[codecarbon INFO @ 02:45:32] Energy consumed for all CPUs : 0.058290 kWh. Total CPU Power : 42.5 W\n",
            "[codecarbon INFO @ 02:45:32] 0.135280 kWh of electricity used since the beginning.\n",
            "Epoch [80/80] - Training:  41%|████      | 129/313 [00:21<00:41,  4.39it/s][codecarbon INFO @ 02:45:47] Energy consumed for RAM : 0.006531 kWh. RAM Power : 4.7530388832092285 W\n",
            "[codecarbon INFO @ 02:45:47] Energy consumed for all GPUs : 0.070706 kWh. Total GPU Power : 54.470039148762865 W\n",
            "[codecarbon INFO @ 02:45:47] Energy consumed for all CPUs : 0.058467 kWh. Total CPU Power : 42.5 W\n",
            "[codecarbon INFO @ 02:45:47] 0.135705 kWh of electricity used since the beginning.\n",
            "Epoch [80/80] - Training:  72%|███████▏  | 224/313 [00:36<00:18,  4.87it/s][codecarbon INFO @ 02:46:02] Energy consumed for RAM : 0.006551 kWh. RAM Power : 4.7530388832092285 W\n",
            "[codecarbon INFO @ 02:46:02] Energy consumed for all GPUs : 0.070936 kWh. Total GPU Power : 55.06749254638658 W\n",
            "[codecarbon INFO @ 02:46:02] Energy consumed for all CPUs : 0.058644 kWh. Total CPU Power : 42.5 W\n",
            "[codecarbon INFO @ 02:46:02] 0.136132 kWh of electricity used since the beginning.\n",
            "Epoch [80/80] - Training: 100%|██████████| 313/313 [00:49<00:00,  6.29it/s]\n",
            "/usr/local/lib/python3.10/dist-packages/torch/utils/data/dataloader.py:617: UserWarning: This DataLoader will create 4 worker processes in total. Our suggested max number of worker in current system is 2, which is smaller than what this DataLoader is going to create. Please be aware that excessive worker creation might get DataLoader running slow or even freeze, lower the worker number to avoid potential slowness/freeze if necessary.\n",
            "  warnings.warn(\n",
            "[codecarbon INFO @ 02:46:17] Energy consumed for RAM : 0.006571 kWh. RAM Power : 4.7530388832092285 W\n",
            "[codecarbon INFO @ 02:46:17] Energy consumed for all GPUs : 0.071172 kWh. Total GPU Power : 56.52147736021275 W\n",
            "[codecarbon INFO @ 02:46:17] Energy consumed for all CPUs : 0.058822 kWh. Total CPU Power : 42.5 W\n",
            "[codecarbon INFO @ 02:46:17] 0.136564 kWh of electricity used since the beginning.\n",
            "[codecarbon INFO @ 02:46:25] Energy consumed for RAM : 0.006581 kWh. RAM Power : 4.7530388832092285 W\n",
            "[codecarbon INFO @ 02:46:25] Energy consumed for all GPUs : 0.071251 kWh. Total GPU Power : 36.22123589516555 W\n",
            "[codecarbon INFO @ 02:46:25] Energy consumed for all CPUs : 0.058915 kWh. Total CPU Power : 42.5 W\n",
            "[codecarbon INFO @ 02:46:25] 0.136747 kWh of electricity used since the beginning.\n"
          ]
        },
        {
          "output_type": "stream",
          "name": "stdout",
          "text": [
            "Epoch [80/80], Train Loss: 0.2417, Train Acc: 91.62%, Val Loss: 0.4384, Val Acc: 85.78%\n",
            "\n",
            "--- Model Analysis ---\n",
            "Parameter Count: 23528522\n",
            "Model Size: 90.06 MB\n",
            "FLOPs: 0.08 GFLOPs\n",
            "Training Time: 4993.14 seconds\n",
            "Average Inference Time: 0.005944 seconds\n",
            "\n",
            "--- Energy and Emissions Report ---\n",
            "CO2 Emissions: 0.018974 kg\n",
            "Average GPU Power Consumption: 59.58 W\n",
            "Total GPU Energy Consumption: 1491.906710 kWh\n"
          ]
        }
      ]
    },
    {
      "cell_type": "code",
      "source": [
        "# Evaluate on the test dataset\n",
        "teacher_model.eval()\n",
        "correct_test, total_test = 0, 0\n",
        "with torch.no_grad():\n",
        "    for inputs, labels in test_loader:\n",
        "        inputs, labels = inputs.to(device), labels.to(device)\n",
        "        outputs = teacher_model(inputs)\n",
        "        _, predicted = torch.max(outputs.data, 1)\n",
        "        correct_test += (predicted == labels).sum().item()\n",
        "        total_test += labels.size(0)\n",
        "\n",
        "test_accuracy = 100 * correct_test / total_test\n",
        "print(f\"Test Accuracy: {test_accuracy:.2f}%\")\n"
      ],
      "metadata": {
        "colab": {
          "base_uri": "https://localhost:8080/"
        },
        "id": "zU6dnv7dtFOZ",
        "outputId": "b002fa30-8739-4705-e0b9-c8df8e63da33"
      },
      "execution_count": 5,
      "outputs": [
        {
          "output_type": "stream",
          "name": "stderr",
          "text": [
            "/usr/local/lib/python3.10/dist-packages/torch/utils/data/dataloader.py:617: UserWarning: This DataLoader will create 4 worker processes in total. Our suggested max number of worker in current system is 2, which is smaller than what this DataLoader is going to create. Please be aware that excessive worker creation might get DataLoader running slow or even freeze, lower the worker number to avoid potential slowness/freeze if necessary.\n",
            "  warnings.warn(\n"
          ]
        },
        {
          "output_type": "stream",
          "name": "stdout",
          "text": [
            "Test Accuracy: 88.53%\n"
          ]
        }
      ]
    },
    {
      "cell_type": "code",
      "source": [
        "import matplotlib.pyplot as plt\n",
        "\n",
        "# Plot accuracy\n",
        "plt.figure(figsize=(10, 5))\n",
        "plt.plot(train_accuracies, label='Train Accuracy')\n",
        "plt.plot(val_accuracies, label='Validation Accuracy')\n",
        "plt.xlabel('Epochs')\n",
        "plt.ylabel('Accuracy (%)')\n",
        "plt.title('Training and Validation Accuracy')\n",
        "plt.legend()\n",
        "plt.grid()\n",
        "plt.show()\n",
        "\n",
        "# Plot loss\n",
        "plt.figure(figsize=(10, 5))\n",
        "plt.plot(train_losses, label='Train Loss')\n",
        "plt.plot(val_losses, label='Validation Loss')\n",
        "plt.xlabel('Epochs')\n",
        "plt.ylabel('Loss')\n",
        "plt.title('Training and Validation Loss')\n",
        "plt.legend()\n",
        "plt.grid()\n",
        "plt.show()\n"
      ],
      "metadata": {
        "colab": {
          "base_uri": "https://localhost:8080/",
          "height": 957
        },
        "id": "483VOROztlKT",
        "outputId": "5596f8ea-8b53-41af-f12e-7f828062bb32"
      },
      "execution_count": 6,
      "outputs": [
        {
          "output_type": "display_data",
          "data": {
            "text/plain": [
              "<Figure size 1000x500 with 1 Axes>"
            ],
            "image/png": "[encoded data removed]"
          },
          "metadata": {}
        },
        {
          "output_type": "display_data",
          "data": {
            "text/plain": [
              "<Figure size 1000x500 with 1 Axes>"
            ],
            "image/png": "[encoded data removed]"
          },
          "metadata": {}
        }
      ]
    },
    {
      "cell_type": "code",
      "source": [],
      "metadata": {
        "id": "i6NDz3zUtpZA"
      },
      "execution_count": null,
      "outputs": []
    }
  ]
}