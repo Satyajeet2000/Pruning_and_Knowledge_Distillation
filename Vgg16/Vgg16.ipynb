{
  "nbformat": 4,
  "nbformat_minor": 0,
  "metadata": {
    "colab": {
      "provenance": [],
      "gpuType": "T4"
    },
    "kernelspec": {
      "name": "python3",
      "display_name": "Python 3"
    },
    "language_info": {
      "name": "python"
    },
    "accelerator": "GPU"
  },
  "cells": [
    {
      "cell_type": "code",
      "execution_count": 1,
      "metadata": {
        "colab": {
          "base_uri": "https://localhost:8080/",
          "height": 1000
        },
        "id": "9K9EIeJkD89D",
        "outputId": "2def3d70-4699-4a37-9790-ac3f7d8b4403"
      },
      "outputs": [
        {
          "output_type": "stream",
          "name": "stdout",
          "text": [
            "Collecting codecarbon\n",
            "  Downloading codecarbon-2.7.4-py3-none-any.whl.metadata (8.7 kB)\n",
            "Collecting arrow (from codecarbon)\n",
            "  Downloading arrow-1.3.0-py3-none-any.whl.metadata (7.5 kB)\n",
            "Requirement already satisfied: click in /usr/local/lib/python3.10/dist-packages (from codecarbon) (8.1.7)\n",
            "Collecting fief-client[cli] (from codecarbon)\n",
            "  Downloading fief_client-0.20.0-py3-none-any.whl.metadata (2.1 kB)\n",
            "Requirement already satisfied: pandas in /usr/local/lib/python3.10/dist-packages (from codecarbon) (2.2.2)\n",
            "Requirement already satisfied: prometheus-client in /usr/local/lib/python3.10/dist-packages (from codecarbon) (0.21.0)\n",
            "Requirement already satisfied: psutil in /usr/local/lib/python3.10/dist-packages (from codecarbon) (5.9.5)\n",
            "Requirement already satisfied: py-cpuinfo in /usr/local/lib/python3.10/dist-packages (from codecarbon) (9.0.0)\n",
            "Collecting pynvml (from codecarbon)\n",
            "  Downloading pynvml-11.5.3-py3-none-any.whl.metadata (8.8 kB)\n",
            "Collecting questionary (from codecarbon)\n",
            "  Downloading questionary-2.0.1-py3-none-any.whl.metadata (5.4 kB)\n",
            "Collecting rapidfuzz (from codecarbon)\n",
            "  Downloading rapidfuzz-3.10.1-cp310-cp310-manylinux_2_17_x86_64.manylinux2014_x86_64.whl.metadata (11 kB)\n",
            "Requirement already satisfied: requests in /usr/local/lib/python3.10/dist-packages (from codecarbon) (2.32.3)\n",
            "Requirement already satisfied: rich in /usr/local/lib/python3.10/dist-packages (from codecarbon) (13.9.4)\n",
            "Requirement already satisfied: typer in /usr/local/lib/python3.10/dist-packages (from codecarbon) (0.13.0)\n",
            "Requirement already satisfied: python-dateutil>=2.7.0 in /usr/local/lib/python3.10/dist-packages (from arrow->codecarbon) (2.8.2)\n",
            "Collecting types-python-dateutil>=2.8.10 (from arrow->codecarbon)\n",
            "  Downloading types_python_dateutil-2.9.0.20241003-py3-none-any.whl.metadata (1.9 kB)\n",
            "Requirement already satisfied: httpx<0.28.0,>=0.21.3 in /usr/local/lib/python3.10/dist-packages (from fief-client[cli]->codecarbon) (0.27.2)\n",
            "Collecting jwcrypto<2.0.0,>=1.4 (from fief-client[cli]->codecarbon)\n",
            "  Downloading jwcrypto-1.5.6-py3-none-any.whl.metadata (3.1 kB)\n",
            "Collecting yaspin (from fief-client[cli]->codecarbon)\n",
            "  Downloading yaspin-3.1.0-py3-none-any.whl.metadata (14 kB)\n",
            "Requirement already satisfied: numpy>=1.22.4 in /usr/local/lib/python3.10/dist-packages (from pandas->codecarbon) (1.26.4)\n",
            "Requirement already satisfied: pytz>=2020.1 in /usr/local/lib/python3.10/dist-packages (from pandas->codecarbon) (2024.2)\n",
            "Requirement already satisfied: tzdata>=2022.7 in /usr/local/lib/python3.10/dist-packages (from pandas->codecarbon) (2024.2)\n",
            "Collecting prompt_toolkit<=3.0.36,>=2.0 (from questionary->codecarbon)\n",
            "  Downloading prompt_toolkit-3.0.36-py3-none-any.whl.metadata (7.0 kB)\n",
            "Requirement already satisfied: charset-normalizer<4,>=2 in /usr/local/lib/python3.10/dist-packages (from requests->codecarbon) (3.4.0)\n",
            "Requirement already satisfied: idna<4,>=2.5 in /usr/local/lib/python3.10/dist-packages (from requests->codecarbon) (3.10)\n",
            "Requirement already satisfied: urllib3<3,>=1.21.1 in /usr/local/lib/python3.10/dist-packages (from requests->codecarbon) (2.2.3)\n",
            "Requirement already satisfied: certifi>=2017.4.17 in /usr/local/lib/python3.10/dist-packages (from requests->codecarbon) (2024.8.30)\n",
            "Requirement already satisfied: markdown-it-py>=2.2.0 in /usr/local/lib/python3.10/dist-packages (from rich->codecarbon) (3.0.0)\n",
            "Requirement already satisfied: pygments<3.0.0,>=2.13.0 in /usr/local/lib/python3.10/dist-packages (from rich->codecarbon) (2.18.0)\n",
            "Requirement already satisfied: typing-extensions<5.0,>=4.0.0 in /usr/local/lib/python3.10/dist-packages (from rich->codecarbon) (4.12.2)\n",
            "Requirement already satisfied: shellingham>=1.3.0 in /usr/local/lib/python3.10/dist-packages (from typer->codecarbon) (1.5.4)\n",
            "Requirement already satisfied: anyio in /usr/local/lib/python3.10/dist-packages (from httpx<0.28.0,>=0.21.3->fief-client[cli]->codecarbon) (3.7.1)\n",
            "Requirement already satisfied: httpcore==1.* in /usr/local/lib/python3.10/dist-packages (from httpx<0.28.0,>=0.21.3->fief-client[cli]->codecarbon) (1.0.6)\n",
            "Requirement already satisfied: sniffio in /usr/local/lib/python3.10/dist-packages (from httpx<0.28.0,>=0.21.3->fief-client[cli]->codecarbon) (1.3.1)\n",
            "Requirement already satisfied: h11<0.15,>=0.13 in /usr/local/lib/python3.10/dist-packages (from httpcore==1.*->httpx<0.28.0,>=0.21.3->fief-client[cli]->codecarbon) (0.14.0)\n",
            "Requirement already satisfied: cryptography>=3.4 in /usr/local/lib/python3.10/dist-packages (from jwcrypto<2.0.0,>=1.4->fief-client[cli]->codecarbon) (43.0.3)\n",
            "Requirement already satisfied: mdurl~=0.1 in /usr/local/lib/python3.10/dist-packages (from markdown-it-py>=2.2.0->rich->codecarbon) (0.1.2)\n",
            "Requirement already satisfied: wcwidth in /usr/local/lib/python3.10/dist-packages (from prompt_toolkit<=3.0.36,>=2.0->questionary->codecarbon) (0.2.13)\n",
            "Requirement already satisfied: six>=1.5 in /usr/local/lib/python3.10/dist-packages (from python-dateutil>=2.7.0->arrow->codecarbon) (1.16.0)\n",
            "Collecting termcolor<2.4.0,>=2.2.0 (from yaspin->fief-client[cli]->codecarbon)\n",
            "  Downloading termcolor-2.3.0-py3-none-any.whl.metadata (5.3 kB)\n",
            "Requirement already satisfied: cffi>=1.12 in /usr/local/lib/python3.10/dist-packages (from cryptography>=3.4->jwcrypto<2.0.0,>=1.4->fief-client[cli]->codecarbon) (1.17.1)\n",
            "Requirement already satisfied: exceptiongroup in /usr/local/lib/python3.10/dist-packages (from anyio->httpx<0.28.0,>=0.21.3->fief-client[cli]->codecarbon) (1.2.2)\n",
            "Requirement already satisfied: pycparser in /usr/local/lib/python3.10/dist-packages (from cffi>=1.12->cryptography>=3.4->jwcrypto<2.0.0,>=1.4->fief-client[cli]->codecarbon) (2.22)\n",
            "Downloading codecarbon-2.7.4-py3-none-any.whl (504 kB)\n",
            "\u001b[2K   \u001b[90m━━━━━━━━━━━━━━━━━━━━━━━━━━━━━━━━━━━━━━━━\u001b[0m \u001b[32m504.2/504.2 kB\u001b[0m \u001b[31m8.2 MB/s\u001b[0m eta \u001b[36m0:00:00\u001b[0m\n",
            "\u001b[?25hDownloading arrow-1.3.0-py3-none-any.whl (66 kB)\n",
            "\u001b[2K   \u001b[90m━━━━━━━━━━━━━━━━━━━━━━━━━━━━━━━━━━━━━━━━\u001b[0m \u001b[32m66.4/66.4 kB\u001b[0m \u001b[31m5.9 MB/s\u001b[0m eta \u001b[36m0:00:00\u001b[0m\n",
            "\u001b[?25hDownloading pynvml-11.5.3-py3-none-any.whl (53 kB)\n",
            "\u001b[2K   \u001b[90m━━━━━━━━━━━━━━━━━━━━━━━━━━━━━━━━━━━━━━━━\u001b[0m \u001b[32m53.1/53.1 kB\u001b[0m \u001b[31m5.1 MB/s\u001b[0m eta \u001b[36m0:00:00\u001b[0m\n",
            "\u001b[?25hDownloading questionary-2.0.1-py3-none-any.whl (34 kB)\n",
            "Downloading rapidfuzz-3.10.1-cp310-cp310-manylinux_2_17_x86_64.manylinux2014_x86_64.whl (3.1 MB)\n",
            "\u001b[2K   \u001b[90m━━━━━━━━━━━━━━━━━━━━━━━━━━━━━━━━━━━━━━━━\u001b[0m \u001b[32m3.1/3.1 MB\u001b[0m \u001b[31m65.1 MB/s\u001b[0m eta \u001b[36m0:00:00\u001b[0m\n",
            "\u001b[?25hDownloading jwcrypto-1.5.6-py3-none-any.whl (92 kB)\n",
            "\u001b[2K   \u001b[90m━━━━━━━━━━━━━━━━━━━━━━━━━━━━━━━━━━━━━━━━\u001b[0m \u001b[32m92.5/92.5 kB\u001b[0m \u001b[31m9.4 MB/s\u001b[0m eta \u001b[36m0:00:00\u001b[0m\n",
            "\u001b[?25hDownloading prompt_toolkit-3.0.36-py3-none-any.whl (386 kB)\n",
            "\u001b[2K   \u001b[90m━━━━━━━━━━━━━━━━━━━━━━━━━━━━━━━━━━━━━━━━\u001b[0m \u001b[32m386.4/386.4 kB\u001b[0m \u001b[31m28.5 MB/s\u001b[0m eta \u001b[36m0:00:00\u001b[0m\n",
            "\u001b[?25hDownloading types_python_dateutil-2.9.0.20241003-py3-none-any.whl (9.7 kB)\n",
            "Downloading fief_client-0.20.0-py3-none-any.whl (20 kB)\n",
            "Downloading yaspin-3.1.0-py3-none-any.whl (18 kB)\n",
            "Downloading termcolor-2.3.0-py3-none-any.whl (6.9 kB)\n",
            "Installing collected packages: types-python-dateutil, termcolor, rapidfuzz, pynvml, prompt_toolkit, yaspin, questionary, arrow, jwcrypto, fief-client, codecarbon\n",
            "  Attempting uninstall: termcolor\n",
            "    Found existing installation: termcolor 2.5.0\n",
            "    Uninstalling termcolor-2.5.0:\n",
            "      Successfully uninstalled termcolor-2.5.0\n",
            "  Attempting uninstall: prompt_toolkit\n",
            "    Found existing installation: prompt_toolkit 3.0.48\n",
            "    Uninstalling prompt_toolkit-3.0.48:\n",
            "      Successfully uninstalled prompt_toolkit-3.0.48\n",
            "\u001b[31mERROR: pip's dependency resolver does not currently take into account all the packages that are installed. This behaviour is the source of the following dependency conflicts.\n",
            "ipython 7.34.0 requires jedi>=0.16, which is not installed.\u001b[0m\u001b[31m\n",
            "\u001b[0mSuccessfully installed arrow-1.3.0 codecarbon-2.7.4 fief-client-0.20.0 jwcrypto-1.5.6 prompt_toolkit-3.0.36 pynvml-11.5.3 questionary-2.0.1 rapidfuzz-3.10.1 termcolor-2.3.0 types-python-dateutil-2.9.0.20241003 yaspin-3.1.0\n"
          ]
        },
        {
          "output_type": "display_data",
          "data": {
            "application/vnd.colab-display-data+json": {
              "pip_warning": {
                "packages": [
                  "prompt_toolkit"
                ]
              },
              "id": "d44a3ca48809458e988289e8f8526bb3"
            }
          },
          "metadata": {}
        }
      ],
      "source": [
        "pip install codecarbon"
      ]
    },
    {
      "cell_type": "code",
      "source": [
        "import torch\n",
        "import torch.nn as nn\n",
        "import torch.optim as optim\n",
        "from torch.optim.lr_scheduler import ReduceLROnPlateau\n",
        "from torch.utils.data import DataLoader, random_split\n",
        "from torchvision import models, datasets, transforms\n",
        "import time\n",
        "import os\n",
        "import subprocess\n",
        "import numpy as np\n",
        "from tqdm import tqdm\n",
        "import codecarbon\n",
        "from thop import profile\n",
        "\n",
        "# Check if GPU is available\n",
        "device = torch.device(\"cuda\" if torch.cuda.is_available() else \"cpu\")\n",
        "print(f\"Using device: {device}\")\n",
        "\n",
        "# Define the transforms for the dataset with additional augmentations\n",
        "transform_train = transforms.Compose([\n",
        "    transforms.RandomHorizontalFlip(),\n",
        "    transforms.RandomCrop(32, padding=4),\n",
        "    transforms.RandomRotation(10),\n",
        "    transforms.ColorJitter(brightness=0.2, contrast=0.2, saturation=0.2, hue=0.1),\n",
        "    transforms.ToTensor(),\n",
        "    transforms.Normalize((0.4914, 0.4822, 0.4465), (0.2023, 0.1994, 0.2010)),\n",
        "])\n",
        "\n",
        "transform_test = transforms.Compose([\n",
        "    transforms.ToTensor(),\n",
        "    transforms.Normalize((0.4914, 0.4822, 0.4465), (0.2023, 0.1994, 0.2010)),\n",
        "])\n",
        "\n",
        "# Load the CIFAR-10 dataset\n",
        "full_train_dataset = datasets.CIFAR10(root='./data', train=True, download=True, transform=transform_train)\n",
        "test_dataset = datasets.CIFAR10(root='./data', train=False, download=True, transform=transform_test)\n",
        "\n",
        "# Split the full training dataset into training and validation sets (80% train, 20% validation)\n",
        "train_size = int(0.8 * len(full_train_dataset))\n",
        "val_size = len(full_train_dataset) - train_size\n",
        "train_dataset, val_dataset = random_split(full_train_dataset, [train_size, val_size])\n",
        "\n",
        "# Create DataLoaders for the train, validation, and test sets\n",
        "train_loader = DataLoader(train_dataset, batch_size=64, shuffle=True, num_workers=4, pin_memory=True)\n",
        "val_loader = DataLoader(val_dataset, batch_size=64, shuffle=False, num_workers=4, pin_memory=True)\n",
        "test_loader = DataLoader(test_dataset, batch_size=64, shuffle=False, num_workers=4, pin_memory=True)\n",
        "\n",
        "# Print dataset sizes for debugging\n",
        "print(f\"Training set size: {len(train_dataset)}\")\n",
        "print(f\"Validation set size: {len(val_dataset)}\")\n",
        "print(f\"Test set size: {len(test_dataset)}\")\n",
        "\n",
        "# Load the pretrained VGG16 model and modify the classifier\n",
        "model = models.vgg16(pretrained=True)\n",
        "input_lastLayer = model.classifier[6].in_features\n",
        "model.classifier[6] = nn.Sequential(\n",
        "    nn.Dropout(0.5),  # Increased dropout for regularization\n",
        "    nn.Linear(input_lastLayer, 10)\n",
        ")\n",
        "model = model.to(device)\n",
        "\n",
        "# Define loss function and optimizer with learning rate scheduler\n",
        "learning_rate = 0.01\n",
        "criterion = nn.CrossEntropyLoss()\n",
        "optimizer = optim.SGD(model.parameters(), lr=learning_rate, momentum=0.9, weight_decay=5e-4)\n",
        "scheduler = ReduceLROnPlateau(optimizer, mode='min', factor=0.1, patience=3, verbose=True)\n",
        "\n",
        "# Tracking metrics for analysis\n",
        "train_losses, val_losses = [], []\n",
        "train_accuracies, val_accuracies = [], []\n",
        "\n",
        "# Use CodeCarbon for system-wide energy consumption tracking\n",
        "tracker = codecarbon.EmissionsTracker()\n",
        "tracker.start()\n",
        "\n",
        "# Function to get GPU power consumption using nvidia-smi\n",
        "def get_gpu_power():\n",
        "    try:\n",
        "        # Query power.draw from nvidia-smi\n",
        "        result = subprocess.run(\n",
        "            ['nvidia-smi', '--query-gpu=power.draw', '--format=csv,nounits,noheader'],\n",
        "            stdout=subprocess.PIPE,\n",
        "            stderr=subprocess.PIPE,\n",
        "            text=True\n",
        "        )\n",
        "        power_draws = result.stdout.strip().split('\\n')\n",
        "        power_draws = [float(p) for p in power_draws]\n",
        "        avg_power_draw = sum(power_draws) / len(power_draws)  # Average power across GPUs\n",
        "        return avg_power_draw  # in watts\n",
        "    except Exception as e:\n",
        "        print(f\"Error getting GPU power: {e}\")\n",
        "        return 0.0\n",
        "\n",
        "# Tracking GPU-specific energy consumption\n",
        "gpu_power_readings = []\n",
        "\n",
        "# Training loop with GPU power monitoring\n",
        "epochs = 30\n",
        "start_training_time = time.time()\n",
        "\n",
        "for epoch in range(epochs):\n",
        "    # Training phase\n",
        "    model.train()\n",
        "    running_loss = 0.0\n",
        "    correct_train = 0\n",
        "    total_train = 0\n",
        "    for images, labels in tqdm(train_loader, desc=f\"Epoch {epoch+1}/{epochs} - Training\"):\n",
        "        images, labels = images.to(device), labels.to(device)\n",
        "\n",
        "        # Zero the parameter gradients\n",
        "        optimizer.zero_grad()\n",
        "\n",
        "        # Forward pass\n",
        "        outputs = model(images)\n",
        "        loss = criterion(outputs, labels)\n",
        "\n",
        "        # Backward pass and optimize\n",
        "        loss.backward()\n",
        "        optimizer.step()\n",
        "\n",
        "        running_loss += loss.item()\n",
        "\n",
        "        # Calculate training accuracy\n",
        "        _, predicted = torch.max(outputs.data, 1)\n",
        "        total_train += labels.size(0)\n",
        "        correct_train += (predicted == labels).sum().item()\n",
        "\n",
        "        # Record GPU power usage\n",
        "        gpu_power_readings.append(get_gpu_power())\n",
        "\n",
        "    train_loss = running_loss / len(train_loader)\n",
        "    train_accuracy = 100 * correct_train / total_train\n",
        "\n",
        "    # Append metrics for plotting\n",
        "    train_losses.append(train_loss)\n",
        "    train_accuracies.append(train_accuracy)\n",
        "\n",
        "    # Validation phase\n",
        "    model.eval()\n",
        "    running_val_loss = 0.0\n",
        "    correct_val = 0\n",
        "    total_val = 0\n",
        "    with torch.no_grad():\n",
        "        for images, labels in tqdm(val_loader, desc=f\"Epoch {epoch+1}/{epochs} - Validation\"):\n",
        "            images, labels = images.to(device), labels.to(device)\n",
        "            outputs = model(images)\n",
        "            loss = criterion(outputs, labels)\n",
        "\n",
        "            running_val_loss += loss.item()\n",
        "\n",
        "            # Calculate validation accuracy\n",
        "            _, predicted = torch.max(outputs.data, 1)\n",
        "            total_val += labels.size(0)\n",
        "            correct_val += (predicted == labels).sum().item()\n",
        "\n",
        "    val_loss = running_val_loss / len(val_loader)\n",
        "    val_accuracy = 100 * correct_val / total_val\n",
        "\n",
        "    # Append metrics for plotting\n",
        "    val_losses.append(val_loss)\n",
        "    val_accuracies.append(val_accuracy)\n",
        "\n",
        "    print(f\"Epoch [{epoch+1}/{epochs}], Train Loss: {train_loss:.4f}, Train Accuracy: {train_accuracy:.2f}%\")\n",
        "    print(f\"Epoch [{epoch+1}/{epochs}], Val Loss: {val_loss:.4f}, Val Accuracy: {val_accuracy:.2f}%\")\n",
        "\n",
        "    # Adjust learning rate based on validation loss\n",
        "    scheduler.step(val_loss)\n",
        "\n",
        "training_time = time.time() - start_training_time\n",
        "\n",
        "# Stop the CodeCarbon tracker after training\n",
        "emissions = tracker.stop()\n",
        "\n",
        "# Calculate average GPU power and total GPU energy consumption (in kWh)\n",
        "avg_gpu_power = sum(gpu_power_readings) / len(gpu_power_readings) if gpu_power_readings else 0.0\n",
        "energy_consumption_gpu = (avg_gpu_power * training_time) / 3600  # Convert to kWh\n",
        "\n",
        "# Save the model after training\n",
        "model_path = \"trained_vgg16_model.pth\"\n",
        "torch.save(model.state_dict(), model_path)\n",
        "\n",
        "# Model analysis metrics\n",
        "param_count = sum(p.numel() for p in model.parameters() if p.requires_grad)\n",
        "torch.save(model.state_dict(), \"temp_model.pth\")\n",
        "model_size = os.path.getsize(\"temp_model.pth\") / (1024 * 1024)  # Convert bytes to MB\n",
        "os.remove(\"temp_model.pth\")\n",
        "\n",
        "# FLOPs calculation\n",
        "dummy_input = torch.randn(1, 3, 32, 32).to(device)\n",
        "flops, _ = profile(model, inputs=(dummy_input,), verbose=False)\n",
        "\n",
        "# Inference time calculation\n",
        "model.eval()\n",
        "inference_start = time.time()\n",
        "with torch.no_grad():\n",
        "    for _ in range(100):\n",
        "        _ = model(dummy_input)\n",
        "inference_time = (time.time() - inference_start) / 100\n",
        "\n",
        "# Final energy and emissions report\n",
        "print(\"\\n--- Model Analysis ---\")\n",
        "print(f\"Parameter Count: {param_count}\")\n",
        "print(f\"Model Size: {model_size:.2f} MB\")\n",
        "print(f\"FLOPs: {flops / 1e9:.2f} GFLOPs\")\n",
        "print(f\"Training Time: {training_time:.2f} seconds\")\n",
        "print(f\"Average Inference Time: {inference_time:.6f} seconds\")\n",
        "\n",
        "print(\"\\n--- Energy and Emissions Report ---\")\n",
        "print(f\"CO2 Emissions (CodeCarbon): {emissions:.6f} kg\")\n",
        "print(f\"Average GPU Power Consumption: {avg_gpu_power:.2f} W\")\n",
        "print(f\"Total GPU Energy Consumption: {energy_consumption_gpu:.6f} kWh\")\n"
      ],
      "metadata": {
        "colab": {
          "base_uri": "https://localhost:8080/"
        },
        "id": "1Ba7wiQsEy96",
        "outputId": "14fa2d98-9c13-43e9-c0b1-fee42075a754"
      },
      "execution_count": 7,
      "outputs": [
        {
          "output_type": "stream",
          "name": "stdout",
          "text": [
            "Using device: cuda\n",
            "Files already downloaded and verified\n",
            "Files already downloaded and verified\n",
            "Training set size: 40000\n",
            "Validation set size: 10000\n",
            "Test set size: 10000\n"
          ]
        },
        {
          "output_type": "stream",
          "name": "stderr",
          "text": [
            "/usr/local/lib/python3.10/dist-packages/torchvision/models/_utils.py:208: UserWarning: The parameter 'pretrained' is deprecated since 0.13 and may be removed in the future, please use 'weights' instead.\n",
            "  warnings.warn(\n",
            "/usr/local/lib/python3.10/dist-packages/torchvision/models/_utils.py:223: UserWarning: Arguments other than a weight enum or `None` for 'weights' are deprecated since 0.13 and may be removed in the future. The current behavior is equivalent to passing `weights=VGG16_Weights.IMAGENET1K_V1`. You can also use `weights=VGG16_Weights.DEFAULT` to get the most up-to-date weights.\n",
            "  warnings.warn(msg)\n",
            "/usr/local/lib/python3.10/dist-packages/torch/optim/lr_scheduler.py:62: UserWarning: The verbose parameter is deprecated. Please use get_last_lr() to access the learning rate.\n",
            "  warnings.warn(\n",
            "[codecarbon INFO @ 03:15:54] [setup] RAM Tracking...\n",
            "[codecarbon INFO @ 03:15:54] [setup] GPU Tracking...\n",
            "[codecarbon INFO @ 03:15:54] Tracking Nvidia GPU via pynvml\n",
            "[codecarbon INFO @ 03:15:54] [setup] CPU Tracking...\n",
            "[codecarbon WARNING @ 03:15:54] No CPU tracking mode found. Falling back on CPU constant mode. \n",
            " Linux OS detected: Please ensure RAPL files exist at \\sys\\class\\powercap\\intel-rapl to measure CPU\n",
            "\n",
            "[codecarbon WARNING @ 03:15:55] We saw that you have a Intel(R) Xeon(R) CPU @ 2.30GHz but we don't know it. Please contact us.\n",
            "[codecarbon INFO @ 03:15:55] CPU Model on constant consumption mode: Intel(R) Xeon(R) CPU @ 2.30GHz\n",
            "[codecarbon INFO @ 03:15:55] >>> Tracker's metadata:\n",
            "[codecarbon INFO @ 03:15:55]   Platform system: Linux-6.1.85+-x86_64-with-glibc2.35\n",
            "[codecarbon INFO @ 03:15:55]   Python version: 3.10.12\n",
            "[codecarbon INFO @ 03:15:55]   CodeCarbon version: 2.7.4\n",
            "[codecarbon INFO @ 03:15:55]   Available RAM : 12.675 GB\n",
            "[codecarbon INFO @ 03:15:55]   CPU count: 2\n",
            "[codecarbon INFO @ 03:15:55]   CPU model: Intel(R) Xeon(R) CPU @ 2.30GHz\n",
            "[codecarbon INFO @ 03:15:55]   GPU count: 1\n",
            "[codecarbon INFO @ 03:15:55]   GPU model: 1 x Tesla T4\n",
            "[codecarbon INFO @ 03:15:56] Saving emissions data to file /content/emissions.csv\n",
            "Epoch 1/30 - Training:   0%|          | 0/625 [00:00<?, ?it/s]/usr/local/lib/python3.10/dist-packages/torch/utils/data/dataloader.py:617: UserWarning: This DataLoader will create 4 worker processes in total. Our suggested max number of worker in current system is 2, which is smaller than what this DataLoader is going to create. Please be aware that excessive worker creation might get DataLoader running slow or even freeze, lower the worker number to avoid potential slowness/freeze if necessary.\n",
            "  warnings.warn(\n",
            "Epoch 1/30 - Training:  22%|██▏       | 136/625 [00:14<00:46, 10.45it/s][codecarbon INFO @ 03:16:11] Energy consumed for RAM : 0.000020 kWh. RAM Power : 4.7530388832092285 W\n",
            "[codecarbon INFO @ 03:16:11] Energy consumed for all GPUs : 0.000263 kWh. Total GPU Power : 63.13103502851072 W\n",
            "[codecarbon INFO @ 03:16:11] Energy consumed for all CPUs : 0.000178 kWh. Total CPU Power : 42.5 W\n",
            "[codecarbon INFO @ 03:16:11] 0.000461 kWh of electricity used since the beginning.\n",
            "Epoch 1/30 - Training:  44%|████▍     | 276/625 [00:29<00:32, 10.60it/s][codecarbon INFO @ 03:16:26] Energy consumed for RAM : 0.000040 kWh. RAM Power : 4.7530388832092285 W\n",
            "[codecarbon INFO @ 03:16:26] Energy consumed for all GPUs : 0.000538 kWh. Total GPU Power : 65.94121414707494 W\n",
            "[codecarbon INFO @ 03:16:26] Energy consumed for all CPUs : 0.000355 kWh. Total CPU Power : 42.5 W\n",
            "[codecarbon INFO @ 03:16:26] 0.000932 kWh of electricity used since the beginning.\n",
            "Epoch 1/30 - Training:  67%|██████▋   | 421/625 [00:44<00:18, 10.79it/s][codecarbon INFO @ 03:16:41] Energy consumed for RAM : 0.000059 kWh. RAM Power : 4.7530388832092285 W\n",
            "[codecarbon INFO @ 03:16:41] Energy consumed for all GPUs : 0.000809 kWh. Total GPU Power : 65.12600693560657 W\n",
            "[codecarbon INFO @ 03:16:41] Energy consumed for all CPUs : 0.000532 kWh. Total CPU Power : 42.5 W\n",
            "[codecarbon INFO @ 03:16:41] 0.001400 kWh of electricity used since the beginning.\n",
            "Epoch 1/30 - Training:  91%|█████████ | 568/625 [01:00<00:05, 10.48it/s][codecarbon INFO @ 03:16:56] Energy consumed for RAM : 0.000079 kWh. RAM Power : 4.7530388832092285 W\n",
            "[codecarbon INFO @ 03:16:56] Energy consumed for all GPUs : 0.001078 kWh. Total GPU Power : 64.65481020578986 W\n",
            "[codecarbon INFO @ 03:16:56] Energy consumed for all CPUs : 0.000709 kWh. Total CPU Power : 42.5 W\n",
            "[codecarbon INFO @ 03:16:56] 0.001866 kWh of electricity used since the beginning.\n",
            "Epoch 1/30 - Training: 100%|██████████| 625/625 [01:05<00:00,  9.57it/s]\n",
            "Epoch 1/30 - Validation:   0%|          | 0/157 [00:00<?, ?it/s]/usr/local/lib/python3.10/dist-packages/torch/utils/data/dataloader.py:617: UserWarning: This DataLoader will create 4 worker processes in total. Our suggested max number of worker in current system is 2, which is smaller than what this DataLoader is going to create. Please be aware that excessive worker creation might get DataLoader running slow or even freeze, lower the worker number to avoid potential slowness/freeze if necessary.\n",
            "  warnings.warn(\n",
            "Epoch 1/30 - Validation:  78%|███████▊  | 123/157 [00:09<00:01, 17.65it/s][codecarbon INFO @ 03:17:11] Energy consumed for RAM : 0.000099 kWh. RAM Power : 4.7530388832092285 W\n",
            "[codecarbon INFO @ 03:17:11] Energy consumed for all GPUs : 0.001296 kWh. Total GPU Power : 52.243820741804534 W\n",
            "[codecarbon INFO @ 03:17:11] Energy consumed for all CPUs : 0.000886 kWh. Total CPU Power : 42.5 W\n",
            "[codecarbon INFO @ 03:17:11] 0.002281 kWh of electricity used since the beginning.\n",
            "Epoch 1/30 - Validation: 100%|██████████| 157/157 [00:11<00:00, 13.41it/s]\n"
          ]
        },
        {
          "output_type": "stream",
          "name": "stdout",
          "text": [
            "Epoch [1/30], Train Loss: 1.3917, Train Accuracy: 51.55%\n",
            "Epoch [1/30], Val Loss: 1.0711, Val Accuracy: 65.36%\n"
          ]
        },
        {
          "output_type": "stream",
          "name": "stderr",
          "text": [
            "Epoch 2/30 - Training:  19%|█▊        | 117/625 [00:12<00:47, 10.72it/s][codecarbon INFO @ 03:17:26] Energy consumed for RAM : 0.000119 kWh. RAM Power : 4.7530388832092285 W\n",
            "[codecarbon INFO @ 03:17:26] Energy consumed for all GPUs : 0.001545 kWh. Total GPU Power : 59.82829370376669 W\n",
            "[codecarbon INFO @ 03:17:26] Energy consumed for all CPUs : 0.001063 kWh. Total CPU Power : 42.5 W\n",
            "[codecarbon INFO @ 03:17:26] 0.002727 kWh of electricity used since the beginning.\n",
            "Epoch 2/30 - Training:  42%|████▏     | 261/625 [00:27<00:33, 10.77it/s][codecarbon INFO @ 03:17:41] Energy consumed for RAM : 0.000139 kWh. RAM Power : 4.7530388832092285 W\n",
            "[codecarbon INFO @ 03:17:41] Energy consumed for all GPUs : 0.001816 kWh. Total GPU Power : 65.16469576297568 W\n",
            "[codecarbon INFO @ 03:17:41] Energy consumed for all CPUs : 0.001240 kWh. Total CPU Power : 42.5 W\n",
            "[codecarbon INFO @ 03:17:41] 0.003195 kWh of electricity used since the beginning.\n",
            "Epoch 2/30 - Training:  65%|██████▍   | 405/625 [00:42<00:21, 10.40it/s][codecarbon INFO @ 03:17:56] Energy consumed for RAM : 0.000158 kWh. RAM Power : 4.7530388832092285 W\n",
            "[codecarbon INFO @ 03:17:56] Energy consumed for all GPUs : 0.002088 kWh. Total GPU Power : 65.21773873282288 W\n",
            "[codecarbon INFO @ 03:17:56] Energy consumed for all CPUs : 0.001417 kWh. Total CPU Power : 42.5 W\n",
            "[codecarbon INFO @ 03:17:56] 0.003663 kWh of electricity used since the beginning.\n",
            "[codecarbon INFO @ 03:17:56] 0.008709 g.CO2eq/s mean an estimation of 274.65653860210784 kg.CO2eq/year\n",
            "Epoch 2/30 - Training:  88%|████████▊ | 550/625 [00:57<00:07, 10.64it/s][codecarbon INFO @ 03:18:11] Energy consumed for RAM : 0.000178 kWh. RAM Power : 4.7530388832092285 W\n",
            "[codecarbon INFO @ 03:18:11] Energy consumed for all GPUs : 0.002360 kWh. Total GPU Power : 65.28003069572772 W\n",
            "[codecarbon INFO @ 03:18:11] Energy consumed for all CPUs : 0.001594 kWh. Total CPU Power : 42.5 W\n",
            "[codecarbon INFO @ 03:18:11] 0.004132 kWh of electricity used since the beginning.\n",
            "Epoch 2/30 - Training: 100%|██████████| 625/625 [01:04<00:00,  9.62it/s]\n",
            "Epoch 2/30 - Validation:   0%|          | 0/157 [00:00<?, ?it/s]/usr/local/lib/python3.10/dist-packages/torch/utils/data/dataloader.py:617: UserWarning: This DataLoader will create 4 worker processes in total. Our suggested max number of worker in current system is 2, which is smaller than what this DataLoader is going to create. Please be aware that excessive worker creation might get DataLoader running slow or even freeze, lower the worker number to avoid potential slowness/freeze if necessary.\n",
            "  warnings.warn(\n",
            "Epoch 2/30 - Validation:  61%|██████    | 96/157 [00:07<00:03, 15.98it/s][codecarbon INFO @ 03:18:26] Energy consumed for RAM : 0.000198 kWh. RAM Power : 4.7530388832092285 W\n",
            "[codecarbon INFO @ 03:18:26] Energy consumed for all GPUs : 0.002586 kWh. Total GPU Power : 54.24086685087939 W\n",
            "[codecarbon INFO @ 03:18:26] Energy consumed for all CPUs : 0.001772 kWh. Total CPU Power : 42.5 W\n",
            "[codecarbon INFO @ 03:18:26] 0.004555 kWh of electricity used since the beginning.\n",
            "Epoch 2/30 - Validation: 100%|██████████| 157/157 [00:11<00:00, 13.37it/s]\n"
          ]
        },
        {
          "output_type": "stream",
          "name": "stdout",
          "text": [
            "Epoch [2/30], Train Loss: 0.8627, Train Accuracy: 71.98%\n",
            "Epoch [2/30], Val Loss: 0.7339, Val Accuracy: 75.91%\n"
          ]
        },
        {
          "output_type": "stream",
          "name": "stderr",
          "text": [
            "Epoch 3/30 - Training:  16%|█▌        | 98/625 [00:11<00:50, 10.54it/s][codecarbon INFO @ 03:18:41] Energy consumed for RAM : 0.000218 kWh. RAM Power : 4.7530388832092285 W\n",
            "[codecarbon INFO @ 03:18:41] Energy consumed for all GPUs : 0.002825 kWh. Total GPU Power : 57.32050854094586 W\n",
            "[codecarbon INFO @ 03:18:41] Energy consumed for all CPUs : 0.001949 kWh. Total CPU Power : 42.5 W\n",
            "[codecarbon INFO @ 03:18:41] 0.004991 kWh of electricity used since the beginning.\n",
            "Epoch 3/30 - Training:  39%|███▊      | 241/625 [00:26<00:35, 10.69it/s][codecarbon INFO @ 03:18:56] Energy consumed for RAM : 0.000237 kWh. RAM Power : 4.7530388832092285 W\n",
            "[codecarbon INFO @ 03:18:56] Energy consumed for all GPUs : 0.003095 kWh. Total GPU Power : 64.95261886865423 W\n",
            "[codecarbon INFO @ 03:18:56] Energy consumed for all CPUs : 0.002126 kWh. Total CPU Power : 42.5 W\n",
            "[codecarbon INFO @ 03:18:56] 0.005458 kWh of electricity used since the beginning.\n",
            "Epoch 3/30 - Training:  61%|██████▏   | 384/625 [00:41<00:22, 10.81it/s][codecarbon INFO @ 03:19:11] Energy consumed for RAM : 0.000257 kWh. RAM Power : 4.7530388832092285 W\n",
            "[codecarbon INFO @ 03:19:11] Energy consumed for all GPUs : 0.003366 kWh. Total GPU Power : 65.15979331415708 W\n",
            "[codecarbon INFO @ 03:19:11] Energy consumed for all CPUs : 0.002303 kWh. Total CPU Power : 42.5 W\n",
            "[codecarbon INFO @ 03:19:11] 0.005926 kWh of electricity used since the beginning.\n",
            "Epoch 3/30 - Training:  84%|████████▍ | 527/625 [00:56<00:09, 10.77it/s][codecarbon INFO @ 03:19:26] Energy consumed for RAM : 0.000277 kWh. RAM Power : 4.7530388832092285 W\n",
            "[codecarbon INFO @ 03:19:26] Energy consumed for all GPUs : 0.003637 kWh. Total GPU Power : 65.10613274639638 W\n",
            "[codecarbon INFO @ 03:19:26] Energy consumed for all CPUs : 0.002480 kWh. Total CPU Power : 42.5 W\n",
            "[codecarbon INFO @ 03:19:26] 0.006394 kWh of electricity used since the beginning.\n",
            "Epoch 3/30 - Training: 100%|██████████| 625/625 [01:06<00:00,  9.40it/s]\n",
            "Epoch 3/30 - Validation:   0%|          | 0/157 [00:00<?, ?it/s]/usr/local/lib/python3.10/dist-packages/torch/utils/data/dataloader.py:617: UserWarning: This DataLoader will create 4 worker processes in total. Our suggested max number of worker in current system is 2, which is smaller than what this DataLoader is going to create. Please be aware that excessive worker creation might get DataLoader running slow or even freeze, lower the worker number to avoid potential slowness/freeze if necessary.\n",
            "  warnings.warn(\n",
            "Epoch 3/30 - Validation:  42%|████▏     | 66/157 [00:04<00:06, 15.01it/s][codecarbon INFO @ 03:19:41] Energy consumed for RAM : 0.000297 kWh. RAM Power : 4.7530388832092285 W\n",
            "[codecarbon INFO @ 03:19:41] Energy consumed for all GPUs : 0.003886 kWh. Total GPU Power : 59.62527362738682 W\n",
            "[codecarbon INFO @ 03:19:41] Energy consumed for all CPUs : 0.002657 kWh. Total CPU Power : 42.5 W\n",
            "[codecarbon INFO @ 03:19:41] 0.006839 kWh of electricity used since the beginning.\n",
            "Epoch 3/30 - Validation: 100%|██████████| 157/157 [00:10<00:00, 15.31it/s]\n"
          ]
        },
        {
          "output_type": "stream",
          "name": "stdout",
          "text": [
            "Epoch [3/30], Train Loss: 0.7215, Train Accuracy: 76.70%\n",
            "Epoch [3/30], Val Loss: 0.6239, Val Accuracy: 79.21%\n"
          ]
        },
        {
          "output_type": "stream",
          "name": "stderr",
          "text": [
            "Epoch 4/30 - Training:  12%|█▏        | 77/625 [00:09<00:50, 10.85it/s][codecarbon INFO @ 03:19:56] Energy consumed for RAM : 0.000317 kWh. RAM Power : 4.7530388832092285 W\n",
            "[codecarbon INFO @ 03:19:56] Energy consumed for all GPUs : 0.004109 kWh. Total GPU Power : 53.64072435341886 W\n",
            "[codecarbon INFO @ 03:19:56] Energy consumed for all CPUs : 0.002835 kWh. Total CPU Power : 42.5 W\n",
            "[codecarbon INFO @ 03:19:56] 0.007261 kWh of electricity used since the beginning.\n",
            "[codecarbon INFO @ 03:19:56] 0.008550 g.CO2eq/s mean an estimation of 269.6209370761193 kg.CO2eq/year\n",
            "Epoch 4/30 - Training:  35%|███▌      | 221/625 [00:24<00:38, 10.57it/s][codecarbon INFO @ 03:20:11] Energy consumed for RAM : 0.000336 kWh. RAM Power : 4.7530388832092285 W\n",
            "[codecarbon INFO @ 03:20:11] Energy consumed for all GPUs : 0.004379 kWh. Total GPU Power : 64.82150340173398 W\n",
            "[codecarbon INFO @ 03:20:11] Energy consumed for all CPUs : 0.003011 kWh. Total CPU Power : 42.5 W\n",
            "[codecarbon INFO @ 03:20:11] 0.007727 kWh of electricity used since the beginning.\n",
            "Epoch 4/30 - Training:  58%|█████▊    | 364/625 [00:39<00:24, 10.70it/s][codecarbon INFO @ 03:20:26] Energy consumed for RAM : 0.000356 kWh. RAM Power : 4.7530388832092285 W\n",
            "[codecarbon INFO @ 03:20:26] Energy consumed for all GPUs : 0.004651 kWh. Total GPU Power : 65.25896546316503 W\n",
            "[codecarbon INFO @ 03:20:26] Energy consumed for all CPUs : 0.003188 kWh. Total CPU Power : 42.5 W\n",
            "[codecarbon INFO @ 03:20:26] 0.008195 kWh of electricity used since the beginning.\n",
            "Epoch 4/30 - Training:  81%|████████▏ | 509/625 [00:54<00:10, 10.55it/s][codecarbon INFO @ 03:20:41] Energy consumed for RAM : 0.000376 kWh. RAM Power : 4.7530388832092285 W\n",
            "[codecarbon INFO @ 03:20:41] Energy consumed for all GPUs : 0.004921 kWh. Total GPU Power : 64.92439908618515 W\n",
            "[codecarbon INFO @ 03:20:41] Energy consumed for all CPUs : 0.003366 kWh. Total CPU Power : 42.5 W\n",
            "[codecarbon INFO @ 03:20:41] 0.008663 kWh of electricity used since the beginning.\n",
            "Epoch 4/30 - Training: 100%|██████████| 625/625 [01:07<00:00,  9.31it/s]\n",
            "Epoch 4/30 - Validation:   0%|          | 0/157 [00:00<?, ?it/s]/usr/local/lib/python3.10/dist-packages/torch/utils/data/dataloader.py:617: UserWarning: This DataLoader will create 4 worker processes in total. Our suggested max number of worker in current system is 2, which is smaller than what this DataLoader is going to create. Please be aware that excessive worker creation might get DataLoader running slow or even freeze, lower the worker number to avoid potential slowness/freeze if necessary.\n",
            "  warnings.warn(\n",
            "Epoch 4/30 - Validation:  22%|██▏       | 35/157 [00:02<00:07, 16.58it/s][codecarbon INFO @ 03:20:56] Energy consumed for RAM : 0.000396 kWh. RAM Power : 4.7530388832092285 W\n",
            "[codecarbon INFO @ 03:20:56] Energy consumed for all GPUs : 0.005180 kWh. Total GPU Power : 62.19856463784469 W\n",
            "[codecarbon INFO @ 03:20:56] Energy consumed for all CPUs : 0.003542 kWh. Total CPU Power : 42.5 W\n",
            "[codecarbon INFO @ 03:20:56] 0.009118 kWh of electricity used since the beginning.\n",
            "Epoch 4/30 - Validation: 100%|██████████| 157/157 [00:10<00:00, 14.74it/s]\n"
          ]
        },
        {
          "output_type": "stream",
          "name": "stdout",
          "text": [
            "Epoch [4/30], Train Loss: 0.6419, Train Accuracy: 79.26%\n",
            "Epoch [4/30], Val Loss: 0.6501, Val Accuracy: 78.64%\n"
          ]
        },
        {
          "output_type": "stream",
          "name": "stderr",
          "text": [
            "Epoch 5/30 - Training:   9%|▉         | 55/625 [00:06<00:54, 10.37it/s][codecarbon INFO @ 03:21:11] Energy consumed for RAM : 0.000416 kWh. RAM Power : 4.7530388832092285 W\n",
            "[codecarbon INFO @ 03:21:11] Energy consumed for all GPUs : 0.005390 kWh. Total GPU Power : 50.41560286464855 W\n",
            "[codecarbon INFO @ 03:21:11] Energy consumed for all CPUs : 0.003720 kWh. Total CPU Power : 42.5 W\n",
            "[codecarbon INFO @ 03:21:11] 0.009525 kWh of electricity used since the beginning.\n",
            "Epoch 5/30 - Training:  32%|███▏      | 199/625 [00:21<00:39, 10.67it/s][codecarbon INFO @ 03:21:26] Energy consumed for RAM : 0.000435 kWh. RAM Power : 4.7530388832092285 W\n",
            "[codecarbon INFO @ 03:21:26] Energy consumed for all GPUs : 0.005660 kWh. Total GPU Power : 64.81503402983377 W\n",
            "[codecarbon INFO @ 03:21:26] Energy consumed for all CPUs : 0.003897 kWh. Total CPU Power : 42.5 W\n",
            "[codecarbon INFO @ 03:21:26] 0.009992 kWh of electricity used since the beginning.\n",
            "Epoch 5/30 - Training:  55%|█████▌    | 345/625 [00:36<00:26, 10.57it/s][codecarbon INFO @ 03:21:41] Energy consumed for RAM : 0.000455 kWh. RAM Power : 4.7530388832092285 W\n",
            "[codecarbon INFO @ 03:21:41] Energy consumed for all GPUs : 0.005935 kWh. Total GPU Power : 66.01680776495631 W\n",
            "[codecarbon INFO @ 03:21:41] Energy consumed for all CPUs : 0.004074 kWh. Total CPU Power : 42.5 W\n",
            "[codecarbon INFO @ 03:21:41] 0.010464 kWh of electricity used since the beginning.\n",
            "Epoch 5/30 - Training:  79%|███████▉  | 493/625 [00:51<00:12, 10.72it/s][codecarbon INFO @ 03:21:56] Energy consumed for RAM : 0.000475 kWh. RAM Power : 4.7530388832092285 W\n",
            "[codecarbon INFO @ 03:21:56] Energy consumed for all GPUs : 0.006207 kWh. Total GPU Power : 65.23024815609418 W\n",
            "[codecarbon INFO @ 03:21:56] Energy consumed for all CPUs : 0.004251 kWh. Total CPU Power : 42.5 W\n",
            "[codecarbon INFO @ 03:21:56] 0.010933 kWh of electricity used since the beginning.\n",
            "[codecarbon INFO @ 03:21:56] 0.008733 g.CO2eq/s mean an estimation of 275.3899725936713 kg.CO2eq/year\n",
            "Epoch 5/30 - Training: 100%|██████████| 625/625 [01:05<00:00,  9.54it/s]\n",
            "Epoch 5/30 - Validation:   0%|          | 0/157 [00:00<?, ?it/s]/usr/local/lib/python3.10/dist-packages/torch/utils/data/dataloader.py:617: UserWarning: This DataLoader will create 4 worker processes in total. Our suggested max number of worker in current system is 2, which is smaller than what this DataLoader is going to create. Please be aware that excessive worker creation might get DataLoader running slow or even freeze, lower the worker number to avoid potential slowness/freeze if necessary.\n",
            "  warnings.warn(\n",
            "Epoch 5/30 - Validation:  11%|█▏        | 18/157 [00:01<00:08, 15.71it/s][codecarbon INFO @ 03:22:11] Energy consumed for RAM : 0.000495 kWh. RAM Power : 4.7530388832092285 W\n",
            "[codecarbon INFO @ 03:22:11] Energy consumed for all GPUs : 0.006474 kWh. Total GPU Power : 64.08711768738713 W\n",
            "[codecarbon INFO @ 03:22:11] Energy consumed for all CPUs : 0.004428 kWh. Total CPU Power : 42.5 W\n",
            "[codecarbon INFO @ 03:22:11] 0.011397 kWh of electricity used since the beginning.\n",
            "Epoch 5/30 - Validation: 100%|██████████| 157/157 [00:10<00:00, 14.47it/s]\n"
          ]
        },
        {
          "output_type": "stream",
          "name": "stdout",
          "text": [
            "Epoch [5/30], Train Loss: 0.5755, Train Accuracy: 81.29%\n",
            "Epoch [5/30], Val Loss: 0.5650, Val Accuracy: 80.67%\n"
          ]
        },
        {
          "output_type": "stream",
          "name": "stderr",
          "text": [
            "Epoch 6/30 - Training:   7%|▋         | 42/625 [00:05<00:54, 10.65it/s][codecarbon INFO @ 03:22:26] Energy consumed for RAM : 0.000515 kWh. RAM Power : 4.7530388832092285 W\n",
            "[codecarbon INFO @ 03:22:26] Energy consumed for all GPUs : 0.006675 kWh. Total GPU Power : 48.280772715072224 W\n",
            "[codecarbon INFO @ 03:22:26] Energy consumed for all CPUs : 0.004605 kWh. Total CPU Power : 42.5 W\n",
            "[codecarbon INFO @ 03:22:26] 0.011794 kWh of electricity used since the beginning.\n",
            "Epoch 6/30 - Training:  30%|███       | 189/625 [00:20<00:40, 10.90it/s][codecarbon INFO @ 03:22:41] Energy consumed for RAM : 0.000534 kWh. RAM Power : 4.7530388832092285 W\n",
            "[codecarbon INFO @ 03:22:41] Energy consumed for all GPUs : 0.006943 kWh. Total GPU Power : 64.51425640521178 W\n",
            "[codecarbon INFO @ 03:22:41] Energy consumed for all CPUs : 0.004782 kWh. Total CPU Power : 42.5 W\n",
            "[codecarbon INFO @ 03:22:41] 0.012260 kWh of electricity used since the beginning.\n",
            "Epoch 6/30 - Training:  53%|█████▎    | 330/625 [00:35<00:28, 10.46it/s][codecarbon INFO @ 03:22:56] Energy consumed for RAM : 0.000554 kWh. RAM Power : 4.7530388832092285 W\n",
            "[codecarbon INFO @ 03:22:56] Energy consumed for all GPUs : 0.007213 kWh. Total GPU Power : 64.83413579389064 W\n",
            "[codecarbon INFO @ 03:22:56] Energy consumed for all CPUs : 0.004959 kWh. Total CPU Power : 42.5 W\n",
            "[codecarbon INFO @ 03:22:56] 0.012727 kWh of electricity used since the beginning.\n",
            "Epoch 6/30 - Training:  76%|███████▌  | 472/625 [00:50<00:14, 10.64it/s][codecarbon INFO @ 03:23:11] Energy consumed for RAM : 0.000574 kWh. RAM Power : 4.7530388832092285 W\n",
            "[codecarbon INFO @ 03:23:11] Energy consumed for all GPUs : 0.007484 kWh. Total GPU Power : 65.0234014249107 W\n",
            "Epoch 6/30 - Training:  76%|███████▌  | 474/625 [00:50<00:14, 10.53it/s][codecarbon INFO @ 03:23:11] Energy consumed for all CPUs : 0.005137 kWh. Total CPU Power : 42.5 W\n",
            "[codecarbon INFO @ 03:23:11] 0.013195 kWh of electricity used since the beginning.\n",
            "Epoch 6/30 - Training:  98%|█████████▊| 615/625 [01:05<00:00, 10.67it/s][codecarbon INFO @ 03:23:26] Energy consumed for RAM : 0.000594 kWh. RAM Power : 4.7530388832092285 W\n",
            "[codecarbon INFO @ 03:23:26] Energy consumed for all GPUs : 0.007755 kWh. Total GPU Power : 65.12878901503423 W\n",
            "[codecarbon INFO @ 03:23:26] Energy consumed for all CPUs : 0.005314 kWh. Total CPU Power : 42.5 W\n",
            "[codecarbon INFO @ 03:23:26] 0.013663 kWh of electricity used since the beginning.\n",
            "Epoch 6/30 - Training: 100%|██████████| 625/625 [01:06<00:00,  9.42it/s]\n",
            "Epoch 6/30 - Validation:   0%|          | 0/157 [00:00<?, ?it/s]/usr/local/lib/python3.10/dist-packages/torch/utils/data/dataloader.py:617: UserWarning: This DataLoader will create 4 worker processes in total. Our suggested max number of worker in current system is 2, which is smaller than what this DataLoader is going to create. Please be aware that excessive worker creation might get DataLoader running slow or even freeze, lower the worker number to avoid potential slowness/freeze if necessary.\n",
            "  warnings.warn(\n",
            "Epoch 6/30 - Validation: 100%|██████████| 157/157 [00:11<00:00, 13.50it/s]\n"
          ]
        },
        {
          "output_type": "stream",
          "name": "stdout",
          "text": [
            "Epoch [6/30], Train Loss: 0.5435, Train Accuracy: 82.19%\n",
            "Epoch [6/30], Val Loss: 0.5469, Val Accuracy: 82.01%\n"
          ]
        },
        {
          "output_type": "stream",
          "name": "stderr",
          "text": [
            "Epoch 7/30 - Training:   3%|▎         | 20/625 [00:02<00:58, 10.41it/s][codecarbon INFO @ 03:23:41] Energy consumed for RAM : 0.000613 kWh. RAM Power : 4.7530388832092285 W\n",
            "[codecarbon INFO @ 03:23:41] Energy consumed for all GPUs : 0.007955 kWh. Total GPU Power : 47.88811415047337 W\n",
            "[codecarbon INFO @ 03:23:41] Energy consumed for all CPUs : 0.005491 kWh. Total CPU Power : 42.5 W\n",
            "[codecarbon INFO @ 03:23:41] 0.014059 kWh of electricity used since the beginning.\n",
            "Epoch 7/30 - Training:  26%|██▌       | 163/625 [00:17<00:42, 10.75it/s][codecarbon INFO @ 03:23:56] Energy consumed for RAM : 0.000633 kWh. RAM Power : 4.7530388832092285 W\n",
            "Epoch 7/30 - Training:  26%|██▋       | 165/625 [00:17<00:42, 10.87it/s][codecarbon INFO @ 03:23:56] Energy consumed for all GPUs : 0.008223 kWh. Total GPU Power : 64.38745142386685 W\n",
            "[codecarbon INFO @ 03:23:56] Energy consumed for all CPUs : 0.005668 kWh. Total CPU Power : 42.5 W\n",
            "[codecarbon INFO @ 03:23:56] 0.014525 kWh of electricity used since the beginning.\n",
            "[codecarbon INFO @ 03:23:56] 0.008539 g.CO2eq/s mean an estimation of 269.2909250367732 kg.CO2eq/year\n",
            "Epoch 7/30 - Training:  49%|████▉     | 308/625 [00:32<00:29, 10.61it/s][codecarbon INFO @ 03:24:11] Energy consumed for RAM : 0.000653 kWh. RAM Power : 4.7530388832092285 W\n",
            "[codecarbon INFO @ 03:24:11] Energy consumed for all GPUs : 0.008495 kWh. Total GPU Power : 65.4374590978931 W\n",
            "[codecarbon INFO @ 03:24:11] Energy consumed for all CPUs : 0.005845 kWh. Total CPU Power : 42.5 W\n",
            "[codecarbon INFO @ 03:24:11] 0.014994 kWh of electricity used since the beginning.\n",
            "Epoch 7/30 - Training:  72%|███████▏  | 452/625 [00:47<00:16, 10.70it/s][codecarbon INFO @ 03:24:26] Energy consumed for RAM : 0.000673 kWh. RAM Power : 4.7530388832092285 W\n",
            "[codecarbon INFO @ 03:24:26] Energy consumed for all GPUs : 0.008767 kWh. Total GPU Power : 65.06263710602192 W\n",
            "[codecarbon INFO @ 03:24:26] Energy consumed for all CPUs : 0.006022 kWh. Total CPU Power : 42.5 W\n",
            "[codecarbon INFO @ 03:24:26] 0.015462 kWh of electricity used since the beginning.\n",
            "Epoch 7/30 - Training:  96%|█████████▌| 597/625 [01:02<00:02, 10.88it/s][codecarbon INFO @ 03:24:41] Energy consumed for RAM : 0.000693 kWh. RAM Power : 4.7530388832092285 W\n",
            "[codecarbon INFO @ 03:24:41] Energy consumed for all GPUs : 0.009036 kWh. Total GPU Power : 64.81664215431867 W\n",
            "[codecarbon INFO @ 03:24:41] Energy consumed for all CPUs : 0.006199 kWh. Total CPU Power : 42.5 W\n",
            "[codecarbon INFO @ 03:24:41] 0.015928 kWh of electricity used since the beginning.\n",
            "Epoch 7/30 - Training: 100%|██████████| 625/625 [01:05<00:00,  9.59it/s]\n",
            "Epoch 7/30 - Validation:   0%|          | 0/157 [00:00<?, ?it/s]/usr/local/lib/python3.10/dist-packages/torch/utils/data/dataloader.py:617: UserWarning: This DataLoader will create 4 worker processes in total. Our suggested max number of worker in current system is 2, which is smaller than what this DataLoader is going to create. Please be aware that excessive worker creation might get DataLoader running slow or even freeze, lower the worker number to avoid potential slowness/freeze if necessary.\n",
            "  warnings.warn(\n",
            "Epoch 7/30 - Validation: 100%|██████████| 157/157 [00:12<00:00, 13.07it/s]\n"
          ]
        },
        {
          "output_type": "stream",
          "name": "stdout",
          "text": [
            "Epoch [7/30], Train Loss: 0.5132, Train Accuracy: 83.64%\n",
            "Epoch [7/30], Val Loss: 0.5176, Val Accuracy: 82.84%\n"
          ]
        },
        {
          "output_type": "stream",
          "name": "stderr",
          "text": [
            "\rEpoch 8/30 - Training:   0%|          | 0/625 [00:00<?, ?it/s][codecarbon INFO @ 03:24:56] Energy consumed for RAM : 0.000712 kWh. RAM Power : 4.7530388832092285 W\n",
            "[codecarbon INFO @ 03:24:56] Energy consumed for all GPUs : 0.009232 kWh. Total GPU Power : 47.027707417164294 W\n",
            "[codecarbon INFO @ 03:24:56] Energy consumed for all CPUs : 0.006376 kWh. Total CPU Power : 42.5 W\n",
            "[codecarbon INFO @ 03:24:56] 0.016321 kWh of electricity used since the beginning.\n",
            "Epoch 8/30 - Training:  23%|██▎       | 142/625 [00:15<00:45, 10.68it/s][codecarbon INFO @ 03:25:11] Energy consumed for RAM : 0.000732 kWh. RAM Power : 4.7530388832092285 W\n",
            "[codecarbon INFO @ 03:25:11] Energy consumed for all GPUs : 0.009500 kWh. Total GPU Power : 64.31078269839715 W\n",
            "[codecarbon INFO @ 03:25:11] Energy consumed for all CPUs : 0.006554 kWh. Total CPU Power : 42.5 W\n",
            "[codecarbon INFO @ 03:25:11] 0.016786 kWh of electricity used since the beginning.\n",
            "Epoch 8/30 - Training:  46%|████▌     | 285/625 [00:30<00:32, 10.59it/s][codecarbon INFO @ 03:25:26] Energy consumed for RAM : 0.000752 kWh. RAM Power : 4.7530388832092285 W\n",
            "Epoch 8/30 - Training:  46%|████▌     | 287/625 [00:30<00:32, 10.32it/s][codecarbon INFO @ 03:25:26] Energy consumed for all GPUs : 0.009774 kWh. Total GPU Power : 65.6364303682091 W\n",
            "[codecarbon INFO @ 03:25:26] Energy consumed for all CPUs : 0.006731 kWh. Total CPU Power : 42.5 W\n",
            "[codecarbon INFO @ 03:25:26] 0.017257 kWh of electricity used since the beginning.\n",
            "Epoch 8/30 - Training:  69%|██████▉   | 430/625 [00:45<00:18, 10.73it/s][codecarbon INFO @ 03:25:41] Energy consumed for RAM : 0.000772 kWh. RAM Power : 4.7530388832092285 W\n",
            "[codecarbon INFO @ 03:25:41] Energy consumed for all GPUs : 0.010045 kWh. Total GPU Power : 65.15208696844212 W\n",
            "[codecarbon INFO @ 03:25:41] Energy consumed for all CPUs : 0.006908 kWh. Total CPU Power : 42.5 W\n",
            "[codecarbon INFO @ 03:25:41] 0.017725 kWh of electricity used since the beginning.\n",
            "Epoch 8/30 - Training:  92%|█████████▏| 576/625 [01:00<00:04, 10.55it/s][codecarbon INFO @ 03:25:56] Energy consumed for RAM : 0.000792 kWh. RAM Power : 4.7530388832092285 W\n",
            "[codecarbon INFO @ 03:25:56] Energy consumed for all GPUs : 0.010314 kWh. Total GPU Power : 64.60572006097227 W\n",
            "[codecarbon INFO @ 03:25:56] Energy consumed for all CPUs : 0.007085 kWh. Total CPU Power : 42.5 W\n",
            "[codecarbon INFO @ 03:25:56] 0.018191 kWh of electricity used since the beginning.\n",
            "[codecarbon INFO @ 03:25:56] 0.008717 g.CO2eq/s mean an estimation of 274.88593727714215 kg.CO2eq/year\n",
            "Epoch 8/30 - Training: 100%|██████████| 625/625 [01:05<00:00,  9.61it/s]\n",
            "Epoch 8/30 - Validation:   0%|          | 0/157 [00:00<?, ?it/s]/usr/local/lib/python3.10/dist-packages/torch/utils/data/dataloader.py:617: UserWarning: This DataLoader will create 4 worker processes in total. Our suggested max number of worker in current system is 2, which is smaller than what this DataLoader is going to create. Please be aware that excessive worker creation might get DataLoader running slow or even freeze, lower the worker number to avoid potential slowness/freeze if necessary.\n",
            "  warnings.warn(\n",
            "Epoch 8/30 - Validation:  85%|████████▍ | 133/157 [00:10<00:01, 16.00it/s][codecarbon INFO @ 03:26:11] Energy consumed for RAM : 0.000811 kWh. RAM Power : 4.7530388832092285 W\n",
            "[codecarbon INFO @ 03:26:11] Energy consumed for all GPUs : 0.010527 kWh. Total GPU Power : 51.072370194780106 W\n",
            "[codecarbon INFO @ 03:26:11] Energy consumed for all CPUs : 0.007262 kWh. Total CPU Power : 42.5 W\n",
            "[codecarbon INFO @ 03:26:11] 0.018601 kWh of electricity used since the beginning.\n",
            "Epoch 8/30 - Validation: 100%|██████████| 157/157 [00:11<00:00, 13.43it/s]\n"
          ]
        },
        {
          "output_type": "stream",
          "name": "stdout",
          "text": [
            "Epoch [8/30], Train Loss: 0.4803, Train Accuracy: 84.21%\n",
            "Epoch [8/30], Val Loss: 0.5511, Val Accuracy: 81.88%\n"
          ]
        },
        {
          "output_type": "stream",
          "name": "stderr",
          "text": [
            "Epoch 9/30 - Training:  20%|██        | 125/625 [00:13<00:46, 10.78it/s][codecarbon INFO @ 03:26:26] Energy consumed for RAM : 0.000831 kWh. RAM Power : 4.7530388832092285 W\n",
            "[codecarbon INFO @ 03:26:26] Energy consumed for all GPUs : 0.010781 kWh. Total GPU Power : 60.957180963129154 W\n",
            "[codecarbon INFO @ 03:26:26] Energy consumed for all CPUs : 0.007440 kWh. Total CPU Power : 42.5 W\n",
            "[codecarbon INFO @ 03:26:26] 0.019052 kWh of electricity used since the beginning.\n",
            "Epoch 9/30 - Training:  43%|████▎     | 268/625 [00:28<00:33, 10.74it/s][codecarbon INFO @ 03:26:41] Energy consumed for RAM : 0.000851 kWh. RAM Power : 4.7530388832092285 W\n",
            "[codecarbon INFO @ 03:26:41] Energy consumed for all GPUs : 0.011051 kWh. Total GPU Power : 64.79974743550677 W\n",
            "[codecarbon INFO @ 03:26:41] Energy consumed for all CPUs : 0.007617 kWh. Total CPU Power : 42.5 W\n",
            "[codecarbon INFO @ 03:26:41] 0.019519 kWh of electricity used since the beginning.\n",
            "Epoch 9/30 - Training:  66%|██████▌   | 412/625 [00:43<00:20, 10.44it/s][codecarbon INFO @ 03:26:56] Energy consumed for RAM : 0.000871 kWh. RAM Power : 4.7530388832092285 W\n",
            "[codecarbon INFO @ 03:26:56] Energy consumed for all GPUs : 0.011325 kWh. Total GPU Power : 65.662687816067 W\n",
            "[codecarbon INFO @ 03:26:56] Energy consumed for all CPUs : 0.007794 kWh. Total CPU Power : 42.5 W\n",
            "[codecarbon INFO @ 03:26:56] 0.019990 kWh of electricity used since the beginning.\n",
            "Epoch 9/30 - Training:  89%|████████▉ | 557/625 [00:58<00:06, 10.60it/s][codecarbon INFO @ 03:27:11] Energy consumed for RAM : 0.000891 kWh. RAM Power : 4.7530388832092285 W\n",
            "[codecarbon INFO @ 03:27:11] Energy consumed for all GPUs : 0.011595 kWh. Total GPU Power : 64.84579739272412 W\n",
            "[codecarbon INFO @ 03:27:11] Energy consumed for all CPUs : 0.007971 kWh. Total CPU Power : 42.5 W\n",
            "[codecarbon INFO @ 03:27:11] 0.020457 kWh of electricity used since the beginning.\n",
            "Epoch 9/30 - Training: 100%|██████████| 625/625 [01:05<00:00,  9.61it/s]\n",
            "Epoch 9/30 - Validation:   0%|          | 0/157 [00:00<?, ?it/s]/usr/local/lib/python3.10/dist-packages/torch/utils/data/dataloader.py:617: UserWarning: This DataLoader will create 4 worker processes in total. Our suggested max number of worker in current system is 2, which is smaller than what this DataLoader is going to create. Please be aware that excessive worker creation might get DataLoader running slow or even freeze, lower the worker number to avoid potential slowness/freeze if necessary.\n",
            "  warnings.warn(\n",
            "Epoch 9/30 - Validation:  69%|██████▉   | 109/157 [00:08<00:02, 16.99it/s][codecarbon INFO @ 03:27:26] Energy consumed for RAM : 0.000910 kWh. RAM Power : 4.7530388832092285 W\n",
            "[codecarbon INFO @ 03:27:26] Energy consumed for all GPUs : 0.011817 kWh. Total GPU Power : 53.323932409159475 W\n",
            "[codecarbon INFO @ 03:27:26] Energy consumed for all CPUs : 0.008148 kWh. Total CPU Power : 42.5 W\n",
            "[codecarbon INFO @ 03:27:26] 0.020876 kWh of electricity used since the beginning.\n",
            "Epoch 9/30 - Validation: 100%|██████████| 157/157 [00:11<00:00, 13.57it/s]\n"
          ]
        },
        {
          "output_type": "stream",
          "name": "stdout",
          "text": [
            "Epoch [9/30], Train Loss: 0.4618, Train Accuracy: 84.81%\n",
            "Epoch [9/30], Val Loss: 0.4874, Val Accuracy: 84.06%\n"
          ]
        },
        {
          "output_type": "stream",
          "name": "stderr",
          "text": [
            "Epoch 10/30 - Training:  17%|█▋        | 107/625 [00:12<00:48, 10.64it/s][codecarbon INFO @ 03:27:41] Energy consumed for RAM : 0.000930 kWh. RAM Power : 4.7530388832092285 W\n",
            "[codecarbon INFO @ 03:27:41] Energy consumed for all GPUs : 0.012062 kWh. Total GPU Power : 58.65640874293539 W\n",
            "[codecarbon INFO @ 03:27:41] Energy consumed for all CPUs : 0.008326 kWh. Total CPU Power : 42.5 W\n",
            "Epoch 10/30 - Training:  17%|█▋        | 109/625 [00:12<00:48, 10.64it/s][codecarbon INFO @ 03:27:41] 0.021317 kWh of electricity used since the beginning.\n",
            "Epoch 10/30 - Training:  40%|████      | 253/625 [00:27<00:35, 10.55it/s][codecarbon INFO @ 03:27:56] Energy consumed for RAM : 0.000950 kWh. RAM Power : 4.7530388832092285 W\n",
            "[codecarbon INFO @ 03:27:56] Energy consumed for all GPUs : 0.012332 kWh. Total GPU Power : 65.01442093737609 W\n",
            "[codecarbon INFO @ 03:27:56] Energy consumed for all CPUs : 0.008503 kWh. Total CPU Power : 42.5 W\n",
            "[codecarbon INFO @ 03:27:56] 0.021785 kWh of electricity used since the beginning.\n",
            "[codecarbon INFO @ 03:27:56] 0.008543 g.CO2eq/s mean an estimation of 269.4034900631888 kg.CO2eq/year\n",
            "Epoch 10/30 - Training:  64%|██████▎   | 397/625 [00:42<00:20, 10.88it/s][codecarbon INFO @ 03:28:11] Energy consumed for RAM : 0.000970 kWh. RAM Power : 4.7530388832092285 W\n",
            "[codecarbon INFO @ 03:28:11] Energy consumed for all GPUs : 0.012605 kWh. Total GPU Power : 65.44311414890076 W\n",
            "[codecarbon INFO @ 03:28:11] Energy consumed for all CPUs : 0.008680 kWh. Total CPU Power : 42.5 W\n",
            "[codecarbon INFO @ 03:28:11] 0.022254 kWh of electricity used since the beginning.\n",
            "Epoch 10/30 - Training:  86%|████████▋ | 540/625 [00:57<00:07, 10.88it/s][codecarbon INFO @ 03:28:26] Energy consumed for RAM : 0.000990 kWh. RAM Power : 4.7530388832092285 W\n",
            "[codecarbon INFO @ 03:28:26] Energy consumed for all GPUs : 0.012876 kWh. Total GPU Power : 65.04949362734376 W\n",
            "[codecarbon INFO @ 03:28:26] Energy consumed for all CPUs : 0.008857 kWh. Total CPU Power : 42.5 W\n",
            "[codecarbon INFO @ 03:28:26] 0.022722 kWh of electricity used since the beginning.\n",
            "Epoch 10/30 - Training: 100%|██████████| 625/625 [01:05<00:00,  9.49it/s]\n",
            "Epoch 10/30 - Validation:   0%|          | 0/157 [00:00<?, ?it/s]/usr/local/lib/python3.10/dist-packages/torch/utils/data/dataloader.py:617: UserWarning: This DataLoader will create 4 worker processes in total. Our suggested max number of worker in current system is 2, which is smaller than what this DataLoader is going to create. Please be aware that excessive worker creation might get DataLoader running slow or even freeze, lower the worker number to avoid potential slowness/freeze if necessary.\n",
            "  warnings.warn(\n",
            "Epoch 10/30 - Validation:  59%|█████▉    | 93/157 [00:06<00:03, 17.59it/s][codecarbon INFO @ 03:28:41] Energy consumed for RAM : 0.001009 kWh. RAM Power : 4.7530388832092285 W\n",
            "[codecarbon INFO @ 03:28:41] Energy consumed for all GPUs : 0.013116 kWh. Total GPU Power : 57.676083381096454 W\n",
            "[codecarbon INFO @ 03:28:41] Energy consumed for all CPUs : 0.009034 kWh. Total CPU Power : 42.5 W\n",
            "[codecarbon INFO @ 03:28:41] 0.023159 kWh of electricity used since the beginning.\n",
            "Epoch 10/30 - Validation: 100%|██████████| 157/157 [00:10<00:00, 15.57it/s]\n"
          ]
        },
        {
          "output_type": "stream",
          "name": "stdout",
          "text": [
            "Epoch [10/30], Train Loss: 0.4382, Train Accuracy: 85.61%\n",
            "Epoch [10/30], Val Loss: 0.4812, Val Accuracy: 83.74%\n"
          ]
        },
        {
          "output_type": "stream",
          "name": "stderr",
          "text": [
            "Epoch 11/30 - Training:  16%|█▌        | 97/625 [00:11<00:49, 10.76it/s][codecarbon INFO @ 03:28:56] Energy consumed for RAM : 0.001029 kWh. RAM Power : 4.7530388832092285 W\n",
            "[codecarbon INFO @ 03:28:56] Energy consumed for all GPUs : 0.013350 kWh. Total GPU Power : 56.08854666303666 W\n",
            "[codecarbon INFO @ 03:28:56] Energy consumed for all CPUs : 0.009211 kWh. Total CPU Power : 42.5 W\n",
            "[codecarbon INFO @ 03:28:56] 0.023590 kWh of electricity used since the beginning.\n",
            "Epoch 11/30 - Training:  39%|███▊      | 241/625 [00:26<00:36, 10.64it/s][codecarbon INFO @ 03:29:11] Energy consumed for RAM : 0.001049 kWh. RAM Power : 4.7530388832092285 W\n",
            "[codecarbon INFO @ 03:29:11] Energy consumed for all GPUs : 0.013622 kWh. Total GPU Power : 65.48266749145247 W\n",
            "[codecarbon INFO @ 03:29:11] Energy consumed for all CPUs : 0.009388 kWh. Total CPU Power : 42.5 W\n",
            "[codecarbon INFO @ 03:29:11] 0.024060 kWh of electricity used since the beginning.\n",
            "Epoch 11/30 - Training:  62%|██████▏   | 385/625 [00:41<00:22, 10.75it/s][codecarbon INFO @ 03:29:26] Energy consumed for RAM : 0.001069 kWh. RAM Power : 4.7530388832092285 W\n",
            "[codecarbon INFO @ 03:29:26] Energy consumed for all GPUs : 0.013893 kWh. Total GPU Power : 64.9247267166956 W\n",
            "[codecarbon INFO @ 03:29:26] Energy consumed for all CPUs : 0.009565 kWh. Total CPU Power : 42.5 W\n",
            "[codecarbon INFO @ 03:29:26] 0.024527 kWh of electricity used since the beginning.\n",
            "Epoch 11/30 - Training:  85%|████████▍ | 529/625 [00:56<00:08, 10.89it/s][codecarbon INFO @ 03:29:41] Energy consumed for RAM : 0.001089 kWh. RAM Power : 4.7530388832092285 W\n",
            "[codecarbon INFO @ 03:29:41] Energy consumed for all GPUs : 0.014164 kWh. Total GPU Power : 65.00010030568949 W\n",
            "[codecarbon INFO @ 03:29:41] Energy consumed for all CPUs : 0.009742 kWh. Total CPU Power : 42.5 W\n",
            "[codecarbon INFO @ 03:29:41] 0.024994 kWh of electricity used since the beginning.\n",
            "Epoch 11/30 - Training: 100%|██████████| 625/625 [01:06<00:00,  9.38it/s]\n",
            "Epoch 11/30 - Validation:   0%|          | 0/157 [00:00<?, ?it/s]/usr/local/lib/python3.10/dist-packages/torch/utils/data/dataloader.py:617: UserWarning: This DataLoader will create 4 worker processes in total. Our suggested max number of worker in current system is 2, which is smaller than what this DataLoader is going to create. Please be aware that excessive worker creation might get DataLoader running slow or even freeze, lower the worker number to avoid potential slowness/freeze if necessary.\n",
            "  warnings.warn(\n",
            "Epoch 11/30 - Validation:  43%|████▎     | 67/157 [00:04<00:05, 16.67it/s][codecarbon INFO @ 03:29:56] Energy consumed for RAM : 0.001108 kWh. RAM Power : 4.7530388832092285 W\n",
            "Epoch 11/30 - Validation:  44%|████▍     | 69/157 [00:04<00:05, 17.10it/s][codecarbon INFO @ 03:29:56] Energy consumed for all GPUs : 0.014410 kWh. Total GPU Power : 59.041889789554205 W\n",
            "[codecarbon INFO @ 03:29:56] Energy consumed for all CPUs : 0.009919 kWh. Total CPU Power : 42.5 W\n",
            "[codecarbon INFO @ 03:29:56] 0.025437 kWh of electricity used since the beginning.\n",
            "[codecarbon INFO @ 03:29:56] 0.008685 g.CO2eq/s mean an estimation of 273.8745513423564 kg.CO2eq/year\n",
            "Epoch 11/30 - Validation: 100%|██████████| 157/157 [00:11<00:00, 14.24it/s]\n"
          ]
        },
        {
          "output_type": "stream",
          "name": "stdout",
          "text": [
            "Epoch [11/30], Train Loss: 0.4226, Train Accuracy: 86.08%\n",
            "Epoch [11/30], Val Loss: 0.5220, Val Accuracy: 82.77%\n"
          ]
        },
        {
          "output_type": "stream",
          "name": "stderr",
          "text": [
            "Epoch 12/30 - Training:  14%|█▎        | 85/625 [00:08<00:51, 10.47it/s][codecarbon INFO @ 03:30:11] Energy consumed for RAM : 0.001128 kWh. RAM Power : 4.7530388832092285 W\n",
            "[codecarbon INFO @ 03:30:11] Energy consumed for all GPUs : 0.014636 kWh. Total GPU Power : 54.40046937873742 W\n",
            "[codecarbon INFO @ 03:30:11] Energy consumed for all CPUs : 0.010097 kWh. Total CPU Power : 42.5 W\n",
            "[codecarbon INFO @ 03:30:11] 0.025861 kWh of electricity used since the beginning.\n",
            "Epoch 12/30 - Training:  37%|███▋      | 229/625 [00:23<00:37, 10.59it/s][codecarbon INFO @ 03:30:26] Energy consumed for RAM : 0.001148 kWh. RAM Power : 4.7530388832092285 W\n",
            "[codecarbon INFO @ 03:30:26] Energy consumed for all GPUs : 0.014907 kWh. Total GPU Power : 65.06774259526736 W\n",
            "[codecarbon INFO @ 03:30:26] Energy consumed for all CPUs : 0.010274 kWh. Total CPU Power : 42.5 W\n",
            "[codecarbon INFO @ 03:30:26] 0.026328 kWh of electricity used since the beginning.\n",
            "Epoch 12/30 - Training:  60%|██████    | 375/625 [00:38<00:23, 10.82it/s][codecarbon INFO @ 03:30:41] Energy consumed for RAM : 0.001168 kWh. RAM Power : 4.7530388832092285 W\n",
            "[codecarbon INFO @ 03:30:41] Energy consumed for all GPUs : 0.015179 kWh. Total GPU Power : 65.30125096819587 W\n",
            "[codecarbon INFO @ 03:30:41] Energy consumed for all CPUs : 0.010451 kWh. Total CPU Power : 42.5 W\n",
            "[codecarbon INFO @ 03:30:41] 0.026797 kWh of electricity used since the beginning.\n",
            "Epoch 12/30 - Training:  83%|████████▎ | 518/625 [00:53<00:09, 10.71it/s][codecarbon INFO @ 03:30:56] Energy consumed for RAM : 0.001187 kWh. RAM Power : 4.7530388832092285 W\n",
            "[codecarbon INFO @ 03:30:56] Energy consumed for all GPUs : 0.015450 kWh. Total GPU Power : 65.15017493124475 W\n",
            "[codecarbon INFO @ 03:30:56] Energy consumed for all CPUs : 0.010628 kWh. Total CPU Power : 42.5 W\n",
            "[codecarbon INFO @ 03:30:56] 0.027265 kWh of electricity used since the beginning.\n",
            "Epoch 12/30 - Training: 100%|██████████| 625/625 [01:04<00:00,  9.64it/s]\n",
            "Epoch 12/30 - Validation:   0%|          | 0/157 [00:00<?, ?it/s]/usr/local/lib/python3.10/dist-packages/torch/utils/data/dataloader.py:617: UserWarning: This DataLoader will create 4 worker processes in total. Our suggested max number of worker in current system is 2, which is smaller than what this DataLoader is going to create. Please be aware that excessive worker creation might get DataLoader running slow or even freeze, lower the worker number to avoid potential slowness/freeze if necessary.\n",
            "  warnings.warn(\n",
            "Epoch 12/30 - Validation:  37%|███▋      | 58/157 [00:03<00:05, 16.67it/s][codecarbon INFO @ 03:31:11] Energy consumed for RAM : 0.001207 kWh. RAM Power : 4.7530388832092285 W\n",
            "[codecarbon INFO @ 03:31:11] Energy consumed for all GPUs : 0.015704 kWh. Total GPU Power : 60.86306879302008 W\n",
            "[codecarbon INFO @ 03:31:11] Energy consumed for all CPUs : 0.010805 kWh. Total CPU Power : 42.5 W\n",
            "[codecarbon INFO @ 03:31:11] 0.027716 kWh of electricity used since the beginning.\n",
            "Epoch 12/30 - Validation: 100%|██████████| 157/157 [00:11<00:00, 13.77it/s]\n"
          ]
        },
        {
          "output_type": "stream",
          "name": "stdout",
          "text": [
            "Epoch [12/30], Train Loss: 0.4071, Train Accuracy: 86.69%\n",
            "Epoch [12/30], Val Loss: 0.5072, Val Accuracy: 83.30%\n"
          ]
        },
        {
          "output_type": "stream",
          "name": "stderr",
          "text": [
            "Epoch 13/30 - Training:  12%|█▏        | 73/625 [00:07<00:53, 10.25it/s][codecarbon INFO @ 03:31:26] Energy consumed for RAM : 0.001227 kWh. RAM Power : 4.7530388832092285 W\n",
            "[codecarbon INFO @ 03:31:26] Energy consumed for all GPUs : 0.015923 kWh. Total GPU Power : 52.666447776222235 W\n",
            "[codecarbon INFO @ 03:31:26] Energy consumed for all CPUs : 0.010982 kWh. Total CPU Power : 42.5 W\n",
            "[codecarbon INFO @ 03:31:26] 0.028132 kWh of electricity used since the beginning.\n",
            "Epoch 13/30 - Training:  35%|███▌      | 219/625 [00:22<00:36, 11.01it/s][codecarbon INFO @ 03:31:41] Energy consumed for RAM : 0.001247 kWh. RAM Power : 4.7530388832092285 W\n",
            "[codecarbon INFO @ 03:31:41] Energy consumed for all GPUs : 0.016194 kWh. Total GPU Power : 65.04182141691322 W\n",
            "[codecarbon INFO @ 03:31:41] Energy consumed for all CPUs : 0.011159 kWh. Total CPU Power : 42.5 W\n",
            "[codecarbon INFO @ 03:31:41] 0.028600 kWh of electricity used since the beginning.\n",
            "Epoch 13/30 - Training:  59%|█████▊    | 366/625 [00:37<00:25, 10.28it/s][codecarbon INFO @ 03:31:56] Energy consumed for RAM : 0.001267 kWh. RAM Power : 4.7530388832092285 W\n",
            "[codecarbon INFO @ 03:31:56] Energy consumed for all GPUs : 0.016466 kWh. Total GPU Power : 65.29531032661453 W\n",
            "[codecarbon INFO @ 03:31:56] Energy consumed for all CPUs : 0.011336 kWh. Total CPU Power : 42.5 W\n",
            "[codecarbon INFO @ 03:31:56] 0.029069 kWh of electricity used since the beginning.\n",
            "[codecarbon INFO @ 03:31:56] 0.008633 g.CO2eq/s mean an estimation of 272.26512219142813 kg.CO2eq/year\n",
            "Epoch 13/30 - Training:  82%|████████▏ | 512/625 [00:52<00:10, 10.55it/s][codecarbon INFO @ 03:32:11] Energy consumed for RAM : 0.001286 kWh. RAM Power : 4.7530388832092285 W\n",
            "[codecarbon INFO @ 03:32:11] Energy consumed for all GPUs : 0.016738 kWh. Total GPU Power : 65.34541176035009 W\n",
            "[codecarbon INFO @ 03:32:11] Energy consumed for all CPUs : 0.011513 kWh. Total CPU Power : 42.5 W\n",
            "[codecarbon INFO @ 03:32:11] 0.029537 kWh of electricity used since the beginning.\n",
            "Epoch 13/30 - Training: 100%|██████████| 625/625 [01:04<00:00,  9.73it/s]\n",
            "Epoch 13/30 - Validation:   0%|          | 0/157 [00:00<?, ?it/s]/usr/local/lib/python3.10/dist-packages/torch/utils/data/dataloader.py:617: UserWarning: This DataLoader will create 4 worker processes in total. Our suggested max number of worker in current system is 2, which is smaller than what this DataLoader is going to create. Please be aware that excessive worker creation might get DataLoader running slow or even freeze, lower the worker number to avoid potential slowness/freeze if necessary.\n",
            "  warnings.warn(\n",
            "Epoch 13/30 - Validation:  27%|██▋       | 43/157 [00:03<00:07, 15.66it/s][codecarbon INFO @ 03:32:26] Energy consumed for RAM : 0.001306 kWh. RAM Power : 4.7530388832092285 W\n",
            "[codecarbon INFO @ 03:32:26] Energy consumed for all GPUs : 0.016995 kWh. Total GPU Power : 61.729842731288315 W\n",
            "[codecarbon INFO @ 03:32:26] Energy consumed for all CPUs : 0.011690 kWh. Total CPU Power : 42.5 W\n",
            "[codecarbon INFO @ 03:32:26] 0.029991 kWh of electricity used since the beginning.\n",
            "Epoch 13/30 - Validation: 100%|██████████| 157/157 [00:11<00:00, 13.30it/s]\n"
          ]
        },
        {
          "output_type": "stream",
          "name": "stdout",
          "text": [
            "Epoch [13/30], Train Loss: 0.4019, Train Accuracy: 86.75%\n",
            "Epoch [13/30], Val Loss: 0.4712, Val Accuracy: 84.50%\n"
          ]
        },
        {
          "output_type": "stream",
          "name": "stderr",
          "text": [
            "Epoch 14/30 - Training:  10%|▉         | 62/625 [00:06<00:51, 11.01it/s][codecarbon INFO @ 03:32:41] Energy consumed for RAM : 0.001326 kWh. RAM Power : 4.7530388832092285 W\n",
            "[codecarbon INFO @ 03:32:41] Energy consumed for all GPUs : 0.017206 kWh. Total GPU Power : 50.71690738837414 W\n",
            "[codecarbon INFO @ 03:32:41] Energy consumed for all CPUs : 0.011868 kWh. Total CPU Power : 42.5 W\n",
            "[codecarbon INFO @ 03:32:41] 0.030400 kWh of electricity used since the beginning.\n",
            "Epoch 14/30 - Training:  33%|███▎      | 205/625 [00:21<00:40, 10.41it/s][codecarbon INFO @ 03:32:56] Energy consumed for RAM : 0.001346 kWh. RAM Power : 4.7530388832092285 W\n",
            "[codecarbon INFO @ 03:32:56] Energy consumed for all GPUs : 0.017473 kWh. Total GPU Power : 64.02778918860213 W\n",
            "[codecarbon INFO @ 03:32:56] Energy consumed for all CPUs : 0.012045 kWh. Total CPU Power : 42.5 W\n",
            "[codecarbon INFO @ 03:32:56] 0.030864 kWh of electricity used since the beginning.\n",
            "Epoch 14/30 - Training:  56%|█████▌    | 347/625 [00:36<00:26, 10.43it/s][codecarbon INFO @ 03:33:11] Energy consumed for RAM : 0.001366 kWh. RAM Power : 4.7530388832092285 W\n",
            "[codecarbon INFO @ 03:33:11] Energy consumed for all GPUs : 0.017745 kWh. Total GPU Power : 65.33699802397238 W\n",
            "[codecarbon INFO @ 03:33:11] Energy consumed for all CPUs : 0.012222 kWh. Total CPU Power : 42.5 W\n",
            "[codecarbon INFO @ 03:33:11] 0.031333 kWh of electricity used since the beginning.\n",
            "Epoch 14/30 - Training:  79%|███████▊  | 492/625 [00:51<00:12, 10.80it/s][codecarbon INFO @ 03:33:26] Energy consumed for RAM : 0.001385 kWh. RAM Power : 4.7530388832092285 W\n",
            "[codecarbon INFO @ 03:33:26] Energy consumed for all GPUs : 0.018016 kWh. Total GPU Power : 65.13468858043797 W\n",
            "[codecarbon INFO @ 03:33:26] Energy consumed for all CPUs : 0.012399 kWh. Total CPU Power : 42.5 W\n",
            "[codecarbon INFO @ 03:33:26] 0.031801 kWh of electricity used since the beginning.\n",
            "Epoch 14/30 - Training: 100%|██████████| 625/625 [01:05<00:00,  9.56it/s]\n",
            "Epoch 14/30 - Validation:   0%|          | 0/157 [00:00<?, ?it/s]/usr/local/lib/python3.10/dist-packages/torch/utils/data/dataloader.py:617: UserWarning: This DataLoader will create 4 worker processes in total. Our suggested max number of worker in current system is 2, which is smaller than what this DataLoader is going to create. Please be aware that excessive worker creation might get DataLoader running slow or even freeze, lower the worker number to avoid potential slowness/freeze if necessary.\n",
            "  warnings.warn(\n",
            "Epoch 14/30 - Validation:   9%|▉         | 14/157 [00:01<00:10, 14.08it/s][codecarbon INFO @ 03:33:41] Energy consumed for RAM : 0.001405 kWh. RAM Power : 4.7530388832092285 W\n",
            "[codecarbon INFO @ 03:33:41] Energy consumed for all GPUs : 0.018284 kWh. Total GPU Power : 64.15901496774651 W\n",
            "[codecarbon INFO @ 03:33:41] Energy consumed for all CPUs : 0.012576 kWh. Total CPU Power : 42.5 W\n",
            "[codecarbon INFO @ 03:33:41] 0.032265 kWh of electricity used since the beginning.\n",
            "Epoch 14/30 - Validation: 100%|██████████| 157/157 [00:11<00:00, 13.50it/s]\n"
          ]
        },
        {
          "output_type": "stream",
          "name": "stdout",
          "text": [
            "Epoch [14/30], Train Loss: 0.3842, Train Accuracy: 87.37%\n",
            "Epoch [14/30], Val Loss: 0.5226, Val Accuracy: 82.25%\n"
          ]
        },
        {
          "output_type": "stream",
          "name": "stderr",
          "text": [
            "Epoch 15/30 - Training:   7%|▋         | 42/625 [00:04<00:53, 10.81it/s][codecarbon INFO @ 03:33:56] Energy consumed for RAM : 0.001425 kWh. RAM Power : 4.7530388832092285 W\n",
            "[codecarbon INFO @ 03:33:56] Energy consumed for all GPUs : 0.018488 kWh. Total GPU Power : 49.12465161625495 W\n",
            "[codecarbon INFO @ 03:33:56] Energy consumed for all CPUs : 0.012753 kWh. Total CPU Power : 42.5 W\n",
            "[codecarbon INFO @ 03:33:56] 0.032666 kWh of electricity used since the beginning.\n",
            "[codecarbon INFO @ 03:33:56] 0.008554 g.CO2eq/s mean an estimation of 269.7484679406224 kg.CO2eq/year\n",
            "Epoch 15/30 - Training:  30%|██▉       | 186/625 [00:19<00:40, 10.86it/s][codecarbon INFO @ 03:34:11] Energy consumed for RAM : 0.001445 kWh. RAM Power : 4.7530388832092285 W\n",
            "[codecarbon INFO @ 03:34:11] Energy consumed for all GPUs : 0.018757 kWh. Total GPU Power : 64.6337039856221 W\n",
            "[codecarbon INFO @ 03:34:11] Energy consumed for all CPUs : 0.012930 kWh. Total CPU Power : 42.5 W\n",
            "[codecarbon INFO @ 03:34:11] 0.033132 kWh of electricity used since the beginning.\n",
            "Epoch 15/30 - Training:  53%|█████▎    | 330/625 [00:34<00:28, 10.51it/s][codecarbon INFO @ 03:34:26] Energy consumed for RAM : 0.001464 kWh. RAM Power : 4.7530388832092285 W\n",
            "[codecarbon INFO @ 03:34:26] Energy consumed for all GPUs : 0.019030 kWh. Total GPU Power : 65.48281209863804 W\n",
            "[codecarbon INFO @ 03:34:26] Energy consumed for all CPUs : 0.013107 kWh. Total CPU Power : 42.5 W\n",
            "[codecarbon INFO @ 03:34:26] 0.033602 kWh of electricity used since the beginning.\n",
            "Epoch 15/30 - Training:  76%|███████▌  | 475/625 [00:49<00:13, 10.85it/s][codecarbon INFO @ 03:34:41] Energy consumed for RAM : 0.001484 kWh. RAM Power : 4.7530388832092285 W\n",
            "[codecarbon INFO @ 03:34:41] Energy consumed for all GPUs : 0.019300 kWh. Total GPU Power : 64.83143978127117 W\n",
            "[codecarbon INFO @ 03:34:41] Energy consumed for all CPUs : 0.013284 kWh. Total CPU Power : 42.5 W\n",
            "[codecarbon INFO @ 03:34:41] 0.034069 kWh of electricity used since the beginning.\n",
            "Epoch 15/30 - Training:  99%|█████████▉| 619/625 [01:04<00:00, 10.84it/s][codecarbon INFO @ 03:34:56] Energy consumed for RAM : 0.001504 kWh. RAM Power : 4.7530388832092285 W\n",
            "[codecarbon INFO @ 03:34:56] Energy consumed for all GPUs : 0.019571 kWh. Total GPU Power : 64.96694448595352 W\n",
            "[codecarbon INFO @ 03:34:56] Energy consumed for all CPUs : 0.013461 kWh. Total CPU Power : 42.5 W\n",
            "[codecarbon INFO @ 03:34:56] 0.034536 kWh of electricity used since the beginning.\n",
            "Epoch 15/30 - Training: 100%|██████████| 625/625 [01:05<00:00,  9.61it/s]\n",
            "Epoch 15/30 - Validation:   0%|          | 0/157 [00:00<?, ?it/s]/usr/local/lib/python3.10/dist-packages/torch/utils/data/dataloader.py:617: UserWarning: This DataLoader will create 4 worker processes in total. Our suggested max number of worker in current system is 2, which is smaller than what this DataLoader is going to create. Please be aware that excessive worker creation might get DataLoader running slow or even freeze, lower the worker number to avoid potential slowness/freeze if necessary.\n",
            "  warnings.warn(\n",
            "Epoch 15/30 - Validation: 100%|██████████| 157/157 [00:11<00:00, 13.23it/s]\n"
          ]
        },
        {
          "output_type": "stream",
          "name": "stdout",
          "text": [
            "Epoch [15/30], Train Loss: 0.3751, Train Accuracy: 87.61%\n",
            "Epoch [15/30], Val Loss: 0.4637, Val Accuracy: 85.06%\n"
          ]
        },
        {
          "output_type": "stream",
          "name": "stderr",
          "text": [
            "Epoch 16/30 - Training:   4%|▎         | 22/625 [00:02<00:57, 10.53it/s][codecarbon INFO @ 03:35:11] Energy consumed for RAM : 0.001524 kWh. RAM Power : 4.7530388832092285 W\n",
            "[codecarbon INFO @ 03:35:11] Energy consumed for all GPUs : 0.019768 kWh. Total GPU Power : 47.2297387549534 W\n",
            "[codecarbon INFO @ 03:35:11] Energy consumed for all CPUs : 0.013639 kWh. Total CPU Power : 42.5 W\n",
            "[codecarbon INFO @ 03:35:11] 0.034930 kWh of electricity used since the beginning.\n",
            "Epoch 16/30 - Training:  26%|██▋       | 165/625 [00:17<00:42, 10.76it/s][codecarbon INFO @ 03:35:26] Energy consumed for RAM : 0.001544 kWh. RAM Power : 4.7530388832092285 W\n",
            "[codecarbon INFO @ 03:35:26] Energy consumed for all GPUs : 0.020038 kWh. Total GPU Power : 64.79891305736395 W\n",
            "[codecarbon INFO @ 03:35:26] Energy consumed for all CPUs : 0.013816 kWh. Total CPU Power : 42.5 W\n",
            "[codecarbon INFO @ 03:35:26] 0.035397 kWh of electricity used since the beginning.\n",
            "Epoch 16/30 - Training:  49%|████▉     | 309/625 [00:32<00:29, 10.85it/s][codecarbon INFO @ 03:35:41] Energy consumed for RAM : 0.001563 kWh. RAM Power : 4.7530388832092285 W\n",
            "[codecarbon INFO @ 03:35:41] Energy consumed for all GPUs : 0.020310 kWh. Total GPU Power : 65.44802967990415 W\n",
            "[codecarbon INFO @ 03:35:41] Energy consumed for all CPUs : 0.013993 kWh. Total CPU Power : 42.5 W\n",
            "[codecarbon INFO @ 03:35:41] 0.035866 kWh of electricity used since the beginning.\n",
            "Epoch 16/30 - Training:  72%|███████▏  | 453/625 [00:47<00:15, 10.86it/s][codecarbon INFO @ 03:35:56] Energy consumed for RAM : 0.001583 kWh. RAM Power : 4.7530388832092285 W\n",
            "[codecarbon INFO @ 03:35:56] Energy consumed for all GPUs : 0.020584 kWh. Total GPU Power : 65.70686331359707 W\n",
            "[codecarbon INFO @ 03:35:56] Energy consumed for all CPUs : 0.014170 kWh. Total CPU Power : 42.5 W\n",
            "[codecarbon INFO @ 03:35:56] 0.036337 kWh of electricity used since the beginning.\n",
            "[codecarbon INFO @ 03:35:56] 0.008727 g.CO2eq/s mean an estimation of 275.2239615433167 kg.CO2eq/year\n",
            "Epoch 16/30 - Training:  95%|█████████▌| 596/625 [01:02<00:02, 10.56it/s][codecarbon INFO @ 03:36:11] Energy consumed for RAM : 0.001603 kWh. RAM Power : 4.7530388832092285 W\n",
            "[codecarbon INFO @ 03:36:11] Energy consumed for all GPUs : 0.020853 kWh. Total GPU Power : 64.65294555962714 W\n",
            "[codecarbon INFO @ 03:36:11] Energy consumed for all CPUs : 0.014347 kWh. Total CPU Power : 42.5 W\n",
            "[codecarbon INFO @ 03:36:11] 0.036803 kWh of electricity used since the beginning.\n",
            "Epoch 16/30 - Training: 100%|██████████| 625/625 [01:05<00:00,  9.50it/s]\n",
            "Epoch 16/30 - Validation:   0%|          | 0/157 [00:00<?, ?it/s]/usr/local/lib/python3.10/dist-packages/torch/utils/data/dataloader.py:617: UserWarning: This DataLoader will create 4 worker processes in total. Our suggested max number of worker in current system is 2, which is smaller than what this DataLoader is going to create. Please be aware that excessive worker creation might get DataLoader running slow or even freeze, lower the worker number to avoid potential slowness/freeze if necessary.\n",
            "  warnings.warn(\n",
            "Epoch 16/30 - Validation: 100%|██████████| 157/157 [00:11<00:00, 14.05it/s]\n"
          ]
        },
        {
          "output_type": "stream",
          "name": "stdout",
          "text": [
            "Epoch [16/30], Train Loss: 0.3691, Train Accuracy: 87.82%\n",
            "Epoch [16/30], Val Loss: 0.5192, Val Accuracy: 83.15%\n"
          ]
        },
        {
          "output_type": "stream",
          "name": "stderr",
          "text": [
            "Epoch 17/30 - Training:   0%|          | 2/625 [00:00<03:05,  3.36it/s][codecarbon INFO @ 03:36:26] Energy consumed for RAM : 0.001623 kWh. RAM Power : 4.7530388832092285 W\n",
            "[codecarbon INFO @ 03:36:26] Energy consumed for all GPUs : 0.021052 kWh. Total GPU Power : 47.91255923639069 W\n",
            "[codecarbon INFO @ 03:36:26] Energy consumed for all CPUs : 0.014524 kWh. Total CPU Power : 42.5 W\n",
            "[codecarbon INFO @ 03:36:26] 0.037200 kWh of electricity used since the beginning.\n",
            "Epoch 17/30 - Training:  23%|██▎       | 143/625 [00:15<00:45, 10.66it/s][codecarbon INFO @ 03:36:41] Energy consumed for RAM : 0.001643 kWh. RAM Power : 4.7530388832092285 W\n",
            "[codecarbon INFO @ 03:36:41] Energy consumed for all GPUs : 0.021318 kWh. Total GPU Power : 63.83164422141581 W\n",
            "Epoch 17/30 - Training:  23%|██▎       | 145/625 [00:15<00:45, 10.45it/s][codecarbon INFO @ 03:36:41] Energy consumed for all CPUs : 0.014701 kWh. Total CPU Power : 42.5 W\n",
            "[codecarbon INFO @ 03:36:41] 0.037662 kWh of electricity used since the beginning.\n",
            "Epoch 17/30 - Training:  47%|████▋     | 291/625 [00:30<00:31, 10.63it/s][codecarbon INFO @ 03:36:56] Energy consumed for RAM : 0.001662 kWh. RAM Power : 4.7530388832092285 W\n",
            "[codecarbon INFO @ 03:36:56] Energy consumed for all GPUs : 0.021590 kWh. Total GPU Power : 65.19971358110199 W\n",
            "[codecarbon INFO @ 03:36:56] Energy consumed for all CPUs : 0.014879 kWh. Total CPU Power : 42.5 W\n",
            "[codecarbon INFO @ 03:36:56] 0.038131 kWh of electricity used since the beginning.\n",
            "Epoch 17/30 - Training:  70%|██████▉   | 435/625 [00:45<00:17, 10.71it/s][codecarbon INFO @ 03:37:12] Energy consumed for RAM : 0.001682 kWh. RAM Power : 4.7530388832092285 W\n",
            "[codecarbon INFO @ 03:37:12] Energy consumed for all GPUs : 0.021863 kWh. Total GPU Power : 65.48333532961362 W\n",
            "[codecarbon INFO @ 03:37:12] Energy consumed for all CPUs : 0.015056 kWh. Total CPU Power : 42.5 W\n",
            "[codecarbon INFO @ 03:37:12] 0.038602 kWh of electricity used since the beginning.\n",
            "Epoch 17/30 - Training:  93%|█████████▎| 580/625 [01:00<00:04, 10.37it/s][codecarbon INFO @ 03:37:27] Energy consumed for RAM : 0.001702 kWh. RAM Power : 4.7530388832092285 W\n",
            "[codecarbon INFO @ 03:37:27] Energy consumed for all GPUs : 0.022135 kWh. Total GPU Power : 65.1677836611497 W\n",
            "[codecarbon INFO @ 03:37:27] Energy consumed for all CPUs : 0.015233 kWh. Total CPU Power : 42.5 W\n",
            "[codecarbon INFO @ 03:37:27] 0.039070 kWh of electricity used since the beginning.\n",
            "Epoch 17/30 - Training: 100%|██████████| 625/625 [01:06<00:00,  9.47it/s]\n",
            "Epoch 17/30 - Validation:   0%|          | 0/157 [00:00<?, ?it/s]/usr/local/lib/python3.10/dist-packages/torch/utils/data/dataloader.py:617: UserWarning: This DataLoader will create 4 worker processes in total. Our suggested max number of worker in current system is 2, which is smaller than what this DataLoader is going to create. Please be aware that excessive worker creation might get DataLoader running slow or even freeze, lower the worker number to avoid potential slowness/freeze if necessary.\n",
            "  warnings.warn(\n",
            "Epoch 17/30 - Validation:  95%|█████████▍| 149/157 [00:09<00:00, 14.63it/s][codecarbon INFO @ 03:37:42] Energy consumed for RAM : 0.001722 kWh. RAM Power : 4.7530388832092285 W\n",
            "[codecarbon INFO @ 03:37:42] Energy consumed for all GPUs : 0.022350 kWh. Total GPU Power : 51.72925853018872 W\n",
            "[codecarbon INFO @ 03:37:42] Energy consumed for all CPUs : 0.015410 kWh. Total CPU Power : 42.5 W\n",
            "[codecarbon INFO @ 03:37:42] 0.039482 kWh of electricity used since the beginning.\n",
            "Epoch 17/30 - Validation: 100%|██████████| 157/157 [00:10<00:00, 15.54it/s]\n"
          ]
        },
        {
          "output_type": "stream",
          "name": "stdout",
          "text": [
            "Epoch [17/30], Train Loss: 0.3576, Train Accuracy: 88.30%\n",
            "Epoch [17/30], Val Loss: 0.4311, Val Accuracy: 85.80%\n"
          ]
        },
        {
          "output_type": "stream",
          "name": "stderr",
          "text": [
            "Epoch 18/30 - Training:  21%|██▏       | 134/625 [00:14<00:45, 10.90it/s][codecarbon INFO @ 03:37:57] Energy consumed for RAM : 0.001742 kWh. RAM Power : 4.7530388832092285 W\n",
            "Epoch 18/30 - Training:  22%|██▏       | 136/625 [00:14<00:44, 10.87it/s][codecarbon INFO @ 03:37:57] Energy consumed for all GPUs : 0.022607 kWh. Total GPU Power : 61.65528946133387 W\n",
            "[codecarbon INFO @ 03:37:57] Energy consumed for all CPUs : 0.015587 kWh. Total CPU Power : 42.5 W\n",
            "[codecarbon INFO @ 03:37:57] 0.039936 kWh of electricity used since the beginning.\n",
            "[codecarbon INFO @ 03:37:57] 0.008554 g.CO2eq/s mean an estimation of 269.74709396725285 kg.CO2eq/year\n",
            "Epoch 18/30 - Training:  45%|████▍     | 279/625 [00:29<00:32, 10.76it/s][codecarbon INFO @ 03:38:12] Energy consumed for RAM : 0.001761 kWh. RAM Power : 4.7530388832092285 W\n",
            "[codecarbon INFO @ 03:38:12] Energy consumed for all GPUs : 0.022877 kWh. Total GPU Power : 65.0331314104295 W\n",
            "[codecarbon INFO @ 03:38:12] Energy consumed for all CPUs : 0.015764 kWh. Total CPU Power : 42.5 W\n",
            "[codecarbon INFO @ 03:38:12] 0.040403 kWh of electricity used since the beginning.\n",
            "Epoch 18/30 - Training:  68%|██████▊   | 422/625 [00:44<00:19, 10.37it/s][codecarbon INFO @ 03:38:27] Energy consumed for RAM : 0.001781 kWh. RAM Power : 4.7530388832092285 W\n",
            "[codecarbon INFO @ 03:38:27] Energy consumed for all GPUs : 0.023149 kWh. Total GPU Power : 64.98941154965237 W\n",
            "[codecarbon INFO @ 03:38:27] Energy consumed for all CPUs : 0.015942 kWh. Total CPU Power : 42.5 W\n",
            "[codecarbon INFO @ 03:38:27] 0.040871 kWh of electricity used since the beginning.\n",
            "Epoch 18/30 - Training:  91%|█████████ | 567/625 [00:59<00:05, 10.81it/s][codecarbon INFO @ 03:38:42] Energy consumed for RAM : 0.001801 kWh. RAM Power : 4.7530388832092285 W\n",
            "[codecarbon INFO @ 03:38:42] Energy consumed for all GPUs : 0.023421 kWh. Total GPU Power : 65.37156571814293 W\n",
            "[codecarbon INFO @ 03:38:42] Energy consumed for all CPUs : 0.016119 kWh. Total CPU Power : 42.5 W\n",
            "[codecarbon INFO @ 03:38:42] 0.041341 kWh of electricity used since the beginning.\n",
            "Epoch 18/30 - Training: 100%|██████████| 625/625 [01:06<00:00,  9.39it/s]\n",
            "Epoch 18/30 - Validation:   0%|          | 0/157 [00:00<?, ?it/s]/usr/local/lib/python3.10/dist-packages/torch/utils/data/dataloader.py:617: UserWarning: This DataLoader will create 4 worker processes in total. Our suggested max number of worker in current system is 2, which is smaller than what this DataLoader is going to create. Please be aware that excessive worker creation might get DataLoader running slow or even freeze, lower the worker number to avoid potential slowness/freeze if necessary.\n",
            "  warnings.warn(\n",
            "Epoch 18/30 - Validation:  82%|████████▏ | 129/157 [00:08<00:01, 18.39it/s][codecarbon INFO @ 03:38:57] Energy consumed for RAM : 0.001821 kWh. RAM Power : 4.7530388832092285 W\n",
            "[codecarbon INFO @ 03:38:57] Energy consumed for all GPUs : 0.023646 kWh. Total GPU Power : 53.94647746103742 W\n",
            "[codecarbon INFO @ 03:38:57] Energy consumed for all CPUs : 0.016296 kWh. Total CPU Power : 42.5 W\n",
            "[codecarbon INFO @ 03:38:57] 0.041762 kWh of electricity used since the beginning.\n",
            "Epoch 18/30 - Validation: 100%|██████████| 157/157 [00:10<00:00, 15.53it/s]\n"
          ]
        },
        {
          "output_type": "stream",
          "name": "stdout",
          "text": [
            "Epoch [18/30], Train Loss: 0.3454, Train Accuracy: 88.67%\n",
            "Epoch [18/30], Val Loss: 0.4359, Val Accuracy: 85.59%\n"
          ]
        },
        {
          "output_type": "stream",
          "name": "stderr",
          "text": [
            "Epoch 19/30 - Training:  19%|█▉        | 121/625 [00:13<00:47, 10.63it/s][codecarbon INFO @ 03:39:12] Energy consumed for RAM : 0.001841 kWh. RAM Power : 4.7530388832092285 W\n",
            "[codecarbon INFO @ 03:39:12] Energy consumed for all GPUs : 0.023894 kWh. Total GPU Power : 59.527888602141374 W\n",
            "[codecarbon INFO @ 03:39:12] Energy consumed for all CPUs : 0.016473 kWh. Total CPU Power : 42.5 W\n",
            "[codecarbon INFO @ 03:39:12] 0.042208 kWh of electricity used since the beginning.\n",
            "Epoch 19/30 - Training:  42%|████▏     | 264/625 [00:28<00:34, 10.58it/s][codecarbon INFO @ 03:39:27] Energy consumed for RAM : 0.001860 kWh. RAM Power : 4.7530388832092285 W\n",
            "[codecarbon INFO @ 03:39:27] Energy consumed for all GPUs : 0.024163 kWh. Total GPU Power : 64.71909308149459 W\n",
            "[codecarbon INFO @ 03:39:27] Energy consumed for all CPUs : 0.016651 kWh. Total CPU Power : 42.5 W\n",
            "[codecarbon INFO @ 03:39:27] 0.042675 kWh of electricity used since the beginning.\n",
            "Epoch 19/30 - Training:  65%|██████▌   | 407/625 [00:43<00:20, 10.62it/s][codecarbon INFO @ 03:39:42] Energy consumed for RAM : 0.001880 kWh. RAM Power : 4.7530388832092285 W\n",
            "[codecarbon INFO @ 03:39:42] Energy consumed for all GPUs : 0.024436 kWh. Total GPU Power : 65.69475272949063 W\n",
            "[codecarbon INFO @ 03:39:42] Energy consumed for all CPUs : 0.016828 kWh. Total CPU Power : 42.5 W\n",
            "Epoch 19/30 - Training:  65%|██████▌   | 409/625 [00:43<00:20, 10.52it/s][codecarbon INFO @ 03:39:42] 0.043144 kWh of electricity used since the beginning.\n",
            "Epoch 19/30 - Training:  88%|████████▊ | 553/625 [00:58<00:06, 10.50it/s][codecarbon INFO @ 03:39:57] Energy consumed for RAM : 0.001900 kWh. RAM Power : 4.7530388832092285 W\n",
            "[codecarbon INFO @ 03:39:57] Energy consumed for all GPUs : 0.024708 kWh. Total GPU Power : 65.33153641432409 W\n",
            "[codecarbon INFO @ 03:39:57] Energy consumed for all CPUs : 0.017004 kWh. Total CPU Power : 42.5 W\n",
            "[codecarbon INFO @ 03:39:57] 0.043612 kWh of electricity used since the beginning.\n",
            "[codecarbon INFO @ 03:39:57] 0.008741 g.CO2eq/s mean an estimation of 275.65509158856514 kg.CO2eq/year\n",
            "Epoch 19/30 - Training: 100%|██████████| 625/625 [01:06<00:00,  9.41it/s]\n",
            "Epoch 19/30 - Validation:   0%|          | 0/157 [00:00<?, ?it/s]/usr/local/lib/python3.10/dist-packages/torch/utils/data/dataloader.py:617: UserWarning: This DataLoader will create 4 worker processes in total. Our suggested max number of worker in current system is 2, which is smaller than what this DataLoader is going to create. Please be aware that excessive worker creation might get DataLoader running slow or even freeze, lower the worker number to avoid potential slowness/freeze if necessary.\n",
            "  warnings.warn(\n",
            "Epoch 19/30 - Validation:  64%|██████▍   | 101/157 [00:06<00:03, 14.85it/s][codecarbon INFO @ 03:40:12] Energy consumed for RAM : 0.001920 kWh. RAM Power : 4.7530388832092285 W\n",
            "[codecarbon INFO @ 03:40:12] Energy consumed for all GPUs : 0.024942 kWh. Total GPU Power : 56.16036855773873 W\n",
            "[codecarbon INFO @ 03:40:12] Energy consumed for all CPUs : 0.017182 kWh. Total CPU Power : 42.5 W\n",
            "[codecarbon INFO @ 03:40:12] 0.044043 kWh of electricity used since the beginning.\n",
            "Epoch 19/30 - Validation: 100%|██████████| 157/157 [00:11<00:00, 14.26it/s]\n"
          ]
        },
        {
          "output_type": "stream",
          "name": "stdout",
          "text": [
            "Epoch [19/30], Train Loss: 0.3405, Train Accuracy: 88.96%\n",
            "Epoch [19/30], Val Loss: 0.4333, Val Accuracy: 85.73%\n"
          ]
        },
        {
          "output_type": "stream",
          "name": "stderr",
          "text": [
            "Epoch 20/30 - Training:  17%|█▋        | 106/625 [00:10<00:55,  9.43it/s][codecarbon INFO @ 03:40:27] Energy consumed for RAM : 0.001939 kWh. RAM Power : 4.7530388832092285 W\n",
            "[codecarbon INFO @ 03:40:27] Energy consumed for all GPUs : 0.025180 kWh. Total GPU Power : 57.020273068325785 W\n",
            "[codecarbon INFO @ 03:40:27] Energy consumed for all CPUs : 0.017359 kWh. Total CPU Power : 42.5 W\n",
            "[codecarbon INFO @ 03:40:27] 0.044478 kWh of electricity used since the beginning.\n",
            "Epoch 20/30 - Training:  40%|████      | 250/625 [00:25<00:35, 10.45it/s][codecarbon INFO @ 03:40:42] Energy consumed for RAM : 0.001959 kWh. RAM Power : 4.7530388832092285 W\n",
            "[codecarbon INFO @ 03:40:42] Energy consumed for all GPUs : 0.025453 kWh. Total GPU Power : 65.52828294107155 W\n",
            "[codecarbon INFO @ 03:40:42] Energy consumed for all CPUs : 0.017536 kWh. Total CPU Power : 42.5 W\n",
            "[codecarbon INFO @ 03:40:42] 0.044948 kWh of electricity used since the beginning.\n",
            "Epoch 20/30 - Training:  63%|██████▎   | 394/625 [00:40<00:21, 10.77it/s][codecarbon INFO @ 03:40:57] Energy consumed for RAM : 0.001979 kWh. RAM Power : 4.7530388832092285 W\n",
            "[codecarbon INFO @ 03:40:57] Energy consumed for all GPUs : 0.025724 kWh. Total GPU Power : 65.18215684148927 W\n",
            "[codecarbon INFO @ 03:40:57] Energy consumed for all CPUs : 0.017713 kWh. Total CPU Power : 42.5 W\n",
            "[codecarbon INFO @ 03:40:57] 0.045416 kWh of electricity used since the beginning.\n",
            "Epoch 20/30 - Training:  86%|████████▌ | 538/625 [00:55<00:08, 10.79it/s][codecarbon INFO @ 03:41:12] Energy consumed for RAM : 0.001999 kWh. RAM Power : 4.7530388832092285 W\n",
            "[codecarbon INFO @ 03:41:12] Energy consumed for all GPUs : 0.025996 kWh. Total GPU Power : 65.2989966304696 W\n",
            "[codecarbon INFO @ 03:41:12] Energy consumed for all CPUs : 0.017890 kWh. Total CPU Power : 42.5 W\n",
            "[codecarbon INFO @ 03:41:12] 0.045885 kWh of electricity used since the beginning.\n",
            "Epoch 20/30 - Training: 100%|██████████| 625/625 [01:05<00:00,  9.56it/s]\n",
            "Epoch 20/30 - Validation:   0%|          | 0/157 [00:00<?, ?it/s]/usr/local/lib/python3.10/dist-packages/torch/utils/data/dataloader.py:617: UserWarning: This DataLoader will create 4 worker processes in total. Our suggested max number of worker in current system is 2, which is smaller than what this DataLoader is going to create. Please be aware that excessive worker creation might get DataLoader running slow or even freeze, lower the worker number to avoid potential slowness/freeze if necessary.\n",
            "  warnings.warn(\n",
            "Epoch 20/30 - Validation:  52%|█████▏    | 81/157 [00:05<00:04, 16.32it/s][codecarbon INFO @ 03:41:27] Energy consumed for RAM : 0.002019 kWh. RAM Power : 4.7530388832092285 W\n",
            "[codecarbon INFO @ 03:41:27] Energy consumed for all GPUs : 0.026236 kWh. Total GPU Power : 57.56285577649886 W\n",
            "[codecarbon INFO @ 03:41:27] Energy consumed for all CPUs : 0.018067 kWh. Total CPU Power : 42.5 W\n",
            "[codecarbon INFO @ 03:41:27] 0.046322 kWh of electricity used since the beginning.\n",
            "Epoch 20/30 - Validation: 100%|██████████| 157/157 [00:11<00:00, 13.13it/s]\n"
          ]
        },
        {
          "output_type": "stream",
          "name": "stdout",
          "text": [
            "Epoch [20/30], Train Loss: 0.3304, Train Accuracy: 89.05%\n",
            "Epoch [20/30], Val Loss: 0.4531, Val Accuracy: 85.11%\n"
          ]
        },
        {
          "output_type": "stream",
          "name": "stderr",
          "text": [
            "Epoch 21/30 - Training:  13%|█▎        | 84/625 [00:08<00:50, 10.74it/s][codecarbon INFO @ 03:41:42] Energy consumed for RAM : 0.002038 kWh. RAM Power : 4.7530388832092285 W\n",
            "[codecarbon INFO @ 03:41:42] Energy consumed for all GPUs : 0.026461 kWh. Total GPU Power : 54.073386681621265 W\n",
            "[codecarbon INFO @ 03:41:42] Energy consumed for all CPUs : 0.018244 kWh. Total CPU Power : 42.5 W\n",
            "[codecarbon INFO @ 03:41:42] 0.046743 kWh of electricity used since the beginning.\n",
            "Epoch 21/30 - Training:  35%|███▌      | 221/625 [00:23<00:39, 10.22it/s][codecarbon INFO @ 03:41:57] Energy consumed for RAM : 0.002058 kWh. RAM Power : 4.7530388832092285 W\n",
            "[codecarbon INFO @ 03:41:57] Energy consumed for all GPUs : 0.026725 kWh. Total GPU Power : 63.324516668957735 W\n",
            "[codecarbon INFO @ 03:41:57] Energy consumed for all CPUs : 0.018421 kWh. Total CPU Power : 42.5 W\n",
            "[codecarbon INFO @ 03:41:57] 0.047204 kWh of electricity used since the beginning.\n",
            "[codecarbon INFO @ 03:41:57] 0.008539 g.CO2eq/s mean an estimation of 269.27322366384783 kg.CO2eq/year\n",
            "Epoch 21/30 - Training:  58%|█████▊    | 364/625 [00:38<00:24, 10.76it/s][codecarbon INFO @ 03:42:12] Energy consumed for RAM : 0.002078 kWh. RAM Power : 4.7530388832092285 W\n",
            "[codecarbon INFO @ 03:42:12] Energy consumed for all GPUs : 0.026996 kWh. Total GPU Power : 65.13284996493653 W\n",
            "[codecarbon INFO @ 03:42:12] Energy consumed for all CPUs : 0.018599 kWh. Total CPU Power : 42.5 W\n",
            "[codecarbon INFO @ 03:42:12] 0.047673 kWh of electricity used since the beginning.\n",
            "Epoch 21/30 - Training:  81%|████████▏ | 508/625 [00:53<00:11, 10.52it/s][codecarbon INFO @ 03:42:27] Energy consumed for RAM : 0.002098 kWh. RAM Power : 4.7530388832092285 W\n",
            "Epoch 21/30 - Training:  82%|████████▏ | 510/625 [00:53<00:11, 10.05it/s][codecarbon INFO @ 03:42:27] Energy consumed for all GPUs : 0.027269 kWh. Total GPU Power : 65.41178529218638 W\n",
            "[codecarbon INFO @ 03:42:27] Energy consumed for all CPUs : 0.018776 kWh. Total CPU Power : 42.5 W\n",
            "[codecarbon INFO @ 03:42:27] 0.048143 kWh of electricity used since the beginning.\n",
            "Epoch 21/30 - Training: 100%|██████████| 625/625 [01:05<00:00,  9.49it/s]\n",
            "Epoch 21/30 - Validation:   0%|          | 0/157 [00:00<?, ?it/s]/usr/local/lib/python3.10/dist-packages/torch/utils/data/dataloader.py:617: UserWarning: This DataLoader will create 4 worker processes in total. Our suggested max number of worker in current system is 2, which is smaller than what this DataLoader is going to create. Please be aware that excessive worker creation might get DataLoader running slow or even freeze, lower the worker number to avoid potential slowness/freeze if necessary.\n",
            "  warnings.warn(\n",
            "Epoch 21/30 - Validation:  18%|█▊        | 29/157 [00:02<00:13,  9.66it/s][codecarbon INFO @ 03:42:42] Energy consumed for RAM : 0.002118 kWh. RAM Power : 4.7530388832092285 W\n",
            "[codecarbon INFO @ 03:42:42] Energy consumed for all GPUs : 0.027524 kWh. Total GPU Power : 61.504047829398594 W\n",
            "[codecarbon INFO @ 03:42:42] Energy consumed for all CPUs : 0.018953 kWh. Total CPU Power : 42.5 W\n",
            "[codecarbon INFO @ 03:42:42] 0.048594 kWh of electricity used since the beginning.\n",
            "Epoch 21/30 - Validation: 100%|██████████| 157/157 [00:12<00:00, 12.53it/s]\n"
          ]
        },
        {
          "output_type": "stream",
          "name": "stdout",
          "text": [
            "Epoch [21/30], Train Loss: 0.3319, Train Accuracy: 89.20%\n",
            "Epoch [21/30], Val Loss: 0.4934, Val Accuracy: 83.88%\n"
          ]
        },
        {
          "output_type": "stream",
          "name": "stderr",
          "text": [
            "Epoch 22/30 - Training:   7%|▋         | 41/625 [00:05<01:07,  8.67it/s][codecarbon INFO @ 03:42:57] Energy consumed for RAM : 0.002137 kWh. RAM Power : 4.7530388832092285 W\n",
            "[codecarbon INFO @ 03:42:57] Energy consumed for all GPUs : 0.027723 kWh. Total GPU Power : 47.70384519963036 W\n",
            "[codecarbon INFO @ 03:42:57] Energy consumed for all CPUs : 0.019130 kWh. Total CPU Power : 42.5 W\n",
            "[codecarbon INFO @ 03:42:57] 0.048991 kWh of electricity used since the beginning.\n",
            "Epoch 22/30 - Training:  29%|██▉       | 184/625 [00:20<00:46,  9.43it/s][codecarbon INFO @ 03:43:12] Energy consumed for RAM : 0.002157 kWh. RAM Power : 4.7530388832092285 W\n",
            "[codecarbon INFO @ 03:43:12] Energy consumed for all GPUs : 0.027992 kWh. Total GPU Power : 64.5219096260384 W\n",
            "[codecarbon INFO @ 03:43:12] Energy consumed for all CPUs : 0.019307 kWh. Total CPU Power : 42.5 W\n",
            "[codecarbon INFO @ 03:43:12] 0.049456 kWh of electricity used since the beginning.\n",
            "Epoch 22/30 - Training:  52%|█████▏    | 327/625 [00:35<00:29, 10.02it/s][codecarbon INFO @ 03:43:27] Energy consumed for RAM : 0.002177 kWh. RAM Power : 4.7530388832092285 W\n",
            "[codecarbon INFO @ 03:43:27] Energy consumed for all GPUs : 0.028265 kWh. Total GPU Power : 65.72915332877835 W\n",
            "[codecarbon INFO @ 03:43:27] Energy consumed for all CPUs : 0.019484 kWh. Total CPU Power : 42.5 W\n",
            "[codecarbon INFO @ 03:43:27] 0.049926 kWh of electricity used since the beginning.\n",
            "Epoch 22/30 - Training:  76%|███████▌  | 472/625 [00:50<00:15,  9.84it/s][codecarbon INFO @ 03:43:42] Energy consumed for RAM : 0.002197 kWh. RAM Power : 4.7530388832092285 W\n",
            "[codecarbon INFO @ 03:43:42] Energy consumed for all GPUs : 0.028538 kWh. Total GPU Power : 65.59480731741469 W\n",
            "[codecarbon INFO @ 03:43:42] Energy consumed for all CPUs : 0.019661 kWh. Total CPU Power : 42.5 W\n",
            "[codecarbon INFO @ 03:43:42] 0.050396 kWh of electricity used since the beginning.\n",
            "Epoch 22/30 - Training:  99%|█████████▊| 616/625 [01:05<00:00, 10.13it/s][codecarbon INFO @ 03:43:57] Energy consumed for RAM : 0.002216 kWh. RAM Power : 4.7530388832092285 W\n",
            "[codecarbon INFO @ 03:43:57] Energy consumed for all GPUs : 0.028808 kWh. Total GPU Power : 64.5906184130278 W\n",
            "[codecarbon INFO @ 03:43:57] Energy consumed for all CPUs : 0.019839 kWh. Total CPU Power : 42.5 W\n",
            "[codecarbon INFO @ 03:43:57] 0.050863 kWh of electricity used since the beginning.\n",
            "[codecarbon INFO @ 03:43:57] 0.008692 g.CO2eq/s mean an estimation of 274.1143140724628 kg.CO2eq/year\n",
            "Epoch 22/30 - Training: 100%|██████████| 625/625 [01:06<00:00,  9.44it/s]\n",
            "Epoch 22/30 - Validation:   0%|          | 0/157 [00:00<?, ?it/s]/usr/local/lib/python3.10/dist-packages/torch/utils/data/dataloader.py:617: UserWarning: This DataLoader will create 4 worker processes in total. Our suggested max number of worker in current system is 2, which is smaller than what this DataLoader is going to create. Please be aware that excessive worker creation might get DataLoader running slow or even freeze, lower the worker number to avoid potential slowness/freeze if necessary.\n",
            "  warnings.warn(\n",
            "Epoch 22/30 - Validation: 100%|██████████| 157/157 [00:12<00:00, 13.07it/s]\n"
          ]
        },
        {
          "output_type": "stream",
          "name": "stdout",
          "text": [
            "Epoch [22/30], Train Loss: 0.1944, Train Accuracy: 93.44%\n",
            "Epoch [22/30], Val Loss: 0.3408, Val Accuracy: 89.04%\n"
          ]
        },
        {
          "output_type": "stream",
          "name": "stderr",
          "text": [
            "Epoch 23/30 - Training:   1%|          | 6/625 [00:01<03:28,  2.97it/s][codecarbon INFO @ 03:44:12] Energy consumed for RAM : 0.002236 kWh. RAM Power : 4.7530388832092285 W\n",
            "[codecarbon INFO @ 03:44:12] Energy consumed for all GPUs : 0.028994 kWh. Total GPU Power : 44.85753781476077 W\n",
            "[codecarbon INFO @ 03:44:12] Energy consumed for all CPUs : 0.020016 kWh. Total CPU Power : 42.5 W\n",
            "[codecarbon INFO @ 03:44:12] 0.051246 kWh of electricity used since the beginning.\n",
            "Epoch 23/30 - Training:  24%|██▍       | 149/625 [00:16<01:00,  7.85it/s][codecarbon INFO @ 03:44:27] Energy consumed for RAM : 0.002257 kWh. RAM Power : 4.7530388832092285 W\n",
            "[codecarbon INFO @ 03:44:27] Energy consumed for all GPUs : 0.029266 kWh. Total GPU Power : 63.77114333381943 W\n",
            "[codecarbon INFO @ 03:44:27] Energy consumed for all CPUs : 0.020197 kWh. Total CPU Power : 42.5 W\n",
            "[codecarbon INFO @ 03:44:27] 0.051720 kWh of electricity used since the beginning.\n",
            "Epoch 23/30 - Training:  47%|████▋     | 293/625 [00:32<00:44,  7.49it/s][codecarbon INFO @ 03:44:42] Energy consumed for RAM : 0.002276 kWh. RAM Power : 4.7530388832092285 W\n",
            "[codecarbon INFO @ 03:44:42] Energy consumed for all GPUs : 0.029538 kWh. Total GPU Power : 65.36221569206499 W\n",
            "[codecarbon INFO @ 03:44:42] Energy consumed for all CPUs : 0.020374 kWh. Total CPU Power : 42.5 W\n",
            "[codecarbon INFO @ 03:44:42] 0.052189 kWh of electricity used since the beginning.\n",
            "Epoch 23/30 - Training:  70%|███████   | 438/625 [00:47<00:22,  8.28it/s][codecarbon INFO @ 03:44:57] Energy consumed for RAM : 0.002296 kWh. RAM Power : 4.7530388832092285 W\n",
            "[codecarbon INFO @ 03:44:57] Energy consumed for all GPUs : 0.029810 kWh. Total GPU Power : 65.36360481334926 W\n",
            "[codecarbon INFO @ 03:44:57] Energy consumed for all CPUs : 0.020551 kWh. Total CPU Power : 42.5 W\n",
            "[codecarbon INFO @ 03:44:57] 0.052658 kWh of electricity used since the beginning.\n",
            "Epoch 23/30 - Training:  93%|█████████▎| 583/625 [01:02<00:05,  7.42it/s][codecarbon INFO @ 03:45:12] Energy consumed for RAM : 0.002316 kWh. RAM Power : 4.7530388832092285 W\n",
            "[codecarbon INFO @ 03:45:12] Energy consumed for all GPUs : 0.030082 kWh. Total GPU Power : 65.25294640617146 W\n",
            "[codecarbon INFO @ 03:45:12] Energy consumed for all CPUs : 0.020728 kWh. Total CPU Power : 42.5 W\n",
            "[codecarbon INFO @ 03:45:12] 0.053126 kWh of electricity used since the beginning.\n",
            "Epoch 23/30 - Training: 100%|██████████| 625/625 [01:07<00:00,  9.30it/s]\n",
            "Epoch 23/30 - Validation:   0%|          | 0/157 [00:00<?, ?it/s]/usr/local/lib/python3.10/dist-packages/torch/utils/data/dataloader.py:617: UserWarning: This DataLoader will create 4 worker processes in total. Our suggested max number of worker in current system is 2, which is smaller than what this DataLoader is going to create. Please be aware that excessive worker creation might get DataLoader running slow or even freeze, lower the worker number to avoid potential slowness/freeze if necessary.\n",
            "  warnings.warn(\n",
            "Epoch 23/30 - Validation:  97%|█████████▋| 153/157 [00:10<00:00, 12.29it/s][codecarbon INFO @ 03:45:27] Energy consumed for RAM : 0.002336 kWh. RAM Power : 4.7530388832092285 W\n",
            "[codecarbon INFO @ 03:45:27] Energy consumed for all GPUs : 0.030296 kWh. Total GPU Power : 51.406736992921175 W\n",
            "[codecarbon INFO @ 03:45:27] Energy consumed for all CPUs : 0.020905 kWh. Total CPU Power : 42.5 W\n",
            "[codecarbon INFO @ 03:45:27] 0.053536 kWh of electricity used since the beginning.\n",
            "Epoch 23/30 - Validation: 100%|██████████| 157/157 [00:10<00:00, 15.16it/s]\n"
          ]
        },
        {
          "output_type": "stream",
          "name": "stdout",
          "text": [
            "Epoch [23/30], Train Loss: 0.1597, Train Accuracy: 94.74%\n",
            "Epoch [23/30], Val Loss: 0.3358, Val Accuracy: 89.17%\n"
          ]
        },
        {
          "output_type": "stream",
          "name": "stderr",
          "text": [
            "Epoch 24/30 - Training:  22%|██▏       | 136/625 [00:14<01:04,  7.55it/s][codecarbon INFO @ 03:45:42] Energy consumed for RAM : 0.002355 kWh. RAM Power : 4.7530388832092285 W\n",
            "[codecarbon INFO @ 03:45:42] Energy consumed for all GPUs : 0.030551 kWh. Total GPU Power : 61.285746118800944 W\n",
            "[codecarbon INFO @ 03:45:42] Energy consumed for all CPUs : 0.021082 kWh. Total CPU Power : 42.5 W\n",
            "[codecarbon INFO @ 03:45:42] 0.053989 kWh of electricity used since the beginning.\n",
            "Epoch 24/30 - Training:  45%|████▌     | 282/625 [00:29<00:45,  7.53it/s][codecarbon INFO @ 03:45:57] Energy consumed for RAM : 0.002375 kWh. RAM Power : 4.7530388832092285 W\n",
            "[codecarbon INFO @ 03:45:57] Energy consumed for all GPUs : 0.030825 kWh. Total GPU Power : 65.59546855172664 W\n",
            "[codecarbon INFO @ 03:45:57] Energy consumed for all CPUs : 0.021260 kWh. Total CPU Power : 42.5 W\n",
            "[codecarbon INFO @ 03:45:57] 0.054460 kWh of electricity used since the beginning.\n",
            "[codecarbon INFO @ 03:45:57] 0.008527 g.CO2eq/s mean an estimation of 268.9078486764124 kg.CO2eq/year\n",
            "Epoch 24/30 - Training:  68%|██████▊   | 427/625 [00:44<00:24,  8.00it/s][codecarbon INFO @ 03:46:12] Energy consumed for RAM : 0.002395 kWh. RAM Power : 4.7530388832092285 W\n",
            "Epoch 24/30 - Training:  68%|██████▊   | 428/625 [00:44<00:25,  7.84it/s][codecarbon INFO @ 03:46:12] Energy consumed for all GPUs : 0.031096 kWh. Total GPU Power : 65.22275611891078 W\n",
            "[codecarbon INFO @ 03:46:12] Energy consumed for all CPUs : 0.021437 kWh. Total CPU Power : 42.5 W\n",
            "[codecarbon INFO @ 03:46:12] 0.054928 kWh of electricity used since the beginning.\n",
            "Epoch 24/30 - Training:  92%|█████████▏| 573/625 [00:59<00:06,  7.74it/s][codecarbon INFO @ 03:46:27] Energy consumed for RAM : 0.002415 kWh. RAM Power : 4.7530388832092285 W\n",
            "[codecarbon INFO @ 03:46:27] Energy consumed for all GPUs : 0.031367 kWh. Total GPU Power : 65.22575071108194 W\n",
            "[codecarbon INFO @ 03:46:27] Energy consumed for all CPUs : 0.021614 kWh. Total CPU Power : 42.5 W\n",
            "[codecarbon INFO @ 03:46:27] 0.055396 kWh of electricity used since the beginning.\n",
            "Epoch 24/30 - Training: 100%|██████████| 625/625 [01:05<00:00,  9.50it/s]\n",
            "Epoch 24/30 - Validation:   0%|          | 0/157 [00:00<?, ?it/s]/usr/local/lib/python3.10/dist-packages/torch/utils/data/dataloader.py:617: UserWarning: This DataLoader will create 4 worker processes in total. Our suggested max number of worker in current system is 2, which is smaller than what this DataLoader is going to create. Please be aware that excessive worker creation might get DataLoader running slow or even freeze, lower the worker number to avoid potential slowness/freeze if necessary.\n",
            "  warnings.warn(\n",
            "Epoch 24/30 - Validation:  80%|███████▉  | 125/157 [00:08<00:03,  9.84it/s][codecarbon INFO @ 03:46:42] Energy consumed for RAM : 0.002435 kWh. RAM Power : 4.7530388832092285 W\n",
            "[codecarbon INFO @ 03:46:42] Energy consumed for all GPUs : 0.031587 kWh. Total GPU Power : 52.544779502274395 W\n",
            "[codecarbon INFO @ 03:46:42] Energy consumed for all CPUs : 0.021791 kWh. Total CPU Power : 42.5 W\n",
            "[codecarbon INFO @ 03:46:42] 0.055813 kWh of electricity used since the beginning.\n",
            "Epoch 24/30 - Validation: 100%|██████████| 157/157 [00:11<00:00, 13.09it/s]\n"
          ]
        },
        {
          "output_type": "stream",
          "name": "stdout",
          "text": [
            "Epoch [24/30], Train Loss: 0.1455, Train Accuracy: 95.10%\n",
            "Epoch [24/30], Val Loss: 0.3433, Val Accuracy: 89.38%\n"
          ]
        },
        {
          "output_type": "stream",
          "name": "stderr",
          "text": [
            "Epoch 25/30 - Training:  19%|█▊        | 116/625 [00:12<01:05,  7.80it/s][codecarbon INFO @ 03:46:57] Energy consumed for RAM : 0.002454 kWh. RAM Power : 4.7530388832092285 W\n",
            "[codecarbon INFO @ 03:46:57] Energy consumed for all GPUs : 0.031832 kWh. Total GPU Power : 58.89403006033956 W\n",
            "[codecarbon INFO @ 03:46:57] Energy consumed for all CPUs : 0.021968 kWh. Total CPU Power : 42.5 W\n",
            "[codecarbon INFO @ 03:46:57] 0.056255 kWh of electricity used since the beginning.\n",
            "Epoch 25/30 - Training:  41%|████▏     | 259/625 [00:27<00:47,  7.67it/s][codecarbon INFO @ 03:47:12] Energy consumed for RAM : 0.002474 kWh. RAM Power : 4.7530388832092285 W\n",
            "[codecarbon INFO @ 03:47:12] Energy consumed for all GPUs : 0.032103 kWh. Total GPU Power : 65.2774690317705 W\n",
            "[codecarbon INFO @ 03:47:12] Energy consumed for all CPUs : 0.022145 kWh. Total CPU Power : 42.5 W\n",
            "[codecarbon INFO @ 03:47:12] 0.056723 kWh of electricity used since the beginning.\n",
            "Epoch 25/30 - Training:  65%|██████▍   | 404/625 [00:42<00:28,  7.73it/s][codecarbon INFO @ 03:47:27] Energy consumed for RAM : 0.002494 kWh. RAM Power : 4.7530388832092285 W\n",
            "[codecarbon INFO @ 03:47:27] Energy consumed for all GPUs : 0.032376 kWh. Total GPU Power : 65.38115395703592 W\n",
            "[codecarbon INFO @ 03:47:27] Energy consumed for all CPUs : 0.022322 kWh. Total CPU Power : 42.5 W\n",
            "[codecarbon INFO @ 03:47:27] 0.057192 kWh of electricity used since the beginning.\n",
            "Epoch 25/30 - Training:  88%|████████▊ | 549/625 [00:57<00:09,  7.87it/s][codecarbon INFO @ 03:47:42] Energy consumed for RAM : 0.002514 kWh. RAM Power : 4.7530388832092285 W\n",
            "Epoch 25/30 - Training:  88%|████████▊ | 550/625 [00:57<00:09,  7.66it/s][codecarbon INFO @ 03:47:42] Energy consumed for all GPUs : 0.032647 kWh. Total GPU Power : 65.28082037545973 W\n",
            "[codecarbon INFO @ 03:47:42] Energy consumed for all CPUs : 0.022500 kWh. Total CPU Power : 42.5 W\n",
            "[codecarbon INFO @ 03:47:42] 0.057661 kWh of electricity used since the beginning.\n",
            "Epoch 25/30 - Training: 100%|██████████| 625/625 [01:05<00:00,  9.58it/s]\n",
            "Epoch 25/30 - Validation:   0%|          | 0/157 [00:00<?, ?it/s]/usr/local/lib/python3.10/dist-packages/torch/utils/data/dataloader.py:617: UserWarning: This DataLoader will create 4 worker processes in total. Our suggested max number of worker in current system is 2, which is smaller than what this DataLoader is going to create. Please be aware that excessive worker creation might get DataLoader running slow or even freeze, lower the worker number to avoid potential slowness/freeze if necessary.\n",
            "  warnings.warn(\n",
            "Epoch 25/30 - Validation:  60%|█████▉    | 94/157 [00:06<00:05, 11.11it/s][codecarbon INFO @ 03:47:57] Energy consumed for RAM : 0.002533 kWh. RAM Power : 4.7530388832092285 W\n",
            "[codecarbon INFO @ 03:47:57] Energy consumed for all GPUs : 0.032880 kWh. Total GPU Power : 55.97562090810437 W\n",
            "[codecarbon INFO @ 03:47:57] Energy consumed for all CPUs : 0.022677 kWh. Total CPU Power : 42.5 W\n",
            "[codecarbon INFO @ 03:47:57] 0.058090 kWh of electricity used since the beginning.\n",
            "[codecarbon INFO @ 03:47:57] 0.008633 g.CO2eq/s mean an estimation of 272.2657052191158 kg.CO2eq/year\n",
            "Epoch 25/30 - Validation: 100%|██████████| 157/157 [00:11<00:00, 13.44it/s]\n"
          ]
        },
        {
          "output_type": "stream",
          "name": "stdout",
          "text": [
            "Epoch [25/30], Train Loss: 0.1355, Train Accuracy: 95.41%\n",
            "Epoch [25/30], Val Loss: 0.3288, Val Accuracy: 89.88%\n"
          ]
        },
        {
          "output_type": "stream",
          "name": "stderr",
          "text": [
            "Epoch 26/30 - Training:  16%|█▌        | 97/625 [00:10<01:03,  8.33it/s][codecarbon INFO @ 03:48:12] Energy consumed for RAM : 0.002553 kWh. RAM Power : 4.7530388832092285 W\n",
            "[codecarbon INFO @ 03:48:12] Energy consumed for all GPUs : 0.033115 kWh. Total GPU Power : 56.44555523388734 W\n",
            "[codecarbon INFO @ 03:48:12] Energy consumed for all CPUs : 0.022854 kWh. Total CPU Power : 42.5 W\n",
            "[codecarbon INFO @ 03:48:12] 0.058523 kWh of electricity used since the beginning.\n",
            "Epoch 26/30 - Training:  39%|███▊      | 241/625 [00:25<00:46,  8.32it/s][codecarbon INFO @ 03:48:27] Energy consumed for RAM : 0.002573 kWh. RAM Power : 4.7530388832092285 W\n",
            "[codecarbon INFO @ 03:48:27] Energy consumed for all GPUs : 0.033386 kWh. Total GPU Power : 64.91781971598141 W\n",
            "[codecarbon INFO @ 03:48:27] Energy consumed for all CPUs : 0.023031 kWh. Total CPU Power : 42.5 W\n",
            "[codecarbon INFO @ 03:48:27] 0.058990 kWh of electricity used since the beginning.\n",
            "Epoch 26/30 - Training:  61%|██████▏   | 384/625 [00:40<00:30,  7.82it/s][codecarbon INFO @ 03:48:42] Energy consumed for RAM : 0.002593 kWh. RAM Power : 4.7530388832092285 W\n",
            "[codecarbon INFO @ 03:48:42] Energy consumed for all GPUs : 0.033659 kWh. Total GPU Power : 65.46218512573017 W\n",
            "[codecarbon INFO @ 03:48:42] Energy consumed for all CPUs : 0.023208 kWh. Total CPU Power : 42.5 W\n",
            "Epoch 26/30 - Training:  62%|██████▏   | 385/625 [00:40<00:31,  7.62it/s][codecarbon INFO @ 03:48:42] 0.059459 kWh of electricity used since the beginning.\n",
            "Epoch 26/30 - Training:  84%|████████▍ | 528/625 [00:55<00:13,  7.38it/s][codecarbon INFO @ 03:48:57] Energy consumed for RAM : 0.002613 kWh. RAM Power : 4.7530388832092285 W\n",
            "[codecarbon INFO @ 03:48:57] Energy consumed for all GPUs : 0.033928 kWh. Total GPU Power : 64.87658489490889 W\n",
            "[codecarbon INFO @ 03:48:57] Energy consumed for all CPUs : 0.023385 kWh. Total CPU Power : 42.5 W\n",
            "[codecarbon INFO @ 03:48:57] 0.059926 kWh of electricity used since the beginning.\n",
            "Epoch 26/30 - Training: 100%|██████████| 625/625 [01:05<00:00,  9.59it/s]\n",
            "Epoch 26/30 - Validation:   0%|          | 0/157 [00:00<?, ?it/s]/usr/local/lib/python3.10/dist-packages/torch/utils/data/dataloader.py:617: UserWarning: This DataLoader will create 4 worker processes in total. Our suggested max number of worker in current system is 2, which is smaller than what this DataLoader is going to create. Please be aware that excessive worker creation might get DataLoader running slow or even freeze, lower the worker number to avoid potential slowness/freeze if necessary.\n",
            "  warnings.warn(\n",
            "Epoch 26/30 - Validation:  39%|███▉      | 61/157 [00:05<00:08, 10.70it/s][codecarbon INFO @ 03:49:12] Energy consumed for RAM : 0.002632 kWh. RAM Power : 4.7530388832092285 W\n",
            "[codecarbon INFO @ 03:49:12] Energy consumed for all GPUs : 0.034171 kWh. Total GPU Power : 58.418924089268785 W\n",
            "[codecarbon INFO @ 03:49:12] Energy consumed for all CPUs : 0.023562 kWh. Total CPU Power : 42.5 W\n",
            "[codecarbon INFO @ 03:49:12] 0.060366 kWh of electricity used since the beginning.\n",
            "Epoch 26/30 - Validation: 100%|██████████| 157/157 [00:11<00:00, 13.50it/s]\n"
          ]
        },
        {
          "output_type": "stream",
          "name": "stdout",
          "text": [
            "Epoch [26/30], Train Loss: 0.1312, Train Accuracy: 95.56%\n",
            "Epoch [26/30], Val Loss: 0.3234, Val Accuracy: 90.04%\n"
          ]
        },
        {
          "output_type": "stream",
          "name": "stderr",
          "text": [
            "Epoch 27/30 - Training:  12%|█▏        | 76/625 [00:08<01:09,  7.85it/s][codecarbon INFO @ 03:49:27] Energy consumed for RAM : 0.002652 kWh. RAM Power : 4.7530388832092285 W\n",
            "[codecarbon INFO @ 03:49:27] Energy consumed for all GPUs : 0.034395 kWh. Total GPU Power : 53.80435909392144 W\n",
            "[codecarbon INFO @ 03:49:27] Energy consumed for all CPUs : 0.023739 kWh. Total CPU Power : 42.5 W\n",
            "[codecarbon INFO @ 03:49:27] 0.060786 kWh of electricity used since the beginning.\n",
            "Epoch 27/30 - Training:  35%|███▌      | 221/625 [00:23<00:57,  7.05it/s][codecarbon INFO @ 03:49:42] Energy consumed for RAM : 0.002672 kWh. RAM Power : 4.7530388832092285 W\n",
            "[codecarbon INFO @ 03:49:42] Energy consumed for all GPUs : 0.034666 kWh. Total GPU Power : 64.99322220307343 W\n",
            "[codecarbon INFO @ 03:49:42] Energy consumed for all CPUs : 0.023916 kWh. Total CPU Power : 42.5 W\n",
            "[codecarbon INFO @ 03:49:42] 0.061254 kWh of electricity used since the beginning.\n",
            "Epoch 27/30 - Training:  58%|█████▊    | 365/625 [00:38<00:31,  8.29it/s][codecarbon INFO @ 03:49:57] Energy consumed for RAM : 0.002692 kWh. RAM Power : 4.7530388832092285 W\n",
            "[codecarbon INFO @ 03:49:57] Energy consumed for all GPUs : 0.034938 kWh. Total GPU Power : 65.305152181481 W\n",
            "[codecarbon INFO @ 03:49:57] Energy consumed for all CPUs : 0.024093 kWh. Total CPU Power : 42.5 W\n",
            "[codecarbon INFO @ 03:49:57] 0.061723 kWh of electricity used since the beginning.\n",
            "[codecarbon INFO @ 03:49:57] 0.008637 g.CO2eq/s mean an estimation of 272.3616393003125 kg.CO2eq/year\n",
            "Epoch 27/30 - Training:  81%|████████▏ | 508/625 [00:53<00:14,  8.07it/s][codecarbon INFO @ 03:50:12] Energy consumed for RAM : 0.002711 kWh. RAM Power : 4.7530388832092285 W\n",
            "[codecarbon INFO @ 03:50:13] Energy consumed for all GPUs : 0.035209 kWh. Total GPU Power : 65.02377594995816 W\n",
            "[codecarbon INFO @ 03:50:13] Energy consumed for all CPUs : 0.024271 kWh. Total CPU Power : 42.5 W\n",
            "[codecarbon INFO @ 03:50:13] 0.062191 kWh of electricity used since the beginning.\n",
            "Epoch 27/30 - Training: 100%|██████████| 625/625 [01:05<00:00,  9.60it/s]\n",
            "Epoch 27/30 - Validation:   0%|          | 0/157 [00:00<?, ?it/s]/usr/local/lib/python3.10/dist-packages/torch/utils/data/dataloader.py:617: UserWarning: This DataLoader will create 4 worker processes in total. Our suggested max number of worker in current system is 2, which is smaller than what this DataLoader is going to create. Please be aware that excessive worker creation might get DataLoader running slow or even freeze, lower the worker number to avoid potential slowness/freeze if necessary.\n",
            "  warnings.warn(\n",
            "Epoch 27/30 - Validation:  23%|██▎       | 36/157 [00:03<00:10, 11.75it/s][codecarbon INFO @ 03:50:28] Energy consumed for RAM : 0.002731 kWh. RAM Power : 4.7530388832092285 W\n",
            "[codecarbon INFO @ 03:50:28] Energy consumed for all GPUs : 0.035466 kWh. Total GPU Power : 61.7584228212548 W\n",
            "[codecarbon INFO @ 03:50:28] Energy consumed for all CPUs : 0.024448 kWh. Total CPU Power : 42.5 W\n",
            "[codecarbon INFO @ 03:50:28] 0.062645 kWh of electricity used since the beginning.\n",
            "Epoch 27/30 - Validation: 100%|██████████| 157/157 [00:11<00:00, 13.20it/s]\n"
          ]
        },
        {
          "output_type": "stream",
          "name": "stdout",
          "text": [
            "Epoch [27/30], Train Loss: 0.1270, Train Accuracy: 95.69%\n",
            "Epoch [27/30], Val Loss: 0.3371, Val Accuracy: 89.82%\n"
          ]
        },
        {
          "output_type": "stream",
          "name": "stderr",
          "text": [
            "Epoch 28/30 - Training:   9%|▉         | 55/625 [00:06<01:18,  7.29it/s][codecarbon INFO @ 03:50:43] Energy consumed for RAM : 0.002751 kWh. RAM Power : 4.7530388832092285 W\n",
            "[codecarbon INFO @ 03:50:43] Energy consumed for all GPUs : 0.035675 kWh. Total GPU Power : 50.04518068142575 W\n",
            "[codecarbon INFO @ 03:50:43] Energy consumed for all CPUs : 0.024625 kWh. Total CPU Power : 42.5 W\n",
            "[codecarbon INFO @ 03:50:43] 0.063051 kWh of electricity used since the beginning.\n",
            "Epoch 28/30 - Training:  32%|███▏      | 198/625 [00:21<00:56,  7.60it/s][codecarbon INFO @ 03:50:58] Energy consumed for RAM : 0.002771 kWh. RAM Power : 4.7530388832092285 W\n",
            "[codecarbon INFO @ 03:50:58] Energy consumed for all GPUs : 0.035943 kWh. Total GPU Power : 64.38633384547772 W\n",
            "[codecarbon INFO @ 03:50:58] Energy consumed for all CPUs : 0.024802 kWh. Total CPU Power : 42.5 W\n",
            "[codecarbon INFO @ 03:50:58] 0.063516 kWh of electricity used since the beginning.\n",
            "Epoch 28/30 - Training:  55%|█████▍    | 341/625 [00:36<00:36,  7.69it/s][codecarbon INFO @ 03:51:13] Energy consumed for RAM : 0.002791 kWh. RAM Power : 4.7530388832092285 W\n",
            "[codecarbon INFO @ 03:51:13] Energy consumed for all GPUs : 0.036217 kWh. Total GPU Power : 65.81154706792805 W\n",
            "[codecarbon INFO @ 03:51:13] Energy consumed for all CPUs : 0.024979 kWh. Total CPU Power : 42.5 W\n",
            "[codecarbon INFO @ 03:51:13] 0.063987 kWh of electricity used since the beginning.\n",
            "Epoch 28/30 - Training:  78%|███████▊  | 486/625 [00:51<00:18,  7.66it/s][codecarbon INFO @ 03:51:28] Energy consumed for RAM : 0.002810 kWh. RAM Power : 4.7530388832092285 W\n",
            "[codecarbon INFO @ 03:51:28] Energy consumed for all GPUs : 0.036489 kWh. Total GPU Power : 65.3857322966751 W\n",
            "[codecarbon INFO @ 03:51:28] Energy consumed for all CPUs : 0.025157 kWh. Total CPU Power : 42.5 W\n",
            "[codecarbon INFO @ 03:51:28] 0.064456 kWh of electricity used since the beginning.\n",
            "Epoch 28/30 - Training: 100%|██████████| 625/625 [01:05<00:00,  9.52it/s]\n",
            "Epoch 28/30 - Validation:   0%|          | 0/157 [00:00<?, ?it/s]/usr/local/lib/python3.10/dist-packages/torch/utils/data/dataloader.py:617: UserWarning: This DataLoader will create 4 worker processes in total. Our suggested max number of worker in current system is 2, which is smaller than what this DataLoader is going to create. Please be aware that excessive worker creation might get DataLoader running slow or even freeze, lower the worker number to avoid potential slowness/freeze if necessary.\n",
            "  warnings.warn(\n",
            "Epoch 28/30 - Validation:   3%|▎         | 5/157 [00:00<00:24,  6.11it/s][codecarbon INFO @ 03:51:43] Energy consumed for RAM : 0.002830 kWh. RAM Power : 4.7530388832092285 W\n",
            "[codecarbon INFO @ 03:51:43] Energy consumed for all GPUs : 0.036758 kWh. Total GPU Power : 64.30211650398209 W\n",
            "[codecarbon INFO @ 03:51:43] Energy consumed for all CPUs : 0.025334 kWh. Total CPU Power : 42.5 W\n",
            "[codecarbon INFO @ 03:51:43] 0.064922 kWh of electricity used since the beginning.\n",
            "Epoch 28/30 - Validation: 100%|██████████| 157/157 [00:11<00:00, 14.05it/s]\n"
          ]
        },
        {
          "output_type": "stream",
          "name": "stdout",
          "text": [
            "Epoch [28/30], Train Loss: 0.1214, Train Accuracy: 95.90%\n",
            "Epoch [28/30], Val Loss: 0.3313, Val Accuracy: 89.86%\n"
          ]
        },
        {
          "output_type": "stream",
          "name": "stderr",
          "text": [
            "Epoch 29/30 - Training:   6%|▌         | 37/625 [00:04<01:15,  7.80it/s][codecarbon INFO @ 03:51:58] Energy consumed for RAM : 0.002850 kWh. RAM Power : 4.7530388832092285 W\n",
            "[codecarbon INFO @ 03:51:58] Energy consumed for all GPUs : 0.036962 kWh. Total GPU Power : 49.04232459109067 W\n",
            "[codecarbon INFO @ 03:51:58] Energy consumed for all CPUs : 0.025511 kWh. Total CPU Power : 42.5 W\n",
            "[codecarbon INFO @ 03:51:58] 0.065323 kWh of electricity used since the beginning.\n",
            "[codecarbon INFO @ 03:51:58] 0.008554 g.CO2eq/s mean an estimation of 269.7728791464415 kg.CO2eq/year\n",
            "Epoch 29/30 - Training:  29%|██▉       | 181/625 [00:19<00:54,  8.20it/s][codecarbon INFO @ 03:52:13] Energy consumed for RAM : 0.002870 kWh. RAM Power : 4.7530388832092285 W\n",
            "[codecarbon INFO @ 03:52:13] Energy consumed for all GPUs : 0.037231 kWh. Total GPU Power : 64.65931021018716 W\n",
            "[codecarbon INFO @ 03:52:13] Energy consumed for all CPUs : 0.025689 kWh. Total CPU Power : 42.5 W\n",
            "[codecarbon INFO @ 03:52:13] 0.065790 kWh of electricity used since the beginning.\n",
            "Epoch 29/30 - Training:  52%|█████▏    | 326/625 [00:34<00:41,  7.25it/s][codecarbon INFO @ 03:52:28] Energy consumed for RAM : 0.002890 kWh. RAM Power : 4.7530388832092285 W\n",
            "[codecarbon INFO @ 03:52:28] Energy consumed for all GPUs : 0.037504 kWh. Total GPU Power : 65.40656348881213 W\n",
            "[codecarbon INFO @ 03:52:28] Energy consumed for all CPUs : 0.025866 kWh. Total CPU Power : 42.5 W\n",
            "[codecarbon INFO @ 03:52:28] 0.066260 kWh of electricity used since the beginning.\n",
            "Epoch 29/30 - Training:  75%|███████▌  | 469/625 [00:49<00:19,  8.10it/s][codecarbon INFO @ 03:52:43] Energy consumed for RAM : 0.002909 kWh. RAM Power : 4.7530388832092285 W\n",
            "Epoch 29/30 - Training:  75%|███████▌  | 470/625 [00:49<00:20,  7.67it/s][codecarbon INFO @ 03:52:43] Energy consumed for all GPUs : 0.037777 kWh. Total GPU Power : 65.47130550050737 W\n",
            "[codecarbon INFO @ 03:52:43] Energy consumed for all CPUs : 0.026043 kWh. Total CPU Power : 42.5 W\n",
            "[codecarbon INFO @ 03:52:43] 0.066729 kWh of electricity used since the beginning.\n",
            "Epoch 29/30 - Training:  98%|█████████▊| 614/625 [01:04<00:01,  8.06it/s][codecarbon INFO @ 03:52:58] Energy consumed for RAM : 0.002929 kWh. RAM Power : 4.7530388832092285 W\n",
            "[codecarbon INFO @ 03:52:58] Energy consumed for all GPUs : 0.038047 kWh. Total GPU Power : 64.93848924191786 W\n",
            "[codecarbon INFO @ 03:52:58] Energy consumed for all CPUs : 0.026220 kWh. Total CPU Power : 42.5 W\n",
            "[codecarbon INFO @ 03:52:58] 0.067196 kWh of electricity used since the beginning.\n",
            "Epoch 29/30 - Training: 100%|██████████| 625/625 [01:06<00:00,  9.47it/s]\n",
            "Epoch 29/30 - Validation:   0%|          | 0/157 [00:00<?, ?it/s]/usr/local/lib/python3.10/dist-packages/torch/utils/data/dataloader.py:617: UserWarning: This DataLoader will create 4 worker processes in total. Our suggested max number of worker in current system is 2, which is smaller than what this DataLoader is going to create. Please be aware that excessive worker creation might get DataLoader running slow or even freeze, lower the worker number to avoid potential slowness/freeze if necessary.\n",
            "  warnings.warn(\n",
            "Epoch 29/30 - Validation: 100%|██████████| 157/157 [00:09<00:00, 15.71it/s]\n"
          ]
        },
        {
          "output_type": "stream",
          "name": "stdout",
          "text": [
            "Epoch [29/30], Train Loss: 0.1159, Train Accuracy: 96.15%\n",
            "Epoch [29/30], Val Loss: 0.3304, Val Accuracy: 89.73%\n"
          ]
        },
        {
          "output_type": "stream",
          "name": "stderr",
          "text": [
            "Epoch 30/30 - Training:   4%|▎         | 23/625 [00:03<01:17,  7.73it/s][codecarbon INFO @ 03:53:13] Energy consumed for RAM : 0.002949 kWh. RAM Power : 4.7530388832092285 W\n",
            "[codecarbon INFO @ 03:53:13] Energy consumed for all GPUs : 0.038251 kWh. Total GPU Power : 49.032451449922554 W\n",
            "[codecarbon INFO @ 03:53:13] Energy consumed for all CPUs : 0.026397 kWh. Total CPU Power : 42.5 W\n",
            "[codecarbon INFO @ 03:53:13] 0.067597 kWh of electricity used since the beginning.\n",
            "Epoch 30/30 - Training:  27%|██▋       | 167/625 [00:18<01:06,  6.86it/s][codecarbon INFO @ 03:53:28] Energy consumed for RAM : 0.002969 kWh. RAM Power : 4.7530388832092285 W\n",
            "[codecarbon INFO @ 03:53:28] Energy consumed for all GPUs : 0.038520 kWh. Total GPU Power : 64.51853630309942 W\n",
            "[codecarbon INFO @ 03:53:28] Energy consumed for all CPUs : 0.026574 kWh. Total CPU Power : 42.5 W\n",
            "[codecarbon INFO @ 03:53:28] 0.068063 kWh of electricity used since the beginning.\n",
            "Epoch 30/30 - Training:  50%|████▉     | 311/625 [00:33<00:44,  7.06it/s][codecarbon INFO @ 03:53:43] Energy consumed for RAM : 0.002989 kWh. RAM Power : 4.7530388832092285 W\n",
            "[codecarbon INFO @ 03:53:43] Energy consumed for all GPUs : 0.038791 kWh. Total GPU Power : 65.13395102975001 W\n",
            "[codecarbon INFO @ 03:53:43] Energy consumed for all CPUs : 0.026752 kWh. Total CPU Power : 42.5 W\n",
            "[codecarbon INFO @ 03:53:43] 0.068532 kWh of electricity used since the beginning.\n",
            "Epoch 30/30 - Training:  73%|███████▎  | 456/625 [00:48<00:22,  7.65it/s][codecarbon INFO @ 03:53:58] Energy consumed for RAM : 0.003008 kWh. RAM Power : 4.7530388832092285 W\n",
            "[codecarbon INFO @ 03:53:58] Energy consumed for all GPUs : 0.039064 kWh. Total GPU Power : 65.43870915084102 W\n",
            "[codecarbon INFO @ 03:53:58] Energy consumed for all CPUs : 0.026929 kWh. Total CPU Power : 42.5 W\n",
            "[codecarbon INFO @ 03:53:58] 0.069001 kWh of electricity used since the beginning.\n",
            "[codecarbon INFO @ 03:53:58] 0.008741 g.CO2eq/s mean an estimation of 275.662808527653 kg.CO2eq/year\n",
            "Epoch 30/30 - Training:  96%|█████████▌| 600/625 [01:03<00:03,  7.51it/s][codecarbon INFO @ 03:54:13] Energy consumed for RAM : 0.003028 kWh. RAM Power : 4.7530388832092285 W\n",
            "[codecarbon INFO @ 03:54:13] Energy consumed for all GPUs : 0.039335 kWh. Total GPU Power : 64.9165673862357 W\n",
            "[codecarbon INFO @ 03:54:13] Energy consumed for all CPUs : 0.027106 kWh. Total CPU Power : 42.5 W\n",
            "[codecarbon INFO @ 03:54:13] 0.069469 kWh of electricity used since the beginning.\n",
            "Epoch 30/30 - Training: 100%|██████████| 625/625 [01:06<00:00,  9.37it/s]\n",
            "Epoch 30/30 - Validation:   0%|          | 0/157 [00:00<?, ?it/s]/usr/local/lib/python3.10/dist-packages/torch/utils/data/dataloader.py:617: UserWarning: This DataLoader will create 4 worker processes in total. Our suggested max number of worker in current system is 2, which is smaller than what this DataLoader is going to create. Please be aware that excessive worker creation might get DataLoader running slow or even freeze, lower the worker number to avoid potential slowness/freeze if necessary.\n",
            "  warnings.warn(\n",
            "Epoch 30/30 - Validation: 100%|██████████| 157/157 [00:10<00:00, 14.99it/s]\n",
            "[codecarbon INFO @ 03:54:26] Energy consumed for RAM : 0.003046 kWh. RAM Power : 4.7530388832092285 W\n",
            "[codecarbon INFO @ 03:54:26] Energy consumed for all GPUs : 0.039515 kWh. Total GPU Power : 49.05271952730263 W\n",
            "[codecarbon INFO @ 03:54:26] Energy consumed for all CPUs : 0.027262 kWh. Total CPU Power : 42.5 W\n",
            "[codecarbon INFO @ 03:54:26] 0.069823 kWh of electricity used since the beginning.\n"
          ]
        },
        {
          "output_type": "stream",
          "name": "stdout",
          "text": [
            "Epoch [30/30], Train Loss: 0.1149, Train Accuracy: 96.15%\n",
            "Epoch [30/30], Val Loss: 0.3214, Val Accuracy: 90.36%\n",
            "\n",
            "--- Model Analysis ---\n",
            "Parameter Count: 134301514\n",
            "Model Size: 512.33 MB\n",
            "FLOPs: 0.43 GFLOPs\n",
            "Training Time: 2310.48 seconds\n",
            "Average Inference Time: 0.003640 seconds\n",
            "\n",
            "--- Energy and Emissions Report ---\n",
            "CO2 Emissions (CodeCarbon): 0.019935 kg\n",
            "Average GPU Power Consumption: 64.45 W\n",
            "Total GPU Energy Consumption: 41.362833 kWh\n"
          ]
        }
      ]
    },
    {
      "cell_type": "code",
      "source": [
        "pip install thop"
      ],
      "metadata": {
        "colab": {
          "base_uri": "https://localhost:8080/"
        },
        "id": "0FKJ_CKhFH55",
        "outputId": "e2a14a7b-0391-430f-90ea-f7feebef273a"
      },
      "execution_count": 2,
      "outputs": [
        {
          "output_type": "stream",
          "name": "stdout",
          "text": [
            "Collecting thop\n",
            "  Downloading thop-0.1.1.post2209072238-py3-none-any.whl.metadata (2.7 kB)\n",
            "Requirement already satisfied: torch in /usr/local/lib/python3.10/dist-packages (from thop) (2.5.1+cu121)\n",
            "Requirement already satisfied: filelock in /usr/local/lib/python3.10/dist-packages (from torch->thop) (3.16.1)\n",
            "Requirement already satisfied: typing-extensions>=4.8.0 in /usr/local/lib/python3.10/dist-packages (from torch->thop) (4.12.2)\n",
            "Requirement already satisfied: networkx in /usr/local/lib/python3.10/dist-packages (from torch->thop) (3.4.2)\n",
            "Requirement already satisfied: jinja2 in /usr/local/lib/python3.10/dist-packages (from torch->thop) (3.1.4)\n",
            "Requirement already satisfied: fsspec in /usr/local/lib/python3.10/dist-packages (from torch->thop) (2024.10.0)\n",
            "Requirement already satisfied: sympy==1.13.1 in /usr/local/lib/python3.10/dist-packages (from torch->thop) (1.13.1)\n",
            "Requirement already satisfied: mpmath<1.4,>=1.1.0 in /usr/local/lib/python3.10/dist-packages (from sympy==1.13.1->torch->thop) (1.3.0)\n",
            "Requirement already satisfied: MarkupSafe>=2.0 in /usr/local/lib/python3.10/dist-packages (from jinja2->torch->thop) (3.0.2)\n",
            "Downloading thop-0.1.1.post2209072238-py3-none-any.whl (15 kB)\n",
            "Installing collected packages: thop\n",
            "Successfully installed thop-0.1.1.post2209072238\n"
          ]
        }
      ]
    },
    {
      "cell_type": "code",
      "source": [
        "# Evaluate on the test dataset\n",
        "model.eval()\n",
        "correct_test, total_test = 0, 0\n",
        "with torch.no_grad():\n",
        "    for inputs, labels in test_loader:\n",
        "        inputs, labels = inputs.to(device), labels.to(device)\n",
        "        outputs = model(inputs)\n",
        "        _, predicted = torch.max(outputs.data, 1)\n",
        "        correct_test += (predicted == labels).sum().item()\n",
        "        total_test += labels.size(0)\n",
        "\n",
        "test_accuracy = 100 * correct_test / total_test\n",
        "print(f\"Test Accuracy: {test_accuracy:.2f}%\")\n"
      ],
      "metadata": {
        "colab": {
          "base_uri": "https://localhost:8080/"
        },
        "id": "Dq4tU_ksFg5a",
        "outputId": "bd24210b-d4ba-401d-a92d-71a0b605a9c5"
      },
      "execution_count": 8,
      "outputs": [
        {
          "output_type": "stream",
          "name": "stderr",
          "text": [
            "/usr/local/lib/python3.10/dist-packages/torch/utils/data/dataloader.py:617: UserWarning: This DataLoader will create 4 worker processes in total. Our suggested max number of worker in current system is 2, which is smaller than what this DataLoader is going to create. Please be aware that excessive worker creation might get DataLoader running slow or even freeze, lower the worker number to avoid potential slowness/freeze if necessary.\n",
            "  warnings.warn(\n"
          ]
        },
        {
          "output_type": "stream",
          "name": "stdout",
          "text": [
            "Test Accuracy: 91.74%\n"
          ]
        }
      ]
    },
    {
      "cell_type": "markdown",
      "source": [],
      "metadata": {
        "id": "RXztFHnXHMsu"
      }
    },
    {
      "cell_type": "code",
      "source": [
        "import matplotlib.pyplot as plt\n",
        "\n",
        "# Plot accuracy\n",
        "plt.figure(figsize=(10, 5))\n",
        "plt.plot(train_accuracies, label='Train Accuracy')\n",
        "plt.plot(val_accuracies, label='Validation Accuracy')\n",
        "plt.xlabel('Epochs')\n",
        "plt.ylabel('Accuracy (%)')\n",
        "plt.title('Training and Validation Accuracy')\n",
        "plt.legend()\n",
        "plt.grid()\n",
        "plt.show()\n",
        "\n",
        "# Plot loss\n",
        "plt.figure(figsize=(10, 5))\n",
        "plt.plot(train_losses, label='Train Loss')\n",
        "plt.plot(val_losses, label='Validation Loss')\n",
        "plt.xlabel('Epochs')\n",
        "plt.ylabel('Loss')\n",
        "plt.title('Training and Validation Loss')\n",
        "plt.legend()\n",
        "plt.grid()\n",
        "plt.show()\n"
      ],
      "metadata": {
        "colab": {
          "base_uri": "https://localhost:8080/",
          "height": 957
        },
        "id": "78vmPcUtGR-0",
        "outputId": "df1e1281-aeeb-4163-e9e1-9c8fed5bd592"
      },
      "execution_count": 9,
      "outputs": [
        {
          "output_type": "display_data",
          "data": {
            "text/plain": [
              "<Figure size 1000x500 with 1 Axes>"
            ],
            "image/png": "[encoded data removed]"
          },
          "metadata": {}
        },
        {
          "output_type": "display_data",
          "data": {
            "text/plain": [
              "<Figure size 1000x500 with 1 Axes>"
            ],
            "image/png": "[encoded data removed]"
          },
          "metadata": {}
        }
      ]
    },
    {
      "cell_type": "code",
      "source": [],
      "metadata": {
        "id": "3r11QzRxG7W0"
      },
      "execution_count": null,
      "outputs": []
    }
  ]
}