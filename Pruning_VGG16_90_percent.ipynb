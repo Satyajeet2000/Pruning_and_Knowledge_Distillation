{
  "cells": [
    {
      "cell_type": "code",
      "execution_count": null,
      "metadata": {
        "colab": {
          "base_uri": "https://localhost:8080/"
        },
        "id": "X9eHmRJyfZgY",
        "outputId": "e75763b5-de17-4a3f-9b3b-272273a71c23"
      },
      "outputs": [
        {
          "output_type": "stream",
          "name": "stdout",
          "text": [
            "Using device: cuda\n",
            "Files already downloaded and verified\n",
            "Files already downloaded and verified\n",
            "Training set size: 40000\n",
            "Validation set size: 10000\n",
            "Test set size: 10000\n"
          ]
        },
        {
          "output_type": "stream",
          "name": "stderr",
          "text": [
            "/usr/local/lib/python3.10/dist-packages/torch/utils/data/dataloader.py:617: UserWarning: This DataLoader will create 4 worker processes in total. Our suggested max number of worker in current system is 2, which is smaller than what this DataLoader is going to create. Please be aware that excessive worker creation might get DataLoader running slow or even freeze, lower the worker number to avoid potential slowness/freeze if necessary.\n",
            "  warnings.warn(\n"
          ]
        }
      ],
      "source": [
        "import torch\n",
        "import torch.nn as nn\n",
        "import torch.optim as optim\n",
        "from torch.utils.data import DataLoader, random_split\n",
        "from torchvision import models, datasets, transforms\n",
        "import numpy as np\n",
        "from tqdm import tqdm\n",
        "\n",
        "# Check if GPU is available\n",
        "device = torch.device(\"cuda\" if torch.cuda.is_available() else \"cpu\")\n",
        "print(f\"Using device: {device}\")\n",
        "\n",
        "# Define the transforms for the dataset\n",
        "transform = transforms.Compose([\n",
        "    transforms.ToTensor(),\n",
        "    transforms.Normalize((0.4914, 0.4822, 0.4465), (0.2023, 0.1994, 0.2010)),\n",
        "])\n",
        "\n",
        "# Load the CIFAR-10 dataset\n",
        "full_train_dataset = datasets.CIFAR10(root='./data', train=True, download=True, transform=transform)\n",
        "test_dataset = datasets.CIFAR10(root='./data', train=False, download=True, transform=transform)\n",
        "\n",
        "# Split the full training dataset into training and validation sets (80% train, 20% validation)\n",
        "train_size = int(0.8 * len(full_train_dataset))\n",
        "val_size = len(full_train_dataset) - train_size\n",
        "train_dataset, val_dataset = random_split(full_train_dataset, [train_size, val_size])\n",
        "\n",
        "# Create DataLoaders for the train, validation, and test sets\n",
        "train_loader = DataLoader(train_dataset, batch_size=64, shuffle=True, num_workers=4, pin_memory=True)\n",
        "val_loader = DataLoader(val_dataset, batch_size=64, shuffle=False, num_workers=4, pin_memory=True)\n",
        "test_loader = DataLoader(test_dataset, batch_size=64, shuffle=False, num_workers=4, pin_memory=True)\n",
        "\n",
        "# Print dataset sizes for debugging\n",
        "print(f\"Training set size: {len(train_dataset)}\")\n",
        "print(f\"Validation set size: {len(val_dataset)}\")\n",
        "print(f\"Test set size: {len(test_dataset)}\")\n"
      ]
    },
    {
      "cell_type": "code",
      "execution_count": null,
      "metadata": {
        "colab": {
          "base_uri": "https://localhost:8080/"
        },
        "id": "kNShPH8qfjSq",
        "outputId": "126e2c34-e158-4c74-92d8-dfcbad38964a"
      },
      "outputs": [
        {
          "output_type": "stream",
          "name": "stderr",
          "text": [
            "/usr/local/lib/python3.10/dist-packages/torchvision/models/_utils.py:208: UserWarning: The parameter 'pretrained' is deprecated since 0.13 and may be removed in the future, please use 'weights' instead.\n",
            "  warnings.warn(\n",
            "/usr/local/lib/python3.10/dist-packages/torchvision/models/_utils.py:223: UserWarning: Arguments other than a weight enum or `None` for 'weights' are deprecated since 0.13 and may be removed in the future. The current behavior is equivalent to passing `weights=VGG16_Weights.IMAGENET1K_V1`. You can also use `weights=VGG16_Weights.DEFAULT` to get the most up-to-date weights.\n",
            "  warnings.warn(msg)\n"
          ]
        }
      ],
      "source": [
        "# Load the pretrained VGG16 model and modify the classifier\n",
        "model = models.vgg16(pretrained=True)\n",
        "input_lastLayer = model.classifier[6].in_features\n",
        "model.classifier[6] = nn.Linear(input_lastLayer, 10)  # CIFAR-10 has 10 classes\n",
        "model = model.to(device)\n",
        "\n",
        "# Define loss function and optimizer\n",
        "learning_rate = 0.01\n",
        "criterion = nn.CrossEntropyLoss()\n",
        "optimizer = optim.SGD(model.parameters(), lr=learning_rate, momentum=0.9, weight_decay=5e-4)"
      ]
    },
    {
      "cell_type": "code",
      "source": [],
      "metadata": {
        "id": "Pw6gdHGB5PXn"
      },
      "execution_count": null,
      "outputs": []
    },
    {
      "cell_type": "markdown",
      "source": [
        "Run Unpruned model"
      ],
      "metadata": {
        "id": "0Ugw_3YK5Pw5"
      }
    },
    {
      "cell_type": "code",
      "source": [
        "# Training loop\n",
        "epochs = 5\n",
        "for epoch in range(epochs):\n",
        "    # Training phase\n",
        "    model.train()\n",
        "    running_loss = 0.0\n",
        "    correct_train = 0\n",
        "    total_train = 0\n",
        "    for images, labels in tqdm(train_loader, desc=f\"Epoch {epoch+1}/{epochs} - Training\"):\n",
        "        images, labels = images.to(device), labels.to(device)\n",
        "\n",
        "        # Zero the parameter gradients\n",
        "        optimizer.zero_grad()\n",
        "\n",
        "        # Forward pass\n",
        "        outputs = model(images)\n",
        "        loss = criterion(outputs, labels)\n",
        "\n",
        "        # Backward pass and optimize\n",
        "        loss.backward()\n",
        "        optimizer.step()\n",
        "\n",
        "        running_loss += loss.item()\n",
        "\n",
        "        # Calculate training accuracy\n",
        "        _, predicted = torch.max(outputs.data, 1)\n",
        "        total_train += labels.size(0)\n",
        "        correct_train += (predicted == labels).sum().item()\n",
        "\n",
        "    train_loss = running_loss / len(train_loader)\n",
        "    train_accuracy = 100 * correct_train / total_train\n",
        "\n",
        "    # Validation phase\n",
        "    model.eval()\n",
        "    running_val_loss = 0.0\n",
        "    correct_val = 0\n",
        "    total_val = 0\n",
        "    with torch.no_grad():\n",
        "        for images, labels in tqdm(val_loader, desc=f\"Epoch {epoch+1}/{epochs} - Validation\"):\n",
        "            images, labels = images.to(device), labels.to(device)\n",
        "            outputs = model(images)\n",
        "            loss = criterion(outputs, labels)\n",
        "\n",
        "            running_val_loss += loss.item()\n",
        "\n",
        "            # Calculate validation accuracy\n",
        "            _, predicted = torch.max(outputs.data, 1)\n",
        "            total_val += labels.size(0)\n",
        "            correct_val += (predicted == labels).sum().item()\n",
        "\n",
        "    val_loss = running_val_loss / len(val_loader)\n",
        "    val_accuracy = 100 * correct_val / total_val\n",
        "\n",
        "    print(f\"Epoch [{epoch+1}/{epochs}], Train Loss: {train_loss:.4f}, Train Accuracy: {train_accuracy:.2f}%\")\n",
        "    print(f\"Epoch [{epoch+1}/{epochs}], Val Loss: {val_loss:.4f}, Val Accuracy: {val_accuracy:.2f}%\")\n",
        "\n"
      ],
      "metadata": {
        "colab": {
          "base_uri": "https://localhost:8080/"
        },
        "id": "zdOOam_u5NYn",
        "outputId": "7cbf138b-548d-4a4a-fd69-ba4ae94b7379"
      },
      "execution_count": null,
      "outputs": [
        {
          "output_type": "stream",
          "name": "stderr",
          "text": [
            "Epoch 1/5 - Training: 100%|██████████| 625/625 [00:44<00:00, 13.99it/s]\n",
            "Epoch 1/5 - Validation: 100%|██████████| 157/157 [00:04<00:00, 35.67it/s]\n"
          ]
        },
        {
          "output_type": "stream",
          "name": "stdout",
          "text": [
            "Epoch [1/5], Train Loss: 0.8928, Train Accuracy: 70.59%\n",
            "Epoch [1/5], Val Loss: 0.7277, Val Accuracy: 76.26%\n"
          ]
        },
        {
          "output_type": "stream",
          "name": "stderr",
          "text": [
            "Epoch 2/5 - Training: 100%|██████████| 625/625 [00:43<00:00, 14.39it/s]\n",
            "Epoch 2/5 - Validation: 100%|██████████| 157/157 [00:03<00:00, 43.33it/s]\n"
          ]
        },
        {
          "output_type": "stream",
          "name": "stdout",
          "text": [
            "Epoch [2/5], Train Loss: 0.5022, Train Accuracy: 83.81%\n",
            "Epoch [2/5], Val Loss: 0.5125, Val Accuracy: 83.54%\n"
          ]
        },
        {
          "output_type": "stream",
          "name": "stderr",
          "text": [
            "Epoch 3/5 - Training: 100%|██████████| 625/625 [00:43<00:00, 14.31it/s]\n",
            "Epoch 3/5 - Validation: 100%|██████████| 157/157 [00:04<00:00, 32.40it/s]\n"
          ]
        },
        {
          "output_type": "stream",
          "name": "stdout",
          "text": [
            "Epoch [3/5], Train Loss: 0.3600, Train Accuracy: 88.33%\n",
            "Epoch [3/5], Val Loss: 0.5866, Val Accuracy: 80.36%\n"
          ]
        },
        {
          "output_type": "stream",
          "name": "stderr",
          "text": [
            "Epoch 4/5 - Training: 100%|██████████| 625/625 [00:43<00:00, 14.42it/s]\n",
            "Epoch 4/5 - Validation: 100%|██████████| 157/157 [00:03<00:00, 42.72it/s]\n"
          ]
        },
        {
          "output_type": "stream",
          "name": "stdout",
          "text": [
            "Epoch [4/5], Train Loss: 0.2682, Train Accuracy: 91.24%\n",
            "Epoch [4/5], Val Loss: 0.5240, Val Accuracy: 83.75%\n"
          ]
        },
        {
          "output_type": "stream",
          "name": "stderr",
          "text": [
            "Epoch 5/5 - Training: 100%|██████████| 625/625 [00:43<00:00, 14.37it/s]\n",
            "Epoch 5/5 - Validation: 100%|██████████| 157/157 [00:04<00:00, 36.32it/s]"
          ]
        },
        {
          "output_type": "stream",
          "name": "stdout",
          "text": [
            "Epoch [5/5], Train Loss: 0.2207, Train Accuracy: 92.72%\n",
            "Epoch [5/5], Val Loss: 0.4619, Val Accuracy: 85.78%\n"
          ]
        },
        {
          "output_type": "stream",
          "name": "stderr",
          "text": [
            "\n"
          ]
        }
      ]
    },
    {
      "cell_type": "code",
      "source": [
        "# Test phase\n",
        "model.eval()\n",
        "correct_test = 0\n",
        "total_test = 0\n",
        "with torch.no_grad():\n",
        "    for images, labels in test_loader:\n",
        "        images, labels = images.to(device), labels.to(device)\n",
        "        outputs = model(images)\n",
        "        _, predicted = torch.max(outputs.data, 1)\n",
        "        total_test += labels.size(0)\n",
        "        correct_test += (predicted == labels).sum().item()\n",
        "\n",
        "test_accuracy = 100 * correct_test / total_test\n",
        "print(f'Accuracy of the model on the test set: {test_accuracy:.2f}%')"
      ],
      "metadata": {
        "colab": {
          "base_uri": "https://localhost:8080/"
        },
        "id": "3Xj2VN-u5aXZ",
        "outputId": "ce8d90f3-f3df-40b4-e6bb-b5e80254ff48"
      },
      "execution_count": null,
      "outputs": [
        {
          "output_type": "stream",
          "name": "stdout",
          "text": [
            "Accuracy of the model on the test set: 85.40%\n"
          ]
        }
      ]
    },
    {
      "cell_type": "code",
      "source": [
        "first_model = model\n",
        "#model = first_model"
      ],
      "metadata": {
        "id": "EF2Xq0YR8Rys"
      },
      "execution_count": null,
      "outputs": []
    },
    {
      "cell_type": "code",
      "source": [],
      "metadata": {
        "id": "77Ygr09M6gDn"
      },
      "execution_count": null,
      "outputs": []
    },
    {
      "cell_type": "code",
      "source": [
        "def calculate_sparse_flops(model, input_size=(3, 32, 32)):\n",
        "    total_flops = 0\n",
        "    model.eval()\n",
        "    with torch.no_grad():\n",
        "        for name, module in model.named_modules():\n",
        "            if isinstance(module, nn.Conv2d):\n",
        "                # Calculate FLOPs for Conv2d layers considering sparsity\n",
        "                non_zero_weights = torch.count_nonzero(module.weight).item()\n",
        "                 # Kernel size, output channels, and input dimensions\n",
        "                kernel_ops = module.weight.size(2) * module.weight.size(3)\n",
        "                flops_per_instance = non_zero_weights * kernel_ops\n",
        "                output_size = (input_size[1] // module.stride[0], input_size[2] // module.stride[1])\n",
        "                total_flops += flops_per_instance * output_size[0] * output_size[1]\n",
        "\n",
        "            elif isinstance(module, nn.Linear):\n",
        "                # Calculate FLOPs for Linear layers considering sparsity\n",
        "                non_zero_weights = torch.count_nonzero(module.weight).item()\n",
        "                total_flops += non_zero_weights * input_size[0]\n",
        "\n",
        "    return total_flops\n",
        "\n",
        "flops = calculate_sparse_flops(first_model)\n",
        "print(f\"FLOPs after pruning considering sparsity: {flops / 1e9:.2f} GFLOPs\")"
      ],
      "metadata": {
        "colab": {
          "base_uri": "https://localhost:8080/"
        },
        "id": "QD8OzUrz6gB3",
        "outputId": "621f84ac-32b7-427d-e367-9ad4c991028b"
      },
      "execution_count": null,
      "outputs": [
        {
          "output_type": "stream",
          "name": "stdout",
          "text": [
            "FLOPs after pruning considering sparsity: 135.93 GFLOPs\n"
          ]
        }
      ]
    },
    {
      "cell_type": "code",
      "source": [],
      "metadata": {
        "id": "XjByXk976f-a"
      },
      "execution_count": null,
      "outputs": []
    },
    {
      "cell_type": "markdown",
      "metadata": {
        "id": "tHLE5_NBhaze"
      },
      "source": [
        "## PRUNE STEP"
      ]
    },
    {
      "cell_type": "code",
      "execution_count": null,
      "metadata": {
        "id": "EXcM_hjlhaEy"
      },
      "outputs": [],
      "source": []
    },
    {
      "cell_type": "code",
      "execution_count": null,
      "metadata": {
        "colab": {
          "base_uri": "https://localhost:8080/"
        },
        "id": "QXKeQi85f9Gm",
        "outputId": "0f07e0a2-ce74-40c4-9c8f-56bb6cb3f7df"
      },
      "outputs": [
        {
          "output_type": "stream",
          "name": "stdout",
          "text": [
            "Layer: features.0.weight | Shape: torch.Size([64, 3, 3, 3])\n",
            "Layer: features.0.bias | Shape: torch.Size([64])\n",
            "Layer: features.2.weight | Shape: torch.Size([64, 64, 3, 3])\n",
            "Layer: features.2.bias | Shape: torch.Size([64])\n",
            "Layer: features.5.weight | Shape: torch.Size([128, 64, 3, 3])\n",
            "Layer: features.5.bias | Shape: torch.Size([128])\n",
            "Layer: features.7.weight | Shape: torch.Size([128, 128, 3, 3])\n",
            "Layer: features.7.bias | Shape: torch.Size([128])\n",
            "Layer: features.10.weight | Shape: torch.Size([256, 128, 3, 3])\n",
            "Layer: features.10.bias | Shape: torch.Size([256])\n",
            "Layer: features.12.weight | Shape: torch.Size([256, 256, 3, 3])\n",
            "Layer: features.12.bias | Shape: torch.Size([256])\n",
            "Layer: features.14.weight | Shape: torch.Size([256, 256, 3, 3])\n",
            "Layer: features.14.bias | Shape: torch.Size([256])\n",
            "Layer: features.17.weight | Shape: torch.Size([512, 256, 3, 3])\n",
            "Layer: features.17.bias | Shape: torch.Size([512])\n",
            "Layer: features.19.weight | Shape: torch.Size([512, 512, 3, 3])\n",
            "Layer: features.19.bias | Shape: torch.Size([512])\n",
            "Layer: features.21.weight | Shape: torch.Size([512, 512, 3, 3])\n",
            "Layer: features.21.bias | Shape: torch.Size([512])\n",
            "Layer: features.24.weight | Shape: torch.Size([512, 512, 3, 3])\n",
            "Layer: features.24.bias | Shape: torch.Size([512])\n",
            "Layer: features.26.weight | Shape: torch.Size([512, 512, 3, 3])\n",
            "Layer: features.26.bias | Shape: torch.Size([512])\n",
            "Layer: features.28.weight | Shape: torch.Size([512, 512, 3, 3])\n",
            "Layer: features.28.bias | Shape: torch.Size([512])\n",
            "Layer: classifier.0.weight | Shape: torch.Size([4096, 25088])\n",
            "Layer: classifier.0.bias | Shape: torch.Size([4096])\n",
            "Layer: classifier.3.weight | Shape: torch.Size([4096, 4096])\n",
            "Layer: classifier.3.bias | Shape: torch.Size([4096])\n",
            "Layer: classifier.6.weight | Shape: torch.Size([10, 4096])\n",
            "Layer: classifier.6.bias | Shape: torch.Size([10])\n"
          ]
        }
      ],
      "source": [
        "# Print the names and parameters of the model\n",
        "for name, param in model.named_parameters():\n",
        "    print(f\"Layer: {name} | Shape: {param.shape}\")"
      ]
    },
    {
      "cell_type": "code",
      "execution_count": null,
      "metadata": {
        "id": "6ddJNFxzsOJV"
      },
      "outputs": [],
      "source": []
    },
    {
      "cell_type": "code",
      "execution_count": null,
      "metadata": {
        "id": "1ILmbn-BsOGw"
      },
      "outputs": [],
      "source": []
    },
    {
      "cell_type": "code",
      "execution_count": null,
      "metadata": {
        "colab": {
          "base_uri": "https://localhost:8080/"
        },
        "id": "jbzVhYWif9DM",
        "outputId": "1fa3568d-4a3e-4818-ccc7-dadbe43e1de8"
      },
      "outputs": [
        {
          "output_type": "stream",
          "name": "stdout",
          "text": [
            "Parameter containing:\n",
            "tensor([[[[-0.4877,  0.1529,  0.4783],\n",
            "          [-0.5063,  0.3665,  0.7135],\n",
            "          [-0.6076, -0.0277,  0.4539]],\n",
            "\n",
            "         [[ 0.1705,  0.0229, -0.0789],\n",
            "          [ 0.0487, -0.0504, -0.2444],\n",
            "          [ 0.1165, -0.1675, -0.1258]],\n",
            "\n",
            "         [[ 0.3344, -0.1313, -0.4129],\n",
            "          [ 0.4744, -0.0623, -0.4787],\n",
            "          [ 0.5887,  0.0096, -0.2661]]],\n",
            "\n",
            "\n",
            "        [[[ 0.2842,  0.1195,  0.1251],\n",
            "          [-0.3434, -0.2462,  0.1632],\n",
            "          [-0.1853,  0.1178, -0.0922]],\n",
            "\n",
            "         [[-0.0602, -0.2022,  0.0816],\n",
            "          [-0.7162, -0.3504,  0.4379],\n",
            "          [-0.1919,  0.4378,  0.3846]],\n",
            "\n",
            "         [[-0.2091, -0.3171, -0.1297],\n",
            "          [-0.3927, -0.1523,  0.2905],\n",
            "          [ 0.0789,  0.5353,  0.3963]]],\n",
            "\n",
            "\n",
            "        [[[ 0.1385,  0.4646, -0.0523],\n",
            "          [-0.2042, -0.6723,  0.3179],\n",
            "          [-0.0037, -0.1952,  0.3273]],\n",
            "\n",
            "         [[ 0.2445,  0.5725, -0.0353],\n",
            "          [-0.3822, -0.9976,  0.3337],\n",
            "          [-0.0029, -0.2721,  0.5006]],\n",
            "\n",
            "         [[ 0.2705,  0.3665, -0.3639],\n",
            "          [ 0.1226, -0.4568,  0.0349],\n",
            "          [ 0.1599, -0.1302, -0.0162]]],\n",
            "\n",
            "\n",
            "        ...,\n",
            "\n",
            "\n",
            "        [[[ 0.0673,  0.1184,  0.0202],\n",
            "          [ 0.2063,  0.2283, -0.0658],\n",
            "          [ 0.0273,  0.0056, -0.0068]],\n",
            "\n",
            "         [[-0.1571, -0.0549, -0.0069],\n",
            "          [-0.0402,  0.0053, -0.1324],\n",
            "          [-0.0725, -0.0778,  0.0281]],\n",
            "\n",
            "         [[-0.1843, -0.0874,  0.0056],\n",
            "          [-0.0792, -0.0047,  0.0041],\n",
            "          [-0.0289, -0.0052,  0.1385]]],\n",
            "\n",
            "\n",
            "        [[[ 0.0036, -0.0498, -0.0151],\n",
            "          [-0.0641, -0.1980, -0.1448],\n",
            "          [-0.0634, -0.1864, -0.1811]],\n",
            "\n",
            "         [[ 0.0359, -0.0672, -0.0062],\n",
            "          [ 0.0191, -0.1400, -0.1145],\n",
            "          [ 0.0174, -0.1011, -0.1202]],\n",
            "\n",
            "         [[ 0.1095,  0.0737,  0.1214],\n",
            "          [ 0.1646,  0.0988,  0.1062],\n",
            "          [ 0.1381,  0.0836,  0.0792]]],\n",
            "\n",
            "\n",
            "        [[[-0.0298, -0.1028, -0.1938],\n",
            "          [ 0.2316, -0.0225, -0.1741],\n",
            "          [ 0.3071,  0.0530,  0.0320]],\n",
            "\n",
            "         [[ 0.1614,  0.1184, -0.1412],\n",
            "          [ 0.3173,  0.0246, -0.2762],\n",
            "          [ 0.1534, -0.1579, -0.1855]],\n",
            "\n",
            "         [[ 0.3628,  0.3905,  0.2825],\n",
            "          [ 0.1188, -0.0442, -0.1274],\n",
            "          [-0.2017, -0.3989, -0.3149]]]], device='cuda:0', requires_grad=True)\n",
            "Parameter containing:\n",
            "tensor([[[[-3.1999e-02, -8.9903e-02, -1.2464e-01],\n",
            "          [ 1.1273e-04, -7.9578e-02, -1.5579e-01],\n",
            "          [ 2.3908e-02, -5.9871e-02, -1.2187e-01]],\n",
            "\n",
            "         [[ 1.7962e-02, -3.0307e-02, -5.2886e-02],\n",
            "          [ 4.0604e-02,  2.6816e-02, -9.4857e-03],\n",
            "          [ 4.7959e-02,  6.7592e-02,  1.4186e-02]],\n",
            "\n",
            "         [[ 7.0940e-02, -5.6238e-04, -4.8214e-02],\n",
            "          [ 7.2012e-02,  5.4876e-02, -1.7448e-02],\n",
            "          [-5.9431e-03,  2.1264e-02, -2.3493e-02]],\n",
            "\n",
            "         ...,\n",
            "\n",
            "         [[ 1.9600e-02,  2.0949e-02, -7.7608e-03],\n",
            "          [ 1.9758e-02,  4.8710e-03, -3.1704e-02],\n",
            "          [ 1.6279e-02,  3.2881e-02, -1.3900e-02]],\n",
            "\n",
            "         [[ 1.1327e-02,  3.0628e-02,  4.7316e-02],\n",
            "          [ 1.4777e-02,  2.4221e-02,  2.6077e-02],\n",
            "          [-1.7911e-02,  1.0751e-02,  4.1848e-02]],\n",
            "\n",
            "         [[ 2.5920e-02, -3.0059e-02, -8.9743e-02],\n",
            "          [-5.4895e-02, -8.1454e-02, -7.5249e-02],\n",
            "          [-3.6411e-02, -3.8434e-02, -9.3801e-03]]],\n",
            "\n",
            "\n",
            "        [[[-2.7790e-02, -9.0256e-02, -1.3177e-01],\n",
            "          [-4.5658e-02, -9.2818e-02, -1.3551e-01],\n",
            "          [-4.7435e-02, -1.1146e-01, -1.5320e-01]],\n",
            "\n",
            "         [[-2.1346e-02,  4.5731e-02,  1.4152e-02],\n",
            "          [ 1.2237e-02,  1.5589e-02, -2.0966e-02],\n",
            "          [ 1.1741e-02, -2.4687e-02, -4.0488e-02]],\n",
            "\n",
            "         [[ 1.1464e-02, -1.7818e-02, -4.1920e-02],\n",
            "          [-1.5694e-02,  2.0642e-03, -8.0293e-02],\n",
            "          [ 1.7757e-02, -1.3540e-02, -1.6529e-02]],\n",
            "\n",
            "         ...,\n",
            "\n",
            "         [[ 3.8556e-02,  3.4108e-02,  2.0110e-02],\n",
            "          [ 1.5405e-02,  4.7477e-03, -1.3337e-02],\n",
            "          [ 1.9056e-02,  1.3201e-02, -2.6460e-02]],\n",
            "\n",
            "         [[-1.8362e-02,  3.6736e-03, -1.7054e-02],\n",
            "          [ 4.7120e-04, -6.9542e-03,  1.3038e-02],\n",
            "          [-7.2944e-03, -2.4229e-02, -2.2380e-02]],\n",
            "\n",
            "         [[-2.8149e-02, -2.1727e-02,  3.8363e-02],\n",
            "          [-5.9847e-02, -5.2982e-02,  6.2114e-02],\n",
            "          [-6.4426e-02, -4.0417e-02,  3.8067e-02]]],\n",
            "\n",
            "\n",
            "        [[[ 1.4162e-02,  1.0591e-02,  3.9691e-02],\n",
            "          [-2.5254e-02, -2.0566e-02,  2.8499e-02],\n",
            "          [-2.1856e-03,  6.4224e-04,  3.6312e-02]],\n",
            "\n",
            "         [[-9.5289e-02, -9.7665e-02, -6.7024e-02],\n",
            "          [-5.7301e-02, -1.0675e-01, -3.0085e-02],\n",
            "          [ 2.3376e-03, -9.0919e-03,  7.1829e-02]],\n",
            "\n",
            "         [[-4.8767e-02, -2.1046e-02, -2.6419e-02],\n",
            "          [ 1.1329e-02,  3.4189e-02,  9.4195e-03],\n",
            "          [ 4.6263e-02,  1.0948e-01,  5.8209e-02]],\n",
            "\n",
            "         ...,\n",
            "\n",
            "         [[-2.6224e-04,  1.3039e-02, -1.4096e-02],\n",
            "          [-9.6781e-03, -5.4701e-03,  3.5177e-03],\n",
            "          [ 2.9212e-03,  3.3655e-03, -2.5087e-02]],\n",
            "\n",
            "         [[-5.0681e-03, -3.6511e-03, -4.8688e-03],\n",
            "          [ 6.5195e-03,  1.8181e-03,  5.9863e-03],\n",
            "          [ 3.5407e-02,  2.1717e-02,  2.4299e-02]],\n",
            "\n",
            "         [[ 6.4584e-02,  2.9712e-04,  4.1271e-02],\n",
            "          [-1.1340e-02, -3.9704e-02,  1.9173e-02],\n",
            "          [ 1.3779e-02, -9.8299e-03,  5.9677e-04]]],\n",
            "\n",
            "\n",
            "        ...,\n",
            "\n",
            "\n",
            "        [[[-4.7966e-02, -2.8825e-02,  1.0840e-02],\n",
            "          [-5.2854e-02, -4.9578e-02,  1.8289e-02],\n",
            "          [-4.9392e-02, -2.8820e-02, -1.9852e-02]],\n",
            "\n",
            "         [[-1.2592e-02,  1.0514e-02, -6.1676e-02],\n",
            "          [ 3.1326e-02,  1.0240e-02, -6.0986e-02],\n",
            "          [-1.2045e-02, -1.7278e-02, -6.1461e-02]],\n",
            "\n",
            "         [[-3.2233e-02, -1.9119e-02, -4.0305e-02],\n",
            "          [-1.2227e-03, -4.9974e-02, -5.6605e-02],\n",
            "          [-3.8866e-02, -1.3146e-02,  4.7944e-02]],\n",
            "\n",
            "         ...,\n",
            "\n",
            "         [[-7.1586e-03, -5.3870e-03, -1.0680e-02],\n",
            "          [-7.5994e-04,  1.7273e-03,  1.1531e-02],\n",
            "          [ 9.9523e-03,  3.6370e-03,  2.7060e-02]],\n",
            "\n",
            "         [[ 1.0263e-02,  2.7683e-02,  3.0256e-02],\n",
            "          [-6.4033e-04,  5.5898e-04,  8.6318e-03],\n",
            "          [-3.3748e-03,  1.0600e-02,  2.7223e-02]],\n",
            "\n",
            "         [[-2.7464e-02, -6.3374e-02, -8.2828e-02],\n",
            "          [-2.8257e-02, -3.5372e-03,  4.8324e-02],\n",
            "          [ 4.8700e-03,  7.5912e-02,  1.3176e-01]]],\n",
            "\n",
            "\n",
            "        [[[ 2.7955e-02,  3.0996e-02,  9.6391e-03],\n",
            "          [ 2.2588e-02,  2.2631e-02, -8.3111e-04],\n",
            "          [-1.9893e-02,  1.2939e-02, -1.7528e-02]],\n",
            "\n",
            "         [[ 6.7645e-03, -2.0162e-02,  7.6038e-03],\n",
            "          [-7.8453e-02, -5.2466e-02, -4.3281e-02],\n",
            "          [-6.2470e-02, -3.0170e-05, -2.5266e-02]],\n",
            "\n",
            "         [[-1.2018e-01, -8.7691e-02, -1.3567e-01],\n",
            "          [ 2.6317e-02, -3.9858e-02, -1.0641e-01],\n",
            "          [ 1.5036e-01,  1.7491e-01,  1.4273e-02]],\n",
            "\n",
            "         ...,\n",
            "\n",
            "         [[ 2.0365e-02,  2.6880e-02,  3.9719e-03],\n",
            "          [-3.4602e-03,  2.0573e-02,  1.8039e-02],\n",
            "          [-1.5819e-03, -1.9334e-02,  8.2993e-03]],\n",
            "\n",
            "         [[ 1.7649e-02,  3.6280e-03,  9.9243e-03],\n",
            "          [ 8.7582e-03,  1.3552e-02,  1.9092e-02],\n",
            "          [ 1.4468e-02, -6.9516e-03,  4.8042e-03]],\n",
            "\n",
            "         [[ 1.6227e-02, -4.3615e-03,  8.7304e-03],\n",
            "          [-2.4689e-03,  4.6268e-02,  1.9528e-02],\n",
            "          [-1.4293e-02,  1.0967e-02, -1.7621e-02]]],\n",
            "\n",
            "\n",
            "        [[[-7.7654e-02,  1.2381e-02,  5.9873e-02],\n",
            "          [-4.9895e-03, -3.9929e-02,  3.8606e-02],\n",
            "          [-4.2201e-02, -3.4050e-02,  4.6802e-02]],\n",
            "\n",
            "         [[ 4.0266e-02, -1.7379e-01,  6.2920e-02],\n",
            "          [-1.7694e-01,  2.6482e-02,  2.4527e-01],\n",
            "          [ 1.5344e-02,  5.6349e-02, -8.9784e-02]],\n",
            "\n",
            "         [[-1.5494e-01, -1.2703e-01,  1.5591e-01],\n",
            "          [-1.6474e-01,  1.8008e-01,  5.4898e-02],\n",
            "          [ 1.1471e-01,  6.6743e-02, -6.3152e-02]],\n",
            "\n",
            "         ...,\n",
            "\n",
            "         [[ 4.6984e-03,  2.9050e-02, -1.5996e-02],\n",
            "          [ 4.3888e-02, -1.3719e-02, -4.5126e-02],\n",
            "          [ 1.2527e-02, -3.4881e-02,  1.9645e-02]],\n",
            "\n",
            "         [[ 3.1299e-02,  2.2644e-02,  3.1649e-04],\n",
            "          [ 1.0218e-02, -1.9096e-02, -2.3449e-02],\n",
            "          [-1.1058e-03, -3.7870e-02, -2.0209e-02]],\n",
            "\n",
            "         [[-1.4955e-02,  1.9718e-02,  2.2043e-02],\n",
            "          [-3.7412e-03,  2.2798e-02, -7.4531e-02],\n",
            "          [-1.4646e-04, -9.5205e-02, -3.0194e-02]]]], device='cuda:0',\n",
            "       requires_grad=True)\n",
            "Parameter containing:\n",
            "tensor([[[[-5.8389e-02, -1.0702e-02, -3.5189e-02],\n",
            "          [-4.6010e-02, -4.9428e-02, -1.0825e-01],\n",
            "          [-1.2885e-02, -5.4109e-02, -6.0502e-02]],\n",
            "\n",
            "         [[-4.4727e-02, -3.1698e-02, -2.8506e-02],\n",
            "          [-2.8448e-02, -2.9401e-02,  3.7594e-03],\n",
            "          [-4.6957e-03, -1.2766e-02,  1.2308e-02]],\n",
            "\n",
            "         [[-3.6002e-02,  2.7554e-02,  4.4459e-02],\n",
            "          [-3.8306e-02,  1.0576e-01, -4.0370e-02],\n",
            "          [-4.2247e-02, -4.8411e-03, -3.3721e-02]],\n",
            "\n",
            "         ...,\n",
            "\n",
            "         [[-3.4708e-02, -2.2128e-02, -1.4521e-02],\n",
            "          [-3.1615e-02, -3.8373e-02, -5.6540e-03],\n",
            "          [-3.6896e-02, -1.2517e-02, -1.9762e-02]],\n",
            "\n",
            "         [[-4.2612e-02, -3.9530e-02, -4.6716e-02],\n",
            "          [ 1.9839e-02,  1.9674e-02, -4.5251e-02],\n",
            "          [ 3.5871e-02, -2.8726e-03, -8.6487e-03]],\n",
            "\n",
            "         [[ 1.4006e-02,  1.8127e-02, -2.9384e-02],\n",
            "          [ 2.9703e-02,  6.1056e-02, -2.9016e-02],\n",
            "          [-2.5961e-02,  3.2014e-02, -2.1322e-02]]],\n",
            "\n",
            "\n",
            "        [[[-1.8078e-02, -4.0035e-02, -2.5922e-02],\n",
            "          [-2.3704e-02, -5.0232e-02, -4.7985e-02],\n",
            "          [-9.5410e-03, -6.5828e-03, -5.5092e-02]],\n",
            "\n",
            "         [[-2.3470e-02, -1.6320e-02,  8.6336e-03],\n",
            "          [-2.2350e-02, -3.0325e-02,  2.5027e-02],\n",
            "          [ 1.9523e-02,  2.1431e-03,  2.8773e-02]],\n",
            "\n",
            "         [[-5.4269e-02, -2.0620e-02,  4.8551e-02],\n",
            "          [-1.4822e-01,  5.6915e-02,  1.4772e-01],\n",
            "          [-4.0101e-02, -8.1013e-03,  5.9376e-02]],\n",
            "\n",
            "         ...,\n",
            "\n",
            "         [[-2.0809e-03, -3.3686e-02, -5.0076e-02],\n",
            "          [ 2.5159e-02, -3.0567e-02, -6.1518e-03],\n",
            "          [ 7.0109e-02,  1.3255e-02, -1.6678e-02]],\n",
            "\n",
            "         [[-6.3565e-02, -2.4780e-02, -3.0065e-02],\n",
            "          [-1.7812e-02, -6.1108e-02,  2.7034e-02],\n",
            "          [ 7.3832e-02,  1.9143e-03, -2.4349e-02]],\n",
            "\n",
            "         [[ 2.7358e-03,  6.9469e-03,  8.0087e-03],\n",
            "          [-3.3956e-02,  8.7480e-03, -1.9690e-02],\n",
            "          [ 5.9067e-02,  1.0172e-01, -3.3595e-02]]],\n",
            "\n",
            "\n",
            "        [[[ 4.6710e-03, -6.2226e-03, -3.9287e-03],\n",
            "          [-5.6070e-03,  7.4182e-02, -6.2745e-02],\n",
            "          [-5.5788e-02,  4.2956e-02, -1.3016e-02]],\n",
            "\n",
            "         [[ 1.4490e-02,  5.7309e-04,  3.5086e-02],\n",
            "          [-2.2018e-03,  5.6382e-02,  3.3951e-02],\n",
            "          [-7.4684e-02,  3.7565e-02,  1.6089e-02]],\n",
            "\n",
            "         [[-5.0027e-02,  1.8394e-02,  9.3462e-03],\n",
            "          [-5.6552e-02,  7.0974e-03, -2.9488e-02],\n",
            "          [-1.3876e-02,  4.7615e-02, -2.8248e-02]],\n",
            "\n",
            "         ...,\n",
            "\n",
            "         [[-1.2507e-02, -3.2568e-02,  2.9167e-03],\n",
            "          [-5.0494e-02, -2.8973e-02, -2.4575e-02],\n",
            "          [ 3.3045e-02, -3.2658e-03, -1.2898e-03]],\n",
            "\n",
            "         [[-4.9468e-02, -3.2496e-02, -4.2617e-02],\n",
            "          [-7.7974e-03,  2.5426e-02, -1.6871e-02],\n",
            "          [-2.7296e-02, -5.3919e-02, -1.0460e-02]],\n",
            "\n",
            "         [[ 3.1674e-02, -2.5950e-02,  1.2768e-02],\n",
            "          [-2.8240e-02,  7.1106e-02,  2.8780e-02],\n",
            "          [-1.4460e-02, -6.2647e-02, -2.2872e-02]]],\n",
            "\n",
            "\n",
            "        ...,\n",
            "\n",
            "\n",
            "        [[[-2.3881e-02, -1.7131e-02, -3.4039e-02],\n",
            "          [-3.0331e-02,  2.6184e-02, -4.7831e-02],\n",
            "          [-3.1985e-02, -3.0494e-02, -1.6999e-02]],\n",
            "\n",
            "         [[-5.1183e-02, -3.6709e-02,  7.3276e-03],\n",
            "          [-2.5952e-02, -4.8510e-02,  8.6948e-03],\n",
            "          [ 5.0831e-03, -1.3790e-02, -1.3159e-02]],\n",
            "\n",
            "         [[ 4.2541e-05,  2.1600e-01,  1.5546e-01],\n",
            "          [-8.7353e-02, -1.4574e-02,  4.9866e-02],\n",
            "          [-1.1289e-01, -9.7451e-02, -7.6469e-02]],\n",
            "\n",
            "         ...,\n",
            "\n",
            "         [[-7.6948e-03,  7.1513e-02,  2.7624e-02],\n",
            "          [ 2.2022e-02, -2.3836e-02, -4.1308e-02],\n",
            "          [ 4.2341e-02,  5.4089e-02, -1.2904e-02]],\n",
            "\n",
            "         [[-1.8195e-02,  1.1130e-01,  5.3655e-03],\n",
            "          [-6.3635e-02, -1.3319e-01,  1.3114e-02],\n",
            "          [-1.7870e-02, -2.0719e-02, -4.1272e-02]],\n",
            "\n",
            "         [[-6.7928e-02,  6.0162e-03, -2.4421e-02],\n",
            "          [-4.5906e-02,  1.1992e-01, -1.1707e-02],\n",
            "          [-1.1543e-02,  7.7607e-02,  6.6525e-02]]],\n",
            "\n",
            "\n",
            "        [[[ 8.5344e-02,  6.3747e-02,  5.6103e-02],\n",
            "          [ 1.4801e-02,  1.3170e-02, -2.1869e-02],\n",
            "          [-1.1353e-02, -8.0899e-02, -2.6333e-02]],\n",
            "\n",
            "         [[-5.1907e-02, -9.9525e-03,  2.3990e-02],\n",
            "          [-2.2608e-02, -2.3752e-02,  2.2940e-02],\n",
            "          [ 1.5851e-02, -3.3007e-02, -8.9111e-03]],\n",
            "\n",
            "         [[ 7.2606e-02,  6.2388e-02,  5.4213e-02],\n",
            "          [-1.0634e-01,  9.1024e-02,  1.6178e-01],\n",
            "          [-2.9268e-02, -4.6270e-02,  2.3179e-02]],\n",
            "\n",
            "         ...,\n",
            "\n",
            "         [[-7.6613e-02,  1.2536e-02,  4.4257e-02],\n",
            "          [-5.3242e-02, -2.6302e-02,  2.3422e-02],\n",
            "          [-1.3846e-02,  2.8737e-04, -1.2689e-02]],\n",
            "\n",
            "         [[ 7.3120e-03, -9.1033e-03, -6.4207e-02],\n",
            "          [-2.7930e-02, -4.6009e-03,  1.9046e-02],\n",
            "          [ 4.5039e-02,  3.3216e-02, -4.0881e-02]],\n",
            "\n",
            "         [[ 9.0096e-02,  4.6295e-02,  1.2875e-01],\n",
            "          [-4.4810e-02, -1.8804e-01,  3.3655e-02],\n",
            "          [-7.5628e-02, -2.6108e-02,  2.6657e-02]]],\n",
            "\n",
            "\n",
            "        [[[ 1.9963e-02, -6.3216e-03,  2.0731e-02],\n",
            "          [ 7.5276e-02, -6.3564e-02, -6.1449e-02],\n",
            "          [ 6.8809e-02,  6.7807e-02, -5.6257e-02]],\n",
            "\n",
            "         [[ 3.7740e-03,  4.1415e-03,  2.4534e-02],\n",
            "          [ 8.2942e-03, -1.0554e-02,  2.9414e-02],\n",
            "          [ 8.3399e-04, -2.8731e-03,  4.8027e-03]],\n",
            "\n",
            "         [[-8.4899e-02, -2.1054e-01, -6.4106e-02],\n",
            "          [ 6.5534e-02, -2.0448e-02, -6.8400e-02],\n",
            "          [ 1.3191e-01,  2.0292e-01,  1.2118e-01]],\n",
            "\n",
            "         ...,\n",
            "\n",
            "         [[-3.0394e-03, -4.6597e-02, -9.9242e-03],\n",
            "          [ 1.4113e-02, -2.8577e-02,  1.1653e-02],\n",
            "          [ 3.6235e-02,  3.3985e-02,  4.6107e-02]],\n",
            "\n",
            "         [[-2.2134e-02, -1.7350e-01, -9.0329e-02],\n",
            "          [ 1.5408e-01,  7.7507e-02, -1.1019e-01],\n",
            "          [ 6.3797e-03,  7.3061e-02,  5.1029e-02]],\n",
            "\n",
            "         [[ 4.9241e-02, -3.4057e-03,  1.5966e-02],\n",
            "          [ 7.0268e-03, -9.5843e-02,  5.6493e-02],\n",
            "          [ 1.3537e-02, -6.7598e-02,  5.9314e-02]]]], device='cuda:0',\n",
            "       requires_grad=True)\n"
          ]
        }
      ],
      "source": [
        "print(model.features[0].weight)\n",
        "print(model.features[2].weight)\n",
        "print(model.features[5].weight)"
      ]
    },
    {
      "cell_type": "code",
      "execution_count": null,
      "metadata": {
        "colab": {
          "base_uri": "https://localhost:8080/"
        },
        "id": "UfJtn4Fnf86r",
        "outputId": "a9ceba8a-b3e6-455b-eac1-044b21ee8302"
      },
      "outputs": [
        {
          "output_type": "stream",
          "name": "stdout",
          "text": [
            "OrderedDict()\n"
          ]
        }
      ],
      "source": [
        "# Print the names and parameters of the model\n",
        "# for name, param in model.named_parameters():\n",
        "#     print(f\"Layer: {name} | Params: {param}\")\n",
        "\n",
        "# Print the buffers and parameters of the model\n",
        "# should be empty\n",
        "for name, buffer in model.named_buffers():\n",
        "    print(f\"Layer: {name} | Buffers: {buffer}\")\n",
        "\n",
        "print(model._forward_pre_hooks) # should be empty"
      ]
    },
    {
      "cell_type": "code",
      "source": [],
      "metadata": {
        "id": "TNoBAdjM6rMO"
      },
      "execution_count": null,
      "outputs": []
    },
    {
      "cell_type": "code",
      "execution_count": null,
      "metadata": {
        "id": "T-Uk_x6EhZNe"
      },
      "outputs": [],
      "source": [
        "from torch.nn.utils.prune import l1_unstructured\n",
        "\n",
        "# Load the pretrained VGG16 model and modify the classifier\n",
        "# model = models.vgg16(pretrained=True)\n",
        "input_lastLayer = model.classifier[6].in_features\n",
        "model.classifier[6] = nn.Linear(input_lastLayer, 10)  # CIFAR-10 has 10 classes"
      ]
    },
    {
      "cell_type": "code",
      "execution_count": null,
      "metadata": {
        "id": "IfMlbylpo3fR"
      },
      "outputs": [],
      "source": [
        "import torch.nn.utils.prune as prune\n",
        "\n",
        "# Apply L1 unstructured pruning to all convolutional layers in the 'features' part\n",
        "for name, module in model.named_modules():\n",
        "    if isinstance(module, nn.Conv2d):\n",
        "        prune.l1_unstructured(module, name=\"weight\", amount=0.9)  # Prune 20% of the weights\n",
        "# Apply L1 unstructured pruning to all fully connected layers in the 'classifier' part\n",
        "for name, module in model.named_modules():\n",
        "    if isinstance(module, nn.Linear):\n",
        "        prune.l1_unstructured(module, name=\"weight\", amount=0.9)  # Prune 20% of the weights"
      ]
    },
    {
      "cell_type": "code",
      "execution_count": null,
      "metadata": {
        "id": "X4elx8CvpA8p"
      },
      "outputs": [],
      "source": [
        "# Apply L1 unstructured pruning to all fully connected layers in the 'classifier' part\n",
        "for name, module in model.named_modules():\n",
        "    if isinstance(module, nn.Linear):\n",
        "        prune.l1_unstructured(module, name=\"weight\", amount=0.9)  # Prune 20% of the weights"
      ]
    },
    {
      "cell_type": "code",
      "execution_count": null,
      "metadata": {
        "colab": {
          "base_uri": "https://localhost:8080/"
        },
        "id": "LxYavrDdpA6Z",
        "outputId": "97c99c0f-711e-440c-e15e-f1c6370b78b3"
      },
      "outputs": [
        {
          "output_type": "stream",
          "name": "stdout",
          "text": [
            "Mask for 'features.0.weight':\n",
            "tensor([[[[1., 0., 1.],\n",
            "          [1., 1., 1.],\n",
            "          [1., 0., 1.]],\n",
            "\n",
            "         [[0., 0., 0.],\n",
            "          [0., 0., 0.],\n",
            "          [0., 0., 0.]],\n",
            "\n",
            "         [[0., 0., 1.],\n",
            "          [1., 0., 1.],\n",
            "          [1., 0., 0.]]],\n",
            "\n",
            "\n",
            "        [[[0., 0., 0.],\n",
            "          [0., 0., 0.],\n",
            "          [0., 0., 0.]],\n",
            "\n",
            "         [[0., 0., 0.],\n",
            "          [1., 0., 1.],\n",
            "          [0., 1., 1.]],\n",
            "\n",
            "         [[0., 0., 0.],\n",
            "          [1., 0., 0.],\n",
            "          [0., 1., 1.]]],\n",
            "\n",
            "\n",
            "        [[[0., 1., 0.],\n",
            "          [0., 1., 0.],\n",
            "          [0., 0., 0.]],\n",
            "\n",
            "         [[0., 1., 0.],\n",
            "          [1., 1., 0.],\n",
            "          [0., 0., 1.]],\n",
            "\n",
            "         [[0., 1., 1.],\n",
            "          [0., 1., 0.],\n",
            "          [0., 0., 0.]]],\n",
            "\n",
            "\n",
            "        ...,\n",
            "\n",
            "\n",
            "        [[[0., 0., 0.],\n",
            "          [0., 0., 0.],\n",
            "          [0., 0., 0.]],\n",
            "\n",
            "         [[0., 0., 0.],\n",
            "          [0., 0., 0.],\n",
            "          [0., 0., 0.]],\n",
            "\n",
            "         [[0., 0., 0.],\n",
            "          [0., 0., 0.],\n",
            "          [0., 0., 0.]]],\n",
            "\n",
            "\n",
            "        [[[0., 0., 0.],\n",
            "          [0., 0., 0.],\n",
            "          [0., 0., 0.]],\n",
            "\n",
            "         [[0., 0., 0.],\n",
            "          [0., 0., 0.],\n",
            "          [0., 0., 0.]],\n",
            "\n",
            "         [[0., 0., 0.],\n",
            "          [0., 0., 0.],\n",
            "          [0., 0., 0.]]],\n",
            "\n",
            "\n",
            "        [[[0., 0., 0.],\n",
            "          [0., 0., 0.],\n",
            "          [0., 0., 0.]],\n",
            "\n",
            "         [[0., 0., 0.],\n",
            "          [0., 0., 0.],\n",
            "          [0., 0., 0.]],\n",
            "\n",
            "         [[1., 1., 0.],\n",
            "          [0., 0., 0.],\n",
            "          [0., 1., 0.]]]], device='cuda:0')\n"
          ]
        }
      ],
      "source": [
        "# Print the mask for a specific layer\n",
        "print(f\"Mask for 'features.0.weight':\")\n",
        "print(model.features[0].weight_mask)  # Shows which weights were pruned (0 or 1)"
      ]
    },
    {
      "cell_type": "code",
      "execution_count": null,
      "metadata": {
        "id": "TEMoIS4Vsskd"
      },
      "outputs": [],
      "source": []
    },
    {
      "cell_type": "code",
      "execution_count": null,
      "metadata": {
        "colab": {
          "base_uri": "https://localhost:8080/"
        },
        "id": "77rjBqIOpNsU",
        "outputId": "15897bce-860f-4674-dc28-560d50f6e365"
      },
      "outputs": [
        {
          "output_type": "stream",
          "name": "stdout",
          "text": [
            "Sparsity of 'features.0.weight':\n",
            "0.8998842592592593\n"
          ]
        }
      ],
      "source": [
        "# Alternatively, check the sparsity of a layer (i.e., how many weights are zeroed)\n",
        "print(f\"Sparsity of 'features.0.weight':\")\n",
        "print(torch.sum(model.features[0].weight == 0).item() / model.features[0].weight.nelement())  # Fraction of pruned weights"
      ]
    },
    {
      "cell_type": "code",
      "execution_count": null,
      "metadata": {
        "id": "YvI--onEsttw"
      },
      "outputs": [],
      "source": []
    },
    {
      "cell_type": "code",
      "execution_count": null,
      "metadata": {
        "id": "utcsMM8phZIK"
      },
      "outputs": [],
      "source": [
        "model = model.to(device)"
      ]
    },
    {
      "cell_type": "code",
      "execution_count": null,
      "metadata": {
        "colab": {
          "base_uri": "https://localhost:8080/"
        },
        "id": "Lj0owiHTfjQd",
        "outputId": "d2c652be-6748-44ca-a920-457807dad7e6"
      },
      "outputs": [
        {
          "output_type": "stream",
          "name": "stderr",
          "text": [
            "Epoch 1/10 - Training: 100%|██████████| 625/625 [00:51<00:00, 12.11it/s]\n",
            "Epoch 1/10 - Validation: 100%|██████████| 157/157 [00:04<00:00, 35.59it/s]\n"
          ]
        },
        {
          "output_type": "stream",
          "name": "stdout",
          "text": [
            "Epoch [1/10], Train Loss: 0.2336, Train Accuracy: 92.20%\n",
            "Epoch [1/10], Val Loss: 0.4632, Val Accuracy: 85.48%\n"
          ]
        },
        {
          "output_type": "stream",
          "name": "stderr",
          "text": [
            "Epoch 2/10 - Training: 100%|██████████| 625/625 [00:51<00:00, 12.17it/s]\n",
            "Epoch 2/10 - Validation: 100%|██████████| 157/157 [00:04<00:00, 36.09it/s]\n"
          ]
        },
        {
          "output_type": "stream",
          "name": "stdout",
          "text": [
            "Epoch [2/10], Train Loss: 0.1877, Train Accuracy: 93.83%\n",
            "Epoch [2/10], Val Loss: 0.4376, Val Accuracy: 86.18%\n"
          ]
        },
        {
          "output_type": "stream",
          "name": "stderr",
          "text": [
            "Epoch 3/10 - Training: 100%|██████████| 625/625 [00:51<00:00, 12.11it/s]\n",
            "Epoch 3/10 - Validation: 100%|██████████| 157/157 [00:04<00:00, 36.68it/s]\n"
          ]
        },
        {
          "output_type": "stream",
          "name": "stdout",
          "text": [
            "Epoch [3/10], Train Loss: 0.1546, Train Accuracy: 94.76%\n",
            "Epoch [3/10], Val Loss: 0.4479, Val Accuracy: 86.49%\n"
          ]
        },
        {
          "output_type": "stream",
          "name": "stderr",
          "text": [
            "Epoch 4/10 - Training: 100%|██████████| 625/625 [00:51<00:00, 12.08it/s]\n",
            "Epoch 4/10 - Validation: 100%|██████████| 157/157 [00:05<00:00, 30.56it/s]\n"
          ]
        },
        {
          "output_type": "stream",
          "name": "stdout",
          "text": [
            "Epoch [4/10], Train Loss: 0.1272, Train Accuracy: 95.81%\n",
            "Epoch [4/10], Val Loss: 0.5121, Val Accuracy: 85.63%\n"
          ]
        },
        {
          "output_type": "stream",
          "name": "stderr",
          "text": [
            "Epoch 5/10 - Training: 100%|██████████| 625/625 [00:51<00:00, 12.13it/s]\n",
            "Epoch 5/10 - Validation:  90%|████████▉ | 141/157 [00:03<00:00, 38.24it/s]"
          ]
        }
      ],
      "source": [
        "# Training loop\n",
        "epochs = 10\n",
        "for epoch in range(epochs):\n",
        "    # Training phase\n",
        "    model.train()\n",
        "    running_loss = 0.0\n",
        "    correct_train = 0\n",
        "    total_train = 0\n",
        "    for images, labels in tqdm(train_loader, desc=f\"Epoch {epoch+1}/{epochs} - Training\"):\n",
        "        images, labels = images.to(device), labels.to(device)\n",
        "\n",
        "        # Zero the parameter gradients\n",
        "        optimizer.zero_grad()\n",
        "\n",
        "        # Forward pass\n",
        "        outputs = model(images)\n",
        "        loss = criterion(outputs, labels)\n",
        "\n",
        "        # Backward pass and optimize\n",
        "        loss.backward()\n",
        "        optimizer.step()\n",
        "\n",
        "        running_loss += loss.item()\n",
        "\n",
        "        # Calculate training accuracy\n",
        "        _, predicted = torch.max(outputs.data, 1)\n",
        "        total_train += labels.size(0)\n",
        "        correct_train += (predicted == labels).sum().item()\n",
        "\n",
        "    train_loss = running_loss / len(train_loader)\n",
        "    train_accuracy = 100 * correct_train / total_train\n",
        "\n",
        "    # Validation phase\n",
        "    model.eval()\n",
        "    running_val_loss = 0.0\n",
        "    correct_val = 0\n",
        "    total_val = 0\n",
        "    with torch.no_grad():\n",
        "        for images, labels in tqdm(val_loader, desc=f\"Epoch {epoch+1}/{epochs} - Validation\"):\n",
        "            images, labels = images.to(device), labels.to(device)\n",
        "            outputs = model(images)\n",
        "            loss = criterion(outputs, labels)\n",
        "\n",
        "            running_val_loss += loss.item()\n",
        "\n",
        "            # Calculate validation accuracy\n",
        "            _, predicted = torch.max(outputs.data, 1)\n",
        "            total_val += labels.size(0)\n",
        "            correct_val += (predicted == labels).sum().item()\n",
        "\n",
        "    val_loss = running_val_loss / len(val_loader)\n",
        "    val_accuracy = 100 * correct_val / total_val\n",
        "\n",
        "    print(f\"Epoch [{epoch+1}/{epochs}], Train Loss: {train_loss:.4f}, Train Accuracy: {train_accuracy:.2f}%\")\n",
        "    print(f\"Epoch [{epoch+1}/{epochs}], Val Loss: {val_loss:.4f}, Val Accuracy: {val_accuracy:.2f}%\")\n",
        "\n"
      ]
    },
    {
      "cell_type": "code",
      "execution_count": null,
      "metadata": {
        "colab": {
          "base_uri": "https://localhost:8080/"
        },
        "id": "gig9RDMwfjC3",
        "outputId": "161a0936-3a9b-4ffb-da2b-f7ac05178964"
      },
      "outputs": [
        {
          "output_type": "stream",
          "name": "stdout",
          "text": [
            "Accuracy of the model on the test set: 86.37%\n"
          ]
        }
      ],
      "source": [
        "# Test phase\n",
        "model.eval()\n",
        "correct_test = 0\n",
        "total_test = 0\n",
        "with torch.no_grad():\n",
        "    for images, labels in test_loader:\n",
        "        images, labels = images.to(device), labels.to(device)\n",
        "        outputs = model(images)\n",
        "        _, predicted = torch.max(outputs.data, 1)\n",
        "        total_test += labels.size(0)\n",
        "        correct_test += (predicted == labels).sum().item()\n",
        "\n",
        "test_accuracy = 100 * correct_test / total_test\n",
        "print(f'Accuracy of the model on the test set: {test_accuracy:.2f}%')\n"
      ]
    },
    {
      "cell_type": "code",
      "source": [
        "def calculate_sparse_flops(model, input_size=(3, 32, 32)):\n",
        "    total_flops = 0\n",
        "    model.eval()\n",
        "    with torch.no_grad():\n",
        "        for name, module in model.named_modules():\n",
        "            if isinstance(module, nn.Conv2d):\n",
        "                # Calculate FLOPs for Conv2d layers considering sparsity\n",
        "                non_zero_weights = torch.count_nonzero(module.weight).item()\n",
        "                # Kernel size, output channels, and input dimensions\n",
        "                kernel_ops = module.weight.size(2) * module.weight.size(3)\n",
        "                flops_per_instance = non_zero_weights * kernel_ops\n",
        "                output_size = (input_size[1] // module.stride[0], input_size[2] // module.stride[1])\n",
        "                total_flops += flops_per_instance * output_size[0] * output_size[1]\n",
        "\n",
        "            elif isinstance(module, nn.Linear):\n",
        "                # Calculate FLOPs for Linear layers considering sparsity\n",
        "                non_zero_weights = torch.count_nonzero(module.weight).item()\n",
        "                total_flops += non_zero_weights * input_size[0]\n",
        "\n",
        "    return total_flops\n",
        "\n",
        "flops = calculate_sparse_flops(model)\n",
        "print(f\"FLOPs after pruning considering sparsity: {flops / 1e9:.2f} GFLOPs\")"
      ],
      "metadata": {
        "colab": {
          "base_uri": "https://localhost:8080/"
        },
        "id": "wnCgvX_w61LO",
        "outputId": "e9364a82-f0dc-4aee-b495-3076d651aea7"
      },
      "execution_count": null,
      "outputs": [
        {
          "output_type": "stream",
          "name": "stdout",
          "text": [
            "FLOPs after pruning considering sparsity: 13.59 GFLOPs\n"
          ]
        }
      ]
    },
    {
      "cell_type": "code",
      "execution_count": null,
      "metadata": {
        "id": "9__gqIiGr7VS"
      },
      "outputs": [],
      "source": [
        "# Pruning 20% : 87.07\n",
        "# Pruning 40% : 86.16\n",
        "# Pruning 75% : 86.11\n",
        "# Pruning 95% : 70.92"
      ]
    },
    {
      "cell_type": "code",
      "execution_count": null,
      "metadata": {
        "id": "5a0vQZnrVA2L"
      },
      "outputs": [],
      "source": []
    },
    {
      "cell_type": "code",
      "execution_count": null,
      "metadata": {
        "id": "QsvLO9nmVA0m"
      },
      "outputs": [],
      "source": []
    },
    {
      "cell_type": "code",
      "execution_count": null,
      "metadata": {
        "id": "ErP7p60jVAyj"
      },
      "outputs": [],
      "source": []
    },
    {
      "cell_type": "code",
      "execution_count": null,
      "metadata": {
        "id": "R5HkS18oVEKA"
      },
      "outputs": [],
      "source": []
    },
    {
      "cell_type": "markdown",
      "metadata": {
        "id": "qPG3nhTQVEha"
      },
      "source": [
        "## RESNET\n"
      ]
    },
    {
      "cell_type": "code",
      "execution_count": null,
      "metadata": {
        "id": "ZuxK6ISRVAwN"
      },
      "outputs": [],
      "source": [
        "import torch\n",
        "import torch.nn as nn\n",
        "import torch.optim as optim\n",
        "from torch.optim.lr_scheduler import StepLR\n",
        "from torch.utils.data import DataLoader, random_split\n",
        "from torchvision import models, datasets, transforms\n",
        "import time\n",
        "import numpy as np\n",
        "from tqdm import tqdm"
      ]
    },
    {
      "cell_type": "code",
      "execution_count": null,
      "metadata": {
        "id": "DBOAYA6eVI8A"
      },
      "outputs": [],
      "source": [
        "# Define data augmentations for training\n",
        "transform_train = transforms.Compose([\n",
        "    transforms.RandomHorizontalFlip(),\n",
        "    transforms.RandomCrop(32, padding=4),\n",
        "    transforms.RandomRotation(15),\n",
        "    transforms.ColorJitter(brightness=0.2, contrast=0.2, saturation=0.2, hue=0.1),\n",
        "    transforms.ToTensor(),\n",
        "    transforms.Normalize((0.4914, 0.4822, 0.4465), (0.2023, 0.1994, 0.2010)),\n",
        "])\n",
        "\n",
        "transform_test = transforms.Compose([\n",
        "    transforms.ToTensor(),\n",
        "    transforms.Normalize((0.4914, 0.4822, 0.4465), (0.2023, 0.1994, 0.2010)),\n",
        "])"
      ]
    },
    {
      "cell_type": "code",
      "execution_count": null,
      "metadata": {
        "colab": {
          "base_uri": "https://localhost:8080/"
        },
        "id": "9YPoertBVNMB",
        "outputId": "a623f1a6-bbde-4085-e9da-7f27b9c4cac7"
      },
      "outputs": [
        {
          "name": "stdout",
          "output_type": "stream",
          "text": [
            "Files already downloaded and verified\n",
            "Files already downloaded and verified\n"
          ]
        }
      ],
      "source": [
        "# Load CIFAR-10 dataset with train/test splits\n",
        "train_dataset = datasets.CIFAR10(root='./data', train=True, download=True, transform=transform_train)\n",
        "test_dataset = datasets.CIFAR10(root='./data', train=False, download=True, transform=transform_test)\n",
        "\n",
        "# Split the training data into training and validation sets (80% train, 20% validation)\n",
        "train_size = int(0.8 * len(train_dataset))\n",
        "val_size = len(train_dataset) - train_size\n",
        "train_dataset, val_dataset = random_split(train_dataset, [train_size, val_size])\n",
        "\n",
        "# Create DataLoaders\n",
        "train_loader = DataLoader(train_dataset, batch_size=128, shuffle=True, num_workers=4, pin_memory=True)\n",
        "val_loader = DataLoader(val_dataset, batch_size=128, shuffle=False, num_workers=4, pin_memory=True)\n",
        "test_loader = DataLoader(test_dataset, batch_size=128, shuffle=False, num_workers=4, pin_memory=True)\n"
      ]
    },
    {
      "cell_type": "code",
      "execution_count": null,
      "metadata": {
        "colab": {
          "base_uri": "https://localhost:8080/"
        },
        "id": "NUipyEh7VQj_",
        "outputId": "f0edcdbc-782a-4679-8724-da87bf34a11e"
      },
      "outputs": [
        {
          "name": "stderr",
          "output_type": "stream",
          "text": [
            "/usr/local/lib/python3.10/dist-packages/torchvision/models/_utils.py:208: UserWarning: The parameter 'pretrained' is deprecated since 0.13 and may be removed in the future, please use 'weights' instead.\n",
            "  warnings.warn(\n",
            "/usr/local/lib/python3.10/dist-packages/torchvision/models/_utils.py:223: UserWarning: Arguments other than a weight enum or `None` for 'weights' are deprecated since 0.13 and may be removed in the future. The current behavior is equivalent to passing `weights=ResNet50_Weights.IMAGENET1K_V1`. You can also use `weights=ResNet50_Weights.DEFAULT` to get the most up-to-date weights.\n",
            "  warnings.warn(msg)\n",
            "Downloading: \"https://download.pytorch.org/models/resnet50-0676ba61.pth\" to /root/.cache/torch/hub/checkpoints/resnet50-0676ba61.pth\n",
            "100%|██████████| 97.8M/97.8M [00:00<00:00, 119MB/s]\n"
          ]
        }
      ],
      "source": [
        "# Load the ResNet-50 model and modify the final layer\n",
        "teacher_model = models.resnet50(pretrained=True)\n",
        "teacher_model.fc = nn.Linear(2048, 10)  # CIFAR-10 has 10 classes\n",
        "\n",
        "# Check if GPU is available and move model to GPU if possible\n",
        "device = torch.device(\"cuda\" if torch.cuda.is_available() else \"cpu\")\n",
        "teacher_model.to(device)\n",
        "\n",
        "# Define loss function, optimizer, and learning rate scheduler\n",
        "criterion_ce = nn.CrossEntropyLoss()\n",
        "optimizer_teacher = optim.Adam(teacher_model.parameters(), lr=0.001, weight_decay=1e-4)\n",
        "scheduler = StepLR(optimizer_teacher, step_size=10, gamma=0.1)  # Reduce LR by 0.1 every 10 epochs"
      ]
    },
    {
      "cell_type": "markdown",
      "metadata": {
        "id": "5ykCiER5XacO"
      },
      "source": [
        "prune"
      ]
    },
    {
      "cell_type": "code",
      "execution_count": null,
      "metadata": {
        "colab": {
          "base_uri": "https://localhost:8080/"
        },
        "id": "Of-b5oCmXZyw",
        "outputId": "7b803050-f388-4bf6-909c-3ea955aadd83"
      },
      "outputs": [
        {
          "name": "stdout",
          "output_type": "stream",
          "text": [
            "Parameter containing:\n",
            "tensor([[[[ 3.3096e-02, -2.2837e-03, -2.6060e-02],\n",
            "          [-1.8888e-03, -1.4137e-02, -7.5973e-03],\n",
            "          [-4.9556e-02,  2.8547e-02, -1.2019e-02]],\n",
            "\n",
            "         [[ 2.0762e-02, -6.0752e-02,  1.7711e-02],\n",
            "          [ 2.2331e-02, -5.3168e-02,  2.7273e-02],\n",
            "          [-1.8588e-02,  7.2604e-03, -4.4545e-03]],\n",
            "\n",
            "         [[ 1.1293e-02,  4.2911e-03,  2.0791e-02],\n",
            "          [-2.3401e-03, -1.7693e-02,  1.8178e-02],\n",
            "          [-5.9822e-03, -9.6152e-03,  8.1386e-03]],\n",
            "\n",
            "         ...,\n",
            "\n",
            "         [[ 1.3661e-02, -1.2209e-02, -4.6657e-03],\n",
            "          [-3.2961e-03, -3.7944e-03, -2.1736e-02],\n",
            "          [-2.4662e-02,  2.3986e-02, -1.5785e-02]],\n",
            "\n",
            "         [[-4.2326e-02,  5.5694e-03,  1.0661e-02],\n",
            "          [-4.7409e-02,  3.7776e-02,  2.1256e-02],\n",
            "          [-9.4837e-03,  1.1733e-02, -6.1717e-03]],\n",
            "\n",
            "         [[ 3.1075e-03, -7.9047e-03, -2.5325e-02],\n",
            "          [ 8.5359e-03, -6.7326e-03, -1.2789e-02],\n",
            "          [ 7.2580e-03, -1.6795e-02, -7.6375e-03]]],\n",
            "\n",
            "\n",
            "        [[[ 2.1006e-02, -1.9891e-02, -2.5320e-02],\n",
            "          [-3.3499e-04,  1.9618e-02, -2.0495e-02],\n",
            "          [ 4.6272e-02,  7.7210e-02, -5.5360e-02]],\n",
            "\n",
            "         [[-3.7223e-02,  6.7949e-02, -3.3836e-02],\n",
            "          [-5.4784e-02,  6.3341e-02, -3.2365e-02],\n",
            "          [-5.3404e-03, -1.1135e-02, -7.8994e-04]],\n",
            "\n",
            "         [[ 2.9878e-02, -5.3996e-03,  9.8225e-03],\n",
            "          [-3.4435e-03,  1.1870e-03, -4.5666e-03],\n",
            "          [-5.3928e-03, -9.0694e-03,  3.1196e-03]],\n",
            "\n",
            "         ...,\n",
            "\n",
            "         [[-1.8036e-02,  2.4209e-02,  7.9403e-03],\n",
            "          [-8.6619e-03,  2.1570e-02, -6.4812e-03],\n",
            "          [-2.2654e-02,  8.9033e-03,  2.2195e-02]],\n",
            "\n",
            "         [[ 6.1954e-03, -1.9543e-02, -1.2755e-02],\n",
            "          [ 1.8484e-02, -1.3425e-02,  2.4133e-05],\n",
            "          [ 1.7827e-03, -5.4650e-03,  3.1103e-02]],\n",
            "\n",
            "         [[-1.4821e-02,  1.6666e-02, -3.1383e-02],\n",
            "          [-9.5354e-05,  2.7465e-02,  2.4956e-02],\n",
            "          [ 7.7412e-03,  2.5979e-03, -2.1601e-02]]],\n",
            "\n",
            "\n",
            "        [[[-1.4079e-02,  8.0381e-03, -1.7125e-02],\n",
            "          [ 3.8214e-03, -2.4952e-02, -2.6993e-02],\n",
            "          [ 2.8850e-02,  1.9032e-02, -8.6727e-03]],\n",
            "\n",
            "         [[ 8.9605e-03,  1.1186e-02,  2.7754e-02],\n",
            "          [ 3.4283e-03, -6.6164e-02,  2.5678e-02],\n",
            "          [ 3.7452e-02, -2.1241e-02, -2.8383e-02]],\n",
            "\n",
            "         [[ 1.2442e-02,  5.2476e-03, -5.9283e-03],\n",
            "          [ 1.4631e-02, -1.2374e-02, -2.8127e-03],\n",
            "          [-8.1462e-04, -2.5496e-03, -6.6706e-03]],\n",
            "\n",
            "         ...,\n",
            "\n",
            "         [[-1.4014e-02,  2.1514e-02,  5.0287e-02],\n",
            "          [-6.9800e-02, -8.5586e-03,  2.6910e-02],\n",
            "          [-4.7790e-02, -6.6275e-02,  3.5433e-02]],\n",
            "\n",
            "         [[-1.2001e-03, -2.2680e-02, -7.8468e-03],\n",
            "          [-3.3417e-02,  2.9589e-02, -8.3864e-02],\n",
            "          [-1.2242e-02,  2.2470e-02,  8.2582e-03]],\n",
            "\n",
            "         [[-1.6228e-03,  1.9872e-02, -5.9169e-03],\n",
            "          [ 9.8616e-03, -4.3809e-03,  1.3927e-02],\n",
            "          [-5.0480e-03,  2.1110e-02, -2.3370e-03]]],\n",
            "\n",
            "\n",
            "        ...,\n",
            "\n",
            "\n",
            "        [[[-4.9515e-02, -2.5277e-03,  2.3704e-03],\n",
            "          [-2.5449e-02,  2.5781e-03,  1.3212e-02],\n",
            "          [-2.8367e-02,  6.1904e-03, -7.1778e-04]],\n",
            "\n",
            "         [[-1.6230e-03, -1.3667e-02,  1.6481e-02],\n",
            "          [-7.6718e-03, -3.8440e-02,  4.1870e-02],\n",
            "          [-8.3919e-04, -2.0845e-02,  8.6331e-03]],\n",
            "\n",
            "         [[ 2.7622e-02,  9.3908e-03,  1.2196e-02],\n",
            "          [ 2.0812e-02,  2.6994e-03, -4.2113e-03],\n",
            "          [ 2.7357e-02,  7.6224e-04, -8.0598e-03]],\n",
            "\n",
            "         ...,\n",
            "\n",
            "         [[-4.1468e-02, -2.5943e-02,  2.7411e-02],\n",
            "          [-6.6122e-02, -4.1655e-02,  5.9899e-02],\n",
            "          [-6.1420e-02,  2.5395e-02,  3.8950e-02]],\n",
            "\n",
            "         [[ 6.2085e-02,  5.7126e-03,  8.0286e-05],\n",
            "          [-1.9108e-02, -3.2557e-02, -3.4181e-02],\n",
            "          [-2.2809e-02, -9.4224e-03, -1.4776e-02]],\n",
            "\n",
            "         [[-2.6983e-02, -2.4507e-02, -1.3865e-02],\n",
            "          [-4.2552e-02, -3.6843e-02,  6.1647e-02],\n",
            "          [-3.8629e-02, -2.1726e-03,  4.2447e-02]]],\n",
            "\n",
            "\n",
            "        [[[ 7.4762e-03, -1.5865e-02,  2.5887e-02],\n",
            "          [ 2.6152e-02, -1.9164e-02, -6.5627e-03],\n",
            "          [-4.7026e-05, -1.0471e-02, -1.3037e-03]],\n",
            "\n",
            "         [[-4.9933e-03,  1.1487e-02, -3.9681e-02],\n",
            "          [-1.2797e-02,  1.7415e-02, -2.6448e-02],\n",
            "          [ 3.2297e-02,  1.2037e-02, -1.5810e-02]],\n",
            "\n",
            "         [[ 3.1153e-02,  4.1138e-03,  1.1098e-02],\n",
            "          [-2.8878e-03, -4.0853e-03, -4.8585e-03],\n",
            "          [ 4.2662e-03, -5.7329e-03,  7.8327e-03]],\n",
            "\n",
            "         ...,\n",
            "\n",
            "         [[-2.5365e-02,  1.6538e-02,  5.1379e-02],\n",
            "          [-3.9035e-02,  3.4860e-02,  1.0149e-02],\n",
            "          [-4.4507e-02,  3.3185e-02, -2.4550e-02]],\n",
            "\n",
            "         [[-2.4078e-02, -1.9366e-02, -1.0191e-02],\n",
            "          [-1.6126e-02,  1.9683e-03,  5.2968e-02],\n",
            "          [-1.1998e-03,  2.4451e-02,  6.5782e-03]],\n",
            "\n",
            "         [[-5.2594e-03, -2.8607e-03,  2.9125e-02],\n",
            "          [ 1.5266e-02,  6.4225e-03, -9.4151e-03],\n",
            "          [ 3.6973e-02, -5.3924e-04, -2.3406e-02]]],\n",
            "\n",
            "\n",
            "        [[[ 9.4780e-03,  1.8678e-02,  4.8434e-03],\n",
            "          [ 2.7248e-02, -3.3991e-02,  1.4853e-02],\n",
            "          [-4.3406e-02,  1.9014e-02, -1.0946e-02]],\n",
            "\n",
            "         [[ 3.8813e-03, -1.0640e-02, -1.2859e-02],\n",
            "          [ 1.4223e-02,  1.7025e-02,  1.5361e-02],\n",
            "          [-2.6170e-02, -1.2333e-02,  3.2009e-02]],\n",
            "\n",
            "         [[ 1.1578e-02,  1.5274e-04,  3.5564e-03],\n",
            "          [ 7.9022e-03,  2.6997e-02,  9.6522e-03],\n",
            "          [-1.3545e-03, -2.9908e-04,  1.0236e-02]],\n",
            "\n",
            "         ...,\n",
            "\n",
            "         [[-4.0883e-02, -1.2606e-02,  5.2883e-03],\n",
            "          [ 1.9850e-02, -3.1524e-02, -4.9819e-02],\n",
            "          [ 1.5679e-02,  4.7178e-02, -2.1810e-02]],\n",
            "\n",
            "         [[-1.1884e-02, -1.6430e-02,  4.3056e-03],\n",
            "          [ 2.1827e-02, -3.3460e-02, -1.5285e-02],\n",
            "          [-1.9582e-04,  3.6705e-02, -1.6792e-02]],\n",
            "\n",
            "         [[-1.6154e-02,  1.7052e-02,  1.9213e-03],\n",
            "          [-1.3728e-02,  2.2707e-02,  7.7133e-03],\n",
            "          [ 2.4167e-02, -9.8935e-03, -8.9031e-03]]]], device='cuda:0',\n",
            "       requires_grad=True)\n"
          ]
        }
      ],
      "source": [
        "layer_weights = teacher_model.layer1[2].conv2.weight\n",
        "print(layer_weights)"
      ]
    },
    {
      "cell_type": "code",
      "execution_count": null,
      "metadata": {
        "id": "9jb8HTfIzXZE"
      },
      "outputs": [],
      "source": [
        "# Print weights for each layer in the model\n",
        "# for name, param in teacher_model.named_parameters():\n",
        "#     print(f\"Layer: {name}, Weights: {param.data}\")\n",
        "# Access weights of conv1 within the first Bottleneck block in layer1\n",
        "\n",
        "# first_block = teacher_model.layer1[0]  # Access the first Bottleneck block of layer1\n",
        "# conv1_weights = first_block.conv1.weight.data  # Access conv1 weights within this block\n",
        "# print(\"Weights of conv1 in the first block of layer1:\")\n",
        "# print(conv1_weights)\n",
        "\n",
        "# second_block = teacher_model.layer1[1]  # Access the first Bottleneck block of layer1\n",
        "# conv1_weights = second_block.conv1.weight.data  # Access conv1 weights within this block\n",
        "# print(\"Weights of conv1 in the first block of layer1:\")\n",
        "# print(conv1_weights)\n",
        "\n",
        "# # Print weights of conv1 in the first block of layer1\n",
        "# for name, module in teacher_model.layer2.named_children():\n",
        "#     if isinstance(module, nn.Conv2d):\n",
        "#         print(f\"Weights of conv layer {name} in layer1:\")\n",
        "#         print(module.weight.data)"
      ]
    },
    {
      "cell_type": "code",
      "execution_count": null,
      "metadata": {
        "id": "jHxDq3yBzXSQ"
      },
      "outputs": [],
      "source": []
    },
    {
      "cell_type": "code",
      "execution_count": null,
      "metadata": {
        "id": "kM1d2TH3XZw0"
      },
      "outputs": [],
      "source": [
        "import torch.nn.utils.prune as prune\n",
        "# Define the sparsity level (percentage of weights to prune)\n",
        "sparsity = 0.9  # 50% sparsity\n",
        "\n",
        "# Prune the convolutional layers\n",
        "for name, module in teacher_model.named_modules():\n",
        "    if isinstance(module, nn.Conv2d):\n",
        "        # Apply L1 unstructured pruning to each Conv2d layer\n",
        "        prune.l1_unstructured(module, name='weight', amount=sparsity)\n",
        "        #print(f\"Pruned {name} layer with {sparsity * 100}% sparsity\")"
      ]
    },
    {
      "cell_type": "code",
      "execution_count": null,
      "metadata": {
        "id": "_U3xCVeH7mEt"
      },
      "outputs": [],
      "source": [
        "# first_block = teacher_model.layer1[0]  # Access the first Bottleneck block of layer1\n",
        "# conv1_weights = first_block.conv1.weight.data  # Access conv1 weights within this block\n",
        "# print(\"Weights of conv1 in the first block of layer1:\")\n",
        "# print(conv1_weights)\n",
        "\n",
        "# second_block = teacher_model.layer1[1]  # Access the first Bottleneck block of layer1\n",
        "# conv1_weights = second_block.conv1.weight.data  # Access conv1 weights within this block\n",
        "# print(\"Weights of conv1 in the first block of layer1:\")\n",
        "# print(conv1_weights)"
      ]
    },
    {
      "cell_type": "code",
      "execution_count": null,
      "metadata": {
        "colab": {
          "base_uri": "https://localhost:8080/"
        },
        "id": "LJ93mEKgzX1i",
        "outputId": "0cb705a5-526a-48bf-9563-01058198b519"
      },
      "outputs": [
        {
          "name": "stdout",
          "output_type": "stream",
          "text": [
            "tensor([[[[ 0.0000, -0.0000, -0.0000],\n",
            "          [-0.0000, -0.0000, -0.0000],\n",
            "          [-0.0000,  0.0000, -0.0000]],\n",
            "\n",
            "         [[ 0.0000, -0.0608,  0.0000],\n",
            "          [ 0.0000, -0.0532,  0.0000],\n",
            "          [-0.0000,  0.0000, -0.0000]],\n",
            "\n",
            "         [[ 0.0000,  0.0000,  0.0000],\n",
            "          [-0.0000, -0.0000,  0.0000],\n",
            "          [-0.0000, -0.0000,  0.0000]],\n",
            "\n",
            "         ...,\n",
            "\n",
            "         [[ 0.0000, -0.0000, -0.0000],\n",
            "          [-0.0000, -0.0000, -0.0000],\n",
            "          [-0.0000,  0.0000, -0.0000]],\n",
            "\n",
            "         [[-0.0000,  0.0000,  0.0000],\n",
            "          [-0.0000,  0.0000,  0.0000],\n",
            "          [-0.0000,  0.0000, -0.0000]],\n",
            "\n",
            "         [[ 0.0000, -0.0000, -0.0000],\n",
            "          [ 0.0000, -0.0000, -0.0000],\n",
            "          [ 0.0000, -0.0000, -0.0000]]],\n",
            "\n",
            "\n",
            "        [[[ 0.0000, -0.0000, -0.0000],\n",
            "          [-0.0000,  0.0000, -0.0000],\n",
            "          [ 0.0000,  0.0772, -0.0554]],\n",
            "\n",
            "         [[-0.0000,  0.0679, -0.0000],\n",
            "          [-0.0548,  0.0633, -0.0000],\n",
            "          [-0.0000, -0.0000, -0.0000]],\n",
            "\n",
            "         [[ 0.0000, -0.0000,  0.0000],\n",
            "          [-0.0000,  0.0000, -0.0000],\n",
            "          [-0.0000, -0.0000,  0.0000]],\n",
            "\n",
            "         ...,\n",
            "\n",
            "         [[-0.0000,  0.0000,  0.0000],\n",
            "          [-0.0000,  0.0000, -0.0000],\n",
            "          [-0.0000,  0.0000,  0.0000]],\n",
            "\n",
            "         [[ 0.0000, -0.0000, -0.0000],\n",
            "          [ 0.0000, -0.0000,  0.0000],\n",
            "          [ 0.0000, -0.0000,  0.0000]],\n",
            "\n",
            "         [[-0.0000,  0.0000, -0.0000],\n",
            "          [-0.0000,  0.0000,  0.0000],\n",
            "          [ 0.0000,  0.0000, -0.0000]]],\n",
            "\n",
            "\n",
            "        [[[-0.0000,  0.0000, -0.0000],\n",
            "          [ 0.0000, -0.0000, -0.0000],\n",
            "          [ 0.0000,  0.0000, -0.0000]],\n",
            "\n",
            "         [[ 0.0000,  0.0000,  0.0000],\n",
            "          [ 0.0000, -0.0662,  0.0000],\n",
            "          [ 0.0000, -0.0000, -0.0000]],\n",
            "\n",
            "         [[ 0.0000,  0.0000, -0.0000],\n",
            "          [ 0.0000, -0.0000, -0.0000],\n",
            "          [-0.0000, -0.0000, -0.0000]],\n",
            "\n",
            "         ...,\n",
            "\n",
            "         [[-0.0000,  0.0000,  0.0000],\n",
            "          [-0.0698, -0.0000,  0.0000],\n",
            "          [-0.0000, -0.0663,  0.0000]],\n",
            "\n",
            "         [[-0.0000, -0.0000, -0.0000],\n",
            "          [-0.0000,  0.0000, -0.0839],\n",
            "          [-0.0000,  0.0000,  0.0000]],\n",
            "\n",
            "         [[-0.0000,  0.0000, -0.0000],\n",
            "          [ 0.0000, -0.0000,  0.0000],\n",
            "          [-0.0000,  0.0000, -0.0000]]],\n",
            "\n",
            "\n",
            "        ...,\n",
            "\n",
            "\n",
            "        [[[-0.0000, -0.0000,  0.0000],\n",
            "          [-0.0000,  0.0000,  0.0000],\n",
            "          [-0.0000,  0.0000, -0.0000]],\n",
            "\n",
            "         [[-0.0000, -0.0000,  0.0000],\n",
            "          [-0.0000, -0.0000,  0.0000],\n",
            "          [-0.0000, -0.0000,  0.0000]],\n",
            "\n",
            "         [[ 0.0000,  0.0000,  0.0000],\n",
            "          [ 0.0000,  0.0000, -0.0000],\n",
            "          [ 0.0000,  0.0000, -0.0000]],\n",
            "\n",
            "         ...,\n",
            "\n",
            "         [[-0.0000, -0.0000,  0.0000],\n",
            "          [-0.0661, -0.0000,  0.0599],\n",
            "          [-0.0614,  0.0000,  0.0000]],\n",
            "\n",
            "         [[ 0.0621,  0.0000,  0.0000],\n",
            "          [-0.0000, -0.0000, -0.0000],\n",
            "          [-0.0000, -0.0000, -0.0000]],\n",
            "\n",
            "         [[-0.0000, -0.0000, -0.0000],\n",
            "          [-0.0000, -0.0000,  0.0616],\n",
            "          [-0.0000, -0.0000,  0.0000]]],\n",
            "\n",
            "\n",
            "        [[[ 0.0000, -0.0000,  0.0000],\n",
            "          [ 0.0000, -0.0000, -0.0000],\n",
            "          [-0.0000, -0.0000, -0.0000]],\n",
            "\n",
            "         [[-0.0000,  0.0000, -0.0000],\n",
            "          [-0.0000,  0.0000, -0.0000],\n",
            "          [ 0.0000,  0.0000, -0.0000]],\n",
            "\n",
            "         [[ 0.0000,  0.0000,  0.0000],\n",
            "          [-0.0000, -0.0000, -0.0000],\n",
            "          [ 0.0000, -0.0000,  0.0000]],\n",
            "\n",
            "         ...,\n",
            "\n",
            "         [[-0.0000,  0.0000,  0.0000],\n",
            "          [-0.0000,  0.0000,  0.0000],\n",
            "          [-0.0000,  0.0000, -0.0000]],\n",
            "\n",
            "         [[-0.0000, -0.0000, -0.0000],\n",
            "          [-0.0000,  0.0000,  0.0530],\n",
            "          [-0.0000,  0.0000,  0.0000]],\n",
            "\n",
            "         [[-0.0000, -0.0000,  0.0000],\n",
            "          [ 0.0000,  0.0000, -0.0000],\n",
            "          [ 0.0000, -0.0000, -0.0000]]],\n",
            "\n",
            "\n",
            "        [[[ 0.0000,  0.0000,  0.0000],\n",
            "          [ 0.0000, -0.0000,  0.0000],\n",
            "          [-0.0000,  0.0000, -0.0000]],\n",
            "\n",
            "         [[ 0.0000, -0.0000, -0.0000],\n",
            "          [ 0.0000,  0.0000,  0.0000],\n",
            "          [-0.0000, -0.0000,  0.0000]],\n",
            "\n",
            "         [[ 0.0000,  0.0000,  0.0000],\n",
            "          [ 0.0000,  0.0000,  0.0000],\n",
            "          [-0.0000, -0.0000,  0.0000]],\n",
            "\n",
            "         ...,\n",
            "\n",
            "         [[-0.0000, -0.0000,  0.0000],\n",
            "          [ 0.0000, -0.0000, -0.0000],\n",
            "          [ 0.0000,  0.0000, -0.0000]],\n",
            "\n",
            "         [[-0.0000, -0.0000,  0.0000],\n",
            "          [ 0.0000, -0.0000, -0.0000],\n",
            "          [-0.0000,  0.0000, -0.0000]],\n",
            "\n",
            "         [[-0.0000,  0.0000,  0.0000],\n",
            "          [-0.0000,  0.0000,  0.0000],\n",
            "          [ 0.0000, -0.0000, -0.0000]]]], device='cuda:0',\n",
            "       grad_fn=<MulBackward0>)\n"
          ]
        }
      ],
      "source": [
        "layer_weights = teacher_model.layer1[2].conv2.weight\n",
        "print(layer_weights)"
      ]
    },
    {
      "cell_type": "code",
      "execution_count": null,
      "metadata": {
        "colab": {
          "background_save": true,
          "base_uri": "https://localhost:8080/"
        },
        "id": "x-gG8BkzVAmh",
        "outputId": "67b161cf-7c6f-4a22-b9cc-fdbbf1cc8840"
      },
      "outputs": [
        {
          "name": "stderr",
          "output_type": "stream",
          "text": [
            "Teacher Model Training Epoch [1/20]: 100%|██████████| 313/313 [00:46<00:00,  6.73it/s]\n"
          ]
        },
        {
          "name": "stdout",
          "output_type": "stream",
          "text": [
            "Best model saved with accuracy: 66.10%\n",
            "Epoch [1/20], Train Loss: 1.0811, Train Accuracy: 63.39%, Val Loss: 0.9772, Val Accuracy: 66.10%\n"
          ]
        },
        {
          "name": "stderr",
          "output_type": "stream",
          "text": [
            "Teacher Model Training Epoch [2/20]: 100%|██████████| 313/313 [00:45<00:00,  6.93it/s]\n"
          ]
        },
        {
          "name": "stdout",
          "output_type": "stream",
          "text": [
            "Best model saved with accuracy: 69.51%\n",
            "Epoch [2/20], Train Loss: 0.9342, Train Accuracy: 67.85%, Val Loss: 0.8733, Val Accuracy: 69.51%\n"
          ]
        },
        {
          "name": "stderr",
          "output_type": "stream",
          "text": [
            "Teacher Model Training Epoch [3/20]: 100%|██████████| 313/313 [00:45<00:00,  6.82it/s]\n"
          ]
        },
        {
          "name": "stdout",
          "output_type": "stream",
          "text": [
            "Best model saved with accuracy: 71.51%\n",
            "Epoch [3/20], Train Loss: 0.8355, Train Accuracy: 71.02%, Val Loss: 0.8043, Val Accuracy: 71.51%\n"
          ]
        },
        {
          "name": "stderr",
          "output_type": "stream",
          "text": [
            "Teacher Model Training Epoch [4/20]: 100%|██████████| 313/313 [00:45<00:00,  6.84it/s]\n"
          ]
        },
        {
          "name": "stdout",
          "output_type": "stream",
          "text": [
            "Best model saved with accuracy: 72.46%\n",
            "Epoch [4/20], Train Loss: 0.8151, Train Accuracy: 71.77%, Val Loss: 0.7887, Val Accuracy: 72.46%\n"
          ]
        },
        {
          "name": "stderr",
          "output_type": "stream",
          "text": [
            "Teacher Model Training Epoch [5/20]: 100%|██████████| 313/313 [00:45<00:00,  6.84it/s]\n"
          ]
        },
        {
          "name": "stdout",
          "output_type": "stream",
          "text": [
            "Epoch [5/20], Train Loss: 0.7626, Train Accuracy: 73.25%, Val Loss: 0.7943, Val Accuracy: 72.17%\n"
          ]
        },
        {
          "name": "stderr",
          "output_type": "stream",
          "text": [
            "Teacher Model Training Epoch [6/20]: 100%|██████████| 313/313 [00:46<00:00,  6.79it/s]\n"
          ]
        },
        {
          "name": "stdout",
          "output_type": "stream",
          "text": [
            "Best model saved with accuracy: 73.22%\n",
            "Epoch [6/20], Train Loss: 0.7195, Train Accuracy: 74.95%, Val Loss: 0.7598, Val Accuracy: 73.22%\n"
          ]
        },
        {
          "name": "stderr",
          "output_type": "stream",
          "text": [
            "Teacher Model Training Epoch [7/20]: 100%|██████████| 313/313 [00:46<00:00,  6.79it/s]\n"
          ]
        },
        {
          "name": "stdout",
          "output_type": "stream",
          "text": [
            "Best model saved with accuracy: 74.63%\n",
            "Epoch [7/20], Train Loss: 0.6957, Train Accuracy: 75.77%, Val Loss: 0.7200, Val Accuracy: 74.63%\n"
          ]
        },
        {
          "name": "stderr",
          "output_type": "stream",
          "text": [
            "Teacher Model Training Epoch [8/20]: 100%|██████████| 313/313 [00:44<00:00,  6.97it/s]\n"
          ]
        },
        {
          "name": "stdout",
          "output_type": "stream",
          "text": [
            "Epoch [8/20], Train Loss: 0.6935, Train Accuracy: 75.73%, Val Loss: 0.7288, Val Accuracy: 74.57%\n"
          ]
        },
        {
          "name": "stderr",
          "output_type": "stream",
          "text": [
            "Teacher Model Training Epoch [9/20]: 100%|██████████| 313/313 [00:45<00:00,  6.94it/s]\n"
          ]
        },
        {
          "name": "stdout",
          "output_type": "stream",
          "text": [
            "Best model saved with accuracy: 75.51%\n",
            "Epoch [9/20], Train Loss: 0.6826, Train Accuracy: 76.08%, Val Loss: 0.6971, Val Accuracy: 75.51%\n"
          ]
        },
        {
          "name": "stderr",
          "output_type": "stream",
          "text": [
            "Teacher Model Training Epoch [10/20]: 100%|██████████| 313/313 [00:44<00:00,  7.09it/s]\n"
          ]
        },
        {
          "name": "stdout",
          "output_type": "stream",
          "text": [
            "Best model saved with accuracy: 78.11%\n",
            "Epoch [10/20], Train Loss: 0.5898, Train Accuracy: 79.26%, Val Loss: 0.6272, Val Accuracy: 78.11%\n"
          ]
        },
        {
          "name": "stderr",
          "output_type": "stream",
          "text": [
            "Teacher Model Training Epoch [11/20]: 100%|██████████| 313/313 [00:44<00:00,  7.02it/s]\n"
          ]
        },
        {
          "name": "stdout",
          "output_type": "stream",
          "text": [
            "Best model saved with accuracy: 79.13%\n",
            "Epoch [11/20], Train Loss: 0.5581, Train Accuracy: 80.50%, Val Loss: 0.6097, Val Accuracy: 79.13%\n"
          ]
        },
        {
          "name": "stderr",
          "output_type": "stream",
          "text": [
            "Teacher Model Training Epoch [12/20]: 100%|██████████| 313/313 [00:43<00:00,  7.17it/s]\n"
          ]
        },
        {
          "name": "stdout",
          "output_type": "stream",
          "text": [
            "Epoch [12/20], Train Loss: 0.5484, Train Accuracy: 80.58%, Val Loss: 0.6059, Val Accuracy: 78.57%\n"
          ]
        },
        {
          "name": "stderr",
          "output_type": "stream",
          "text": [
            "Teacher Model Training Epoch [13/20]: 100%|██████████| 313/313 [00:43<00:00,  7.14it/s]\n"
          ]
        },
        {
          "name": "stdout",
          "output_type": "stream",
          "text": [
            "Epoch [13/20], Train Loss: 0.5315, Train Accuracy: 81.33%, Val Loss: 0.6007, Val Accuracy: 78.97%\n"
          ]
        },
        {
          "name": "stderr",
          "output_type": "stream",
          "text": [
            "Teacher Model Training Epoch [14/20]: 100%|██████████| 313/313 [00:44<00:00,  7.03it/s]\n"
          ]
        },
        {
          "name": "stdout",
          "output_type": "stream",
          "text": [
            "Best model saved with accuracy: 79.26%\n",
            "Epoch [14/20], Train Loss: 0.5252, Train Accuracy: 81.55%, Val Loss: 0.5927, Val Accuracy: 79.26%\n"
          ]
        },
        {
          "name": "stderr",
          "output_type": "stream",
          "text": [
            "Teacher Model Training Epoch [15/20]: 100%|██████████| 313/313 [00:43<00:00,  7.28it/s]\n"
          ]
        },
        {
          "name": "stdout",
          "output_type": "stream",
          "text": [
            "Best model saved with accuracy: 79.80%\n",
            "Epoch [15/20], Train Loss: 0.5177, Train Accuracy: 81.67%, Val Loss: 0.5882, Val Accuracy: 79.80%\n"
          ]
        },
        {
          "name": "stderr",
          "output_type": "stream",
          "text": [
            "Teacher Model Training Epoch [16/20]: 100%|██████████| 313/313 [00:41<00:00,  7.45it/s]\n"
          ]
        },
        {
          "name": "stdout",
          "output_type": "stream",
          "text": [
            "Best model saved with accuracy: 79.91%\n",
            "Epoch [16/20], Train Loss: 0.5035, Train Accuracy: 82.29%, Val Loss: 0.5759, Val Accuracy: 79.91%\n"
          ]
        },
        {
          "name": "stderr",
          "output_type": "stream",
          "text": [
            "Teacher Model Training Epoch [17/20]: 100%|██████████| 313/313 [00:42<00:00,  7.45it/s]\n"
          ]
        },
        {
          "name": "stdout",
          "output_type": "stream",
          "text": [
            "Epoch [17/20], Train Loss: 0.4988, Train Accuracy: 82.56%, Val Loss: 0.5850, Val Accuracy: 79.60%\n"
          ]
        },
        {
          "name": "stderr",
          "output_type": "stream",
          "text": [
            "Teacher Model Training Epoch [18/20]: 100%|██████████| 313/313 [00:41<00:00,  7.47it/s]\n"
          ]
        },
        {
          "name": "stdout",
          "output_type": "stream",
          "text": [
            "Best model saved with accuracy: 80.07%\n",
            "Epoch [18/20], Train Loss: 0.4939, Train Accuracy: 82.61%, Val Loss: 0.5860, Val Accuracy: 80.07%\n"
          ]
        },
        {
          "name": "stderr",
          "output_type": "stream",
          "text": [
            "Teacher Model Training Epoch [19/20]: 100%|██████████| 313/313 [00:42<00:00,  7.44it/s]\n"
          ]
        },
        {
          "name": "stdout",
          "output_type": "stream",
          "text": [
            "Epoch [19/20], Train Loss: 0.4862, Train Accuracy: 82.76%, Val Loss: 0.5807, Val Accuracy: 80.07%\n"
          ]
        },
        {
          "name": "stderr",
          "output_type": "stream",
          "text": [
            "Teacher Model Training Epoch [20/20]: 100%|██████████| 313/313 [00:41<00:00,  7.49it/s]\n"
          ]
        },
        {
          "name": "stdout",
          "output_type": "stream",
          "text": [
            "Epoch [20/20], Train Loss: 0.4792, Train Accuracy: 83.10%, Val Loss: 0.5796, Val Accuracy: 79.89%\n",
            "Teacher training completed in 17.92 minutes\n"
          ]
        }
      ],
      "source": [
        "# Training loop\n",
        "num_epochs_teacher = 30  # Increased epochs for better accuracy\n",
        "best_val_accuracy = 0.0\n",
        "start_time_teacher = time.time()\n",
        "\n",
        "for epoch in range(num_epochs_teacher):\n",
        "    # Training phase\n",
        "    teacher_model.train()\n",
        "    running_loss = 0.0\n",
        "    correct_train = 0\n",
        "    total_train = 0\n",
        "\n",
        "    for inputs, labels in tqdm(train_loader, desc=f'Teacher Model Training Epoch [{epoch + 1}/{num_epochs_teacher}]'):\n",
        "        inputs, labels = inputs.to(device), labels.to(device)\n",
        "\n",
        "        optimizer_teacher.zero_grad()\n",
        "        outputs = teacher_model(inputs)\n",
        "        loss = criterion_ce(outputs, labels)\n",
        "        loss.backward()\n",
        "        optimizer_teacher.step()\n",
        "\n",
        "        running_loss += loss.item()\n",
        "\n",
        "        # Calculate training accuracy\n",
        "        _, predicted = torch.max(outputs.data, 1)\n",
        "        total_train += labels.size(0)\n",
        "        correct_train += (predicted == labels).sum().item()\n",
        "\n",
        "    train_loss = running_loss / len(train_loader)\n",
        "    train_accuracy = 100 * correct_train / total_train\n",
        "\n",
        "    # Validation phase\n",
        "    teacher_model.eval()\n",
        "    running_val_loss = 0.0\n",
        "    correct_val = 0\n",
        "    total_val = 0\n",
        "    with torch.no_grad():\n",
        "        for inputs, labels in val_loader:\n",
        "            inputs, labels = inputs.to(device), labels.to(device)\n",
        "            outputs = teacher_model(inputs)\n",
        "            loss = criterion_ce(outputs, labels)\n",
        "            running_val_loss += loss.item()\n",
        "\n",
        "            # Calculate validation accuracy\n",
        "            _, predicted = torch.max(outputs.data, 1)\n",
        "            total_val += labels.size(0)\n",
        "            correct_val += (predicted == labels).sum().item()\n",
        "\n",
        "    val_loss = running_val_loss / len(val_loader)\n",
        "    val_accuracy = 100 * correct_val / total_val\n",
        "\n",
        "    # Save the model if validation accuracy improves\n",
        "    if val_accuracy > best_val_accuracy:\n",
        "        best_val_accuracy = val_accuracy\n",
        "        torch.save(teacher_model.state_dict(), 'teacher_model_best.pth')\n",
        "        print(f\"Best model saved with accuracy: {best_val_accuracy:.2f}%\")\n",
        "\n",
        "    # Step the learning rate scheduler\n",
        "    scheduler.step()\n",
        "\n",
        "    print(f\"Epoch [{epoch + 1}/{num_epochs_teacher}], \"\n",
        "          f\"Train Loss: {train_loss:.4f}, Train Accuracy: {train_accuracy:.2f}%, \"\n",
        "          f\"Val Loss: {val_loss:.4f}, Val Accuracy: {val_accuracy:.2f}%\")\n",
        "\n",
        "end_time_teacher = time.time()\n",
        "print(f\"Teacher training completed in {(end_time_teacher - start_time_teacher) / 60:.2f} minutes\")\n"
      ]
    },
    {
      "cell_type": "code",
      "execution_count": null,
      "metadata": {
        "colab": {
          "background_save": true
        },
        "id": "heunjv3uVbuQ",
        "outputId": "9a32d4cf-7da4-4534-cf4d-3965e1dfa704"
      },
      "outputs": [
        {
          "name": "stdout",
          "output_type": "stream",
          "text": [
            "Accuracy of the teacher model on the test set: 83.66%\n"
          ]
        }
      ],
      "source": [
        "# # Load the best model for testing\n",
        "# teacher_model.load_state_dict(torch.load('teacher_model_best_pruned.pth'))\n",
        "\n",
        "# Testing phase\n",
        "teacher_model.eval()\n",
        "correct_test = 0\n",
        "total_test = 0\n",
        "with torch.no_grad():\n",
        "    for inputs, labels in test_loader:\n",
        "        inputs, labels = inputs.to(device), labels.to(device)\n",
        "        outputs = teacher_model(inputs)\n",
        "        _, predicted = torch.max(outputs.data, 1)\n",
        "        total_test += labels.size(0)\n",
        "        correct_test += (predicted == labels).sum().item()\n",
        "\n",
        "test_accuracy = 100 * correct_test / total_test\n",
        "print(f'Accuracy of the teacher model on the test set: {test_accuracy:.2f}%')\n"
      ]
    },
    {
      "cell_type": "code",
      "execution_count": null,
      "metadata": {
        "id": "qcGFaFx5-4pB"
      },
      "outputs": [],
      "source": []
    }
  ],
  "metadata": {
    "accelerator": "GPU",
    "colab": {
      "gpuType": "T4",
      "provenance": []
    },
    "kernelspec": {
      "display_name": "Python 3",
      "name": "python3"
    },
    "language_info": {
      "name": "python"
    }
  },
  "nbformat": 4,
  "nbformat_minor": 0
}